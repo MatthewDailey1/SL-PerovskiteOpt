{
 "cells": [
  {
   "cell_type": "markdown",
   "metadata": {},
   "source": [
    "## Process Optimization - the `Main` code \n",
    "\n",
    "### Fourth Batch of Bayesian Optimization based on Experimental Data produced on Nov 8, 2020\n",
    "- This notebook is to run Bayesian Optimization on initial sampling data, and provide the first batch suggestion on experiment conditions\n",
    "- Experiments of perovskite devices are prepared by Nick Rolston and Thomas Colburn (Stanfrod University) \n",
    "- Jupyter Notebook is prepared by Zhe Liu (Massachusetts Insititute of Technology)"
   ]
  },
  {
   "cell_type": "code",
   "execution_count": 1,
   "metadata": {},
   "outputs": [],
   "source": [
    "import numpy as np\n",
    "import pandas as pd\n",
    "import emukit\n",
    "import GPy\n",
    "import sklearn\n",
    "import matplotlib.pyplot as plt\n",
    "import seaborn as sns"
   ]
  },
  {
   "cell_type": "code",
   "execution_count": 2,
   "metadata": {},
   "outputs": [
    {
     "data": {
      "text/html": [
       "<div>\n",
       "<style scoped>\n",
       "    .dataframe tbody tr th:only-of-type {\n",
       "        vertical-align: middle;\n",
       "    }\n",
       "\n",
       "    .dataframe tbody tr th {\n",
       "        vertical-align: top;\n",
       "    }\n",
       "\n",
       "    .dataframe thead th {\n",
       "        text-align: right;\n",
       "    }\n",
       "</style>\n",
       "<table border=\"1\" class=\"dataframe\">\n",
       "  <thead>\n",
       "    <tr style=\"text-align: right;\">\n",
       "      <th></th>\n",
       "      <th>Temperature [°C]</th>\n",
       "      <th>Speed [mm/s]</th>\n",
       "      <th>Spray Flow [uL/min]</th>\n",
       "      <th>Plamsa Height [cm]</th>\n",
       "      <th>Plasma Gas Flow [L/min]</th>\n",
       "      <th>Plasma DC [%]</th>\n",
       "      <th>Jsc [mA/cm2]</th>\n",
       "      <th>Voc [V]</th>\n",
       "      <th>FF [-]</th>\n",
       "      <th>Efficiency [%]</th>\n",
       "    </tr>\n",
       "  </thead>\n",
       "  <tbody>\n",
       "    <tr>\n",
       "      <th>0</th>\n",
       "      <td>155</td>\n",
       "      <td>200</td>\n",
       "      <td>5000</td>\n",
       "      <td>1.2</td>\n",
       "      <td>35</td>\n",
       "      <td>50</td>\n",
       "      <td>16.261900</td>\n",
       "      <td>0.932514</td>\n",
       "      <td>0.39</td>\n",
       "      <td>5.914137</td>\n",
       "    </tr>\n",
       "    <tr>\n",
       "      <th>1</th>\n",
       "      <td>160</td>\n",
       "      <td>225</td>\n",
       "      <td>3000</td>\n",
       "      <td>0.8</td>\n",
       "      <td>30</td>\n",
       "      <td>75</td>\n",
       "      <td>2.239204</td>\n",
       "      <td>0.108900</td>\n",
       "      <td>0.25</td>\n",
       "      <td>0.060982</td>\n",
       "    </tr>\n",
       "    <tr>\n",
       "      <th>2</th>\n",
       "      <td>135</td>\n",
       "      <td>200</td>\n",
       "      <td>2500</td>\n",
       "      <td>1.0</td>\n",
       "      <td>25</td>\n",
       "      <td>75</td>\n",
       "      <td>23.176100</td>\n",
       "      <td>0.926920</td>\n",
       "      <td>0.60</td>\n",
       "      <td>12.889485</td>\n",
       "    </tr>\n",
       "    <tr>\n",
       "      <th>3</th>\n",
       "      <td>150</td>\n",
       "      <td>175</td>\n",
       "      <td>2000</td>\n",
       "      <td>1.0</td>\n",
       "      <td>20</td>\n",
       "      <td>100</td>\n",
       "      <td>20.804760</td>\n",
       "      <td>0.739500</td>\n",
       "      <td>0.31</td>\n",
       "      <td>4.769839</td>\n",
       "    </tr>\n",
       "    <tr>\n",
       "      <th>4</th>\n",
       "      <td>170</td>\n",
       "      <td>275</td>\n",
       "      <td>4500</td>\n",
       "      <td>1.2</td>\n",
       "      <td>16</td>\n",
       "      <td>50</td>\n",
       "      <td>21.509520</td>\n",
       "      <td>0.832600</td>\n",
       "      <td>0.66</td>\n",
       "      <td>11.820590</td>\n",
       "    </tr>\n",
       "    <tr>\n",
       "      <th>...</th>\n",
       "      <td>...</td>\n",
       "      <td>...</td>\n",
       "      <td>...</td>\n",
       "      <td>...</td>\n",
       "      <td>...</td>\n",
       "      <td>...</td>\n",
       "      <td>...</td>\n",
       "      <td>...</td>\n",
       "      <td>...</td>\n",
       "      <td>...</td>\n",
       "    </tr>\n",
       "    <tr>\n",
       "      <th>139</th>\n",
       "      <td>170</td>\n",
       "      <td>300</td>\n",
       "      <td>2500</td>\n",
       "      <td>1.0</td>\n",
       "      <td>25</td>\n",
       "      <td>100</td>\n",
       "      <td>15.171420</td>\n",
       "      <td>0.721700</td>\n",
       "      <td>0.39</td>\n",
       "      <td>4.270196</td>\n",
       "    </tr>\n",
       "    <tr>\n",
       "      <th>140</th>\n",
       "      <td>160</td>\n",
       "      <td>100</td>\n",
       "      <td>4000</td>\n",
       "      <td>1.0</td>\n",
       "      <td>25</td>\n",
       "      <td>75</td>\n",
       "      <td>15.428570</td>\n",
       "      <td>0.951900</td>\n",
       "      <td>0.49</td>\n",
       "      <td>7.196364</td>\n",
       "    </tr>\n",
       "    <tr>\n",
       "      <th>141</th>\n",
       "      <td>155</td>\n",
       "      <td>275</td>\n",
       "      <td>2500</td>\n",
       "      <td>1.2</td>\n",
       "      <td>35</td>\n",
       "      <td>100</td>\n",
       "      <td>5.652380</td>\n",
       "      <td>0.643600</td>\n",
       "      <td>0.43</td>\n",
       "      <td>1.564446</td>\n",
       "    </tr>\n",
       "    <tr>\n",
       "      <th>142</th>\n",
       "      <td>140</td>\n",
       "      <td>225</td>\n",
       "      <td>3000</td>\n",
       "      <td>1.0</td>\n",
       "      <td>20</td>\n",
       "      <td>50</td>\n",
       "      <td>21.495230</td>\n",
       "      <td>0.917800</td>\n",
       "      <td>0.72</td>\n",
       "      <td>14.204410</td>\n",
       "    </tr>\n",
       "    <tr>\n",
       "      <th>143</th>\n",
       "      <td>135</td>\n",
       "      <td>200</td>\n",
       "      <td>3500</td>\n",
       "      <td>1.0</td>\n",
       "      <td>25</td>\n",
       "      <td>25</td>\n",
       "      <td>20.709000</td>\n",
       "      <td>1.015000</td>\n",
       "      <td>0.70</td>\n",
       "      <td>14.714120</td>\n",
       "    </tr>\n",
       "  </tbody>\n",
       "</table>\n",
       "<p>143 rows × 10 columns</p>\n",
       "</div>"
      ],
      "text/plain": [
       "     Temperature [°C]  Speed [mm/s]  Spray Flow [uL/min]  Plamsa Height [cm]  \\\n",
       "0                 155           200                 5000                 1.2   \n",
       "1                 160           225                 3000                 0.8   \n",
       "2                 135           200                 2500                 1.0   \n",
       "3                 150           175                 2000                 1.0   \n",
       "4                 170           275                 4500                 1.2   \n",
       "..                ...           ...                  ...                 ...   \n",
       "139               170           300                 2500                 1.0   \n",
       "140               160           100                 4000                 1.0   \n",
       "141               155           275                 2500                 1.2   \n",
       "142               140           225                 3000                 1.0   \n",
       "143               135           200                 3500                 1.0   \n",
       "\n",
       "     Plasma Gas Flow [L/min]  Plasma DC [%]  Jsc [mA/cm2]   Voc [V]  FF [-]  \\\n",
       "0                         35             50     16.261900  0.932514    0.39   \n",
       "1                         30             75      2.239204  0.108900    0.25   \n",
       "2                         25             75     23.176100  0.926920    0.60   \n",
       "3                         20            100     20.804760  0.739500    0.31   \n",
       "4                         16             50     21.509520  0.832600    0.66   \n",
       "..                       ...            ...           ...       ...     ...   \n",
       "139                       25            100     15.171420  0.721700    0.39   \n",
       "140                       25             75     15.428570  0.951900    0.49   \n",
       "141                       35            100      5.652380  0.643600    0.43   \n",
       "142                       20             50     21.495230  0.917800    0.72   \n",
       "143                       25             25     20.709000  1.015000    0.70   \n",
       "\n",
       "     Efficiency [%]  \n",
       "0          5.914137  \n",
       "1          0.060982  \n",
       "2         12.889485  \n",
       "3          4.769839  \n",
       "4         11.820590  \n",
       "..              ...  \n",
       "139        4.270196  \n",
       "140        7.196364  \n",
       "141        1.564446  \n",
       "142       14.204410  \n",
       "143       14.714120  \n",
       "\n",
       "[143 rows x 10 columns]"
      ]
     },
     "execution_count": 2,
     "metadata": {},
     "output_type": "execute_result"
    }
   ],
   "source": [
    "df_all_device  = pd.read_excel(\"./All_device_data_processed_20210126.xlsx\", sheet_name= \"Sheet1\")\n",
    "#print(df_all_device.columns)\n",
    "df_all_device = df_all_device.iloc[:,2:-3]\n",
    "df_all_device = df_all_device.dropna()\n",
    "df_all_device.columns = ['Temperature [\\N{DEGREE SIGN}C]', 'Speed [mm/s]',\n",
    "       'Spray Flow [uL/min]', 'Plamsa Height [cm]', 'Plasma Gas Flow [L/min]', 'Plasma DC [%]',\n",
    "        'Jsc [mA/cm2]', 'Voc [V]', 'FF [-]', 'Efficiency [%]']\n",
    "df_all_device"
   ]
  },
  {
   "cell_type": "code",
   "execution_count": 3,
   "metadata": {},
   "outputs": [],
   "source": [
    "from sklearn.model_selection import train_test_split\n",
    "from sklearn.preprocessing import StandardScaler, MinMaxScaler \n",
    "\n",
    "from sklearn.metrics import mean_squared_error as mse\n",
    "from sklearn.metrics import r2_score\n",
    "from scipy.stats import spearmanr\n",
    "\n",
    "X=df_all_device.iloc[:,:6]\n",
    "y=df_all_device['Efficiency [%]']\n",
    "\n",
    "X=X.to_numpy(dtype='float')\n",
    "y=y.to_numpy(dtype='float').reshape(-1,1)\n",
    "\n",
    "X_train,X_test,y_train,y_test=train_test_split(X,y,test_size=0.2)\n",
    "\n",
    "scaler = StandardScaler()\n",
    "scaler.fit(X)\n",
    "X_train = scaler.transform(X_train)\n",
    "X_test = scaler.transform(X_test)\n",
    "X = scaler.transform(X)\n",
    "\n",
    "scaler_y = StandardScaler()\n",
    "scaler_y.fit(y)\n",
    "y_train = scaler_y.transform(y_train)\n",
    "y_test = scaler_y.transform(y_test)\n",
    "y = scaler_y.transform(y)"
   ]
  },
  {
   "cell_type": "code",
   "execution_count": 4,
   "metadata": {},
   "outputs": [],
   "source": [
    "#print(gb_random.best_params_)\n",
    "best_params = {'subsample': 0.95, \n",
    "               'n_estimators': 105, \n",
    "               'min_samples_split': 2, \n",
    "               'min_samples_leaf': 2, \n",
    "               'max_features': 'sqrt',\n",
    "               'max_depth': 4, \n",
    "               'learning_rate': 0.075,\n",
    "               'alpha':0.99\n",
    "               }"
   ]
  },
  {
   "cell_type": "code",
   "execution_count": 5,
   "metadata": {},
   "outputs": [],
   "source": [
    "from sklearn.ensemble import GradientBoostingRegressor\n",
    "GBregressor_list = []\n",
    "y_pred_list = []\n",
    "y_train_pred_list = []\n",
    "y_test_pred_list = []\n",
    "for i in np.arange(100):\n",
    "    GBregressor = GradientBoostingRegressor()\n",
    "    GBregressor.set_params(**best_params)\n",
    "    #GBregressor.fit(X_train, y_train.ravel())\n",
    "    GBregressor.fit(X, y.ravel())\n",
    "\n",
    "    GBregressor_list.append(GBregressor)\n",
    "    \n",
    "    y_train_pred=scaler_y.inverse_transform(GBregressor_list[i].predict(X_train).reshape(-1,1))\n",
    "    y_test_pred=scaler_y.inverse_transform(GBregressor_list[i].predict(X_test).reshape(-1,1))\n",
    "    y_pred=scaler_y.inverse_transform(GBregressor_list[i].predict(X).reshape(-1,1))\n",
    "    y_train_pred_list.append(y_train_pred)\n",
    "    y_test_pred_list.append(y_test_pred)\n",
    "    y_pred_list.append(y_pred)\n",
    "y_pred_mean = np.mean(y_pred_list, axis = 0)\n",
    "y_train_pred_mean = np.mean(y_train_pred_list, axis = 0)\n",
    "y_test_pred_mean = np.mean(y_test_pred_list, axis = 0)\n"
   ]
  },
  {
   "cell_type": "code",
   "execution_count": 6,
   "metadata": {},
   "outputs": [
    {
     "name": "stdout",
     "output_type": "stream",
     "text": [
      "train rmse: 1.0751\n",
      "test rmse: 0.8598\n",
      "all rmse: 1.0351\n",
      "train R^2: 0.9415\n",
      "test R^2: 0.9521\n",
      "all R^2: 0.9433\n",
      "train spearman: 0.9296\n",
      "test spearman: 0.9419\n",
      "all spearman: 0.9310\n"
     ]
    },
    {
     "data": {
      "image/png": "[encoded data removed]",
      "text/plain": [
       "<Figure size 432x360 with 1 Axes>"
      ]
     },
     "metadata": {
      "needs_background": "light"
     },
     "output_type": "display_data"
    }
   ],
   "source": [
    "y_train_pred = y_train_pred_mean\n",
    "y_test_pred = y_test_pred_mean\n",
    "y_pred = y_pred_mean\n",
    "\n",
    "from sklearn.metrics import mean_squared_error\n",
    "mse = mean_squared_error\n",
    "mse_train = mse(y_train_pred,scaler_y.inverse_transform(y_train))\n",
    "mse_test = mse(y_test_pred,scaler_y.inverse_transform(y_test))\n",
    "mse_all = mse(y_pred,scaler_y.inverse_transform(y))\n",
    "print ('train rmse: %.4f' % (np.sqrt(mse_train)))\n",
    "print ('test rmse: %.4f' % (np.sqrt(mse_test)))\n",
    "print ('all rmse: %.4f' % (np.sqrt(mse_all)))\n",
    "\n",
    "\n",
    "rsquared_train = r2_score(scaler_y.inverse_transform(y_train),y_train_pred)\n",
    "rsquared_test = r2_score(scaler_y.inverse_transform(y_test), y_test_pred)\n",
    "rsquared_all = r2_score(scaler_y.inverse_transform(y), y_pred)\n",
    "print ('train R^2: %.4f' % (rsquared_train))\n",
    "print ('test R^2: %.4f' % (rsquared_test))\n",
    "print ('all R^2: %.4f' % (rsquared_all))\n",
    "\n",
    "sprman_train = spearmanr(y_train_pred,scaler_y.inverse_transform(y_train))\n",
    "sprman_test = spearmanr(y_test_pred,scaler_y.inverse_transform(y_test))\n",
    "sprman_all = spearmanr(y_pred,scaler_y.inverse_transform(y))\n",
    "print ('train spearman: %.4f' % (sprman_train[0]))\n",
    "print ('test spearman: %.4f' % (sprman_test[0]))\n",
    "print ('all spearman: %.4f' % (sprman_all[0]))\n",
    "\n",
    "fs = 22\n",
    "plt.figure(figsize=(6, 5))\n",
    "plt.scatter(scaler_y.inverse_transform(y_train),y_train_pred, alpha =0.5)\n",
    "plt.scatter(scaler_y.inverse_transform(y_test),y_test_pred, alpha =0.5)\n",
    "#plt.scatter(y_scaled,y_pred, alpha =0.5)\n",
    "yref = np.arange(0, 20, 0.5)\n",
    "plt.plot(yref, yref, '--',color='black')\n",
    "plt.xlabel('Ground truth efficiency [%]', fontsize = fs)\n",
    "plt.ylabel('Prediction efficiency [%]', fontsize = fs)\n",
    "plt.xticks([0, 5, 10, 15, 20])\n",
    "#plt.title(\"Gradient Boosting\")\n",
    "plt.tick_params(direction='in', length=5, width=1, labelsize = fs*.8, grid_alpha = 0.5)\n",
    "#plt.savefig(\"Pervoskite Opt for Scale-up/Prelim_data_analysis/data_plots/RFR\"+str(X1.name[:4])+\".png\",dpi=300)\n",
    "plt.show()"
   ]
  },
  {
   "cell_type": "code",
   "execution_count": 7,
   "metadata": {},
   "outputs": [],
   "source": [
    "## Total process conditions: 11x9x7x5x4x3 = 41580 conditions\n",
    "\n",
    "temp_min, temp_max, temp_step = [125, 175, 5] ## Unit: degC ## 11 steps\n",
    "temp_var = np.arange(temp_min, temp_max+temp_step, temp_step)\n",
    "temp_num = len(temp_var)\n",
    "\n",
    "speed_min, speed_max, speed_step = [100, 300, 25] ## Unit: mm/s ## 9 steps\n",
    "speed_var = np.arange(speed_min, speed_max+speed_step, speed_step)\n",
    "speed_num = len(speed_var)\n",
    "\n",
    "sprayFL_min, sprayFL_max, sprayFL_step = [2000, 5000, 500] ## Unit: uL/min ## 7 steps\n",
    "sprayFL_var = np.arange(sprayFL_min, sprayFL_max+sprayFL_step, sprayFL_step) \n",
    "sprayFL_num = len(sprayFL_var)\n",
    "\n",
    "gasFL_min, gasFL_max, gasFL_step = [15, 35, 5] ## Unit: L/min ## 5 steps\n",
    "gasFL_var = np.arange(gasFL_min, gasFL_max+gasFL_step, gasFL_step)\n",
    "gasFL_num = len(gasFL_var)\n",
    "\n",
    "plasmaDC_min, plasmaDC_max, plasmaDC_step = [25, 100, 25] # Unit: [%] ## 4 steps\n",
    "plasmaDC_var = np.arange(plasmaDC_min, plasmaDC_max+plasmaDC_step, plasmaDC_step)\n",
    "plasmaDC_num = len(plasmaDC_var)\n",
    "\n",
    "plasmaH_min, plasmaH_max, plasmaH_step = [0.8, 1.2, 0.2] # Unit: cm ## 3 steps\n",
    "plasmaH_var = np.arange(plasmaH_min, plasmaH_max+plasmaH_step, plasmaH_step)\n",
    "plasmaH_num = len(plasmaH_var)\n",
    "\n",
    "\n",
    "var_array = [temp_var, speed_var, \n",
    "             sprayFL_var, plasmaH_var, \n",
    "             gasFL_var, plasmaDC_var]\n",
    "x_labels = ['Temperature [\\N{DEGREE SIGN}C]', \n",
    "            'Speed [mm/s]',\n",
    "            'Spray Flow [uL/min]', \n",
    "            'Plamsa Height [cm]', \n",
    "            'Plasma Gas Flow [L/min]', \n",
    "            'Plasma DC [%]']"
   ]
  },
  {
   "cell_type": "code",
   "execution_count": 8,
   "metadata": {},
   "outputs": [],
   "source": [
    "def x_normalizer(X):\n",
    "    \n",
    "    def max_min_scaler(x, x_max, x_min):\n",
    "        return (x-x_min)/(x_max-x_min)\n",
    "    \n",
    "    x_norm = []\n",
    "    for x in (X):\n",
    "           x_norm.append([max_min_scaler(x[i], \n",
    "                                         max(var_array[i]), \n",
    "                                         min(var_array[i])) for i in range(len(x))])  \n",
    "    return np.array(x_norm)\n",
    "\n",
    "def x_denormalizer(x_norm):\n",
    "    def max_min_rescaler(x, x_max, x_min):\n",
    "        return x*(x_max-x_min)+x_min\n",
    "    \n",
    "    x_original = []\n",
    "    for x in (x_norm):\n",
    "           x_original.append([max_min_rescaler(x[i], \n",
    "                                         max(var_array[i]), \n",
    "                                         min(var_array[i])) for i in range(len(x))])\n",
    "    return np.array(x_original)\n",
    "\n",
    "\n",
    "\n",
    "def get_closest_array(suggested_x):\n",
    "    \n",
    "    def get_closest_value(given_value, array_list):\n",
    "        absolute_difference_function = lambda list_value : abs(list_value - given_value)\n",
    "        closest_value = min(array_list, key=absolute_difference_function)\n",
    "        return closest_value\n",
    "    \n",
    "    var_list = var_array\n",
    "    modified_array = []\n",
    "    for x in suggested_x:\n",
    "        modified_array.append([get_closest_value(x[i], var_list[i]) for i in range(len(x))])\n",
    "    return np.array(modified_array)"
   ]
  },
  {
   "cell_type": "code",
   "execution_count": 9,
   "metadata": {},
   "outputs": [],
   "source": [
    "from emukit.core import ParameterSpace, ContinuousParameter, DiscreteParameter\n",
    "from emukit.core.initial_designs.random_design import RandomDesign\n",
    "from emukit.core.initial_designs.latin_design import LatinDesign\n",
    "\n",
    "parameter_space = ParameterSpace([ContinuousParameter('temp', 0-1/(temp_num-1)/2, 1+1/(temp_num-1)/2),\n",
    "                                 ContinuousParameter('speed', 0-1/(speed_num-1)/2, 1+1/(speed_num-1)/2),\n",
    "                                 ContinuousParameter('sprayFL', 0-1/(sprayFL_num-1)/2, 1+1/(sprayFL_num-1)/2),\n",
    "                                 ContinuousParameter('plamsaH', 0-1/(plasmaH_num-1)/2, 1+1/(plasmaH_num-1)/2),\n",
    "                                 ContinuousParameter('gasFL', 0-1/(gasFL_num-1)/2, 1+1/(gasFL_num-1)/2),\n",
    "                                 ContinuousParameter('plasmaDC', 0-1/(plasmaDC_num-1)/2, 1+1/(plasmaDC_num-1)/2)\n",
    "                                 ])\n",
    "\n",
    "\n",
    "parameter_space = ParameterSpace([ContinuousParameter('temp', 0,1),\n",
    "                                 ContinuousParameter('speed', 0,1),\n",
    "                                 ContinuousParameter('sprayFL', 0,1),\n",
    "                                 ContinuousParameter('plamsaH', 0,1),\n",
    "                                 ContinuousParameter('gasFL', 0,1),\n",
    "                                 ContinuousParameter('plasmaDC', 0,1)\n",
    "                                 ])"
   ]
  },
  {
   "cell_type": "code",
   "execution_count": 10,
   "metadata": {},
   "outputs": [],
   "source": [
    "df_thiswork  = pd.read_excel(\"./ML Perov Data/All_device_data_processed_20210126.xlsx\", sheet_name= \"Sheet1\")\n",
    "df_thiswork = df_thiswork.iloc[:99,0:13]\n",
    "thiswork_device = df_thiswork['Film Success or not?'] == 'Yes'"
   ]
  },
  {
   "cell_type": "code",
   "execution_count": 11,
   "metadata": {},
   "outputs": [
    {
     "data": {
      "text/html": [
       "<div>\n",
       "<style scoped>\n",
       "    .dataframe tbody tr th:only-of-type {\n",
       "        vertical-align: middle;\n",
       "    }\n",
       "\n",
       "    .dataframe tbody tr th {\n",
       "        vertical-align: top;\n",
       "    }\n",
       "\n",
       "    .dataframe thead th {\n",
       "        text-align: right;\n",
       "    }\n",
       "</style>\n",
       "<table border=\"1\" class=\"dataframe\">\n",
       "  <thead>\n",
       "    <tr style=\"text-align: right;\">\n",
       "      <th></th>\n",
       "      <th>Temperature [°C]</th>\n",
       "      <th>Speed [mm/s]</th>\n",
       "      <th>Spray Flow [uL/min]</th>\n",
       "      <th>Plamsa Height [cm]</th>\n",
       "      <th>Plasma Gas Flow [L/min]</th>\n",
       "      <th>Plasma DC [%]</th>\n",
       "      <th>Jsc [mA/cm2]</th>\n",
       "      <th>Voc [V]</th>\n",
       "      <th>FF [-]</th>\n",
       "      <th>Efficiency [%]</th>\n",
       "    </tr>\n",
       "  </thead>\n",
       "  <tbody>\n",
       "    <tr>\n",
       "      <th>0</th>\n",
       "      <td>155</td>\n",
       "      <td>200</td>\n",
       "      <td>5000</td>\n",
       "      <td>1.2</td>\n",
       "      <td>35</td>\n",
       "      <td>50</td>\n",
       "      <td>16.2619</td>\n",
       "      <td>0.932514</td>\n",
       "      <td>0.39</td>\n",
       "      <td>5.914137</td>\n",
       "    </tr>\n",
       "    <tr>\n",
       "      <th>2</th>\n",
       "      <td>135</td>\n",
       "      <td>200</td>\n",
       "      <td>2500</td>\n",
       "      <td>1.0</td>\n",
       "      <td>25</td>\n",
       "      <td>75</td>\n",
       "      <td>23.1761</td>\n",
       "      <td>0.926920</td>\n",
       "      <td>0.60</td>\n",
       "      <td>12.889485</td>\n",
       "    </tr>\n",
       "    <tr>\n",
       "      <th>6</th>\n",
       "      <td>140</td>\n",
       "      <td>150</td>\n",
       "      <td>4000</td>\n",
       "      <td>1.0</td>\n",
       "      <td>20</td>\n",
       "      <td>75</td>\n",
       "      <td>19.9090</td>\n",
       "      <td>1.023000</td>\n",
       "      <td>0.69</td>\n",
       "      <td>14.053536</td>\n",
       "    </tr>\n",
       "    <tr>\n",
       "      <th>8</th>\n",
       "      <td>130</td>\n",
       "      <td>175</td>\n",
       "      <td>3500</td>\n",
       "      <td>0.8</td>\n",
       "      <td>25</td>\n",
       "      <td>75</td>\n",
       "      <td>21.8800</td>\n",
       "      <td>1.044000</td>\n",
       "      <td>0.74</td>\n",
       "      <td>16.904349</td>\n",
       "    </tr>\n",
       "    <tr>\n",
       "      <th>9</th>\n",
       "      <td>135</td>\n",
       "      <td>125</td>\n",
       "      <td>2500</td>\n",
       "      <td>1.2</td>\n",
       "      <td>20</td>\n",
       "      <td>25</td>\n",
       "      <td>22.0476</td>\n",
       "      <td>1.025000</td>\n",
       "      <td>0.71</td>\n",
       "      <td>16.045155</td>\n",
       "    </tr>\n",
       "    <tr>\n",
       "      <th>...</th>\n",
       "      <td>...</td>\n",
       "      <td>...</td>\n",
       "      <td>...</td>\n",
       "      <td>...</td>\n",
       "      <td>...</td>\n",
       "      <td>...</td>\n",
       "      <td>...</td>\n",
       "      <td>...</td>\n",
       "      <td>...</td>\n",
       "      <td>...</td>\n",
       "    </tr>\n",
       "    <tr>\n",
       "      <th>94</th>\n",
       "      <td>140</td>\n",
       "      <td>150</td>\n",
       "      <td>3500</td>\n",
       "      <td>1.2</td>\n",
       "      <td>20</td>\n",
       "      <td>50</td>\n",
       "      <td>19.7860</td>\n",
       "      <td>1.021000</td>\n",
       "      <td>0.79</td>\n",
       "      <td>15.959000</td>\n",
       "    </tr>\n",
       "    <tr>\n",
       "      <th>95</th>\n",
       "      <td>140</td>\n",
       "      <td>150</td>\n",
       "      <td>3500</td>\n",
       "      <td>1.0</td>\n",
       "      <td>20</td>\n",
       "      <td>50</td>\n",
       "      <td>18.9330</td>\n",
       "      <td>0.978000</td>\n",
       "      <td>0.58</td>\n",
       "      <td>10.739000</td>\n",
       "    </tr>\n",
       "    <tr>\n",
       "      <th>96</th>\n",
       "      <td>145</td>\n",
       "      <td>125</td>\n",
       "      <td>3000</td>\n",
       "      <td>1.2</td>\n",
       "      <td>16</td>\n",
       "      <td>50</td>\n",
       "      <td>22.7520</td>\n",
       "      <td>0.987000</td>\n",
       "      <td>0.74</td>\n",
       "      <td>16.621000</td>\n",
       "    </tr>\n",
       "    <tr>\n",
       "      <th>97</th>\n",
       "      <td>150</td>\n",
       "      <td>175</td>\n",
       "      <td>3500</td>\n",
       "      <td>1.0</td>\n",
       "      <td>16</td>\n",
       "      <td>50</td>\n",
       "      <td>26.4330</td>\n",
       "      <td>0.978000</td>\n",
       "      <td>0.58</td>\n",
       "      <td>14.988000</td>\n",
       "    </tr>\n",
       "    <tr>\n",
       "      <th>98</th>\n",
       "      <td>145</td>\n",
       "      <td>125</td>\n",
       "      <td>3500</td>\n",
       "      <td>1.0</td>\n",
       "      <td>20</td>\n",
       "      <td>50</td>\n",
       "      <td>26.5330</td>\n",
       "      <td>0.948000</td>\n",
       "      <td>0.40</td>\n",
       "      <td>10.065000</td>\n",
       "    </tr>\n",
       "  </tbody>\n",
       "</table>\n",
       "<p>85 rows × 10 columns</p>\n",
       "</div>"
      ],
      "text/plain": [
       "    Temperature [°C]  Speed [mm/s]  Spray Flow [uL/min]  Plamsa Height [cm]  \\\n",
       "0                155           200                 5000                 1.2   \n",
       "2                135           200                 2500                 1.0   \n",
       "6                140           150                 4000                 1.0   \n",
       "8                130           175                 3500                 0.8   \n",
       "9                135           125                 2500                 1.2   \n",
       "..               ...           ...                  ...                 ...   \n",
       "94               140           150                 3500                 1.2   \n",
       "95               140           150                 3500                 1.0   \n",
       "96               145           125                 3000                 1.2   \n",
       "97               150           175                 3500                 1.0   \n",
       "98               145           125                 3500                 1.0   \n",
       "\n",
       "    Plasma Gas Flow [L/min]  Plasma DC [%]  Jsc [mA/cm2]   Voc [V]  FF [-]  \\\n",
       "0                        35             50       16.2619  0.932514    0.39   \n",
       "2                        25             75       23.1761  0.926920    0.60   \n",
       "6                        20             75       19.9090  1.023000    0.69   \n",
       "8                        25             75       21.8800  1.044000    0.74   \n",
       "9                        20             25       22.0476  1.025000    0.71   \n",
       "..                      ...            ...           ...       ...     ...   \n",
       "94                       20             50       19.7860  1.021000    0.79   \n",
       "95                       20             50       18.9330  0.978000    0.58   \n",
       "96                       16             50       22.7520  0.987000    0.74   \n",
       "97                       16             50       26.4330  0.978000    0.58   \n",
       "98                       20             50       26.5330  0.948000    0.40   \n",
       "\n",
       "    Efficiency [%]  \n",
       "0         5.914137  \n",
       "2        12.889485  \n",
       "6        14.053536  \n",
       "8        16.904349  \n",
       "9        16.045155  \n",
       "..             ...  \n",
       "94       15.959000  \n",
       "95       10.739000  \n",
       "96       16.621000  \n",
       "97       14.988000  \n",
       "98       10.065000  \n",
       "\n",
       "[85 rows x 10 columns]"
      ]
     },
     "execution_count": 11,
     "metadata": {},
     "output_type": "execute_result"
    }
   ],
   "source": [
    "df_thiswork[thiswork_device].iloc[:,2:-1]"
   ]
  },
  {
   "cell_type": "markdown",
   "metadata": {},
   "source": [
    "### Load the previous experimental data"
   ]
  },
  {
   "cell_type": "code",
   "execution_count": 12,
   "metadata": {
    "scrolled": false
   },
   "outputs": [
    {
     "name": "stdout",
     "output_type": "stream",
     "text": [
      "Index(['Unnamed: 0', 'Temp [degC]', 'speed [mm/s]', 'sprayFL [uL/min]',\n",
      "       'plamsaH [cm]', 'gasFL [L/min]', 'plasmaDC [%]', 'Jsc [mA/cm2]',\n",
      "       'Voc [V]', 'FF [-]', 'Efficiency [%]'],\n",
      "      dtype='object')\n"
     ]
    },
    {
     "data": {
      "text/html": [
       "<div>\n",
       "<style scoped>\n",
       "    .dataframe tbody tr th:only-of-type {\n",
       "        vertical-align: middle;\n",
       "    }\n",
       "\n",
       "    .dataframe tbody tr th {\n",
       "        vertical-align: top;\n",
       "    }\n",
       "\n",
       "    .dataframe thead th {\n",
       "        text-align: right;\n",
       "    }\n",
       "</style>\n",
       "<table border=\"1\" class=\"dataframe\">\n",
       "  <thead>\n",
       "    <tr style=\"text-align: right;\">\n",
       "      <th></th>\n",
       "      <th>Temperature [°C]</th>\n",
       "      <th>Speed [cm/s]</th>\n",
       "      <th>Spray Flow [mL/min]</th>\n",
       "      <th>Plamsa Height [cm]</th>\n",
       "      <th>Plasma Gas Flow [L/min]</th>\n",
       "      <th>Plasma DC [%]</th>\n",
       "      <th>Jsc [mA/cm2]</th>\n",
       "      <th>Voc [V]</th>\n",
       "      <th>FF [-]</th>\n",
       "      <th>Efficiency [%]</th>\n",
       "    </tr>\n",
       "  </thead>\n",
       "  <tbody>\n",
       "    <tr>\n",
       "      <th>0</th>\n",
       "      <td>125</td>\n",
       "      <td>10.0</td>\n",
       "      <td>2.5</td>\n",
       "      <td>1.5</td>\n",
       "      <td>15</td>\n",
       "      <td>100</td>\n",
       "      <td>0.763209</td>\n",
       "      <td>16.678352</td>\n",
       "      <td>0.561663</td>\n",
       "      <td>7.1494</td>\n",
       "    </tr>\n",
       "    <tr>\n",
       "      <th>1</th>\n",
       "      <td>125</td>\n",
       "      <td>10.0</td>\n",
       "      <td>2.5</td>\n",
       "      <td>1.5</td>\n",
       "      <td>15</td>\n",
       "      <td>100</td>\n",
       "      <td>0.764307</td>\n",
       "      <td>16.693951</td>\n",
       "      <td>0.594879</td>\n",
       "      <td>7.5902</td>\n",
       "    </tr>\n",
       "    <tr>\n",
       "      <th>2</th>\n",
       "      <td>125</td>\n",
       "      <td>15.0</td>\n",
       "      <td>3.0</td>\n",
       "      <td>1.0</td>\n",
       "      <td>15</td>\n",
       "      <td>100</td>\n",
       "      <td>0.777895</td>\n",
       "      <td>22.145733</td>\n",
       "      <td>0.589384</td>\n",
       "      <td>10.1534</td>\n",
       "    </tr>\n",
       "    <tr>\n",
       "      <th>3</th>\n",
       "      <td>125</td>\n",
       "      <td>15.0</td>\n",
       "      <td>3.0</td>\n",
       "      <td>1.0</td>\n",
       "      <td>15</td>\n",
       "      <td>100</td>\n",
       "      <td>0.933930</td>\n",
       "      <td>21.041220</td>\n",
       "      <td>0.661820</td>\n",
       "      <td>13.0054</td>\n",
       "    </tr>\n",
       "    <tr>\n",
       "      <th>4</th>\n",
       "      <td>135</td>\n",
       "      <td>10.0</td>\n",
       "      <td>2.5</td>\n",
       "      <td>1.0</td>\n",
       "      <td>15</td>\n",
       "      <td>100</td>\n",
       "      <td>0.780622</td>\n",
       "      <td>18.418326</td>\n",
       "      <td>0.593654</td>\n",
       "      <td>8.5354</td>\n",
       "    </tr>\n",
       "    <tr>\n",
       "      <th>...</th>\n",
       "      <td>...</td>\n",
       "      <td>...</td>\n",
       "      <td>...</td>\n",
       "      <td>...</td>\n",
       "      <td>...</td>\n",
       "      <td>...</td>\n",
       "      <td>...</td>\n",
       "      <td>...</td>\n",
       "      <td>...</td>\n",
       "      <td>...</td>\n",
       "    </tr>\n",
       "    <tr>\n",
       "      <th>61</th>\n",
       "      <td>145</td>\n",
       "      <td>20.0</td>\n",
       "      <td>5.0</td>\n",
       "      <td>1.0</td>\n",
       "      <td>15</td>\n",
       "      <td>100</td>\n",
       "      <td>0.966357</td>\n",
       "      <td>19.217004</td>\n",
       "      <td>0.682210</td>\n",
       "      <td>12.6690</td>\n",
       "    </tr>\n",
       "    <tr>\n",
       "      <th>62</th>\n",
       "      <td>145</td>\n",
       "      <td>20.0</td>\n",
       "      <td>5.0</td>\n",
       "      <td>1.0</td>\n",
       "      <td>15</td>\n",
       "      <td>100</td>\n",
       "      <td>0.957637</td>\n",
       "      <td>19.597432</td>\n",
       "      <td>0.728667</td>\n",
       "      <td>13.6751</td>\n",
       "    </tr>\n",
       "    <tr>\n",
       "      <th>63</th>\n",
       "      <td>150</td>\n",
       "      <td>10.0</td>\n",
       "      <td>3.5</td>\n",
       "      <td>1.0</td>\n",
       "      <td>15</td>\n",
       "      <td>100</td>\n",
       "      <td>0.966984</td>\n",
       "      <td>19.472074</td>\n",
       "      <td>0.628517</td>\n",
       "      <td>11.8345</td>\n",
       "    </tr>\n",
       "    <tr>\n",
       "      <th>64</th>\n",
       "      <td>150</td>\n",
       "      <td>10.0</td>\n",
       "      <td>3.5</td>\n",
       "      <td>1.0</td>\n",
       "      <td>15</td>\n",
       "      <td>100</td>\n",
       "      <td>0.937632</td>\n",
       "      <td>20.745524</td>\n",
       "      <td>0.676690</td>\n",
       "      <td>13.1627</td>\n",
       "    </tr>\n",
       "    <tr>\n",
       "      <th>65</th>\n",
       "      <td>155</td>\n",
       "      <td>20.0</td>\n",
       "      <td>5.0</td>\n",
       "      <td>1.0</td>\n",
       "      <td>15</td>\n",
       "      <td>100</td>\n",
       "      <td>0.920690</td>\n",
       "      <td>17.357862</td>\n",
       "      <td>0.588071</td>\n",
       "      <td>9.3981</td>\n",
       "    </tr>\n",
       "  </tbody>\n",
       "</table>\n",
       "<p>66 rows × 10 columns</p>\n",
       "</div>"
      ],
      "text/plain": [
       "    Temperature [°C]  Speed [cm/s]  Spray Flow [mL/min]  Plamsa Height [cm]  \\\n",
       "0                125          10.0                  2.5                 1.5   \n",
       "1                125          10.0                  2.5                 1.5   \n",
       "2                125          15.0                  3.0                 1.0   \n",
       "3                125          15.0                  3.0                 1.0   \n",
       "4                135          10.0                  2.5                 1.0   \n",
       "..               ...           ...                  ...                 ...   \n",
       "61               145          20.0                  5.0                 1.0   \n",
       "62               145          20.0                  5.0                 1.0   \n",
       "63               150          10.0                  3.5                 1.0   \n",
       "64               150          10.0                  3.5                 1.0   \n",
       "65               155          20.0                  5.0                 1.0   \n",
       "\n",
       "    Plasma Gas Flow [L/min]  Plasma DC [%]  Jsc [mA/cm2]    Voc [V]    FF [-]  \\\n",
       "0                        15            100      0.763209  16.678352  0.561663   \n",
       "1                        15            100      0.764307  16.693951  0.594879   \n",
       "2                        15            100      0.777895  22.145733  0.589384   \n",
       "3                        15            100      0.933930  21.041220  0.661820   \n",
       "4                        15            100      0.780622  18.418326  0.593654   \n",
       "..                      ...            ...           ...        ...       ...   \n",
       "61                       15            100      0.966357  19.217004  0.682210   \n",
       "62                       15            100      0.957637  19.597432  0.728667   \n",
       "63                       15            100      0.966984  19.472074  0.628517   \n",
       "64                       15            100      0.937632  20.745524  0.676690   \n",
       "65                       15            100      0.920690  17.357862  0.588071   \n",
       "\n",
       "    Efficiency [%]  \n",
       "0           7.1494  \n",
       "1           7.5902  \n",
       "2          10.1534  \n",
       "3          13.0054  \n",
       "4           8.5354  \n",
       "..             ...  \n",
       "61         12.6690  \n",
       "62         13.6751  \n",
       "63         11.8345  \n",
       "64         13.1627  \n",
       "65          9.3981  \n",
       "\n",
       "[66 rows x 10 columns]"
      ]
     },
     "execution_count": 12,
     "metadata": {},
     "output_type": "execute_result"
    }
   ],
   "source": [
    "df_previous  = pd.read_excel(\"./ML Perov Data/new_plamsa_previous_selected_20200927.xlsx\", sheet_name= \"Sheet1\")\n",
    "df_previous.iloc[:,2] = df_previous.iloc[:,2] /10\n",
    "df_previous.iloc[:,3] = df_previous.iloc[:,3] /1000\n",
    "\n",
    "print(df_previous.columns)\n",
    "df_previous.columns = ['', 'Temperature [\\N{DEGREE SIGN}C]', 'Speed [cm/s]',\n",
    "       'Spray Flow [mL/min]', 'Plamsa Height [cm]', 'Plasma Gas Flow [L/min]', 'Plasma DC [%]',\n",
    "        'Jsc [mA/cm2]', 'Voc [V]', 'FF [-]', 'Efficiency [%]']\n",
    "df_previous = df_previous.sort_values(by=list(df_previous.iloc[:,[1,2,3,4,5,6,-1]].columns), ignore_index = True)\n",
    "# df_previous = df_previous.drop_duplicates(['Temperature [\\N{DEGREE SIGN}C]', 'Speed [mm/s]',\n",
    "#        'Spray Flow [uL/min]', 'Plamsa Height [cm]', 'Plasma Gas Flow [L/min]', 'Plasma DC [%]'], keep = 'last', ignore_index = True)\n",
    "df_previous = df_previous.iloc[:,1:]\n",
    "df_previous"
   ]
  },
  {
   "cell_type": "markdown",
   "metadata": {},
   "source": [
    "### Define the Probabilistic Constrained Bayesian Optimization Loop\n",
    "- This Optimization loop takes in two contraint functions (one for binary film quality; one for previous device data)\n",
    "- The data for constraint function is converted into a probablistic constraint (with a scaling factor spec the contraint strength on the acquisition function)"
   ]
  },
  {
   "cell_type": "code",
   "execution_count": 13,
   "metadata": {},
   "outputs": [],
   "source": [
    "from typing import Union\n",
    "from emukit.core.acquisition import Acquisition\n",
    "from emukit.core.interfaces import IModel, IDifferentiable\n",
    "from emukit.core.loop import FixedIntervalUpdater, OuterLoop, SequentialPointCalculator\n",
    "from emukit.core.loop.loop_state import create_loop_state\n",
    "from emukit.core.optimization import AcquisitionOptimizerBase\n",
    "from emukit.core.optimization import GradientAcquisitionOptimizer\n",
    "from emukit.bayesian_optimization.acquisitions.log_acquisition import LogAcquisition\n",
    "from emukit.bayesian_optimization.local_penalization_calculator import LocalPenalizationPointCalculator\n",
    "from emukit.bayesian_optimization.acquisitions import ExpectedImprovement, \\\n",
    "                                                      NegativeLowerConfidenceBound, \\\n",
    "                                                      MaxValueEntropySearch, \\\n",
    "                                                      MultipointExpectedImprovement,\\\n",
    "                                                      ProbabilityOfFeasibility\n",
    "from emukit.core.acquisition import IntegratedHyperParameterAcquisition\n",
    "\n",
    "class ProbabilisticConstraintBayesianOptimizationLoop2(OuterLoop):\n",
    "    def __init__(self, space: ParameterSpace, model_objective: Union[IModel, IDifferentiable],\n",
    "                 model_constraint1: Union[IModel, IDifferentiable], \n",
    "                 model_constraint2: Union[IModel, IDifferentiable],\n",
    "                 acquisition: Acquisition = None,\n",
    "                 update_interval: int = 1, batch_size: int = 1):\n",
    "\n",
    "        \"\"\"\n",
    "        Emukit class that implements a loop for building Bayesian optimization with an unknown constraint.\n",
    "        For more information see:\n",
    "        Michael A. Gelbart, Jasper Snoek, and Ryan P. Adams,\n",
    "        Bayesian Optimization with Unknown Constraints,\n",
    "        https://arxiv.org/pdf/1403.5607.pdf\n",
    "        :param space: Input space where the optimization is carried out.\n",
    "        :param model_objective: The model that approximates the underlying objective function\n",
    "        :param model_constraint: The model that approximates the unknown constraints\n",
    "        :param acquisition: The acquisition function for the objective function (default, EI).\n",
    "        :param update_interval:  Number of iterations between optimization of model hyper-parameters. Defaults to 1.\n",
    "        :param batch_size: How many points to evaluate in one iteration of the optimization loop. Defaults to 1.\n",
    "        \"\"\"\n",
    "\n",
    "#         if not np.all(np.isclose(model_objective.X, model_constraint.X)):\n",
    "#             raise ValueError('Emukit currently only supports identical '\n",
    "#                              'training inputs for the constrained and objective model')\n",
    "        self.model_objective = model_objective\n",
    "        self.model_constraint1 = model_constraint1\n",
    "        self.model_constraint2 = model_constraint2\n",
    "        \n",
    "        if acquisition is None:\n",
    "            acquisition = ExpectedImprovement(model_objective)\n",
    "        \n",
    "        acquisition_constraint1 = ScaledProbabilityOfFeasibility(model_constraint1, max_value = 1, min_value = 0.5)\n",
    "        acquisition_constraint2 = ScaledProbabilityOfFeasibility(model_constraint2, max_value = 1, min_value = 0.8)\n",
    "        acquisition_constraint = acquisition_constraint1*acquisition_constraint2\n",
    "        acquisition_constrained = acquisition * acquisition_constraint\n",
    "\n",
    "        model_updater_objective = FixedIntervalUpdater(model_objective, update_interval)\n",
    "        model_updater_constraint1 = FixedIntervalUpdater(model_constraint1, update_interval,\n",
    "                                                        lambda state: state.Y_constraint1)\n",
    "        model_updater_constraint2 = FixedIntervalUpdater(model_constraint2, update_interval,\n",
    "                                                        lambda state: state.Y_constraint2)\n",
    "\n",
    "        acquisition_optimizer = GradientAcquisitionOptimizer(space)\n",
    "        if batch_size == 1:\n",
    "            candidate_point_calculator = SequentialPointCalculator(acquisition_constrained, acquisition_optimizer)\n",
    "        else:\n",
    "            \n",
    "            log_acquisition = LogAcquisition(acquisition_constrained)\n",
    "            candidate_point_calculator = LocalPenalizationPointCalculator(log_acquisition, acquisition_optimizer,\n",
    "                                                                          model_objective, space, batch_size)\n",
    "        loop_state = create_loop_state(model_objective.X, model_objective.Y)\n",
    "        \n",
    "        #loop_state = create_loop_state(model_objective.X, model_objective.Y, Y_constraint=model_constraint.Y)\n",
    "\n",
    "        super(ProbabilisticConstraintBayesianOptimizationLoop2, self).__init__(candidate_point_calculator,\n",
    "                                                                              [model_updater_objective, model_updater_constraint1,model_updater_constraint2],\n",
    "                                                                              loop_state)\n",
    "#     def suggest_next_locations(self):\n",
    "#         return self.candidate_point_calculator.compute_next_points(self.loop_state)\n",
    "    \n",
    "#     def acquisition_evaluate(self, X: loop_sate.X):\n",
    "#         return acquisition.evaluate(X), acquisition_constraint.evaluate(X), acquisition_constrained.evaluate(X)\n"
   ]
  },
  {
   "cell_type": "code",
   "execution_count": 14,
   "metadata": {},
   "outputs": [],
   "source": [
    "from typing import Tuple, Union\n",
    "import scipy.stats\n",
    "import numpy as np\n",
    "from emukit.core.acquisition import Acquisition\n",
    "from emukit.core.interfaces import IModel, IDifferentiable\n",
    "\n",
    "class ScaledProbabilityOfFeasibility(Acquisition):\n",
    "\n",
    "    def __init__(self, model: Union[IModel, IDifferentiable], jitter: float = float(0),\n",
    "                 max_value: float = float(1), min_value: float = float(0)) -> None:\n",
    "        \"\"\"\n",
    "        This acquisition computes for a given input point the probability of satisfying the constraint\n",
    "        C<0. For more information see:\n",
    "        Michael A. Gelbart, Jasper Snoek, and Ryan P. Adams,\n",
    "        Bayesian Optimization with Unknown Constraints,\n",
    "        https://arxiv.org/pdf/1403.5607.pdf\n",
    "        :param model: The underlying model that provides the predictive mean and variance for the given test points\n",
    "        :param jitter: Jitter to balance exploration / exploitation\n",
    "        \"\"\"\n",
    "        self.model = model\n",
    "        self.jitter = jitter\n",
    "        self.max_value = max_value\n",
    "        self.min_value = min_value\n",
    "\n",
    "    def evaluate(self, x: np.ndarray) -> np.ndarray:\n",
    "        \"\"\"\n",
    "        Computes the probability of of satisfying the constraint C<0.\n",
    "        :param x: points where the acquisition is evaluated, shape (number of points, number of dimensions).\n",
    "        :return: numpy array with the probability of satisfying the constraint at the points x.\n",
    "        \"\"\"\n",
    "        mean, variance = self.model.predict(x)\n",
    "        mean += self.jitter\n",
    "\n",
    "        standard_deviation = np.sqrt(variance)\n",
    "        cdf = scipy.stats.norm.cdf(0, mean, standard_deviation)\n",
    "        return cdf*(self.max_value-self.min_value)+self.min_value\n",
    "\n",
    "    def evaluate_with_gradients(self, x: np.ndarray) -> Tuple:\n",
    "        \"\"\"\n",
    "        Computes the  probability of of satisfying the constraint C<0.\n",
    "        :param x: points where the acquisition is evaluated, shape (number of points, number of dimensions).\n",
    "        :return: tuple of numpy arrays with the probability of satisfying the constraint at the points x \n",
    "        and its gradient.\n",
    "        \"\"\"\n",
    "        mean, variance = self.model.predict(x)\n",
    "        standard_deviation = np.sqrt(variance)\n",
    "\n",
    "        dmean_dx, dvariance_dx = self.model.get_prediction_gradients(x)\n",
    "        dstandard_devidation_dx = dvariance_dx / (2 * standard_deviation)\n",
    "\n",
    "        mean += self.jitter\n",
    "        u = - mean / standard_deviation\n",
    "        pdf = scipy.stats.norm.pdf(0, mean, standard_deviation)\n",
    "        cdf = scipy.stats.norm.cdf(0, mean, standard_deviation)\n",
    "        dcdf_dx = - pdf * (dmean_dx + dstandard_devidation_dx * u)\n",
    "\n",
    "        return cdf*(self.max_value-self.min_value)+self.min_value, dcdf_dx\n",
    "\n",
    "    @property\n",
    "    def has_gradients(self):\n",
    "        return isinstance(self.model, IDifferentiable)"
   ]
  },
  {
   "cell_type": "markdown",
   "metadata": {},
   "source": [
    "### Run GP Regression on the Experimental Data\n",
    "- Experimental device data for round 0 initial sampling and round 1 experiments: device efficiency\n",
    "- Experimental film data for round 0 initial sampling and round 1 experiments: binary film quality\n",
    "- Previous experiment data of the \"new plasma\" nozzle: device efficiency"
   ]
  },
  {
   "cell_type": "markdown",
   "metadata": {},
   "source": [
    "### Start the First Run of the Batch-mode Bayesian Optimization "
   ]
  },
  {
   "cell_type": "code",
   "execution_count": 15,
   "metadata": {
    "scrolled": true
   },
   "outputs": [
    {
     "name": "stderr",
     "output_type": "stream",
     "text": [
      "reconstraining parameters Mat52.lengthscale\n",
      "reconstraining parameters Mat52.variance\n",
      "reconstraining parameters Mat52.lengthscale\n",
      "reconstraining parameters Mat52.variance\n"
     ]
    },
    {
     "name": "stdout",
     "output_type": "stream",
     "text": [
      "total condition no.: 20\n",
      "total device no.: 20\n",
      "maximum Y (PCE [%]):  15.71\n",
      "total condition no.: 40\n",
      "total device no.: 40\n",
      "maximum Y (PCE [%]):  16.09\n"
     ]
    },
    {
     "name": "stderr",
     "output_type": "stream",
     "text": [
      "reconstraining parameters Mat52.lengthscale\n",
      "reconstraining parameters Mat52.variance\n"
     ]
    },
    {
     "name": "stdout",
     "output_type": "stream",
     "text": [
      "total condition no.: 60\n",
      "total device no.: 60\n",
      "maximum Y (PCE [%]):  16.09\n"
     ]
    },
    {
     "name": "stderr",
     "output_type": "stream",
     "text": [
      "reconstraining parameters Mat52.lengthscale\n",
      "reconstraining parameters Mat52.variance\n"
     ]
    },
    {
     "name": "stdout",
     "output_type": "stream",
     "text": [
      "total condition no.: 80\n",
      "total device no.: 80\n",
      "maximum Y (PCE [%]):  16.24\n"
     ]
    },
    {
     "name": "stderr",
     "output_type": "stream",
     "text": [
      "reconstraining parameters Mat52.lengthscale\n",
      "reconstraining parameters Mat52.variance\n"
     ]
    },
    {
     "name": "stdout",
     "output_type": "stream",
     "text": [
      "total condition no.: 100\n",
      "total device no.: 100\n",
      "maximum Y (PCE [%]):  16.24\n"
     ]
    },
    {
     "name": "stderr",
     "output_type": "stream",
     "text": [
      "reconstraining parameters Mat52.lengthscale\n",
      "reconstraining parameters Mat52.variance\n"
     ]
    },
    {
     "name": "stdout",
     "output_type": "stream",
     "text": [
      "total condition no.: 120\n",
      "total device no.: 120\n",
      "maximum Y (PCE [%]):  16.64\n"
     ]
    },
    {
     "name": "stderr",
     "output_type": "stream",
     "text": [
      "reconstraining parameters Mat52.lengthscale\n",
      "reconstraining parameters Mat52.variance\n"
     ]
    },
    {
     "name": "stdout",
     "output_type": "stream",
     "text": [
      "total condition no.: 140\n",
      "total device no.: 140\n",
      "maximum Y (PCE [%]):  16.64\n"
     ]
    },
    {
     "name": "stderr",
     "output_type": "stream",
     "text": [
      "reconstraining parameters Mat52.lengthscale\n",
      "reconstraining parameters Mat52.variance\n"
     ]
    },
    {
     "name": "stdout",
     "output_type": "stream",
     "text": [
      "total condition no.: 160\n",
      "total device no.: 160\n",
      "maximum Y (PCE [%]):  16.64\n"
     ]
    },
    {
     "name": "stderr",
     "output_type": "stream",
     "text": [
      "reconstraining parameters Mat52.lengthscale\n",
      "reconstraining parameters Mat52.variance\n"
     ]
    },
    {
     "name": "stdout",
     "output_type": "stream",
     "text": [
      "total condition no.: 180\n",
      "total device no.: 180\n",
      "maximum Y (PCE [%]):  16.64\n"
     ]
    },
    {
     "name": "stderr",
     "output_type": "stream",
     "text": [
      "reconstraining parameters Mat52.lengthscale\n",
      "reconstraining parameters Mat52.variance\n"
     ]
    },
    {
     "name": "stdout",
     "output_type": "stream",
     "text": [
      "total condition no.: 200\n",
      "total device no.: 200\n",
      "maximum Y (PCE [%]):  16.88\n"
     ]
    },
    {
     "name": "stderr",
     "output_type": "stream",
     "text": [
      "reconstraining parameters Mat52.lengthscale\n",
      "reconstraining parameters Mat52.variance\n"
     ]
    },
    {
     "name": "stdout",
     "output_type": "stream",
     "text": [
      "total condition no.: 220\n",
      "total device no.: 220\n",
      "maximum Y (PCE [%]):  17.13\n"
     ]
    },
    {
     "name": "stderr",
     "output_type": "stream",
     "text": [
      "reconstraining parameters Mat52.lengthscale\n",
      "reconstraining parameters Mat52.variance\n"
     ]
    },
    {
     "name": "stdout",
     "output_type": "stream",
     "text": [
      "total condition no.: 240\n",
      "total device no.: 240\n",
      "maximum Y (PCE [%]):  17.13\n"
     ]
    },
    {
     "name": "stderr",
     "output_type": "stream",
     "text": [
      "reconstraining parameters Mat52.lengthscale\n",
      "reconstraining parameters Mat52.variance\n"
     ]
    },
    {
     "name": "stdout",
     "output_type": "stream",
     "text": [
      "total condition no.: 260\n",
      "total device no.: 260\n",
      "maximum Y (PCE [%]):  17.36\n"
     ]
    },
    {
     "name": "stderr",
     "output_type": "stream",
     "text": [
      "reconstraining parameters Mat52.lengthscale\n",
      "reconstraining parameters Mat52.variance\n"
     ]
    },
    {
     "name": "stdout",
     "output_type": "stream",
     "text": [
      "total condition no.: 280\n",
      "total device no.: 280\n",
      "maximum Y (PCE [%]):  17.5\n"
     ]
    },
    {
     "name": "stderr",
     "output_type": "stream",
     "text": [
      "reconstraining parameters Mat52.lengthscale\n",
      "reconstraining parameters Mat52.variance\n"
     ]
    },
    {
     "name": "stdout",
     "output_type": "stream",
     "text": [
      "total condition no.: 300\n",
      "total device no.: 300\n",
      "maximum Y (PCE [%]):  17.64\n"
     ]
    },
    {
     "name": "stderr",
     "output_type": "stream",
     "text": [
      "reconstraining parameters Mat52.lengthscale\n",
      "reconstraining parameters Mat52.variance\n"
     ]
    },
    {
     "name": "stdout",
     "output_type": "stream",
     "text": [
      "     Temperature [°C]  Speed [mm/s]  Spray Flow [uL/min]  Plamsa Height [cm]  \\\n",
      "313        144.149354     178.18537          3462.028139            1.066568   \n",
      "\n",
      "     Plasma Gas Flow [L/min]  Plasma DC [%]  Efficiency [%]  \n",
      "313                     15.0      27.092082       17.659978  \n"
     ]
    },
    {
     "name": "stderr",
     "output_type": "stream",
     "text": [
      "reconstraining parameters Mat52.lengthscale\n",
      "reconstraining parameters Mat52.variance\n"
     ]
    },
    {
     "name": "stdout",
     "output_type": "stream",
     "text": [
      "total condition no.: 20\n",
      "total device no.: 20\n",
      "maximum Y (PCE [%]):  15.47\n",
      "total condition no.: 40\n",
      "total device no.: 40\n",
      "maximum Y (PCE [%]):  15.73\n"
     ]
    },
    {
     "name": "stderr",
     "output_type": "stream",
     "text": [
      "reconstraining parameters Mat52.lengthscale\n",
      "reconstraining parameters Mat52.variance\n"
     ]
    },
    {
     "name": "stdout",
     "output_type": "stream",
     "text": [
      "total condition no.: 60\n",
      "total device no.: 60\n",
      "maximum Y (PCE [%]):  16.1\n"
     ]
    },
    {
     "name": "stderr",
     "output_type": "stream",
     "text": [
      "reconstraining parameters Mat52.lengthscale\n",
      "reconstraining parameters Mat52.variance\n"
     ]
    },
    {
     "name": "stdout",
     "output_type": "stream",
     "text": [
      "total condition no.: 80\n",
      "total device no.: 80\n",
      "maximum Y (PCE [%]):  16.53\n"
     ]
    },
    {
     "name": "stderr",
     "output_type": "stream",
     "text": [
      "reconstraining parameters Mat52.lengthscale\n",
      "reconstraining parameters Mat52.variance\n"
     ]
    },
    {
     "name": "stdout",
     "output_type": "stream",
     "text": [
      "total condition no.: 100\n",
      "total device no.: 100\n",
      "maximum Y (PCE [%]):  16.53\n"
     ]
    },
    {
     "name": "stderr",
     "output_type": "stream",
     "text": [
      "reconstraining parameters Mat52.lengthscale\n",
      "reconstraining parameters Mat52.variance\n"
     ]
    },
    {
     "name": "stdout",
     "output_type": "stream",
     "text": [
      "total condition no.: 120\n",
      "total device no.: 120\n",
      "maximum Y (PCE [%]):  16.53\n"
     ]
    },
    {
     "name": "stderr",
     "output_type": "stream",
     "text": [
      "reconstraining parameters Mat52.lengthscale\n",
      "reconstraining parameters Mat52.variance\n"
     ]
    },
    {
     "name": "stdout",
     "output_type": "stream",
     "text": [
      "total condition no.: 140\n",
      "total device no.: 140\n",
      "maximum Y (PCE [%]):  16.53\n"
     ]
    },
    {
     "name": "stderr",
     "output_type": "stream",
     "text": [
      "reconstraining parameters Mat52.lengthscale\n",
      "reconstraining parameters Mat52.variance\n"
     ]
    },
    {
     "name": "stdout",
     "output_type": "stream",
     "text": [
      "total condition no.: 160\n",
      "total device no.: 160\n",
      "maximum Y (PCE [%]):  16.53\n"
     ]
    },
    {
     "name": "stderr",
     "output_type": "stream",
     "text": [
      "reconstraining parameters Mat52.lengthscale\n",
      "reconstraining parameters Mat52.variance\n"
     ]
    },
    {
     "name": "stdout",
     "output_type": "stream",
     "text": [
      "total condition no.: 180\n",
      "total device no.: 180\n",
      "maximum Y (PCE [%]):  16.53\n"
     ]
    },
    {
     "name": "stderr",
     "output_type": "stream",
     "text": [
      "reconstraining parameters Mat52.lengthscale\n",
      "reconstraining parameters Mat52.variance\n"
     ]
    },
    {
     "name": "stdout",
     "output_type": "stream",
     "text": [
      "total condition no.: 200\n",
      "total device no.: 200\n",
      "maximum Y (PCE [%]):  16.63\n"
     ]
    },
    {
     "name": "stderr",
     "output_type": "stream",
     "text": [
      "reconstraining parameters Mat52.lengthscale\n",
      "reconstraining parameters Mat52.variance\n"
     ]
    },
    {
     "name": "stdout",
     "output_type": "stream",
     "text": [
      "total condition no.: 220\n",
      "total device no.: 220\n",
      "maximum Y (PCE [%]):  16.7\n"
     ]
    },
    {
     "name": "stderr",
     "output_type": "stream",
     "text": [
      "reconstraining parameters Mat52.lengthscale\n",
      "reconstraining parameters Mat52.variance\n"
     ]
    },
    {
     "name": "stdout",
     "output_type": "stream",
     "text": [
      "total condition no.: 240\n",
      "total device no.: 240\n",
      "maximum Y (PCE [%]):  16.7\n"
     ]
    },
    {
     "name": "stderr",
     "output_type": "stream",
     "text": [
      "reconstraining parameters Mat52.lengthscale\n",
      "reconstraining parameters Mat52.variance\n"
     ]
    },
    {
     "name": "stdout",
     "output_type": "stream",
     "text": [
      "total condition no.: 260\n",
      "total device no.: 260\n",
      "maximum Y (PCE [%]):  16.7\n"
     ]
    },
    {
     "name": "stderr",
     "output_type": "stream",
     "text": [
      "reconstraining parameters Mat52.lengthscale\n",
      "reconstraining parameters Mat52.variance\n"
     ]
    },
    {
     "name": "stdout",
     "output_type": "stream",
     "text": [
      "total condition no.: 280\n",
      "total device no.: 280\n",
      "maximum Y (PCE [%]):  16.7\n"
     ]
    },
    {
     "name": "stderr",
     "output_type": "stream",
     "text": [
      "reconstraining parameters Mat52.lengthscale\n",
      "reconstraining parameters Mat52.variance\n"
     ]
    },
    {
     "name": "stdout",
     "output_type": "stream",
     "text": [
      "total condition no.: 300\n",
      "total device no.: 300\n",
      "maximum Y (PCE [%]):  16.7\n"
     ]
    },
    {
     "name": "stderr",
     "output_type": "stream",
     "text": [
      "reconstraining parameters Mat52.lengthscale\n",
      "reconstraining parameters Mat52.variance\n"
     ]
    },
    {
     "name": "stdout",
     "output_type": "stream",
     "text": [
      "     Temperature [°C]  Speed [mm/s]  Spray Flow [uL/min]  Plamsa Height [cm]  \\\n",
      "311        145.843301    137.294077          3725.655457                 1.2   \n",
      "\n",
      "     Plasma Gas Flow [L/min]  Plasma DC [%]  Efficiency [%]  \n",
      "311                     15.0      31.792471       16.750456  \n"
     ]
    },
    {
     "name": "stderr",
     "output_type": "stream",
     "text": [
      "reconstraining parameters Mat52.lengthscale\n",
      "reconstraining parameters Mat52.variance\n"
     ]
    },
    {
     "name": "stdout",
     "output_type": "stream",
     "text": [
      "total condition no.: 20\n",
      "total device no.: 20\n",
      "maximum Y (PCE [%]):  13.38\n",
      "total condition no.: 40\n",
      "total device no.: 40\n",
      "maximum Y (PCE [%]):  13.38\n"
     ]
    },
    {
     "name": "stderr",
     "output_type": "stream",
     "text": [
      "reconstraining parameters Mat52.lengthscale\n",
      "reconstraining parameters Mat52.variance\n"
     ]
    },
    {
     "name": "stdout",
     "output_type": "stream",
     "text": [
      "total condition no.: 60\n",
      "total device no.: 60\n",
      "maximum Y (PCE [%]):  14.11\n"
     ]
    },
    {
     "name": "stderr",
     "output_type": "stream",
     "text": [
      "reconstraining parameters Mat52.lengthscale\n",
      "reconstraining parameters Mat52.variance\n"
     ]
    },
    {
     "name": "stdout",
     "output_type": "stream",
     "text": [
      "total condition no.: 80\n",
      "total device no.: 80\n",
      "maximum Y (PCE [%]):  14.11\n"
     ]
    },
    {
     "name": "stderr",
     "output_type": "stream",
     "text": [
      "reconstraining parameters Mat52.lengthscale\n",
      "reconstraining parameters Mat52.variance\n"
     ]
    },
    {
     "name": "stdout",
     "output_type": "stream",
     "text": [
      "total condition no.: 100\n",
      "total device no.: 100\n",
      "maximum Y (PCE [%]):  14.4\n"
     ]
    },
    {
     "name": "stderr",
     "output_type": "stream",
     "text": [
      "reconstraining parameters Mat52.lengthscale\n",
      "reconstraining parameters Mat52.variance\n"
     ]
    },
    {
     "name": "stdout",
     "output_type": "stream",
     "text": [
      "total condition no.: 120\n",
      "total device no.: 120\n",
      "maximum Y (PCE [%]):  14.42\n"
     ]
    },
    {
     "name": "stderr",
     "output_type": "stream",
     "text": [
      "reconstraining parameters Mat52.lengthscale\n",
      "reconstraining parameters Mat52.variance\n"
     ]
    },
    {
     "name": "stdout",
     "output_type": "stream",
     "text": [
      "total condition no.: 140\n",
      "total device no.: 140\n",
      "maximum Y (PCE [%]):  14.53\n"
     ]
    },
    {
     "name": "stderr",
     "output_type": "stream",
     "text": [
      "reconstraining parameters Mat52.lengthscale\n",
      "reconstraining parameters Mat52.variance\n"
     ]
    },
    {
     "name": "stdout",
     "output_type": "stream",
     "text": [
      "total condition no.: 160\n",
      "total device no.: 160\n",
      "maximum Y (PCE [%]):  14.75\n"
     ]
    },
    {
     "name": "stderr",
     "output_type": "stream",
     "text": [
      "reconstraining parameters Mat52.lengthscale\n",
      "reconstraining parameters Mat52.variance\n"
     ]
    },
    {
     "name": "stdout",
     "output_type": "stream",
     "text": [
      "total condition no.: 180\n",
      "total device no.: 180\n",
      "maximum Y (PCE [%]):  14.76\n"
     ]
    },
    {
     "name": "stderr",
     "output_type": "stream",
     "text": [
      "reconstraining parameters Mat52.lengthscale\n",
      "reconstraining parameters Mat52.variance\n"
     ]
    },
    {
     "name": "stdout",
     "output_type": "stream",
     "text": [
      "total condition no.: 200\n",
      "total device no.: 200\n",
      "maximum Y (PCE [%]):  14.76\n"
     ]
    },
    {
     "name": "stderr",
     "output_type": "stream",
     "text": [
      "reconstraining parameters Mat52.lengthscale\n",
      "reconstraining parameters Mat52.variance\n"
     ]
    },
    {
     "name": "stdout",
     "output_type": "stream",
     "text": [
      "total condition no.: 220\n",
      "total device no.: 220\n",
      "maximum Y (PCE [%]):  14.76\n"
     ]
    },
    {
     "name": "stderr",
     "output_type": "stream",
     "text": [
      "reconstraining parameters Mat52.lengthscale\n",
      "reconstraining parameters Mat52.variance\n"
     ]
    },
    {
     "name": "stdout",
     "output_type": "stream",
     "text": [
      "total condition no.: 240\n",
      "total device no.: 240\n",
      "maximum Y (PCE [%]):  14.76\n"
     ]
    },
    {
     "name": "stderr",
     "output_type": "stream",
     "text": [
      "reconstraining parameters Mat52.lengthscale\n",
      "reconstraining parameters Mat52.variance\n"
     ]
    },
    {
     "name": "stdout",
     "output_type": "stream",
     "text": [
      "total condition no.: 260\n",
      "total device no.: 260\n",
      "maximum Y (PCE [%]):  14.76\n"
     ]
    },
    {
     "name": "stderr",
     "output_type": "stream",
     "text": [
      "reconstraining parameters Mat52.lengthscale\n",
      "reconstraining parameters Mat52.variance\n"
     ]
    },
    {
     "name": "stdout",
     "output_type": "stream",
     "text": [
      "total condition no.: 280\n",
      "total device no.: 280\n",
      "maximum Y (PCE [%]):  14.76\n"
     ]
    },
    {
     "name": "stderr",
     "output_type": "stream",
     "text": [
      "reconstraining parameters Mat52.lengthscale\n",
      "reconstraining parameters Mat52.variance\n"
     ]
    },
    {
     "name": "stdout",
     "output_type": "stream",
     "text": [
      "total condition no.: 300\n",
      "total device no.: 300\n",
      "maximum Y (PCE [%]):  14.76\n"
     ]
    },
    {
     "name": "stderr",
     "output_type": "stream",
     "text": [
      "reconstraining parameters Mat52.lengthscale\n",
      "reconstraining parameters Mat52.variance\n"
     ]
    },
    {
     "name": "stdout",
     "output_type": "stream",
     "text": [
      "     Temperature [°C]  Speed [mm/s]  Spray Flow [uL/min]  Plamsa Height [cm]  \\\n",
      "177        141.633496    246.049656           3768.51699            1.067235   \n",
      "\n",
      "     Plasma Gas Flow [L/min]  Plasma DC [%]  Efficiency [%]  \n",
      "177                     15.0      49.746283       14.761669  \n"
     ]
    },
    {
     "name": "stderr",
     "output_type": "stream",
     "text": [
      "reconstraining parameters Mat52.lengthscale\n",
      "reconstraining parameters Mat52.variance\n"
     ]
    },
    {
     "name": "stdout",
     "output_type": "stream",
     "text": [
      "total condition no.: 20\n",
      "total device no.: 20\n",
      "maximum Y (PCE [%]):  14.64\n",
      "total condition no.: 40\n",
      "total device no.: 40\n",
      "maximum Y (PCE [%]):  14.86\n"
     ]
    },
    {
     "name": "stderr",
     "output_type": "stream",
     "text": [
      "reconstraining parameters Mat52.lengthscale\n",
      "reconstraining parameters Mat52.variance\n"
     ]
    },
    {
     "name": "stdout",
     "output_type": "stream",
     "text": [
      "total condition no.: 60\n",
      "total device no.: 60\n",
      "maximum Y (PCE [%]):  15.91\n"
     ]
    },
    {
     "name": "stderr",
     "output_type": "stream",
     "text": [
      "reconstraining parameters Mat52.lengthscale\n",
      "reconstraining parameters Mat52.variance\n"
     ]
    },
    {
     "name": "stdout",
     "output_type": "stream",
     "text": [
      "total condition no.: 80\n",
      "total device no.: 80\n",
      "maximum Y (PCE [%]):  16.15\n"
     ]
    },
    {
     "name": "stderr",
     "output_type": "stream",
     "text": [
      "reconstraining parameters Mat52.lengthscale\n",
      "reconstraining parameters Mat52.variance\n"
     ]
    },
    {
     "name": "stdout",
     "output_type": "stream",
     "text": [
      "total condition no.: 100\n",
      "total device no.: 100\n",
      "maximum Y (PCE [%]):  16.54\n"
     ]
    },
    {
     "name": "stderr",
     "output_type": "stream",
     "text": [
      "reconstraining parameters Mat52.lengthscale\n",
      "reconstraining parameters Mat52.variance\n"
     ]
    },
    {
     "name": "stdout",
     "output_type": "stream",
     "text": [
      "total condition no.: 120\n",
      "total device no.: 120\n",
      "maximum Y (PCE [%]):  16.64\n"
     ]
    },
    {
     "name": "stderr",
     "output_type": "stream",
     "text": [
      "reconstraining parameters Mat52.lengthscale\n",
      "reconstraining parameters Mat52.variance\n"
     ]
    },
    {
     "name": "stdout",
     "output_type": "stream",
     "text": [
      "total condition no.: 140\n",
      "total device no.: 140\n",
      "maximum Y (PCE [%]):  16.64\n"
     ]
    },
    {
     "name": "stderr",
     "output_type": "stream",
     "text": [
      "reconstraining parameters Mat52.lengthscale\n",
      "reconstraining parameters Mat52.variance\n"
     ]
    },
    {
     "name": "stdout",
     "output_type": "stream",
     "text": [
      "total condition no.: 160\n",
      "total device no.: 160\n",
      "maximum Y (PCE [%]):  16.65\n"
     ]
    },
    {
     "name": "stderr",
     "output_type": "stream",
     "text": [
      "reconstraining parameters Mat52.lengthscale\n",
      "reconstraining parameters Mat52.variance\n"
     ]
    },
    {
     "name": "stdout",
     "output_type": "stream",
     "text": [
      "total condition no.: 180\n",
      "total device no.: 180\n",
      "maximum Y (PCE [%]):  16.65\n"
     ]
    },
    {
     "name": "stderr",
     "output_type": "stream",
     "text": [
      "reconstraining parameters Mat52.lengthscale\n",
      "reconstraining parameters Mat52.variance\n"
     ]
    },
    {
     "name": "stdout",
     "output_type": "stream",
     "text": [
      "total condition no.: 200\n",
      "total device no.: 200\n",
      "maximum Y (PCE [%]):  16.65\n"
     ]
    },
    {
     "name": "stderr",
     "output_type": "stream",
     "text": [
      "reconstraining parameters Mat52.lengthscale\n",
      "reconstraining parameters Mat52.variance\n"
     ]
    },
    {
     "name": "stdout",
     "output_type": "stream",
     "text": [
      "total condition no.: 220\n",
      "total device no.: 220\n",
      "maximum Y (PCE [%]):  16.65\n"
     ]
    },
    {
     "name": "stderr",
     "output_type": "stream",
     "text": [
      "reconstraining parameters Mat52.lengthscale\n",
      "reconstraining parameters Mat52.variance\n"
     ]
    },
    {
     "name": "stdout",
     "output_type": "stream",
     "text": [
      "total condition no.: 240\n",
      "total device no.: 240\n",
      "maximum Y (PCE [%]):  16.65\n"
     ]
    },
    {
     "name": "stderr",
     "output_type": "stream",
     "text": [
      "reconstraining parameters Mat52.lengthscale\n",
      "reconstraining parameters Mat52.variance\n"
     ]
    },
    {
     "name": "stdout",
     "output_type": "stream",
     "text": [
      "total condition no.: 260\n",
      "total device no.: 260\n",
      "maximum Y (PCE [%]):  16.65\n"
     ]
    },
    {
     "name": "stderr",
     "output_type": "stream",
     "text": [
      "reconstraining parameters Mat52.lengthscale\n",
      "reconstraining parameters Mat52.variance\n"
     ]
    },
    {
     "name": "stdout",
     "output_type": "stream",
     "text": [
      "total condition no.: 280\n",
      "total device no.: 280\n",
      "maximum Y (PCE [%]):  16.65\n"
     ]
    },
    {
     "name": "stderr",
     "output_type": "stream",
     "text": [
      "reconstraining parameters Mat52.lengthscale\n",
      "reconstraining parameters Mat52.variance\n"
     ]
    },
    {
     "name": "stdout",
     "output_type": "stream",
     "text": [
      "total condition no.: 300\n",
      "total device no.: 300\n",
      "maximum Y (PCE [%]):  16.65\n"
     ]
    },
    {
     "name": "stderr",
     "output_type": "stream",
     "text": [
      "reconstraining parameters Mat52.lengthscale\n",
      "reconstraining parameters Mat52.variance\n"
     ]
    },
    {
     "name": "stdout",
     "output_type": "stream",
     "text": [
      "     Temperature [°C]  Speed [mm/s]  Spray Flow [uL/min]  Plamsa Height [cm]  \\\n",
      "305        143.871478    136.533756          3476.752666                 1.2   \n",
      "\n",
      "     Plasma Gas Flow [L/min]  Plasma DC [%]  Efficiency [%]  \n",
      "305                     15.0           25.0       16.798689  \n"
     ]
    },
    {
     "name": "stderr",
     "output_type": "stream",
     "text": [
      "reconstraining parameters Mat52.lengthscale\n",
      "reconstraining parameters Mat52.variance\n"
     ]
    },
    {
     "name": "stdout",
     "output_type": "stream",
     "text": [
      "total condition no.: 20\n",
      "total device no.: 20\n",
      "maximum Y (PCE [%]):  14.21\n",
      "total condition no.: 40\n",
      "total device no.: 40\n",
      "maximum Y (PCE [%]):  15.14\n"
     ]
    },
    {
     "name": "stderr",
     "output_type": "stream",
     "text": [
      "reconstraining parameters Mat52.lengthscale\n",
      "reconstraining parameters Mat52.variance\n"
     ]
    },
    {
     "name": "stdout",
     "output_type": "stream",
     "text": [
      "total condition no.: 60\n",
      "total device no.: 60\n",
      "maximum Y (PCE [%]):  15.56\n"
     ]
    },
    {
     "name": "stderr",
     "output_type": "stream",
     "text": [
      "reconstraining parameters Mat52.lengthscale\n",
      "reconstraining parameters Mat52.variance\n"
     ]
    },
    {
     "name": "stdout",
     "output_type": "stream",
     "text": [
      "total condition no.: 80\n",
      "total device no.: 80\n",
      "maximum Y (PCE [%]):  15.82\n"
     ]
    },
    {
     "name": "stderr",
     "output_type": "stream",
     "text": [
      "reconstraining parameters Mat52.lengthscale\n",
      "reconstraining parameters Mat52.variance\n"
     ]
    },
    {
     "name": "stdout",
     "output_type": "stream",
     "text": [
      "total condition no.: 100\n",
      "total device no.: 100\n",
      "maximum Y (PCE [%]):  15.84\n"
     ]
    },
    {
     "name": "stderr",
     "output_type": "stream",
     "text": [
      "reconstraining parameters Mat52.lengthscale\n",
      "reconstraining parameters Mat52.variance\n"
     ]
    },
    {
     "name": "stdout",
     "output_type": "stream",
     "text": [
      "total condition no.: 120\n",
      "total device no.: 120\n",
      "maximum Y (PCE [%]):  15.97\n"
     ]
    },
    {
     "name": "stderr",
     "output_type": "stream",
     "text": [
      "reconstraining parameters Mat52.lengthscale\n",
      "reconstraining parameters Mat52.variance\n"
     ]
    },
    {
     "name": "stdout",
     "output_type": "stream",
     "text": [
      "total condition no.: 140\n",
      "total device no.: 140\n",
      "maximum Y (PCE [%]):  16.22\n"
     ]
    },
    {
     "name": "stderr",
     "output_type": "stream",
     "text": [
      "reconstraining parameters Mat52.lengthscale\n",
      "reconstraining parameters Mat52.variance\n"
     ]
    },
    {
     "name": "stdout",
     "output_type": "stream",
     "text": [
      "total condition no.: 160\n",
      "total device no.: 160\n",
      "maximum Y (PCE [%]):  16.3\n"
     ]
    },
    {
     "name": "stderr",
     "output_type": "stream",
     "text": [
      "reconstraining parameters Mat52.lengthscale\n",
      "reconstraining parameters Mat52.variance\n"
     ]
    },
    {
     "name": "stdout",
     "output_type": "stream",
     "text": [
      "total condition no.: 180\n",
      "total device no.: 180\n",
      "maximum Y (PCE [%]):  16.32\n"
     ]
    },
    {
     "name": "stderr",
     "output_type": "stream",
     "text": [
      "reconstraining parameters Mat52.lengthscale\n",
      "reconstraining parameters Mat52.variance\n"
     ]
    },
    {
     "name": "stdout",
     "output_type": "stream",
     "text": [
      "total condition no.: 200\n",
      "total device no.: 200\n",
      "maximum Y (PCE [%]):  16.49\n"
     ]
    },
    {
     "name": "stderr",
     "output_type": "stream",
     "text": [
      "reconstraining parameters Mat52.lengthscale\n",
      "reconstraining parameters Mat52.variance\n"
     ]
    },
    {
     "name": "stdout",
     "output_type": "stream",
     "text": [
      "total condition no.: 220\n",
      "total device no.: 220\n",
      "maximum Y (PCE [%]):  16.56\n"
     ]
    },
    {
     "name": "stderr",
     "output_type": "stream",
     "text": [
      "reconstraining parameters Mat52.lengthscale\n",
      "reconstraining parameters Mat52.variance\n"
     ]
    },
    {
     "name": "stdout",
     "output_type": "stream",
     "text": [
      "total condition no.: 240\n",
      "total device no.: 240\n",
      "maximum Y (PCE [%]):  16.56\n"
     ]
    },
    {
     "name": "stderr",
     "output_type": "stream",
     "text": [
      "reconstraining parameters Mat52.lengthscale\n",
      "reconstraining parameters Mat52.variance\n"
     ]
    },
    {
     "name": "stdout",
     "output_type": "stream",
     "text": [
      "total condition no.: 260\n",
      "total device no.: 260\n",
      "maximum Y (PCE [%]):  16.57\n"
     ]
    },
    {
     "name": "stderr",
     "output_type": "stream",
     "text": [
      "reconstraining parameters Mat52.lengthscale\n",
      "reconstraining parameters Mat52.variance\n"
     ]
    },
    {
     "name": "stdout",
     "output_type": "stream",
     "text": [
      "total condition no.: 280\n",
      "total device no.: 280\n",
      "maximum Y (PCE [%]):  16.81\n"
     ]
    },
    {
     "name": "stderr",
     "output_type": "stream",
     "text": [
      "reconstraining parameters Mat52.lengthscale\n",
      "reconstraining parameters Mat52.variance\n"
     ]
    },
    {
     "name": "stdout",
     "output_type": "stream",
     "text": [
      "total condition no.: 300\n",
      "total device no.: 300\n",
      "maximum Y (PCE [%]):  16.81\n"
     ]
    },
    {
     "name": "stderr",
     "output_type": "stream",
     "text": [
      "reconstraining parameters Mat52.lengthscale\n",
      "reconstraining parameters Mat52.variance\n"
     ]
    },
    {
     "name": "stdout",
     "output_type": "stream",
     "text": [
      "     Temperature [°C]  Speed [mm/s]  Spray Flow [uL/min]  Plamsa Height [cm]  \\\n",
      "312        136.608143    186.058868          3494.792406            1.195632   \n",
      "\n",
      "     Plasma Gas Flow [L/min]  Plasma DC [%]  Efficiency [%]  \n",
      "312                15.707192       28.56516       16.922707  \n"
     ]
    },
    {
     "name": "stderr",
     "output_type": "stream",
     "text": [
      "reconstraining parameters Mat52.lengthscale\n",
      "reconstraining parameters Mat52.variance\n"
     ]
    },
    {
     "name": "stdout",
     "output_type": "stream",
     "text": [
      "total condition no.: 20\n",
      "total device no.: 20\n",
      "maximum Y (PCE [%]):  14.68\n",
      "total condition no.: 40\n",
      "total device no.: 40\n",
      "maximum Y (PCE [%]):  14.92\n"
     ]
    },
    {
     "name": "stderr",
     "output_type": "stream",
     "text": [
      "reconstraining parameters Mat52.lengthscale\n",
      "reconstraining parameters Mat52.variance\n"
     ]
    },
    {
     "name": "stdout",
     "output_type": "stream",
     "text": [
      "total condition no.: 60\n",
      "total device no.: 60\n",
      "maximum Y (PCE [%]):  15.23\n"
     ]
    },
    {
     "name": "stderr",
     "output_type": "stream",
     "text": [
      "reconstraining parameters Mat52.lengthscale\n",
      "reconstraining parameters Mat52.variance\n"
     ]
    },
    {
     "name": "stdout",
     "output_type": "stream",
     "text": [
      "total condition no.: 80\n",
      "total device no.: 80\n",
      "maximum Y (PCE [%]):  15.73\n"
     ]
    },
    {
     "name": "stderr",
     "output_type": "stream",
     "text": [
      "reconstraining parameters Mat52.lengthscale\n",
      "reconstraining parameters Mat52.variance\n"
     ]
    },
    {
     "name": "stdout",
     "output_type": "stream",
     "text": [
      "total condition no.: 100\n",
      "total device no.: 100\n",
      "maximum Y (PCE [%]):  16.31\n"
     ]
    },
    {
     "name": "stderr",
     "output_type": "stream",
     "text": [
      "reconstraining parameters Mat52.lengthscale\n",
      "reconstraining parameters Mat52.variance\n"
     ]
    },
    {
     "name": "stdout",
     "output_type": "stream",
     "text": [
      "total condition no.: 120\n",
      "total device no.: 120\n",
      "maximum Y (PCE [%]):  16.65\n"
     ]
    },
    {
     "name": "stderr",
     "output_type": "stream",
     "text": [
      "reconstraining parameters Mat52.lengthscale\n",
      "reconstraining parameters Mat52.variance\n"
     ]
    },
    {
     "name": "stdout",
     "output_type": "stream",
     "text": [
      "total condition no.: 140\n",
      "total device no.: 140\n",
      "maximum Y (PCE [%]):  16.68\n"
     ]
    },
    {
     "name": "stderr",
     "output_type": "stream",
     "text": [
      "reconstraining parameters Mat52.lengthscale\n",
      "reconstraining parameters Mat52.variance\n"
     ]
    },
    {
     "name": "stdout",
     "output_type": "stream",
     "text": [
      "total condition no.: 160\n",
      "total device no.: 160\n",
      "maximum Y (PCE [%]):  16.68\n"
     ]
    },
    {
     "name": "stderr",
     "output_type": "stream",
     "text": [
      "reconstraining parameters Mat52.lengthscale\n",
      "reconstraining parameters Mat52.variance\n"
     ]
    },
    {
     "name": "stdout",
     "output_type": "stream",
     "text": [
      "total condition no.: 180\n",
      "total device no.: 180\n",
      "maximum Y (PCE [%]):  16.68\n"
     ]
    },
    {
     "name": "stderr",
     "output_type": "stream",
     "text": [
      "reconstraining parameters Mat52.lengthscale\n",
      "reconstraining parameters Mat52.variance\n"
     ]
    },
    {
     "name": "stdout",
     "output_type": "stream",
     "text": [
      "total condition no.: 200\n",
      "total device no.: 200\n",
      "maximum Y (PCE [%]):  16.68\n"
     ]
    },
    {
     "name": "stderr",
     "output_type": "stream",
     "text": [
      "reconstraining parameters Mat52.lengthscale\n",
      "reconstraining parameters Mat52.variance\n"
     ]
    },
    {
     "name": "stdout",
     "output_type": "stream",
     "text": [
      "total condition no.: 220\n",
      "total device no.: 220\n",
      "maximum Y (PCE [%]):  16.68\n"
     ]
    },
    {
     "name": "stderr",
     "output_type": "stream",
     "text": [
      "reconstraining parameters Mat52.lengthscale\n",
      "reconstraining parameters Mat52.variance\n"
     ]
    },
    {
     "name": "stdout",
     "output_type": "stream",
     "text": [
      "total condition no.: 240\n",
      "total device no.: 240\n",
      "maximum Y (PCE [%]):  16.68\n"
     ]
    },
    {
     "name": "stderr",
     "output_type": "stream",
     "text": [
      "reconstraining parameters Mat52.lengthscale\n",
      "reconstraining parameters Mat52.variance\n"
     ]
    },
    {
     "name": "stdout",
     "output_type": "stream",
     "text": [
      "total condition no.: 260\n",
      "total device no.: 260\n",
      "maximum Y (PCE [%]):  16.68\n"
     ]
    },
    {
     "name": "stderr",
     "output_type": "stream",
     "text": [
      "reconstraining parameters Mat52.lengthscale\n",
      "reconstraining parameters Mat52.variance\n"
     ]
    },
    {
     "name": "stdout",
     "output_type": "stream",
     "text": [
      "total condition no.: 280\n",
      "total device no.: 280\n",
      "maximum Y (PCE [%]):  16.68\n"
     ]
    },
    {
     "name": "stderr",
     "output_type": "stream",
     "text": [
      "reconstraining parameters Mat52.lengthscale\n",
      "reconstraining parameters Mat52.variance\n"
     ]
    },
    {
     "name": "stdout",
     "output_type": "stream",
     "text": [
      "total condition no.: 300\n",
      "total device no.: 300\n",
      "maximum Y (PCE [%]):  16.68\n"
     ]
    },
    {
     "name": "stderr",
     "output_type": "stream",
     "text": [
      "reconstraining parameters Mat52.lengthscale\n",
      "reconstraining parameters Mat52.variance\n"
     ]
    },
    {
     "name": "stdout",
     "output_type": "stream",
     "text": [
      "     Temperature [°C]  Speed [mm/s]  Spray Flow [uL/min]  Plamsa Height [cm]  \\\n",
      "128        144.537047    186.353435          3418.295914            1.081902   \n",
      "\n",
      "     Plasma Gas Flow [L/min]  Plasma DC [%]  Efficiency [%]  \n",
      "128                     15.0      56.954414       16.680231  \n"
     ]
    },
    {
     "name": "stderr",
     "output_type": "stream",
     "text": [
      "reconstraining parameters Mat52.lengthscale\n",
      "reconstraining parameters Mat52.variance\n"
     ]
    },
    {
     "name": "stdout",
     "output_type": "stream",
     "text": [
      "total condition no.: 20\n",
      "total device no.: 20\n",
      "maximum Y (PCE [%]):  15.5\n",
      "total condition no.: 40\n",
      "total device no.: 40\n",
      "maximum Y (PCE [%]):  15.93\n"
     ]
    },
    {
     "name": "stderr",
     "output_type": "stream",
     "text": [
      "reconstraining parameters Mat52.lengthscale\n",
      "reconstraining parameters Mat52.variance\n"
     ]
    },
    {
     "name": "stdout",
     "output_type": "stream",
     "text": [
      "total condition no.: 60\n",
      "total device no.: 60\n",
      "maximum Y (PCE [%]):  16.05\n"
     ]
    },
    {
     "name": "stderr",
     "output_type": "stream",
     "text": [
      "reconstraining parameters Mat52.lengthscale\n",
      "reconstraining parameters Mat52.variance\n"
     ]
    },
    {
     "name": "stdout",
     "output_type": "stream",
     "text": [
      "total condition no.: 80\n",
      "total device no.: 80\n",
      "maximum Y (PCE [%]):  16.58\n"
     ]
    },
    {
     "name": "stderr",
     "output_type": "stream",
     "text": [
      "reconstraining parameters Mat52.lengthscale\n",
      "reconstraining parameters Mat52.variance\n"
     ]
    },
    {
     "name": "stdout",
     "output_type": "stream",
     "text": [
      "total condition no.: 100\n",
      "total device no.: 100\n",
      "maximum Y (PCE [%]):  16.59\n"
     ]
    },
    {
     "name": "stderr",
     "output_type": "stream",
     "text": [
      "reconstraining parameters Mat52.lengthscale\n",
      "reconstraining parameters Mat52.variance\n"
     ]
    },
    {
     "name": "stdout",
     "output_type": "stream",
     "text": [
      "total condition no.: 120\n",
      "total device no.: 120\n",
      "maximum Y (PCE [%]):  16.63\n"
     ]
    },
    {
     "name": "stderr",
     "output_type": "stream",
     "text": [
      "reconstraining parameters Mat52.lengthscale\n",
      "reconstraining parameters Mat52.variance\n"
     ]
    },
    {
     "name": "stdout",
     "output_type": "stream",
     "text": [
      "total condition no.: 140\n",
      "total device no.: 140\n",
      "maximum Y (PCE [%]):  16.64\n"
     ]
    },
    {
     "name": "stderr",
     "output_type": "stream",
     "text": [
      "reconstraining parameters Mat52.lengthscale\n",
      "reconstraining parameters Mat52.variance\n"
     ]
    },
    {
     "name": "stdout",
     "output_type": "stream",
     "text": [
      "total condition no.: 160\n",
      "total device no.: 160\n",
      "maximum Y (PCE [%]):  16.65\n"
     ]
    },
    {
     "name": "stderr",
     "output_type": "stream",
     "text": [
      "reconstraining parameters Mat52.lengthscale\n",
      "reconstraining parameters Mat52.variance\n"
     ]
    },
    {
     "name": "stdout",
     "output_type": "stream",
     "text": [
      "total condition no.: 180\n",
      "total device no.: 180\n",
      "maximum Y (PCE [%]):  16.65\n"
     ]
    },
    {
     "name": "stderr",
     "output_type": "stream",
     "text": [
      "reconstraining parameters Mat52.lengthscale\n",
      "reconstraining parameters Mat52.variance\n"
     ]
    },
    {
     "name": "stdout",
     "output_type": "stream",
     "text": [
      "total condition no.: 200\n",
      "total device no.: 200\n",
      "maximum Y (PCE [%]):  16.65\n"
     ]
    },
    {
     "name": "stderr",
     "output_type": "stream",
     "text": [
      "reconstraining parameters Mat52.lengthscale\n",
      "reconstraining parameters Mat52.variance\n"
     ]
    },
    {
     "name": "stdout",
     "output_type": "stream",
     "text": [
      "total condition no.: 220\n",
      "total device no.: 220\n",
      "maximum Y (PCE [%]):  16.65\n"
     ]
    },
    {
     "name": "stderr",
     "output_type": "stream",
     "text": [
      "reconstraining parameters Mat52.lengthscale\n",
      "reconstraining parameters Mat52.variance\n"
     ]
    },
    {
     "name": "stdout",
     "output_type": "stream",
     "text": [
      "total condition no.: 240\n",
      "total device no.: 240\n",
      "maximum Y (PCE [%]):  16.65\n"
     ]
    },
    {
     "name": "stderr",
     "output_type": "stream",
     "text": [
      "reconstraining parameters Mat52.lengthscale\n",
      "reconstraining parameters Mat52.variance\n"
     ]
    },
    {
     "name": "stdout",
     "output_type": "stream",
     "text": [
      "total condition no.: 260\n",
      "total device no.: 260\n",
      "maximum Y (PCE [%]):  16.65\n"
     ]
    },
    {
     "name": "stderr",
     "output_type": "stream",
     "text": [
      "reconstraining parameters Mat52.lengthscale\n",
      "reconstraining parameters Mat52.variance\n"
     ]
    },
    {
     "name": "stdout",
     "output_type": "stream",
     "text": [
      "total condition no.: 280\n",
      "total device no.: 280\n",
      "maximum Y (PCE [%]):  16.65\n"
     ]
    },
    {
     "name": "stderr",
     "output_type": "stream",
     "text": [
      "reconstraining parameters Mat52.lengthscale\n",
      "reconstraining parameters Mat52.variance\n"
     ]
    },
    {
     "name": "stdout",
     "output_type": "stream",
     "text": [
      "total condition no.: 300\n",
      "total device no.: 300\n",
      "maximum Y (PCE [%]):  16.7\n"
     ]
    },
    {
     "name": "stderr",
     "output_type": "stream",
     "text": [
      "reconstraining parameters Mat52.lengthscale\n",
      "reconstraining parameters Mat52.variance\n"
     ]
    },
    {
     "name": "stdout",
     "output_type": "stream",
     "text": [
      "     Temperature [°C]  Speed [mm/s]  Spray Flow [uL/min]  Plamsa Height [cm]  \\\n",
      "289        139.994831    174.776532          3944.158117            1.108256   \n",
      "\n",
      "     Plasma Gas Flow [L/min]  Plasma DC [%]  Efficiency [%]  \n",
      "289                     15.0           25.0       16.699177  \n"
     ]
    },
    {
     "name": "stderr",
     "output_type": "stream",
     "text": [
      " C:\\Users\\Zhe\\AppData\\Roaming\\Python\\Python37\\site-packages\\emukit\\bayesian_optimization\\acquisitions\\log_acquisition.py:25: RuntimeWarning:invalid value encountered in log\n",
      "reconstraining parameters Mat52.lengthscale\n",
      "reconstraining parameters Mat52.variance\n"
     ]
    },
    {
     "name": "stdout",
     "output_type": "stream",
     "text": [
      "total condition no.: 20\n",
      "total device no.: 20\n",
      "maximum Y (PCE [%]):  15.31\n",
      "total condition no.: 40\n",
      "total device no.: 40\n",
      "maximum Y (PCE [%]):  16.27\n"
     ]
    },
    {
     "name": "stderr",
     "output_type": "stream",
     "text": [
      " C:\\Users\\Zhe\\AppData\\Roaming\\Python\\Python37\\site-packages\\emukit\\bayesian_optimization\\acquisitions\\log_acquisition.py:25: RuntimeWarning:invalid value encountered in log\n",
      "reconstraining parameters Mat52.lengthscale\n",
      "reconstraining parameters Mat52.variance\n"
     ]
    },
    {
     "name": "stdout",
     "output_type": "stream",
     "text": [
      "total condition no.: 60\n",
      "total device no.: 60\n",
      "maximum Y (PCE [%]):  16.27\n"
     ]
    },
    {
     "name": "stderr",
     "output_type": "stream",
     "text": [
      " C:\\Users\\Zhe\\AppData\\Roaming\\Python\\Python37\\site-packages\\emukit\\bayesian_optimization\\acquisitions\\log_acquisition.py:25: RuntimeWarning:invalid value encountered in log\n",
      "reconstraining parameters Mat52.lengthscale\n",
      "reconstraining parameters Mat52.variance\n"
     ]
    },
    {
     "name": "stdout",
     "output_type": "stream",
     "text": [
      "total condition no.: 80\n",
      "total device no.: 80\n",
      "maximum Y (PCE [%]):  16.27\n"
     ]
    },
    {
     "name": "stderr",
     "output_type": "stream",
     "text": [
      " C:\\Users\\Zhe\\AppData\\Roaming\\Python\\Python37\\site-packages\\emukit\\bayesian_optimization\\acquisitions\\log_acquisition.py:25: RuntimeWarning:invalid value encountered in log\n",
      "reconstraining parameters Mat52.lengthscale\n",
      "reconstraining parameters Mat52.variance\n"
     ]
    },
    {
     "name": "stdout",
     "output_type": "stream",
     "text": [
      "total condition no.: 100\n",
      "total device no.: 100\n",
      "maximum Y (PCE [%]):  16.27\n"
     ]
    },
    {
     "name": "stderr",
     "output_type": "stream",
     "text": [
      " C:\\Users\\Zhe\\AppData\\Roaming\\Python\\Python37\\site-packages\\emukit\\bayesian_optimization\\acquisitions\\log_acquisition.py:25: RuntimeWarning:invalid value encountered in log\n",
      "reconstraining parameters Mat52.lengthscale\n",
      "reconstraining parameters Mat52.variance\n"
     ]
    },
    {
     "name": "stdout",
     "output_type": "stream",
     "text": [
      "total condition no.: 120\n",
      "total device no.: 120\n",
      "maximum Y (PCE [%]):  16.27\n"
     ]
    },
    {
     "name": "stderr",
     "output_type": "stream",
     "text": [
      " C:\\Users\\Zhe\\AppData\\Roaming\\Python\\Python37\\site-packages\\emukit\\bayesian_optimization\\acquisitions\\log_acquisition.py:25: RuntimeWarning:invalid value encountered in log\n",
      "reconstraining parameters Mat52.lengthscale\n",
      "reconstraining parameters Mat52.variance\n"
     ]
    },
    {
     "name": "stdout",
     "output_type": "stream",
     "text": [
      "total condition no.: 140\n",
      "total device no.: 140\n",
      "maximum Y (PCE [%]):  16.27\n"
     ]
    },
    {
     "name": "stderr",
     "output_type": "stream",
     "text": [
      " C:\\Users\\Zhe\\AppData\\Roaming\\Python\\Python37\\site-packages\\emukit\\bayesian_optimization\\acquisitions\\log_acquisition.py:25: RuntimeWarning:invalid value encountered in log\n",
      "reconstraining parameters Mat52.lengthscale\n",
      "reconstraining parameters Mat52.variance\n"
     ]
    },
    {
     "name": "stdout",
     "output_type": "stream",
     "text": [
      "total condition no.: 160\n",
      "total device no.: 160\n",
      "maximum Y (PCE [%]):  16.27\n"
     ]
    },
    {
     "name": "stderr",
     "output_type": "stream",
     "text": [
      " C:\\Users\\Zhe\\AppData\\Roaming\\Python\\Python37\\site-packages\\emukit\\bayesian_optimization\\acquisitions\\log_acquisition.py:25: RuntimeWarning:invalid value encountered in log\n",
      "reconstraining parameters Mat52.lengthscale\n",
      "reconstraining parameters Mat52.variance\n"
     ]
    },
    {
     "name": "stdout",
     "output_type": "stream",
     "text": [
      "total condition no.: 180\n",
      "total device no.: 180\n",
      "maximum Y (PCE [%]):  16.27\n"
     ]
    },
    {
     "name": "stderr",
     "output_type": "stream",
     "text": [
      "reconstraining parameters Mat52.lengthscale\n",
      "reconstraining parameters Mat52.variance\n"
     ]
    },
    {
     "name": "stdout",
     "output_type": "stream",
     "text": [
      "total condition no.: 200\n",
      "total device no.: 200\n",
      "maximum Y (PCE [%]):  16.27\n"
     ]
    },
    {
     "name": "stderr",
     "output_type": "stream",
     "text": [
      " C:\\Users\\Zhe\\AppData\\Roaming\\Python\\Python37\\site-packages\\emukit\\bayesian_optimization\\acquisitions\\log_acquisition.py:25: RuntimeWarning:invalid value encountered in log\n",
      "reconstraining parameters Mat52.lengthscale\n",
      "reconstraining parameters Mat52.variance\n"
     ]
    },
    {
     "name": "stdout",
     "output_type": "stream",
     "text": [
      "total condition no.: 220\n",
      "total device no.: 220\n",
      "maximum Y (PCE [%]):  16.64\n"
     ]
    },
    {
     "name": "stderr",
     "output_type": "stream",
     "text": [
      " C:\\Users\\Zhe\\AppData\\Roaming\\Python\\Python37\\site-packages\\emukit\\bayesian_optimization\\acquisitions\\log_acquisition.py:25: RuntimeWarning:invalid value encountered in log\n",
      "reconstraining parameters Mat52.lengthscale\n",
      "reconstraining parameters Mat52.variance\n"
     ]
    },
    {
     "name": "stdout",
     "output_type": "stream",
     "text": [
      "total condition no.: 240\n",
      "total device no.: 240\n",
      "maximum Y (PCE [%]):  16.65\n"
     ]
    },
    {
     "name": "stderr",
     "output_type": "stream",
     "text": [
      " C:\\Users\\Zhe\\AppData\\Roaming\\Python\\Python37\\site-packages\\emukit\\bayesian_optimization\\acquisitions\\log_acquisition.py:25: RuntimeWarning:invalid value encountered in log\n",
      "reconstraining parameters Mat52.lengthscale\n",
      "reconstraining parameters Mat52.variance\n"
     ]
    },
    {
     "name": "stdout",
     "output_type": "stream",
     "text": [
      "total condition no.: 260\n",
      "total device no.: 260\n",
      "maximum Y (PCE [%]):  16.65\n"
     ]
    },
    {
     "name": "stderr",
     "output_type": "stream",
     "text": [
      "reconstraining parameters Mat52.lengthscale\n",
      "reconstraining parameters Mat52.variance\n"
     ]
    },
    {
     "name": "stdout",
     "output_type": "stream",
     "text": [
      "total condition no.: 280\n",
      "total device no.: 280\n",
      "maximum Y (PCE [%]):  16.65\n"
     ]
    },
    {
     "name": "stderr",
     "output_type": "stream",
     "text": [
      " C:\\Users\\Zhe\\AppData\\Roaming\\Python\\Python37\\site-packages\\emukit\\bayesian_optimization\\acquisitions\\log_acquisition.py:25: RuntimeWarning:invalid value encountered in log\n",
      "reconstraining parameters Mat52.lengthscale\n",
      "reconstraining parameters Mat52.variance\n"
     ]
    },
    {
     "name": "stdout",
     "output_type": "stream",
     "text": [
      "total condition no.: 300\n",
      "total device no.: 300\n",
      "maximum Y (PCE [%]):  16.65\n"
     ]
    },
    {
     "name": "stderr",
     "output_type": "stream",
     "text": [
      "reconstraining parameters Mat52.lengthscale\n",
      "reconstraining parameters Mat52.variance\n"
     ]
    },
    {
     "name": "stdout",
     "output_type": "stream",
     "text": [
      "     Temperature [°C]  Speed [mm/s]  Spray Flow [uL/min]  Plamsa Height [cm]  \\\n",
      "279        143.273553    179.880827          3772.492686            1.055779   \n",
      "\n",
      "     Plasma Gas Flow [L/min]  Plasma DC [%]  Efficiency [%]  \n",
      "279                     15.0      55.172219       16.652023  \n"
     ]
    },
    {
     "name": "stderr",
     "output_type": "stream",
     "text": [
      "reconstraining parameters Mat52.lengthscale\n",
      "reconstraining parameters Mat52.variance\n"
     ]
    },
    {
     "name": "stdout",
     "output_type": "stream",
     "text": [
      "total condition no.: 20\n",
      "total device no.: 20\n",
      "maximum Y (PCE [%]):  14.62\n",
      "total condition no.: 40\n",
      "total device no.: 40\n",
      "maximum Y (PCE [%]):  15.56\n"
     ]
    },
    {
     "name": "stderr",
     "output_type": "stream",
     "text": [
      "reconstraining parameters Mat52.lengthscale\n",
      "reconstraining parameters Mat52.variance\n"
     ]
    },
    {
     "name": "stdout",
     "output_type": "stream",
     "text": [
      "total condition no.: 60\n",
      "total device no.: 60\n",
      "maximum Y (PCE [%]):  16.63\n"
     ]
    },
    {
     "name": "stderr",
     "output_type": "stream",
     "text": [
      "reconstraining parameters Mat52.lengthscale\n",
      "reconstraining parameters Mat52.variance\n"
     ]
    },
    {
     "name": "stdout",
     "output_type": "stream",
     "text": [
      "total condition no.: 80\n",
      "total device no.: 80\n",
      "maximum Y (PCE [%]):  17.2\n"
     ]
    },
    {
     "name": "stderr",
     "output_type": "stream",
     "text": [
      "reconstraining parameters Mat52.lengthscale\n",
      "reconstraining parameters Mat52.variance\n"
     ]
    },
    {
     "name": "stdout",
     "output_type": "stream",
     "text": [
      "total condition no.: 100\n",
      "total device no.: 100\n",
      "maximum Y (PCE [%]):  17.28\n"
     ]
    },
    {
     "name": "stderr",
     "output_type": "stream",
     "text": [
      "reconstraining parameters Mat52.lengthscale\n",
      "reconstraining parameters Mat52.variance\n"
     ]
    },
    {
     "name": "stdout",
     "output_type": "stream",
     "text": [
      "total condition no.: 120\n",
      "total device no.: 120\n",
      "maximum Y (PCE [%]):  17.28\n"
     ]
    },
    {
     "name": "stderr",
     "output_type": "stream",
     "text": [
      "reconstraining parameters Mat52.lengthscale\n",
      "reconstraining parameters Mat52.variance\n"
     ]
    },
    {
     "name": "stdout",
     "output_type": "stream",
     "text": [
      "total condition no.: 140\n",
      "total device no.: 140\n",
      "maximum Y (PCE [%]):  17.36\n"
     ]
    },
    {
     "name": "stderr",
     "output_type": "stream",
     "text": [
      "reconstraining parameters Mat52.lengthscale\n",
      "reconstraining parameters Mat52.variance\n"
     ]
    },
    {
     "name": "stdout",
     "output_type": "stream",
     "text": [
      "total condition no.: 160\n",
      "total device no.: 160\n",
      "maximum Y (PCE [%]):  17.36\n"
     ]
    },
    {
     "name": "stderr",
     "output_type": "stream",
     "text": [
      "reconstraining parameters Mat52.lengthscale\n",
      "reconstraining parameters Mat52.variance\n"
     ]
    },
    {
     "name": "stdout",
     "output_type": "stream",
     "text": [
      "total condition no.: 180\n",
      "total device no.: 180\n",
      "maximum Y (PCE [%]):  17.44\n"
     ]
    },
    {
     "name": "stderr",
     "output_type": "stream",
     "text": [
      "reconstraining parameters Mat52.lengthscale\n",
      "reconstraining parameters Mat52.variance\n"
     ]
    },
    {
     "name": "stdout",
     "output_type": "stream",
     "text": [
      "total condition no.: 200\n",
      "total device no.: 200\n",
      "maximum Y (PCE [%]):  17.44\n"
     ]
    },
    {
     "name": "stderr",
     "output_type": "stream",
     "text": [
      "reconstraining parameters Mat52.lengthscale\n",
      "reconstraining parameters Mat52.variance\n"
     ]
    },
    {
     "name": "stdout",
     "output_type": "stream",
     "text": [
      "total condition no.: 220\n",
      "total device no.: 220\n",
      "maximum Y (PCE [%]):  17.5\n"
     ]
    },
    {
     "name": "stderr",
     "output_type": "stream",
     "text": [
      "reconstraining parameters Mat52.lengthscale\n",
      "reconstraining parameters Mat52.variance\n"
     ]
    },
    {
     "name": "stdout",
     "output_type": "stream",
     "text": [
      "total condition no.: 240\n",
      "total device no.: 240\n",
      "maximum Y (PCE [%]):  17.5\n"
     ]
    },
    {
     "name": "stderr",
     "output_type": "stream",
     "text": [
      "reconstraining parameters Mat52.lengthscale\n",
      "reconstraining parameters Mat52.variance\n"
     ]
    },
    {
     "name": "stdout",
     "output_type": "stream",
     "text": [
      "total condition no.: 260\n",
      "total device no.: 260\n",
      "maximum Y (PCE [%]):  17.5\n"
     ]
    },
    {
     "name": "stderr",
     "output_type": "stream",
     "text": [
      "reconstraining parameters Mat52.lengthscale\n",
      "reconstraining parameters Mat52.variance\n"
     ]
    },
    {
     "name": "stdout",
     "output_type": "stream",
     "text": [
      "total condition no.: 280\n",
      "total device no.: 280\n",
      "maximum Y (PCE [%]):  17.5\n"
     ]
    },
    {
     "name": "stderr",
     "output_type": "stream",
     "text": [
      "reconstraining parameters Mat52.lengthscale\n",
      "reconstraining parameters Mat52.variance\n"
     ]
    },
    {
     "name": "stdout",
     "output_type": "stream",
     "text": [
      "total condition no.: 300\n",
      "total device no.: 300\n",
      "maximum Y (PCE [%]):  17.5\n"
     ]
    },
    {
     "name": "stderr",
     "output_type": "stream",
     "text": [
      "reconstraining parameters Mat52.lengthscale\n",
      "reconstraining parameters Mat52.variance\n"
     ]
    },
    {
     "name": "stdout",
     "output_type": "stream",
     "text": [
      "     Temperature [°C]  Speed [mm/s]  Spray Flow [uL/min]  Plamsa Height [cm]  \\\n",
      "266        144.380373    144.567163          3346.290181                 1.2   \n",
      "\n",
      "     Plasma Gas Flow [L/min]  Plasma DC [%]  Efficiency [%]  \n",
      "266                     15.0      28.635793       17.503103  \n"
     ]
    },
    {
     "name": "stderr",
     "output_type": "stream",
     "text": [
      " C:\\Users\\Zhe\\AppData\\Roaming\\Python\\Python37\\site-packages\\emukit\\bayesian_optimization\\acquisitions\\log_acquisition.py:25: RuntimeWarning:invalid value encountered in log\n",
      "reconstraining parameters Mat52.lengthscale\n",
      "reconstraining parameters Mat52.variance\n"
     ]
    },
    {
     "name": "stdout",
     "output_type": "stream",
     "text": [
      "total condition no.: 20\n",
      "total device no.: 20\n",
      "maximum Y (PCE [%]):  14.57\n",
      "total condition no.: 40\n",
      "total device no.: 40\n",
      "maximum Y (PCE [%]):  15.46\n"
     ]
    },
    {
     "name": "stderr",
     "output_type": "stream",
     "text": [
      " C:\\Users\\Zhe\\AppData\\Roaming\\Python\\Python37\\site-packages\\emukit\\bayesian_optimization\\acquisitions\\log_acquisition.py:25: RuntimeWarning:invalid value encountered in log\n",
      "reconstraining parameters Mat52.lengthscale\n",
      "reconstraining parameters Mat52.variance\n"
     ]
    },
    {
     "name": "stdout",
     "output_type": "stream",
     "text": [
      "total condition no.: 60\n",
      "total device no.: 60\n",
      "maximum Y (PCE [%]):  15.46\n"
     ]
    },
    {
     "name": "stderr",
     "output_type": "stream",
     "text": [
      " C:\\Users\\Zhe\\AppData\\Roaming\\Python\\Python37\\site-packages\\emukit\\bayesian_optimization\\acquisitions\\log_acquisition.py:25: RuntimeWarning:invalid value encountered in log\n",
      "reconstraining parameters Mat52.lengthscale\n",
      "reconstraining parameters Mat52.variance\n"
     ]
    },
    {
     "name": "stdout",
     "output_type": "stream",
     "text": [
      "total condition no.: 80\n",
      "total device no.: 80\n",
      "maximum Y (PCE [%]):  16.22\n"
     ]
    },
    {
     "name": "stderr",
     "output_type": "stream",
     "text": [
      " C:\\Users\\Zhe\\AppData\\Roaming\\Python\\Python37\\site-packages\\emukit\\bayesian_optimization\\acquisitions\\log_acquisition.py:25: RuntimeWarning:invalid value encountered in log\n",
      "reconstraining parameters Mat52.lengthscale\n",
      "reconstraining parameters Mat52.variance\n"
     ]
    },
    {
     "name": "stdout",
     "output_type": "stream",
     "text": [
      "total condition no.: 100\n",
      "total device no.: 100\n",
      "maximum Y (PCE [%]):  17.16\n"
     ]
    },
    {
     "name": "stderr",
     "output_type": "stream",
     "text": [
      " C:\\Users\\Zhe\\AppData\\Roaming\\Python\\Python37\\site-packages\\emukit\\bayesian_optimization\\acquisitions\\log_acquisition.py:25: RuntimeWarning:invalid value encountered in log\n",
      "reconstraining parameters Mat52.lengthscale\n",
      "reconstraining parameters Mat52.variance\n"
     ]
    },
    {
     "name": "stdout",
     "output_type": "stream",
     "text": [
      "total condition no.: 120\n",
      "total device no.: 120\n",
      "maximum Y (PCE [%]):  17.16\n"
     ]
    },
    {
     "name": "stderr",
     "output_type": "stream",
     "text": [
      "reconstraining parameters Mat52.lengthscale\n",
      "reconstraining parameters Mat52.variance\n"
     ]
    },
    {
     "name": "stdout",
     "output_type": "stream",
     "text": [
      "total condition no.: 140\n",
      "total device no.: 140\n",
      "maximum Y (PCE [%]):  17.16\n"
     ]
    },
    {
     "name": "stderr",
     "output_type": "stream",
     "text": [
      "reconstraining parameters Mat52.lengthscale\n",
      "reconstraining parameters Mat52.variance\n"
     ]
    },
    {
     "name": "stdout",
     "output_type": "stream",
     "text": [
      "total condition no.: 160\n",
      "total device no.: 160\n",
      "maximum Y (PCE [%]):  17.16\n"
     ]
    },
    {
     "name": "stderr",
     "output_type": "stream",
     "text": [
      " C:\\Users\\Zhe\\AppData\\Roaming\\Python\\Python37\\site-packages\\emukit\\bayesian_optimization\\acquisitions\\log_acquisition.py:25: RuntimeWarning:invalid value encountered in log\n",
      "reconstraining parameters Mat52.lengthscale\n",
      "reconstraining parameters Mat52.variance\n"
     ]
    },
    {
     "name": "stdout",
     "output_type": "stream",
     "text": [
      "total condition no.: 180\n",
      "total device no.: 180\n",
      "maximum Y (PCE [%]):  17.16\n"
     ]
    },
    {
     "name": "stderr",
     "output_type": "stream",
     "text": [
      "reconstraining parameters Mat52.lengthscale\n",
      "reconstraining parameters Mat52.variance\n"
     ]
    },
    {
     "name": "stdout",
     "output_type": "stream",
     "text": [
      "total condition no.: 200\n",
      "total device no.: 200\n",
      "maximum Y (PCE [%]):  17.3\n"
     ]
    },
    {
     "name": "stderr",
     "output_type": "stream",
     "text": [
      "reconstraining parameters Mat52.lengthscale\n",
      "reconstraining parameters Mat52.variance\n"
     ]
    },
    {
     "name": "stdout",
     "output_type": "stream",
     "text": [
      "total condition no.: 220\n",
      "total device no.: 220\n",
      "maximum Y (PCE [%]):  17.36\n"
     ]
    },
    {
     "name": "stderr",
     "output_type": "stream",
     "text": [
      "reconstraining parameters Mat52.lengthscale\n",
      "reconstraining parameters Mat52.variance\n"
     ]
    },
    {
     "name": "stdout",
     "output_type": "stream",
     "text": [
      "total condition no.: 240\n",
      "total device no.: 240\n",
      "maximum Y (PCE [%]):  17.37\n"
     ]
    },
    {
     "name": "stderr",
     "output_type": "stream",
     "text": [
      "reconstraining parameters Mat52.lengthscale\n",
      "reconstraining parameters Mat52.variance\n"
     ]
    },
    {
     "name": "stdout",
     "output_type": "stream",
     "text": [
      "total condition no.: 260\n",
      "total device no.: 260\n",
      "maximum Y (PCE [%]):  17.37\n"
     ]
    },
    {
     "name": "stderr",
     "output_type": "stream",
     "text": [
      "reconstraining parameters Mat52.lengthscale\n",
      "reconstraining parameters Mat52.variance\n"
     ]
    },
    {
     "name": "stdout",
     "output_type": "stream",
     "text": [
      "total condition no.: 280\n",
      "total device no.: 280\n",
      "maximum Y (PCE [%]):  17.37\n"
     ]
    },
    {
     "name": "stderr",
     "output_type": "stream",
     "text": [
      "reconstraining parameters Mat52.lengthscale\n",
      "reconstraining parameters Mat52.variance\n"
     ]
    },
    {
     "name": "stdout",
     "output_type": "stream",
     "text": [
      "total condition no.: 300\n",
      "total device no.: 300\n",
      "maximum Y (PCE [%]):  17.37\n"
     ]
    },
    {
     "name": "stderr",
     "output_type": "stream",
     "text": [
      "reconstraining parameters Mat52.lengthscale\n",
      "reconstraining parameters Mat52.variance\n"
     ]
    },
    {
     "name": "stdout",
     "output_type": "stream",
     "text": [
      "     Temperature [°C]  Speed [mm/s]  Spray Flow [uL/min]  Plamsa Height [cm]  \\\n",
      "257        142.425523    184.715787          3801.346938            1.051712   \n",
      "\n",
      "     Plasma Gas Flow [L/min]  Plasma DC [%]  Efficiency [%]  \n",
      "257                15.236081      30.050839       17.367834  \n"
     ]
    },
    {
     "name": "stderr",
     "output_type": "stream",
     "text": [
      "reconstraining parameters Mat52.lengthscale\n",
      "reconstraining parameters Mat52.variance\n"
     ]
    },
    {
     "name": "stdout",
     "output_type": "stream",
     "text": [
      "total condition no.: 20\n",
      "total device no.: 20\n",
      "maximum Y (PCE [%]):  13.7\n",
      "total condition no.: 40\n",
      "total device no.: 40\n",
      "maximum Y (PCE [%]):  15.37\n"
     ]
    },
    {
     "name": "stderr",
     "output_type": "stream",
     "text": [
      "reconstraining parameters Mat52.lengthscale\n",
      "reconstraining parameters Mat52.variance\n"
     ]
    },
    {
     "name": "stdout",
     "output_type": "stream",
     "text": [
      "total condition no.: 60\n",
      "total device no.: 60\n",
      "maximum Y (PCE [%]):  15.89\n"
     ]
    },
    {
     "name": "stderr",
     "output_type": "stream",
     "text": [
      "reconstraining parameters Mat52.lengthscale\n",
      "reconstraining parameters Mat52.variance\n"
     ]
    },
    {
     "name": "stdout",
     "output_type": "stream",
     "text": [
      "total condition no.: 80\n",
      "total device no.: 80\n",
      "maximum Y (PCE [%]):  16.36\n"
     ]
    },
    {
     "name": "stderr",
     "output_type": "stream",
     "text": [
      "reconstraining parameters Mat52.lengthscale\n",
      "reconstraining parameters Mat52.variance\n"
     ]
    },
    {
     "name": "stdout",
     "output_type": "stream",
     "text": [
      "total condition no.: 100\n",
      "total device no.: 100\n",
      "maximum Y (PCE [%]):  16.54\n"
     ]
    },
    {
     "name": "stderr",
     "output_type": "stream",
     "text": [
      "reconstraining parameters Mat52.lengthscale\n",
      "reconstraining parameters Mat52.variance\n"
     ]
    },
    {
     "name": "stdout",
     "output_type": "stream",
     "text": [
      "total condition no.: 120\n",
      "total device no.: 120\n",
      "maximum Y (PCE [%]):  16.6\n"
     ]
    },
    {
     "name": "stderr",
     "output_type": "stream",
     "text": [
      "reconstraining parameters Mat52.lengthscale\n",
      "reconstraining parameters Mat52.variance\n"
     ]
    },
    {
     "name": "stdout",
     "output_type": "stream",
     "text": [
      "total condition no.: 140\n",
      "total device no.: 140\n",
      "maximum Y (PCE [%]):  16.65\n"
     ]
    },
    {
     "name": "stderr",
     "output_type": "stream",
     "text": [
      "reconstraining parameters Mat52.lengthscale\n",
      "reconstraining parameters Mat52.variance\n"
     ]
    },
    {
     "name": "stdout",
     "output_type": "stream",
     "text": [
      "total condition no.: 160\n",
      "total device no.: 160\n",
      "maximum Y (PCE [%]):  16.65\n"
     ]
    },
    {
     "name": "stderr",
     "output_type": "stream",
     "text": [
      "reconstraining parameters Mat52.lengthscale\n",
      "reconstraining parameters Mat52.variance\n"
     ]
    },
    {
     "name": "stdout",
     "output_type": "stream",
     "text": [
      "total condition no.: 180\n",
      "total device no.: 180\n",
      "maximum Y (PCE [%]):  16.65\n"
     ]
    },
    {
     "name": "stderr",
     "output_type": "stream",
     "text": [
      "reconstraining parameters Mat52.lengthscale\n",
      "reconstraining parameters Mat52.variance\n"
     ]
    },
    {
     "name": "stdout",
     "output_type": "stream",
     "text": [
      "total condition no.: 200\n",
      "total device no.: 200\n",
      "maximum Y (PCE [%]):  16.65\n"
     ]
    },
    {
     "name": "stderr",
     "output_type": "stream",
     "text": [
      "reconstraining parameters Mat52.lengthscale\n",
      "reconstraining parameters Mat52.variance\n"
     ]
    },
    {
     "name": "stdout",
     "output_type": "stream",
     "text": [
      "total condition no.: 220\n",
      "total device no.: 220\n",
      "maximum Y (PCE [%]):  16.65\n"
     ]
    },
    {
     "name": "stderr",
     "output_type": "stream",
     "text": [
      "reconstraining parameters Mat52.lengthscale\n",
      "reconstraining parameters Mat52.variance\n"
     ]
    },
    {
     "name": "stdout",
     "output_type": "stream",
     "text": [
      "total condition no.: 240\n",
      "total device no.: 240\n",
      "maximum Y (PCE [%]):  16.65\n"
     ]
    },
    {
     "name": "stderr",
     "output_type": "stream",
     "text": [
      "reconstraining parameters Mat52.lengthscale\n",
      "reconstraining parameters Mat52.variance\n"
     ]
    },
    {
     "name": "stdout",
     "output_type": "stream",
     "text": [
      "total condition no.: 260\n",
      "total device no.: 260\n",
      "maximum Y (PCE [%]):  16.65\n"
     ]
    },
    {
     "name": "stderr",
     "output_type": "stream",
     "text": [
      "reconstraining parameters Mat52.lengthscale\n",
      "reconstraining parameters Mat52.variance\n"
     ]
    },
    {
     "name": "stdout",
     "output_type": "stream",
     "text": [
      "total condition no.: 280\n",
      "total device no.: 280\n",
      "maximum Y (PCE [%]):  16.65\n"
     ]
    },
    {
     "name": "stderr",
     "output_type": "stream",
     "text": [
      "reconstraining parameters Mat52.lengthscale\n",
      "reconstraining parameters Mat52.variance\n"
     ]
    },
    {
     "name": "stdout",
     "output_type": "stream",
     "text": [
      "total condition no.: 300\n",
      "total device no.: 300\n",
      "maximum Y (PCE [%]):  17.03\n"
     ]
    },
    {
     "name": "stderr",
     "output_type": "stream",
     "text": [
      "reconstraining parameters Mat52.lengthscale\n",
      "reconstraining parameters Mat52.variance\n"
     ]
    },
    {
     "name": "stdout",
     "output_type": "stream",
     "text": [
      "     Temperature [°C]  Speed [mm/s]  Spray Flow [uL/min]  Plamsa Height [cm]  \\\n",
      "282        140.636702    186.851617          3363.544923            1.091529   \n",
      "\n",
      "     Plasma Gas Flow [L/min]  Plasma DC [%]  Efficiency [%]  \n",
      "282                     15.0      31.988531        17.02955  \n"
     ]
    },
    {
     "name": "stderr",
     "output_type": "stream",
     "text": [
      "reconstraining parameters Mat52.lengthscale\n",
      "reconstraining parameters Mat52.variance\n"
     ]
    },
    {
     "name": "stdout",
     "output_type": "stream",
     "text": [
      "total condition no.: 20\n",
      "total device no.: 20\n",
      "maximum Y (PCE [%]):  12.77\n",
      "total condition no.: 40\n",
      "total device no.: 40\n",
      "maximum Y (PCE [%]):  14.78\n"
     ]
    },
    {
     "name": "stderr",
     "output_type": "stream",
     "text": [
      "reconstraining parameters Mat52.lengthscale\n",
      "reconstraining parameters Mat52.variance\n"
     ]
    },
    {
     "name": "stdout",
     "output_type": "stream",
     "text": [
      "total condition no.: 60\n",
      "total device no.: 60\n",
      "maximum Y (PCE [%]):  15.84\n"
     ]
    },
    {
     "name": "stderr",
     "output_type": "stream",
     "text": [
      "reconstraining parameters Mat52.lengthscale\n",
      "reconstraining parameters Mat52.variance\n"
     ]
    },
    {
     "name": "stdout",
     "output_type": "stream",
     "text": [
      "total condition no.: 80\n",
      "total device no.: 80\n",
      "maximum Y (PCE [%]):  16.38\n"
     ]
    },
    {
     "name": "stderr",
     "output_type": "stream",
     "text": [
      "reconstraining parameters Mat52.lengthscale\n",
      "reconstraining parameters Mat52.variance\n"
     ]
    },
    {
     "name": "stdout",
     "output_type": "stream",
     "text": [
      "total condition no.: 100\n",
      "total device no.: 100\n",
      "maximum Y (PCE [%]):  16.38\n"
     ]
    },
    {
     "name": "stderr",
     "output_type": "stream",
     "text": [
      "reconstraining parameters Mat52.lengthscale\n",
      "reconstraining parameters Mat52.variance\n"
     ]
    },
    {
     "name": "stdout",
     "output_type": "stream",
     "text": [
      "total condition no.: 120\n",
      "total device no.: 120\n",
      "maximum Y (PCE [%]):  16.38\n"
     ]
    },
    {
     "name": "stderr",
     "output_type": "stream",
     "text": [
      "reconstraining parameters Mat52.lengthscale\n",
      "reconstraining parameters Mat52.variance\n"
     ]
    },
    {
     "name": "stdout",
     "output_type": "stream",
     "text": [
      "total condition no.: 140\n",
      "total device no.: 140\n",
      "maximum Y (PCE [%]):  16.63\n"
     ]
    },
    {
     "name": "stderr",
     "output_type": "stream",
     "text": [
      "reconstraining parameters Mat52.lengthscale\n",
      "reconstraining parameters Mat52.variance\n"
     ]
    },
    {
     "name": "stdout",
     "output_type": "stream",
     "text": [
      "total condition no.: 160\n",
      "total device no.: 160\n",
      "maximum Y (PCE [%]):  16.63\n"
     ]
    },
    {
     "name": "stderr",
     "output_type": "stream",
     "text": [
      "reconstraining parameters Mat52.lengthscale\n",
      "reconstraining parameters Mat52.variance\n"
     ]
    },
    {
     "name": "stdout",
     "output_type": "stream",
     "text": [
      "total condition no.: 180\n",
      "total device no.: 180\n",
      "maximum Y (PCE [%]):  16.63\n"
     ]
    },
    {
     "name": "stderr",
     "output_type": "stream",
     "text": [
      "reconstraining parameters Mat52.lengthscale\n",
      "reconstraining parameters Mat52.variance\n"
     ]
    },
    {
     "name": "stdout",
     "output_type": "stream",
     "text": [
      "total condition no.: 200\n",
      "total device no.: 200\n",
      "maximum Y (PCE [%]):  16.89\n"
     ]
    },
    {
     "name": "stderr",
     "output_type": "stream",
     "text": [
      "reconstraining parameters Mat52.lengthscale\n",
      "reconstraining parameters Mat52.variance\n"
     ]
    },
    {
     "name": "stdout",
     "output_type": "stream",
     "text": [
      "total condition no.: 220\n",
      "total device no.: 220\n",
      "maximum Y (PCE [%]):  16.96\n"
     ]
    },
    {
     "name": "stderr",
     "output_type": "stream",
     "text": [
      "reconstraining parameters Mat52.lengthscale\n",
      "reconstraining parameters Mat52.variance\n"
     ]
    },
    {
     "name": "stdout",
     "output_type": "stream",
     "text": [
      "total condition no.: 240\n",
      "total device no.: 240\n",
      "maximum Y (PCE [%]):  17.01\n"
     ]
    },
    {
     "name": "stderr",
     "output_type": "stream",
     "text": [
      "reconstraining parameters Mat52.lengthscale\n",
      "reconstraining parameters Mat52.variance\n"
     ]
    },
    {
     "name": "stdout",
     "output_type": "stream",
     "text": [
      "total condition no.: 260\n",
      "total device no.: 260\n",
      "maximum Y (PCE [%]):  17.29\n"
     ]
    },
    {
     "name": "stderr",
     "output_type": "stream",
     "text": [
      "reconstraining parameters Mat52.lengthscale\n",
      "reconstraining parameters Mat52.variance\n"
     ]
    },
    {
     "name": "stdout",
     "output_type": "stream",
     "text": [
      "total condition no.: 280\n",
      "total device no.: 280\n",
      "maximum Y (PCE [%]):  17.29\n"
     ]
    },
    {
     "name": "stderr",
     "output_type": "stream",
     "text": [
      "reconstraining parameters Mat52.lengthscale\n",
      "reconstraining parameters Mat52.variance\n"
     ]
    },
    {
     "name": "stdout",
     "output_type": "stream",
     "text": [
      "total condition no.: 300\n",
      "total device no.: 300\n",
      "maximum Y (PCE [%]):  17.29\n"
     ]
    },
    {
     "name": "stderr",
     "output_type": "stream",
     "text": [
      "reconstraining parameters Mat52.lengthscale\n",
      "reconstraining parameters Mat52.variance\n"
     ]
    },
    {
     "name": "stdout",
     "output_type": "stream",
     "text": [
      "     Temperature [°C]  Speed [mm/s]  Spray Flow [uL/min]  Plamsa Height [cm]  \\\n",
      "246        145.574948    176.898343          3907.060046                 1.2   \n",
      "\n",
      "     Plasma Gas Flow [L/min]  Plasma DC [%]  Efficiency [%]  \n",
      "246                     15.0      26.614781       17.293446  \n"
     ]
    },
    {
     "name": "stderr",
     "output_type": "stream",
     "text": [
      "reconstraining parameters Mat52.lengthscale\n",
      "reconstraining parameters Mat52.variance\n"
     ]
    },
    {
     "name": "stdout",
     "output_type": "stream",
     "text": [
      "total condition no.: 20\n",
      "total device no.: 20\n",
      "maximum Y (PCE [%]):  14.44\n",
      "total condition no.: 40\n",
      "total device no.: 40\n",
      "maximum Y (PCE [%]):  15.13\n"
     ]
    },
    {
     "name": "stderr",
     "output_type": "stream",
     "text": [
      "reconstraining parameters Mat52.lengthscale\n",
      "reconstraining parameters Mat52.variance\n"
     ]
    },
    {
     "name": "stdout",
     "output_type": "stream",
     "text": [
      "total condition no.: 60\n",
      "total device no.: 60\n",
      "maximum Y (PCE [%]):  15.87\n"
     ]
    },
    {
     "name": "stderr",
     "output_type": "stream",
     "text": [
      "reconstraining parameters Mat52.lengthscale\n",
      "reconstraining parameters Mat52.variance\n"
     ]
    },
    {
     "name": "stdout",
     "output_type": "stream",
     "text": [
      "total condition no.: 80\n",
      "total device no.: 80\n",
      "maximum Y (PCE [%]):  15.87\n"
     ]
    },
    {
     "name": "stderr",
     "output_type": "stream",
     "text": [
      "reconstraining parameters Mat52.lengthscale\n",
      "reconstraining parameters Mat52.variance\n"
     ]
    },
    {
     "name": "stdout",
     "output_type": "stream",
     "text": [
      "total condition no.: 100\n",
      "total device no.: 100\n",
      "maximum Y (PCE [%]):  16.14\n"
     ]
    },
    {
     "name": "stderr",
     "output_type": "stream",
     "text": [
      "reconstraining parameters Mat52.lengthscale\n",
      "reconstraining parameters Mat52.variance\n"
     ]
    },
    {
     "name": "stdout",
     "output_type": "stream",
     "text": [
      "total condition no.: 120\n",
      "total device no.: 120\n",
      "maximum Y (PCE [%]):  16.19\n"
     ]
    },
    {
     "name": "stderr",
     "output_type": "stream",
     "text": [
      "reconstraining parameters Mat52.lengthscale\n",
      "reconstraining parameters Mat52.variance\n"
     ]
    },
    {
     "name": "stdout",
     "output_type": "stream",
     "text": [
      "total condition no.: 140\n",
      "total device no.: 140\n",
      "maximum Y (PCE [%]):  16.19\n"
     ]
    },
    {
     "name": "stderr",
     "output_type": "stream",
     "text": [
      "reconstraining parameters Mat52.lengthscale\n",
      "reconstraining parameters Mat52.variance\n"
     ]
    },
    {
     "name": "stdout",
     "output_type": "stream",
     "text": [
      "total condition no.: 160\n",
      "total device no.: 160\n",
      "maximum Y (PCE [%]):  16.19\n"
     ]
    },
    {
     "name": "stderr",
     "output_type": "stream",
     "text": [
      "reconstraining parameters Mat52.lengthscale\n",
      "reconstraining parameters Mat52.variance\n"
     ]
    },
    {
     "name": "stdout",
     "output_type": "stream",
     "text": [
      "total condition no.: 180\n",
      "total device no.: 180\n",
      "maximum Y (PCE [%]):  16.19\n"
     ]
    },
    {
     "name": "stderr",
     "output_type": "stream",
     "text": [
      "reconstraining parameters Mat52.lengthscale\n",
      "reconstraining parameters Mat52.variance\n"
     ]
    },
    {
     "name": "stdout",
     "output_type": "stream",
     "text": [
      "total condition no.: 200\n",
      "total device no.: 200\n",
      "maximum Y (PCE [%]):  16.2\n"
     ]
    },
    {
     "name": "stderr",
     "output_type": "stream",
     "text": [
      "reconstraining parameters Mat52.lengthscale\n",
      "reconstraining parameters Mat52.variance\n"
     ]
    },
    {
     "name": "stdout",
     "output_type": "stream",
     "text": [
      "total condition no.: 220\n",
      "total device no.: 220\n",
      "maximum Y (PCE [%]):  16.2\n"
     ]
    },
    {
     "name": "stderr",
     "output_type": "stream",
     "text": [
      "reconstraining parameters Mat52.lengthscale\n",
      "reconstraining parameters Mat52.variance\n"
     ]
    },
    {
     "name": "stdout",
     "output_type": "stream",
     "text": [
      "total condition no.: 240\n",
      "total device no.: 240\n",
      "maximum Y (PCE [%]):  16.2\n"
     ]
    },
    {
     "name": "stderr",
     "output_type": "stream",
     "text": [
      "reconstraining parameters Mat52.lengthscale\n",
      "reconstraining parameters Mat52.variance\n"
     ]
    },
    {
     "name": "stdout",
     "output_type": "stream",
     "text": [
      "total condition no.: 260\n",
      "total device no.: 260\n",
      "maximum Y (PCE [%]):  16.2\n"
     ]
    },
    {
     "name": "stderr",
     "output_type": "stream",
     "text": [
      "reconstraining parameters Mat52.lengthscale\n",
      "reconstraining parameters Mat52.variance\n"
     ]
    },
    {
     "name": "stdout",
     "output_type": "stream",
     "text": [
      "total condition no.: 280\n",
      "total device no.: 280\n",
      "maximum Y (PCE [%]):  16.74\n"
     ]
    },
    {
     "name": "stderr",
     "output_type": "stream",
     "text": [
      "reconstraining parameters Mat52.lengthscale\n",
      "reconstraining parameters Mat52.variance\n"
     ]
    },
    {
     "name": "stdout",
     "output_type": "stream",
     "text": [
      "total condition no.: 300\n",
      "total device no.: 300\n",
      "maximum Y (PCE [%]):  16.74\n"
     ]
    },
    {
     "name": "stderr",
     "output_type": "stream",
     "text": [
      "reconstraining parameters Mat52.lengthscale\n",
      "reconstraining parameters Mat52.variance\n"
     ]
    },
    {
     "name": "stdout",
     "output_type": "stream",
     "text": [
      "     Temperature [°C]  Speed [mm/s]  Spray Flow [uL/min]  Plamsa Height [cm]  \\\n",
      "278        143.840443      133.9672          3970.924339                 1.2   \n",
      "\n",
      "     Plasma Gas Flow [L/min]  Plasma DC [%]  Efficiency [%]  \n",
      "278                     15.0       28.31057       16.736219  \n"
     ]
    },
    {
     "name": "stderr",
     "output_type": "stream",
     "text": [
      "reconstraining parameters Mat52.lengthscale\n",
      "reconstraining parameters Mat52.variance\n"
     ]
    },
    {
     "name": "stdout",
     "output_type": "stream",
     "text": [
      "total condition no.: 20\n",
      "total device no.: 20\n",
      "maximum Y (PCE [%]):  14.73\n",
      "total condition no.: 40\n",
      "total device no.: 40\n",
      "maximum Y (PCE [%]):  15.46\n"
     ]
    },
    {
     "name": "stderr",
     "output_type": "stream",
     "text": [
      "reconstraining parameters Mat52.lengthscale\n",
      "reconstraining parameters Mat52.variance\n"
     ]
    },
    {
     "name": "stdout",
     "output_type": "stream",
     "text": [
      "total condition no.: 60\n",
      "total device no.: 60\n",
      "maximum Y (PCE [%]):  15.77\n"
     ]
    },
    {
     "name": "stderr",
     "output_type": "stream",
     "text": [
      "reconstraining parameters Mat52.lengthscale\n",
      "reconstraining parameters Mat52.variance\n"
     ]
    },
    {
     "name": "stdout",
     "output_type": "stream",
     "text": [
      "total condition no.: 80\n",
      "total device no.: 80\n",
      "maximum Y (PCE [%]):  15.85\n"
     ]
    },
    {
     "name": "stderr",
     "output_type": "stream",
     "text": [
      "reconstraining parameters Mat52.lengthscale\n",
      "reconstraining parameters Mat52.variance\n"
     ]
    },
    {
     "name": "stdout",
     "output_type": "stream",
     "text": [
      "total condition no.: 100\n",
      "total device no.: 100\n",
      "maximum Y (PCE [%]):  15.89\n"
     ]
    },
    {
     "name": "stderr",
     "output_type": "stream",
     "text": [
      "reconstraining parameters Mat52.lengthscale\n",
      "reconstraining parameters Mat52.variance\n"
     ]
    },
    {
     "name": "stdout",
     "output_type": "stream",
     "text": [
      "total condition no.: 120\n",
      "total device no.: 120\n",
      "maximum Y (PCE [%]):  15.89\n"
     ]
    },
    {
     "name": "stderr",
     "output_type": "stream",
     "text": [
      "reconstraining parameters Mat52.lengthscale\n",
      "reconstraining parameters Mat52.variance\n"
     ]
    },
    {
     "name": "stdout",
     "output_type": "stream",
     "text": [
      "total condition no.: 140\n",
      "total device no.: 140\n",
      "maximum Y (PCE [%]):  16.39\n"
     ]
    },
    {
     "name": "stderr",
     "output_type": "stream",
     "text": [
      "reconstraining parameters Mat52.lengthscale\n",
      "reconstraining parameters Mat52.variance\n"
     ]
    },
    {
     "name": "stdout",
     "output_type": "stream",
     "text": [
      "total condition no.: 160\n",
      "total device no.: 160\n",
      "maximum Y (PCE [%]):  16.43\n"
     ]
    },
    {
     "name": "stderr",
     "output_type": "stream",
     "text": [
      "reconstraining parameters Mat52.lengthscale\n",
      "reconstraining parameters Mat52.variance\n"
     ]
    },
    {
     "name": "stdout",
     "output_type": "stream",
     "text": [
      "total condition no.: 180\n",
      "total device no.: 180\n",
      "maximum Y (PCE [%]):  16.43\n"
     ]
    },
    {
     "name": "stderr",
     "output_type": "stream",
     "text": [
      "reconstraining parameters Mat52.lengthscale\n",
      "reconstraining parameters Mat52.variance\n"
     ]
    },
    {
     "name": "stdout",
     "output_type": "stream",
     "text": [
      "total condition no.: 200\n",
      "total device no.: 200\n",
      "maximum Y (PCE [%]):  16.43\n"
     ]
    },
    {
     "name": "stderr",
     "output_type": "stream",
     "text": [
      "reconstraining parameters Mat52.lengthscale\n",
      "reconstraining parameters Mat52.variance\n"
     ]
    },
    {
     "name": "stdout",
     "output_type": "stream",
     "text": [
      "total condition no.: 220\n",
      "total device no.: 220\n",
      "maximum Y (PCE [%]):  16.43\n"
     ]
    },
    {
     "name": "stderr",
     "output_type": "stream",
     "text": [
      "reconstraining parameters Mat52.lengthscale\n",
      "reconstraining parameters Mat52.variance\n"
     ]
    },
    {
     "name": "stdout",
     "output_type": "stream",
     "text": [
      "total condition no.: 240\n",
      "total device no.: 240\n",
      "maximum Y (PCE [%]):  16.43\n"
     ]
    },
    {
     "name": "stderr",
     "output_type": "stream",
     "text": [
      "reconstraining parameters Mat52.lengthscale\n",
      "reconstraining parameters Mat52.variance\n"
     ]
    },
    {
     "name": "stdout",
     "output_type": "stream",
     "text": [
      "total condition no.: 260\n",
      "total device no.: 260\n",
      "maximum Y (PCE [%]):  16.43\n"
     ]
    },
    {
     "name": "stderr",
     "output_type": "stream",
     "text": [
      "reconstraining parameters Mat52.lengthscale\n",
      "reconstraining parameters Mat52.variance\n"
     ]
    },
    {
     "name": "stdout",
     "output_type": "stream",
     "text": [
      "total condition no.: 280\n",
      "total device no.: 280\n",
      "maximum Y (PCE [%]):  16.43\n"
     ]
    },
    {
     "name": "stderr",
     "output_type": "stream",
     "text": [
      "reconstraining parameters Mat52.lengthscale\n",
      "reconstraining parameters Mat52.variance\n"
     ]
    },
    {
     "name": "stdout",
     "output_type": "stream",
     "text": [
      "total condition no.: 300\n",
      "total device no.: 300\n",
      "maximum Y (PCE [%]):  16.71\n"
     ]
    },
    {
     "name": "stderr",
     "output_type": "stream",
     "text": [
      "reconstraining parameters Mat52.lengthscale\n",
      "reconstraining parameters Mat52.variance\n"
     ]
    },
    {
     "name": "stdout",
     "output_type": "stream",
     "text": [
      "     Temperature [°C]  Speed [mm/s]  Spray Flow [uL/min]  Plamsa Height [cm]  \\\n",
      "301        145.114889    183.657839          3432.503786                 0.8   \n",
      "\n",
      "     Plasma Gas Flow [L/min]  Plasma DC [%]  Efficiency [%]  \n",
      "301                     15.0           25.0       16.741439  \n"
     ]
    },
    {
     "name": "stderr",
     "output_type": "stream",
     "text": [
      " C:\\Users\\Zhe\\AppData\\Roaming\\Python\\Python37\\site-packages\\emukit\\bayesian_optimization\\acquisitions\\log_acquisition.py:25: RuntimeWarning:invalid value encountered in log\n",
      "reconstraining parameters Mat52.lengthscale\n",
      "reconstraining parameters Mat52.variance\n"
     ]
    },
    {
     "name": "stdout",
     "output_type": "stream",
     "text": [
      "total condition no.: 20\n",
      "total device no.: 20\n",
      "maximum Y (PCE [%]):  14.23\n",
      "total condition no.: 40\n",
      "total device no.: 40\n",
      "maximum Y (PCE [%]):  15.2\n"
     ]
    },
    {
     "name": "stderr",
     "output_type": "stream",
     "text": [
      " C:\\Users\\Zhe\\AppData\\Roaming\\Python\\Python37\\site-packages\\emukit\\bayesian_optimization\\acquisitions\\log_acquisition.py:25: RuntimeWarning:invalid value encountered in log\n",
      "reconstraining parameters Mat52.lengthscale\n",
      "reconstraining parameters Mat52.variance\n"
     ]
    },
    {
     "name": "stdout",
     "output_type": "stream",
     "text": [
      "total condition no.: 60\n",
      "total device no.: 60\n",
      "maximum Y (PCE [%]):  17.05\n"
     ]
    },
    {
     "name": "stderr",
     "output_type": "stream",
     "text": [
      " C:\\Users\\Zhe\\AppData\\Roaming\\Python\\Python37\\site-packages\\emukit\\bayesian_optimization\\acquisitions\\log_acquisition.py:25: RuntimeWarning:invalid value encountered in log\n",
      "reconstraining parameters Mat52.lengthscale\n",
      "reconstraining parameters Mat52.variance\n"
     ]
    },
    {
     "name": "stdout",
     "output_type": "stream",
     "text": [
      "total condition no.: 80\n",
      "total device no.: 80\n",
      "maximum Y (PCE [%]):  17.25\n"
     ]
    },
    {
     "name": "stderr",
     "output_type": "stream",
     "text": [
      " C:\\Users\\Zhe\\AppData\\Roaming\\Python\\Python37\\site-packages\\emukit\\bayesian_optimization\\acquisitions\\log_acquisition.py:25: RuntimeWarning:invalid value encountered in log\n",
      "reconstraining parameters Mat52.lengthscale\n",
      "reconstraining parameters Mat52.variance\n"
     ]
    },
    {
     "name": "stdout",
     "output_type": "stream",
     "text": [
      "total condition no.: 100\n",
      "total device no.: 100\n",
      "maximum Y (PCE [%]):  17.25\n"
     ]
    },
    {
     "name": "stderr",
     "output_type": "stream",
     "text": [
      " C:\\Users\\Zhe\\AppData\\Roaming\\Python\\Python37\\site-packages\\emukit\\bayesian_optimization\\acquisitions\\log_acquisition.py:25: RuntimeWarning:invalid value encountered in log\n",
      "reconstraining parameters Mat52.lengthscale\n",
      "reconstraining parameters Mat52.variance\n"
     ]
    },
    {
     "name": "stdout",
     "output_type": "stream",
     "text": [
      "total condition no.: 120\n",
      "total device no.: 120\n",
      "maximum Y (PCE [%]):  17.25\n"
     ]
    },
    {
     "name": "stderr",
     "output_type": "stream",
     "text": [
      " C:\\Users\\Zhe\\AppData\\Roaming\\Python\\Python37\\site-packages\\emukit\\bayesian_optimization\\acquisitions\\log_acquisition.py:25: RuntimeWarning:invalid value encountered in log\n",
      "reconstraining parameters Mat52.lengthscale\n",
      "reconstraining parameters Mat52.variance\n"
     ]
    },
    {
     "name": "stdout",
     "output_type": "stream",
     "text": [
      "total condition no.: 140\n",
      "total device no.: 140\n",
      "maximum Y (PCE [%]):  17.25\n"
     ]
    },
    {
     "name": "stderr",
     "output_type": "stream",
     "text": [
      " C:\\Users\\Zhe\\AppData\\Roaming\\Python\\Python37\\site-packages\\emukit\\bayesian_optimization\\acquisitions\\log_acquisition.py:25: RuntimeWarning:invalid value encountered in log\n",
      "reconstraining parameters Mat52.lengthscale\n",
      "reconstraining parameters Mat52.variance\n"
     ]
    },
    {
     "name": "stdout",
     "output_type": "stream",
     "text": [
      "total condition no.: 160\n",
      "total device no.: 160\n",
      "maximum Y (PCE [%]):  17.25\n"
     ]
    },
    {
     "name": "stderr",
     "output_type": "stream",
     "text": [
      " C:\\Users\\Zhe\\AppData\\Roaming\\Python\\Python37\\site-packages\\emukit\\bayesian_optimization\\acquisitions\\log_acquisition.py:25: RuntimeWarning:invalid value encountered in log\n",
      "reconstraining parameters Mat52.lengthscale\n",
      "reconstraining parameters Mat52.variance\n"
     ]
    },
    {
     "name": "stdout",
     "output_type": "stream",
     "text": [
      "total condition no.: 180\n",
      "total device no.: 180\n",
      "maximum Y (PCE [%]):  17.53\n"
     ]
    },
    {
     "name": "stderr",
     "output_type": "stream",
     "text": [
      " C:\\Users\\Zhe\\AppData\\Roaming\\Python\\Python37\\site-packages\\emukit\\bayesian_optimization\\acquisitions\\log_acquisition.py:25: RuntimeWarning:invalid value encountered in log\n",
      "reconstraining parameters Mat52.lengthscale\n",
      "reconstraining parameters Mat52.variance\n"
     ]
    },
    {
     "name": "stdout",
     "output_type": "stream",
     "text": [
      "total condition no.: 200\n",
      "total device no.: 200\n",
      "maximum Y (PCE [%]):  17.53\n"
     ]
    },
    {
     "name": "stderr",
     "output_type": "stream",
     "text": [
      " C:\\Users\\Zhe\\AppData\\Roaming\\Python\\Python37\\site-packages\\emukit\\bayesian_optimization\\acquisitions\\log_acquisition.py:25: RuntimeWarning:invalid value encountered in log\n",
      "reconstraining parameters Mat52.lengthscale\n",
      "reconstraining parameters Mat52.variance\n"
     ]
    },
    {
     "name": "stdout",
     "output_type": "stream",
     "text": [
      "total condition no.: 220\n",
      "total device no.: 220\n",
      "maximum Y (PCE [%]):  17.53\n"
     ]
    },
    {
     "name": "stderr",
     "output_type": "stream",
     "text": [
      " C:\\Users\\Zhe\\AppData\\Roaming\\Python\\Python37\\site-packages\\emukit\\bayesian_optimization\\acquisitions\\log_acquisition.py:25: RuntimeWarning:invalid value encountered in log\n",
      "reconstraining parameters Mat52.lengthscale\n",
      "reconstraining parameters Mat52.variance\n"
     ]
    },
    {
     "name": "stdout",
     "output_type": "stream",
     "text": [
      "total condition no.: 240\n",
      "total device no.: 240\n",
      "maximum Y (PCE [%]):  17.53\n"
     ]
    },
    {
     "name": "stderr",
     "output_type": "stream",
     "text": [
      " C:\\Users\\Zhe\\AppData\\Roaming\\Python\\Python37\\site-packages\\emukit\\bayesian_optimization\\acquisitions\\log_acquisition.py:25: RuntimeWarning:invalid value encountered in log\n",
      "reconstraining parameters Mat52.lengthscale\n",
      "reconstraining parameters Mat52.variance\n"
     ]
    },
    {
     "name": "stdout",
     "output_type": "stream",
     "text": [
      "total condition no.: 260\n",
      "total device no.: 260\n",
      "maximum Y (PCE [%]):  17.62\n"
     ]
    },
    {
     "name": "stderr",
     "output_type": "stream",
     "text": [
      " C:\\Users\\Zhe\\AppData\\Roaming\\Python\\Python37\\site-packages\\emukit\\bayesian_optimization\\acquisitions\\log_acquisition.py:25: RuntimeWarning:invalid value encountered in log\n",
      "reconstraining parameters Mat52.lengthscale\n",
      "reconstraining parameters Mat52.variance\n"
     ]
    },
    {
     "name": "stdout",
     "output_type": "stream",
     "text": [
      "total condition no.: 280\n",
      "total device no.: 280\n",
      "maximum Y (PCE [%]):  17.64\n"
     ]
    },
    {
     "name": "stderr",
     "output_type": "stream",
     "text": [
      " C:\\Users\\Zhe\\AppData\\Roaming\\Python\\Python37\\site-packages\\emukit\\bayesian_optimization\\acquisitions\\log_acquisition.py:25: RuntimeWarning:invalid value encountered in log\n",
      "reconstraining parameters Mat52.lengthscale\n",
      "reconstraining parameters Mat52.variance\n"
     ]
    },
    {
     "name": "stdout",
     "output_type": "stream",
     "text": [
      "total condition no.: 300\n",
      "total device no.: 300\n",
      "maximum Y (PCE [%]):  17.64\n"
     ]
    },
    {
     "name": "stderr",
     "output_type": "stream",
     "text": [
      " C:\\Users\\Zhe\\AppData\\Roaming\\Python\\Python37\\site-packages\\emukit\\bayesian_optimization\\acquisitions\\log_acquisition.py:25: RuntimeWarning:invalid value encountered in log\n"
     ]
    },
    {
     "name": "stdout",
     "output_type": "stream",
     "text": [
      "     Temperature [°C]  Speed [mm/s]  Spray Flow [uL/min]  Plamsa Height [cm]  \\\n",
      "262        144.305516     177.27653          3446.850001            1.088037   \n",
      "\n",
      "     Plasma Gas Flow [L/min]  Plasma DC [%]  Efficiency [%]  \n",
      "262                     15.0       30.76087       17.639805  \n"
     ]
    },
    {
     "name": "stderr",
     "output_type": "stream",
     "text": [
      "reconstraining parameters Mat52.lengthscale\n",
      "reconstraining parameters Mat52.variance\n",
      "reconstraining parameters Mat52.lengthscale\n"
     ]
    },
    {
     "name": "stdout",
     "output_type": "stream",
     "text": [
      "total condition no.: 20\n",
      "total device no.: 20\n",
      "maximum Y (PCE [%]):  14.02\n"
     ]
    },
    {
     "name": "stderr",
     "output_type": "stream",
     "text": [
      "reconstraining parameters Mat52.variance\n"
     ]
    },
    {
     "name": "stdout",
     "output_type": "stream",
     "text": [
      "total condition no.: 40\n",
      "total device no.: 40\n",
      "maximum Y (PCE [%]):  15.8\n"
     ]
    },
    {
     "name": "stderr",
     "output_type": "stream",
     "text": [
      "reconstraining parameters Mat52.lengthscale\n",
      "reconstraining parameters Mat52.variance\n"
     ]
    },
    {
     "name": "stdout",
     "output_type": "stream",
     "text": [
      "total condition no.: 60\n",
      "total device no.: 60\n",
      "maximum Y (PCE [%]):  16.03\n"
     ]
    },
    {
     "name": "stderr",
     "output_type": "stream",
     "text": [
      "reconstraining parameters Mat52.lengthscale\n",
      "reconstraining parameters Mat52.variance\n"
     ]
    },
    {
     "name": "stdout",
     "output_type": "stream",
     "text": [
      "total condition no.: 80\n",
      "total device no.: 80\n",
      "maximum Y (PCE [%]):  16.05\n"
     ]
    },
    {
     "name": "stderr",
     "output_type": "stream",
     "text": [
      "reconstraining parameters Mat52.lengthscale\n",
      "reconstraining parameters Mat52.variance\n"
     ]
    },
    {
     "name": "stdout",
     "output_type": "stream",
     "text": [
      "total condition no.: 100\n",
      "total device no.: 100\n",
      "maximum Y (PCE [%]):  16.6\n"
     ]
    },
    {
     "name": "stderr",
     "output_type": "stream",
     "text": [
      "reconstraining parameters Mat52.lengthscale\n",
      "reconstraining parameters Mat52.variance\n"
     ]
    },
    {
     "name": "stdout",
     "output_type": "stream",
     "text": [
      "total condition no.: 120\n",
      "total device no.: 120\n",
      "maximum Y (PCE [%]):  16.6\n"
     ]
    },
    {
     "name": "stderr",
     "output_type": "stream",
     "text": [
      "reconstraining parameters Mat52.lengthscale\n",
      "reconstraining parameters Mat52.variance\n"
     ]
    },
    {
     "name": "stdout",
     "output_type": "stream",
     "text": [
      "total condition no.: 140\n",
      "total device no.: 140\n",
      "maximum Y (PCE [%]):  16.73\n"
     ]
    },
    {
     "name": "stderr",
     "output_type": "stream",
     "text": [
      "reconstraining parameters Mat52.lengthscale\n",
      "reconstraining parameters Mat52.variance\n"
     ]
    },
    {
     "name": "stdout",
     "output_type": "stream",
     "text": [
      "total condition no.: 160\n",
      "total device no.: 160\n",
      "maximum Y (PCE [%]):  16.73\n"
     ]
    },
    {
     "name": "stderr",
     "output_type": "stream",
     "text": [
      "reconstraining parameters Mat52.lengthscale\n",
      "reconstraining parameters Mat52.variance\n"
     ]
    },
    {
     "name": "stdout",
     "output_type": "stream",
     "text": [
      "total condition no.: 180\n",
      "total device no.: 180\n",
      "maximum Y (PCE [%]):  16.73\n"
     ]
    },
    {
     "name": "stderr",
     "output_type": "stream",
     "text": [
      "reconstraining parameters Mat52.lengthscale\n",
      "reconstraining parameters Mat52.variance\n"
     ]
    },
    {
     "name": "stdout",
     "output_type": "stream",
     "text": [
      "total condition no.: 200\n",
      "total device no.: 200\n",
      "maximum Y (PCE [%]):  16.73\n"
     ]
    },
    {
     "name": "stderr",
     "output_type": "stream",
     "text": [
      "reconstraining parameters Mat52.lengthscale\n",
      "reconstraining parameters Mat52.variance\n"
     ]
    },
    {
     "name": "stdout",
     "output_type": "stream",
     "text": [
      "total condition no.: 220\n",
      "total device no.: 220\n",
      "maximum Y (PCE [%]):  16.73\n"
     ]
    },
    {
     "name": "stderr",
     "output_type": "stream",
     "text": [
      "reconstraining parameters Mat52.lengthscale\n",
      "reconstraining parameters Mat52.variance\n"
     ]
    },
    {
     "name": "stdout",
     "output_type": "stream",
     "text": [
      "total condition no.: 240\n",
      "total device no.: 240\n",
      "maximum Y (PCE [%]):  16.73\n"
     ]
    },
    {
     "name": "stderr",
     "output_type": "stream",
     "text": [
      "reconstraining parameters Mat52.lengthscale\n",
      "reconstraining parameters Mat52.variance\n"
     ]
    },
    {
     "name": "stdout",
     "output_type": "stream",
     "text": [
      "total condition no.: 260\n",
      "total device no.: 260\n",
      "maximum Y (PCE [%]):  16.73\n"
     ]
    },
    {
     "name": "stderr",
     "output_type": "stream",
     "text": [
      "reconstraining parameters Mat52.lengthscale\n",
      "reconstraining parameters Mat52.variance\n"
     ]
    },
    {
     "name": "stdout",
     "output_type": "stream",
     "text": [
      "total condition no.: 280\n",
      "total device no.: 280\n",
      "maximum Y (PCE [%]):  16.73\n"
     ]
    },
    {
     "name": "stderr",
     "output_type": "stream",
     "text": [
      "reconstraining parameters Mat52.lengthscale\n",
      "reconstraining parameters Mat52.variance\n"
     ]
    },
    {
     "name": "stdout",
     "output_type": "stream",
     "text": [
      "total condition no.: 300\n",
      "total device no.: 300\n",
      "maximum Y (PCE [%]):  16.73\n"
     ]
    },
    {
     "name": "stderr",
     "output_type": "stream",
     "text": [
      "reconstraining parameters Mat52.lengthscale\n",
      "reconstraining parameters Mat52.variance\n"
     ]
    },
    {
     "name": "stdout",
     "output_type": "stream",
     "text": [
      "     Temperature [°C]  Speed [mm/s]  Spray Flow [uL/min]  Plamsa Height [cm]  \\\n",
      "164        143.978335    181.896975          3447.932402            1.071742   \n",
      "\n",
      "     Plasma Gas Flow [L/min]  Plasma DC [%]  Efficiency [%]  \n",
      "164                15.758477      49.928034       16.732117  \n"
     ]
    },
    {
     "name": "stderr",
     "output_type": "stream",
     "text": [
      "reconstraining parameters Mat52.lengthscale\n",
      "reconstraining parameters Mat52.variance\n"
     ]
    },
    {
     "name": "stdout",
     "output_type": "stream",
     "text": [
      "total condition no.: 20\n",
      "total device no.: 20\n",
      "maximum Y (PCE [%]):  14.32\n",
      "total condition no.: 40\n",
      "total device no.: 40\n",
      "maximum Y (PCE [%]):  15.11\n"
     ]
    },
    {
     "name": "stderr",
     "output_type": "stream",
     "text": [
      "reconstraining parameters Mat52.lengthscale\n",
      "reconstraining parameters Mat52.variance\n"
     ]
    },
    {
     "name": "stdout",
     "output_type": "stream",
     "text": [
      "total condition no.: 60\n",
      "total device no.: 60\n",
      "maximum Y (PCE [%]):  15.59\n"
     ]
    },
    {
     "name": "stderr",
     "output_type": "stream",
     "text": [
      "reconstraining parameters Mat52.lengthscale\n",
      "reconstraining parameters Mat52.variance\n"
     ]
    },
    {
     "name": "stdout",
     "output_type": "stream",
     "text": [
      "total condition no.: 80\n",
      "total device no.: 80\n",
      "maximum Y (PCE [%]):  15.7\n"
     ]
    },
    {
     "name": "stderr",
     "output_type": "stream",
     "text": [
      "reconstraining parameters Mat52.lengthscale\n",
      "reconstraining parameters Mat52.variance\n"
     ]
    },
    {
     "name": "stdout",
     "output_type": "stream",
     "text": [
      "total condition no.: 100\n",
      "total device no.: 100\n",
      "maximum Y (PCE [%]):  15.7\n"
     ]
    },
    {
     "name": "stderr",
     "output_type": "stream",
     "text": [
      "reconstraining parameters Mat52.lengthscale\n",
      "reconstraining parameters Mat52.variance\n"
     ]
    },
    {
     "name": "stdout",
     "output_type": "stream",
     "text": [
      "total condition no.: 120\n",
      "total device no.: 120\n",
      "maximum Y (PCE [%]):  15.7\n"
     ]
    },
    {
     "name": "stderr",
     "output_type": "stream",
     "text": [
      "reconstraining parameters Mat52.lengthscale\n",
      "reconstraining parameters Mat52.variance\n"
     ]
    },
    {
     "name": "stdout",
     "output_type": "stream",
     "text": [
      "total condition no.: 140\n",
      "total device no.: 140\n",
      "maximum Y (PCE [%]):  15.92\n"
     ]
    },
    {
     "name": "stderr",
     "output_type": "stream",
     "text": [
      "reconstraining parameters Mat52.lengthscale\n",
      "reconstraining parameters Mat52.variance\n"
     ]
    },
    {
     "name": "stdout",
     "output_type": "stream",
     "text": [
      "total condition no.: 160\n",
      "total device no.: 160\n",
      "maximum Y (PCE [%]):  15.92\n"
     ]
    },
    {
     "name": "stderr",
     "output_type": "stream",
     "text": [
      "reconstraining parameters Mat52.lengthscale\n",
      "reconstraining parameters Mat52.variance\n"
     ]
    },
    {
     "name": "stdout",
     "output_type": "stream",
     "text": [
      "total condition no.: 180\n",
      "total device no.: 180\n",
      "maximum Y (PCE [%]):  15.94\n"
     ]
    },
    {
     "name": "stderr",
     "output_type": "stream",
     "text": [
      "reconstraining parameters Mat52.lengthscale\n",
      "reconstraining parameters Mat52.variance\n"
     ]
    },
    {
     "name": "stdout",
     "output_type": "stream",
     "text": [
      "total condition no.: 200\n",
      "total device no.: 200\n",
      "maximum Y (PCE [%]):  16.17\n"
     ]
    },
    {
     "name": "stderr",
     "output_type": "stream",
     "text": [
      "reconstraining parameters Mat52.lengthscale\n",
      "reconstraining parameters Mat52.variance\n"
     ]
    },
    {
     "name": "stdout",
     "output_type": "stream",
     "text": [
      "total condition no.: 220\n",
      "total device no.: 220\n",
      "maximum Y (PCE [%]):  16.17\n"
     ]
    },
    {
     "name": "stderr",
     "output_type": "stream",
     "text": [
      "reconstraining parameters Mat52.lengthscale\n",
      "reconstraining parameters Mat52.variance\n"
     ]
    },
    {
     "name": "stdout",
     "output_type": "stream",
     "text": [
      "total condition no.: 240\n",
      "total device no.: 240\n",
      "maximum Y (PCE [%]):  16.17\n"
     ]
    },
    {
     "name": "stderr",
     "output_type": "stream",
     "text": [
      "reconstraining parameters Mat52.lengthscale\n",
      "reconstraining parameters Mat52.variance\n"
     ]
    },
    {
     "name": "stdout",
     "output_type": "stream",
     "text": [
      "total condition no.: 260\n",
      "total device no.: 260\n",
      "maximum Y (PCE [%]):  16.17\n"
     ]
    },
    {
     "name": "stderr",
     "output_type": "stream",
     "text": [
      "reconstraining parameters Mat52.lengthscale\n",
      "reconstraining parameters Mat52.variance\n"
     ]
    },
    {
     "name": "stdout",
     "output_type": "stream",
     "text": [
      "total condition no.: 280\n",
      "total device no.: 280\n",
      "maximum Y (PCE [%]):  16.17\n"
     ]
    },
    {
     "name": "stderr",
     "output_type": "stream",
     "text": [
      "reconstraining parameters Mat52.lengthscale\n",
      "reconstraining parameters Mat52.variance\n"
     ]
    },
    {
     "name": "stdout",
     "output_type": "stream",
     "text": [
      "total condition no.: 300\n",
      "total device no.: 300\n",
      "maximum Y (PCE [%]):  16.17\n"
     ]
    },
    {
     "name": "stderr",
     "output_type": "stream",
     "text": [
      "reconstraining parameters Mat52.lengthscale\n",
      "reconstraining parameters Mat52.variance\n"
     ]
    },
    {
     "name": "stdout",
     "output_type": "stream",
     "text": [
      "     Temperature [°C]  Speed [mm/s]  Spray Flow [uL/min]  Plamsa Height [cm]  \\\n",
      "188        138.249868    179.656261           3471.68866                 0.8   \n",
      "\n",
      "     Plasma Gas Flow [L/min]  Plasma DC [%]  Efficiency [%]  \n",
      "188                18.596157      66.570232       16.167105  \n"
     ]
    },
    {
     "name": "stderr",
     "output_type": "stream",
     "text": [
      "reconstraining parameters Mat52.lengthscale\n",
      "reconstraining parameters Mat52.variance\n"
     ]
    },
    {
     "name": "stdout",
     "output_type": "stream",
     "text": [
      "total condition no.: 20\n",
      "total device no.: 20\n",
      "maximum Y (PCE [%]):  13.34\n",
      "total condition no.: 40\n",
      "total device no.: 40\n",
      "maximum Y (PCE [%]):  15.62\n"
     ]
    },
    {
     "name": "stderr",
     "output_type": "stream",
     "text": [
      "reconstraining parameters Mat52.lengthscale\n",
      "reconstraining parameters Mat52.variance\n"
     ]
    },
    {
     "name": "stdout",
     "output_type": "stream",
     "text": [
      "total condition no.: 60\n",
      "total device no.: 60\n",
      "maximum Y (PCE [%]):  16.25\n"
     ]
    },
    {
     "name": "stderr",
     "output_type": "stream",
     "text": [
      "reconstraining parameters Mat52.lengthscale\n",
      "reconstraining parameters Mat52.variance\n"
     ]
    },
    {
     "name": "stdout",
     "output_type": "stream",
     "text": [
      "total condition no.: 80\n",
      "total device no.: 80\n",
      "maximum Y (PCE [%]):  16.81\n"
     ]
    },
    {
     "name": "stderr",
     "output_type": "stream",
     "text": [
      "reconstraining parameters Mat52.lengthscale\n",
      "reconstraining parameters Mat52.variance\n"
     ]
    },
    {
     "name": "stdout",
     "output_type": "stream",
     "text": [
      "total condition no.: 100\n",
      "total device no.: 100\n",
      "maximum Y (PCE [%]):  17.04\n"
     ]
    },
    {
     "name": "stderr",
     "output_type": "stream",
     "text": [
      "reconstraining parameters Mat52.lengthscale\n",
      "reconstraining parameters Mat52.variance\n"
     ]
    },
    {
     "name": "stdout",
     "output_type": "stream",
     "text": [
      "total condition no.: 120\n",
      "total device no.: 120\n",
      "maximum Y (PCE [%]):  17.04\n"
     ]
    },
    {
     "name": "stderr",
     "output_type": "stream",
     "text": [
      "reconstraining parameters Mat52.lengthscale\n",
      "reconstraining parameters Mat52.variance\n"
     ]
    },
    {
     "name": "stdout",
     "output_type": "stream",
     "text": [
      "total condition no.: 140\n",
      "total device no.: 140\n",
      "maximum Y (PCE [%]):  17.09\n"
     ]
    },
    {
     "name": "stderr",
     "output_type": "stream",
     "text": [
      "reconstraining parameters Mat52.lengthscale\n",
      "reconstraining parameters Mat52.variance\n"
     ]
    },
    {
     "name": "stdout",
     "output_type": "stream",
     "text": [
      "total condition no.: 160\n",
      "total device no.: 160\n",
      "maximum Y (PCE [%]):  17.29\n"
     ]
    },
    {
     "name": "stderr",
     "output_type": "stream",
     "text": [
      "reconstraining parameters Mat52.lengthscale\n",
      "reconstraining parameters Mat52.variance\n"
     ]
    },
    {
     "name": "stdout",
     "output_type": "stream",
     "text": [
      "total condition no.: 180\n",
      "total device no.: 180\n",
      "maximum Y (PCE [%]):  17.29\n"
     ]
    },
    {
     "name": "stderr",
     "output_type": "stream",
     "text": [
      "reconstraining parameters Mat52.lengthscale\n",
      "reconstraining parameters Mat52.variance\n"
     ]
    },
    {
     "name": "stdout",
     "output_type": "stream",
     "text": [
      "total condition no.: 200\n",
      "total device no.: 200\n",
      "maximum Y (PCE [%]):  17.29\n"
     ]
    },
    {
     "name": "stderr",
     "output_type": "stream",
     "text": [
      "reconstraining parameters Mat52.lengthscale\n",
      "reconstraining parameters Mat52.variance\n"
     ]
    },
    {
     "name": "stdout",
     "output_type": "stream",
     "text": [
      "total condition no.: 220\n",
      "total device no.: 220\n",
      "maximum Y (PCE [%]):  17.29\n"
     ]
    },
    {
     "name": "stderr",
     "output_type": "stream",
     "text": [
      "reconstraining parameters Mat52.lengthscale\n",
      "reconstraining parameters Mat52.variance\n"
     ]
    },
    {
     "name": "stdout",
     "output_type": "stream",
     "text": [
      "total condition no.: 240\n",
      "total device no.: 240\n",
      "maximum Y (PCE [%]):  17.29\n"
     ]
    },
    {
     "name": "stderr",
     "output_type": "stream",
     "text": [
      "reconstraining parameters Mat52.lengthscale\n",
      "reconstraining parameters Mat52.variance\n"
     ]
    },
    {
     "name": "stdout",
     "output_type": "stream",
     "text": [
      "total condition no.: 260\n",
      "total device no.: 260\n",
      "maximum Y (PCE [%]):  17.29\n"
     ]
    },
    {
     "name": "stderr",
     "output_type": "stream",
     "text": [
      "reconstraining parameters Mat52.lengthscale\n",
      "reconstraining parameters Mat52.variance\n"
     ]
    },
    {
     "name": "stdout",
     "output_type": "stream",
     "text": [
      "total condition no.: 280\n",
      "total device no.: 280\n",
      "maximum Y (PCE [%]):  17.29\n"
     ]
    },
    {
     "name": "stderr",
     "output_type": "stream",
     "text": [
      "reconstraining parameters Mat52.lengthscale\n",
      "reconstraining parameters Mat52.variance\n"
     ]
    },
    {
     "name": "stdout",
     "output_type": "stream",
     "text": [
      "total condition no.: 300\n",
      "total device no.: 300\n",
      "maximum Y (PCE [%]):  17.54\n"
     ]
    },
    {
     "name": "stderr",
     "output_type": "stream",
     "text": [
      "reconstraining parameters Mat52.lengthscale\n",
      "reconstraining parameters Mat52.variance\n"
     ]
    },
    {
     "name": "stdout",
     "output_type": "stream",
     "text": [
      "     Temperature [°C]  Speed [mm/s]  Spray Flow [uL/min]  Plamsa Height [cm]  \\\n",
      "297        145.396122    177.941982           3399.18916                 1.2   \n",
      "\n",
      "     Plasma Gas Flow [L/min]  Plasma DC [%]  Efficiency [%]  \n",
      "297                     15.0      26.112131       17.539287  \n"
     ]
    },
    {
     "name": "stderr",
     "output_type": "stream",
     "text": [
      "reconstraining parameters Mat52.lengthscale\n",
      "reconstraining parameters Mat52.variance\n"
     ]
    },
    {
     "name": "stdout",
     "output_type": "stream",
     "text": [
      "total condition no.: 20\n",
      "total device no.: 20\n",
      "maximum Y (PCE [%]):  13.51\n",
      "total condition no.: 40\n",
      "total device no.: 40\n",
      "maximum Y (PCE [%]):  15.64\n"
     ]
    },
    {
     "name": "stderr",
     "output_type": "stream",
     "text": [
      " C:\\Users\\Zhe\\AppData\\Roaming\\Python\\Python37\\site-packages\\emukit\\bayesian_optimization\\acquisitions\\log_acquisition.py:25: RuntimeWarning:invalid value encountered in log\n",
      "reconstraining parameters Mat52.lengthscale\n",
      "reconstraining parameters Mat52.variance\n"
     ]
    },
    {
     "name": "stdout",
     "output_type": "stream",
     "text": [
      "total condition no.: 60\n",
      "total device no.: 60\n",
      "maximum Y (PCE [%]):  15.83\n"
     ]
    },
    {
     "name": "stderr",
     "output_type": "stream",
     "text": [
      " C:\\Users\\Zhe\\AppData\\Roaming\\Python\\Python37\\site-packages\\emukit\\bayesian_optimization\\acquisitions\\log_acquisition.py:25: RuntimeWarning:invalid value encountered in log\n",
      "reconstraining parameters Mat52.lengthscale\n",
      "reconstraining parameters Mat52.variance\n"
     ]
    },
    {
     "name": "stdout",
     "output_type": "stream",
     "text": [
      "total condition no.: 80\n",
      "total device no.: 80\n",
      "maximum Y (PCE [%]):  16.66\n"
     ]
    },
    {
     "name": "stderr",
     "output_type": "stream",
     "text": [
      " C:\\Users\\Zhe\\AppData\\Roaming\\Python\\Python37\\site-packages\\emukit\\bayesian_optimization\\acquisitions\\log_acquisition.py:25: RuntimeWarning:invalid value encountered in log\n",
      "reconstraining parameters Mat52.lengthscale\n",
      "reconstraining parameters Mat52.variance\n"
     ]
    },
    {
     "name": "stdout",
     "output_type": "stream",
     "text": [
      "total condition no.: 100\n",
      "total device no.: 100\n",
      "maximum Y (PCE [%]):  17.07\n"
     ]
    },
    {
     "name": "stderr",
     "output_type": "stream",
     "text": [
      " C:\\Users\\Zhe\\AppData\\Roaming\\Python\\Python37\\site-packages\\emukit\\bayesian_optimization\\acquisitions\\log_acquisition.py:25: RuntimeWarning:invalid value encountered in log\n",
      "reconstraining parameters Mat52.lengthscale\n",
      "reconstraining parameters Mat52.variance\n"
     ]
    },
    {
     "name": "stdout",
     "output_type": "stream",
     "text": [
      "total condition no.: 120\n",
      "total device no.: 120\n",
      "maximum Y (PCE [%]):  17.57\n"
     ]
    },
    {
     "name": "stderr",
     "output_type": "stream",
     "text": [
      " C:\\Users\\Zhe\\AppData\\Roaming\\Python\\Python37\\site-packages\\emukit\\bayesian_optimization\\acquisitions\\log_acquisition.py:25: RuntimeWarning:invalid value encountered in log\n",
      "reconstraining parameters Mat52.lengthscale\n",
      "reconstraining parameters Mat52.variance\n"
     ]
    },
    {
     "name": "stdout",
     "output_type": "stream",
     "text": [
      "total condition no.: 140\n",
      "total device no.: 140\n",
      "maximum Y (PCE [%]):  17.63\n"
     ]
    },
    {
     "name": "stderr",
     "output_type": "stream",
     "text": [
      "reconstraining parameters Mat52.lengthscale\n",
      "reconstraining parameters Mat52.variance\n"
     ]
    },
    {
     "name": "stdout",
     "output_type": "stream",
     "text": [
      "total condition no.: 160\n",
      "total device no.: 160\n",
      "maximum Y (PCE [%]):  17.63\n"
     ]
    },
    {
     "name": "stderr",
     "output_type": "stream",
     "text": [
      " C:\\Users\\Zhe\\AppData\\Roaming\\Python\\Python37\\site-packages\\emukit\\bayesian_optimization\\acquisitions\\log_acquisition.py:25: RuntimeWarning:invalid value encountered in log\n",
      "reconstraining parameters Mat52.lengthscale\n",
      "reconstraining parameters Mat52.variance\n"
     ]
    },
    {
     "name": "stdout",
     "output_type": "stream",
     "text": [
      "total condition no.: 180\n",
      "total device no.: 180\n",
      "maximum Y (PCE [%]):  17.63\n"
     ]
    },
    {
     "name": "stderr",
     "output_type": "stream",
     "text": [
      " C:\\Users\\Zhe\\AppData\\Roaming\\Python\\Python37\\site-packages\\emukit\\bayesian_optimization\\acquisitions\\log_acquisition.py:25: RuntimeWarning:invalid value encountered in log\n",
      "reconstraining parameters Mat52.lengthscale\n",
      "reconstraining parameters Mat52.variance\n"
     ]
    },
    {
     "name": "stdout",
     "output_type": "stream",
     "text": [
      "total condition no.: 200\n",
      "total device no.: 200\n",
      "maximum Y (PCE [%]):  17.63\n"
     ]
    },
    {
     "name": "stderr",
     "output_type": "stream",
     "text": [
      " C:\\Users\\Zhe\\AppData\\Roaming\\Python\\Python37\\site-packages\\emukit\\bayesian_optimization\\acquisitions\\log_acquisition.py:25: RuntimeWarning:invalid value encountered in log\n",
      "reconstraining parameters Mat52.lengthscale\n",
      "reconstraining parameters Mat52.variance\n"
     ]
    },
    {
     "name": "stdout",
     "output_type": "stream",
     "text": [
      "total condition no.: 220\n",
      "total device no.: 220\n",
      "maximum Y (PCE [%]):  17.65\n"
     ]
    },
    {
     "name": "stderr",
     "output_type": "stream",
     "text": [
      "reconstraining parameters Mat52.lengthscale\n",
      "reconstraining parameters Mat52.variance\n"
     ]
    },
    {
     "name": "stdout",
     "output_type": "stream",
     "text": [
      "total condition no.: 240\n",
      "total device no.: 240\n",
      "maximum Y (PCE [%]):  17.65\n"
     ]
    },
    {
     "name": "stderr",
     "output_type": "stream",
     "text": [
      " C:\\Users\\Zhe\\AppData\\Roaming\\Python\\Python37\\site-packages\\emukit\\bayesian_optimization\\acquisitions\\log_acquisition.py:25: RuntimeWarning:invalid value encountered in log\n",
      "reconstraining parameters Mat52.lengthscale\n",
      "reconstraining parameters Mat52.variance\n"
     ]
    },
    {
     "name": "stdout",
     "output_type": "stream",
     "text": [
      "total condition no.: 260\n",
      "total device no.: 260\n",
      "maximum Y (PCE [%]):  17.65\n"
     ]
    },
    {
     "name": "stderr",
     "output_type": "stream",
     "text": [
      "reconstraining parameters Mat52.lengthscale\n",
      "reconstraining parameters Mat52.variance\n"
     ]
    },
    {
     "name": "stdout",
     "output_type": "stream",
     "text": [
      "total condition no.: 280\n",
      "total device no.: 280\n",
      "maximum Y (PCE [%]):  17.65\n"
     ]
    },
    {
     "name": "stderr",
     "output_type": "stream",
     "text": [
      " C:\\Users\\Zhe\\AppData\\Roaming\\Python\\Python37\\site-packages\\emukit\\bayesian_optimization\\acquisitions\\log_acquisition.py:25: RuntimeWarning:invalid value encountered in log\n",
      "reconstraining parameters Mat52.lengthscale\n",
      "reconstraining parameters Mat52.variance\n"
     ]
    },
    {
     "name": "stdout",
     "output_type": "stream",
     "text": [
      "total condition no.: 300\n",
      "total device no.: 300\n",
      "maximum Y (PCE [%]):  17.65\n"
     ]
    },
    {
     "name": "stderr",
     "output_type": "stream",
     "text": [
      " C:\\Users\\Zhe\\AppData\\Roaming\\Python\\Python37\\site-packages\\emukit\\bayesian_optimization\\acquisitions\\log_acquisition.py:25: RuntimeWarning:invalid value encountered in log\n",
      "reconstraining parameters Mat52.lengthscale\n",
      "reconstraining parameters Mat52.variance\n"
     ]
    },
    {
     "name": "stdout",
     "output_type": "stream",
     "text": [
      "     Temperature [°C]  Speed [mm/s]  Spray Flow [uL/min]  Plamsa Height [cm]  \\\n",
      "316         145.88746    185.865696          3434.056422            1.072278   \n",
      "\n",
      "     Plasma Gas Flow [L/min]  Plasma DC [%]  Efficiency [%]  \n",
      "316                     15.0       29.50324       17.662137  \n"
     ]
    },
    {
     "name": "stderr",
     "output_type": "stream",
     "text": [
      "reconstraining parameters Mat52.lengthscale\n",
      "reconstraining parameters Mat52.variance\n"
     ]
    },
    {
     "name": "stdout",
     "output_type": "stream",
     "text": [
      "total condition no.: 20\n",
      "total device no.: 20\n",
      "maximum Y (PCE [%]):  12.71\n",
      "total condition no.: 40\n",
      "total device no.: 40\n",
      "maximum Y (PCE [%]):  14.34\n"
     ]
    },
    {
     "name": "stderr",
     "output_type": "stream",
     "text": [
      "reconstraining parameters Mat52.lengthscale\n",
      "reconstraining parameters Mat52.variance\n"
     ]
    },
    {
     "name": "stdout",
     "output_type": "stream",
     "text": [
      "total condition no.: 60\n",
      "total device no.: 60\n",
      "maximum Y (PCE [%]):  15.21\n"
     ]
    },
    {
     "name": "stderr",
     "output_type": "stream",
     "text": [
      "reconstraining parameters Mat52.lengthscale\n",
      "reconstraining parameters Mat52.variance\n"
     ]
    },
    {
     "name": "stdout",
     "output_type": "stream",
     "text": [
      "total condition no.: 80\n",
      "total device no.: 80\n",
      "maximum Y (PCE [%]):  15.34\n"
     ]
    },
    {
     "name": "stderr",
     "output_type": "stream",
     "text": [
      "reconstraining parameters Mat52.lengthscale\n",
      "reconstraining parameters Mat52.variance\n"
     ]
    },
    {
     "name": "stdout",
     "output_type": "stream",
     "text": [
      "total condition no.: 100\n",
      "total device no.: 100\n",
      "maximum Y (PCE [%]):  15.34\n"
     ]
    },
    {
     "name": "stderr",
     "output_type": "stream",
     "text": [
      "reconstraining parameters Mat52.lengthscale\n",
      "reconstraining parameters Mat52.variance\n"
     ]
    },
    {
     "name": "stdout",
     "output_type": "stream",
     "text": [
      "total condition no.: 120\n",
      "total device no.: 120\n",
      "maximum Y (PCE [%]):  15.36\n"
     ]
    },
    {
     "name": "stderr",
     "output_type": "stream",
     "text": [
      "reconstraining parameters Mat52.lengthscale\n",
      "reconstraining parameters Mat52.variance\n"
     ]
    },
    {
     "name": "stdout",
     "output_type": "stream",
     "text": [
      "total condition no.: 140\n",
      "total device no.: 140\n",
      "maximum Y (PCE [%]):  15.36\n"
     ]
    },
    {
     "name": "stderr",
     "output_type": "stream",
     "text": [
      "reconstraining parameters Mat52.lengthscale\n",
      "reconstraining parameters Mat52.variance\n"
     ]
    },
    {
     "name": "stdout",
     "output_type": "stream",
     "text": [
      "total condition no.: 160\n",
      "total device no.: 160\n",
      "maximum Y (PCE [%]):  15.36\n"
     ]
    },
    {
     "name": "stderr",
     "output_type": "stream",
     "text": [
      "reconstraining parameters Mat52.lengthscale\n",
      "reconstraining parameters Mat52.variance\n"
     ]
    },
    {
     "name": "stdout",
     "output_type": "stream",
     "text": [
      "total condition no.: 180\n",
      "total device no.: 180\n",
      "maximum Y (PCE [%]):  15.51\n"
     ]
    },
    {
     "name": "stderr",
     "output_type": "stream",
     "text": [
      "reconstraining parameters Mat52.lengthscale\n",
      "reconstraining parameters Mat52.variance\n"
     ]
    },
    {
     "name": "stdout",
     "output_type": "stream",
     "text": [
      "total condition no.: 200\n",
      "total device no.: 200\n",
      "maximum Y (PCE [%]):  16.3\n"
     ]
    },
    {
     "name": "stderr",
     "output_type": "stream",
     "text": [
      "reconstraining parameters Mat52.lengthscale\n",
      "reconstraining parameters Mat52.variance\n"
     ]
    },
    {
     "name": "stdout",
     "output_type": "stream",
     "text": [
      "total condition no.: 220\n",
      "total device no.: 220\n",
      "maximum Y (PCE [%]):  16.3\n"
     ]
    },
    {
     "name": "stderr",
     "output_type": "stream",
     "text": [
      "reconstraining parameters Mat52.lengthscale\n",
      "reconstraining parameters Mat52.variance\n"
     ]
    },
    {
     "name": "stdout",
     "output_type": "stream",
     "text": [
      "total condition no.: 240\n",
      "total device no.: 240\n",
      "maximum Y (PCE [%]):  16.3\n"
     ]
    },
    {
     "name": "stderr",
     "output_type": "stream",
     "text": [
      "reconstraining parameters Mat52.lengthscale\n",
      "reconstraining parameters Mat52.variance\n"
     ]
    },
    {
     "name": "stdout",
     "output_type": "stream",
     "text": [
      "total condition no.: 260\n",
      "total device no.: 260\n",
      "maximum Y (PCE [%]):  16.3\n"
     ]
    },
    {
     "name": "stderr",
     "output_type": "stream",
     "text": [
      "reconstraining parameters Mat52.lengthscale\n",
      "reconstraining parameters Mat52.variance\n"
     ]
    },
    {
     "name": "stdout",
     "output_type": "stream",
     "text": [
      "total condition no.: 280\n",
      "total device no.: 280\n",
      "maximum Y (PCE [%]):  16.3\n"
     ]
    },
    {
     "name": "stderr",
     "output_type": "stream",
     "text": [
      "reconstraining parameters Mat52.lengthscale\n",
      "reconstraining parameters Mat52.variance\n"
     ]
    },
    {
     "name": "stdout",
     "output_type": "stream",
     "text": [
      "total condition no.: 300\n",
      "total device no.: 300\n",
      "maximum Y (PCE [%]):  16.3\n"
     ]
    },
    {
     "name": "stderr",
     "output_type": "stream",
     "text": [
      "reconstraining parameters Mat52.lengthscale\n",
      "reconstraining parameters Mat52.variance\n"
     ]
    },
    {
     "name": "stdout",
     "output_type": "stream",
     "text": [
      "     Temperature [°C]  Speed [mm/s]  Spray Flow [uL/min]  Plamsa Height [cm]  \\\n",
      "181        138.676435    183.156174          3989.185847            1.097768   \n",
      "\n",
      "     Plasma Gas Flow [L/min]  Plasma DC [%]  Efficiency [%]  \n",
      "181                16.184123      57.770968        16.30067  \n"
     ]
    },
    {
     "name": "stderr",
     "output_type": "stream",
     "text": [
      "reconstraining parameters Mat52.lengthscale\n",
      "reconstraining parameters Mat52.variance\n"
     ]
    },
    {
     "name": "stdout",
     "output_type": "stream",
     "text": [
      "total condition no.: 20\n",
      "total device no.: 20\n",
      "maximum Y (PCE [%]):  14.67\n",
      "total condition no.: 40\n",
      "total device no.: 40\n",
      "maximum Y (PCE [%]):  16.3\n"
     ]
    },
    {
     "name": "stderr",
     "output_type": "stream",
     "text": [
      "reconstraining parameters Mat52.lengthscale\n",
      "reconstraining parameters Mat52.variance\n"
     ]
    },
    {
     "name": "stdout",
     "output_type": "stream",
     "text": [
      "total condition no.: 60\n",
      "total device no.: 60\n",
      "maximum Y (PCE [%]):  16.3\n"
     ]
    },
    {
     "name": "stderr",
     "output_type": "stream",
     "text": [
      "reconstraining parameters Mat52.lengthscale\n",
      "reconstraining parameters Mat52.variance\n"
     ]
    },
    {
     "name": "stdout",
     "output_type": "stream",
     "text": [
      "total condition no.: 80\n",
      "total device no.: 80\n",
      "maximum Y (PCE [%]):  16.65\n"
     ]
    },
    {
     "name": "stderr",
     "output_type": "stream",
     "text": [
      "reconstraining parameters Mat52.lengthscale\n",
      "reconstraining parameters Mat52.variance\n"
     ]
    },
    {
     "name": "stdout",
     "output_type": "stream",
     "text": [
      "total condition no.: 100\n",
      "total device no.: 100\n",
      "maximum Y (PCE [%]):  16.65\n"
     ]
    },
    {
     "name": "stderr",
     "output_type": "stream",
     "text": [
      " C:\\Users\\Zhe\\AppData\\Roaming\\Python\\Python37\\site-packages\\emukit\\bayesian_optimization\\acquisitions\\log_acquisition.py:25: RuntimeWarning:invalid value encountered in log\n",
      "reconstraining parameters Mat52.lengthscale\n",
      "reconstraining parameters Mat52.variance\n"
     ]
    },
    {
     "name": "stdout",
     "output_type": "stream",
     "text": [
      "total condition no.: 120\n",
      "total device no.: 120\n",
      "maximum Y (PCE [%]):  16.65\n"
     ]
    },
    {
     "name": "stderr",
     "output_type": "stream",
     "text": [
      "reconstraining parameters Mat52.lengthscale\n",
      "reconstraining parameters Mat52.variance\n"
     ]
    },
    {
     "name": "stdout",
     "output_type": "stream",
     "text": [
      "total condition no.: 140\n",
      "total device no.: 140\n",
      "maximum Y (PCE [%]):  16.65\n"
     ]
    },
    {
     "name": "stderr",
     "output_type": "stream",
     "text": [
      "reconstraining parameters Mat52.lengthscale\n",
      "reconstraining parameters Mat52.variance\n"
     ]
    },
    {
     "name": "stdout",
     "output_type": "stream",
     "text": [
      "total condition no.: 160\n",
      "total device no.: 160\n",
      "maximum Y (PCE [%]):  16.65\n"
     ]
    },
    {
     "name": "stderr",
     "output_type": "stream",
     "text": [
      "reconstraining parameters Mat52.lengthscale\n",
      "reconstraining parameters Mat52.variance\n"
     ]
    },
    {
     "name": "stdout",
     "output_type": "stream",
     "text": [
      "total condition no.: 180\n",
      "total device no.: 180\n",
      "maximum Y (PCE [%]):  16.65\n"
     ]
    },
    {
     "name": "stderr",
     "output_type": "stream",
     "text": [
      "reconstraining parameters Mat52.lengthscale\n",
      "reconstraining parameters Mat52.variance\n"
     ]
    },
    {
     "name": "stdout",
     "output_type": "stream",
     "text": [
      "total condition no.: 200\n",
      "total device no.: 200\n",
      "maximum Y (PCE [%]):  16.65\n"
     ]
    },
    {
     "name": "stderr",
     "output_type": "stream",
     "text": [
      "reconstraining parameters Mat52.lengthscale\n",
      "reconstraining parameters Mat52.variance\n"
     ]
    },
    {
     "name": "stdout",
     "output_type": "stream",
     "text": [
      "total condition no.: 220\n",
      "total device no.: 220\n",
      "maximum Y (PCE [%]):  16.65\n"
     ]
    },
    {
     "name": "stderr",
     "output_type": "stream",
     "text": [
      "reconstraining parameters Mat52.lengthscale\n",
      "reconstraining parameters Mat52.variance\n"
     ]
    },
    {
     "name": "stdout",
     "output_type": "stream",
     "text": [
      "total condition no.: 240\n",
      "total device no.: 240\n",
      "maximum Y (PCE [%]):  16.65\n"
     ]
    },
    {
     "name": "stderr",
     "output_type": "stream",
     "text": [
      "reconstraining parameters Mat52.lengthscale\n",
      "reconstraining parameters Mat52.variance\n"
     ]
    },
    {
     "name": "stdout",
     "output_type": "stream",
     "text": [
      "total condition no.: 260\n",
      "total device no.: 260\n",
      "maximum Y (PCE [%]):  16.65\n"
     ]
    },
    {
     "name": "stderr",
     "output_type": "stream",
     "text": [
      "reconstraining parameters Mat52.lengthscale\n",
      "reconstraining parameters Mat52.variance\n"
     ]
    },
    {
     "name": "stdout",
     "output_type": "stream",
     "text": [
      "total condition no.: 280\n",
      "total device no.: 280\n",
      "maximum Y (PCE [%]):  17.0\n"
     ]
    },
    {
     "name": "stderr",
     "output_type": "stream",
     "text": [
      "reconstraining parameters Mat52.lengthscale\n",
      "reconstraining parameters Mat52.variance\n"
     ]
    },
    {
     "name": "stdout",
     "output_type": "stream",
     "text": [
      "total condition no.: 300\n",
      "total device no.: 300\n",
      "maximum Y (PCE [%]):  17.26\n"
     ]
    },
    {
     "name": "stderr",
     "output_type": "stream",
     "text": [
      "reconstraining parameters Mat52.lengthscale\n",
      "reconstraining parameters Mat52.variance\n"
     ]
    },
    {
     "name": "stdout",
     "output_type": "stream",
     "text": [
      "     Temperature [°C]  Speed [mm/s]  Spray Flow [uL/min]  Plamsa Height [cm]  \\\n",
      "315          144.3817    142.755798          3427.970649                 1.2   \n",
      "\n",
      "     Plasma Gas Flow [L/min]  Plasma DC [%]  Efficiency [%]  \n",
      "315                     15.0      26.970112       17.432169  \n"
     ]
    },
    {
     "name": "stderr",
     "output_type": "stream",
     "text": [
      "reconstraining parameters Mat52.lengthscale\n",
      "reconstraining parameters Mat52.variance\n"
     ]
    },
    {
     "name": "stdout",
     "output_type": "stream",
     "text": [
      "total condition no.: 20\n",
      "total device no.: 20\n",
      "maximum Y (PCE [%]):  15.92\n",
      "total condition no.: 40\n",
      "total device no.: 40\n",
      "maximum Y (PCE [%]):  15.92\n"
     ]
    },
    {
     "name": "stderr",
     "output_type": "stream",
     "text": [
      "reconstraining parameters Mat52.lengthscale\n",
      "reconstraining parameters Mat52.variance\n"
     ]
    },
    {
     "name": "stdout",
     "output_type": "stream",
     "text": [
      "total condition no.: 60\n",
      "total device no.: 60\n",
      "maximum Y (PCE [%]):  16.77\n"
     ]
    },
    {
     "name": "stderr",
     "output_type": "stream",
     "text": [
      "reconstraining parameters Mat52.lengthscale\n",
      "reconstraining parameters Mat52.variance\n"
     ]
    },
    {
     "name": "stdout",
     "output_type": "stream",
     "text": [
      "total condition no.: 80\n",
      "total device no.: 80\n",
      "maximum Y (PCE [%]):  16.77\n"
     ]
    },
    {
     "name": "stderr",
     "output_type": "stream",
     "text": [
      "reconstraining parameters Mat52.lengthscale\n",
      "reconstraining parameters Mat52.variance\n"
     ]
    },
    {
     "name": "stdout",
     "output_type": "stream",
     "text": [
      "total condition no.: 100\n",
      "total device no.: 100\n",
      "maximum Y (PCE [%]):  16.78\n"
     ]
    },
    {
     "name": "stderr",
     "output_type": "stream",
     "text": [
      "reconstraining parameters Mat52.lengthscale\n",
      "reconstraining parameters Mat52.variance\n"
     ]
    },
    {
     "name": "stdout",
     "output_type": "stream",
     "text": [
      "total condition no.: 120\n",
      "total device no.: 120\n",
      "maximum Y (PCE [%]):  16.78\n"
     ]
    },
    {
     "name": "stderr",
     "output_type": "stream",
     "text": [
      "reconstraining parameters Mat52.lengthscale\n",
      "reconstraining parameters Mat52.variance\n"
     ]
    },
    {
     "name": "stdout",
     "output_type": "stream",
     "text": [
      "total condition no.: 140\n",
      "total device no.: 140\n",
      "maximum Y (PCE [%]):  16.78\n"
     ]
    },
    {
     "name": "stderr",
     "output_type": "stream",
     "text": [
      "reconstraining parameters Mat52.lengthscale\n",
      "reconstraining parameters Mat52.variance\n"
     ]
    },
    {
     "name": "stdout",
     "output_type": "stream",
     "text": [
      "total condition no.: 160\n",
      "total device no.: 160\n",
      "maximum Y (PCE [%]):  16.84\n"
     ]
    },
    {
     "name": "stderr",
     "output_type": "stream",
     "text": [
      "reconstraining parameters Mat52.lengthscale\n",
      "reconstraining parameters Mat52.variance\n"
     ]
    },
    {
     "name": "stdout",
     "output_type": "stream",
     "text": [
      "total condition no.: 180\n",
      "total device no.: 180\n",
      "maximum Y (PCE [%]):  16.86\n"
     ]
    },
    {
     "name": "stderr",
     "output_type": "stream",
     "text": [
      "reconstraining parameters Mat52.lengthscale\n",
      "reconstraining parameters Mat52.variance\n"
     ]
    },
    {
     "name": "stdout",
     "output_type": "stream",
     "text": [
      "total condition no.: 200\n",
      "total device no.: 200\n",
      "maximum Y (PCE [%]):  16.86\n"
     ]
    },
    {
     "name": "stderr",
     "output_type": "stream",
     "text": [
      "reconstraining parameters Mat52.lengthscale\n",
      "reconstraining parameters Mat52.variance\n"
     ]
    },
    {
     "name": "stdout",
     "output_type": "stream",
     "text": [
      "total condition no.: 220\n",
      "total device no.: 220\n",
      "maximum Y (PCE [%]):  16.86\n"
     ]
    },
    {
     "name": "stderr",
     "output_type": "stream",
     "text": [
      "reconstraining parameters Mat52.lengthscale\n",
      "reconstraining parameters Mat52.variance\n"
     ]
    },
    {
     "name": "stdout",
     "output_type": "stream",
     "text": [
      "total condition no.: 240\n",
      "total device no.: 240\n",
      "maximum Y (PCE [%]):  16.89\n"
     ]
    },
    {
     "name": "stderr",
     "output_type": "stream",
     "text": [
      "reconstraining parameters Mat52.lengthscale\n",
      "reconstraining parameters Mat52.variance\n"
     ]
    },
    {
     "name": "stdout",
     "output_type": "stream",
     "text": [
      "total condition no.: 260\n",
      "total device no.: 260\n",
      "maximum Y (PCE [%]):  16.89\n"
     ]
    },
    {
     "name": "stderr",
     "output_type": "stream",
     "text": [
      "reconstraining parameters Mat52.lengthscale\n",
      "reconstraining parameters Mat52.variance\n"
     ]
    },
    {
     "name": "stdout",
     "output_type": "stream",
     "text": [
      "total condition no.: 280\n",
      "total device no.: 280\n",
      "maximum Y (PCE [%]):  17.12\n"
     ]
    },
    {
     "name": "stderr",
     "output_type": "stream",
     "text": [
      "reconstraining parameters Mat52.lengthscale\n",
      "reconstraining parameters Mat52.variance\n"
     ]
    },
    {
     "name": "stdout",
     "output_type": "stream",
     "text": [
      "total condition no.: 300\n",
      "total device no.: 300\n",
      "maximum Y (PCE [%]):  17.26\n"
     ]
    },
    {
     "name": "stderr",
     "output_type": "stream",
     "text": [
      "reconstraining parameters Mat52.lengthscale\n",
      "reconstraining parameters Mat52.variance\n"
     ]
    },
    {
     "name": "stdout",
     "output_type": "stream",
     "text": [
      "     Temperature [°C]  Speed [mm/s]  Spray Flow [uL/min]  Plamsa Height [cm]  \\\n",
      "301        146.470932    175.991436           3995.93601            1.181807   \n",
      "\n",
      "     Plasma Gas Flow [L/min]  Plasma DC [%]  Efficiency [%]  \n",
      "301                15.155232      29.504958       17.283525  \n"
     ]
    },
    {
     "name": "stderr",
     "output_type": "stream",
     "text": [
      "reconstraining parameters Mat52.lengthscale\n",
      "reconstraining parameters Mat52.variance\n"
     ]
    },
    {
     "name": "stdout",
     "output_type": "stream",
     "text": [
      "total condition no.: 20\n",
      "total device no.: 20\n",
      "maximum Y (PCE [%]):  12.79\n",
      "total condition no.: 40\n",
      "total device no.: 40\n",
      "maximum Y (PCE [%]):  15.57\n"
     ]
    },
    {
     "name": "stderr",
     "output_type": "stream",
     "text": [
      "reconstraining parameters Mat52.lengthscale\n",
      "reconstraining parameters Mat52.variance\n"
     ]
    },
    {
     "name": "stdout",
     "output_type": "stream",
     "text": [
      "total condition no.: 60\n",
      "total device no.: 60\n",
      "maximum Y (PCE [%]):  16.05\n"
     ]
    },
    {
     "name": "stderr",
     "output_type": "stream",
     "text": [
      "reconstraining parameters Mat52.lengthscale\n",
      "reconstraining parameters Mat52.variance\n"
     ]
    },
    {
     "name": "stdout",
     "output_type": "stream",
     "text": [
      "total condition no.: 80\n",
      "total device no.: 80\n",
      "maximum Y (PCE [%]):  16.06\n"
     ]
    },
    {
     "name": "stderr",
     "output_type": "stream",
     "text": [
      "reconstraining parameters Mat52.lengthscale\n",
      "reconstraining parameters Mat52.variance\n"
     ]
    },
    {
     "name": "stdout",
     "output_type": "stream",
     "text": [
      "total condition no.: 100\n",
      "total device no.: 100\n",
      "maximum Y (PCE [%]):  16.19\n"
     ]
    },
    {
     "name": "stderr",
     "output_type": "stream",
     "text": [
      "reconstraining parameters Mat52.lengthscale\n",
      "reconstraining parameters Mat52.variance\n"
     ]
    },
    {
     "name": "stdout",
     "output_type": "stream",
     "text": [
      "total condition no.: 120\n",
      "total device no.: 120\n",
      "maximum Y (PCE [%]):  16.19\n"
     ]
    },
    {
     "name": "stderr",
     "output_type": "stream",
     "text": [
      "reconstraining parameters Mat52.lengthscale\n",
      "reconstraining parameters Mat52.variance\n"
     ]
    },
    {
     "name": "stdout",
     "output_type": "stream",
     "text": [
      "total condition no.: 140\n",
      "total device no.: 140\n",
      "maximum Y (PCE [%]):  16.63\n"
     ]
    },
    {
     "name": "stderr",
     "output_type": "stream",
     "text": [
      "reconstraining parameters Mat52.lengthscale\n",
      "reconstraining parameters Mat52.variance\n"
     ]
    },
    {
     "name": "stdout",
     "output_type": "stream",
     "text": [
      "total condition no.: 160\n",
      "total device no.: 160\n",
      "maximum Y (PCE [%]):  16.8\n"
     ]
    },
    {
     "name": "stderr",
     "output_type": "stream",
     "text": [
      "reconstraining parameters Mat52.lengthscale\n",
      "reconstraining parameters Mat52.variance\n"
     ]
    },
    {
     "name": "stdout",
     "output_type": "stream",
     "text": [
      "total condition no.: 180\n",
      "total device no.: 180\n",
      "maximum Y (PCE [%]):  17.12\n"
     ]
    },
    {
     "name": "stderr",
     "output_type": "stream",
     "text": [
      "reconstraining parameters Mat52.lengthscale\n",
      "reconstraining parameters Mat52.variance\n"
     ]
    },
    {
     "name": "stdout",
     "output_type": "stream",
     "text": [
      "total condition no.: 200\n",
      "total device no.: 200\n",
      "maximum Y (PCE [%]):  17.12\n"
     ]
    },
    {
     "name": "stderr",
     "output_type": "stream",
     "text": [
      "reconstraining parameters Mat52.lengthscale\n",
      "reconstraining parameters Mat52.variance\n"
     ]
    },
    {
     "name": "stdout",
     "output_type": "stream",
     "text": [
      "total condition no.: 220\n",
      "total device no.: 220\n",
      "maximum Y (PCE [%]):  17.16\n"
     ]
    },
    {
     "name": "stderr",
     "output_type": "stream",
     "text": [
      "reconstraining parameters Mat52.lengthscale\n",
      "reconstraining parameters Mat52.variance\n"
     ]
    },
    {
     "name": "stdout",
     "output_type": "stream",
     "text": [
      "total condition no.: 240\n",
      "total device no.: 240\n",
      "maximum Y (PCE [%]):  17.16\n"
     ]
    },
    {
     "name": "stderr",
     "output_type": "stream",
     "text": [
      "reconstraining parameters Mat52.lengthscale\n",
      "reconstraining parameters Mat52.variance\n"
     ]
    },
    {
     "name": "stdout",
     "output_type": "stream",
     "text": [
      "total condition no.: 260\n",
      "total device no.: 260\n",
      "maximum Y (PCE [%]):  17.16\n"
     ]
    },
    {
     "name": "stderr",
     "output_type": "stream",
     "text": [
      "reconstraining parameters Mat52.lengthscale\n",
      "reconstraining parameters Mat52.variance\n"
     ]
    },
    {
     "name": "stdout",
     "output_type": "stream",
     "text": [
      "total condition no.: 280\n",
      "total device no.: 280\n",
      "maximum Y (PCE [%]):  17.64\n"
     ]
    },
    {
     "name": "stderr",
     "output_type": "stream",
     "text": [
      "reconstraining parameters Mat52.lengthscale\n",
      "reconstraining parameters Mat52.variance\n"
     ]
    },
    {
     "name": "stdout",
     "output_type": "stream",
     "text": [
      "total condition no.: 300\n",
      "total device no.: 300\n",
      "maximum Y (PCE [%]):  17.64\n"
     ]
    },
    {
     "name": "stderr",
     "output_type": "stream",
     "text": [
      "reconstraining parameters Mat52.lengthscale\n",
      "reconstraining parameters Mat52.variance\n"
     ]
    },
    {
     "name": "stdout",
     "output_type": "stream",
     "text": [
      "     Temperature [°C]  Speed [mm/s]  Spray Flow [uL/min]  Plamsa Height [cm]  \\\n",
      "276        143.369976    175.000801           3356.50431            1.082776   \n",
      "\n",
      "     Plasma Gas Flow [L/min]  Plasma DC [%]  Efficiency [%]  \n",
      "276                 16.16252      29.592622       17.638241  \n"
     ]
    },
    {
     "name": "stderr",
     "output_type": "stream",
     "text": [
      "reconstraining parameters Mat52.lengthscale\n",
      "reconstraining parameters Mat52.variance\n"
     ]
    },
    {
     "name": "stdout",
     "output_type": "stream",
     "text": [
      "total condition no.: 20\n",
      "total device no.: 20\n",
      "maximum Y (PCE [%]):  15.84\n",
      "total condition no.: 40\n",
      "total device no.: 40\n",
      "maximum Y (PCE [%]):  15.84\n"
     ]
    },
    {
     "name": "stderr",
     "output_type": "stream",
     "text": [
      "reconstraining parameters Mat52.lengthscale\n",
      "reconstraining parameters Mat52.variance\n"
     ]
    },
    {
     "name": "stdout",
     "output_type": "stream",
     "text": [
      "total condition no.: 60\n",
      "total device no.: 60\n",
      "maximum Y (PCE [%]):  15.87\n"
     ]
    },
    {
     "name": "stderr",
     "output_type": "stream",
     "text": [
      "reconstraining parameters Mat52.lengthscale\n",
      "reconstraining parameters Mat52.variance\n"
     ]
    },
    {
     "name": "stdout",
     "output_type": "stream",
     "text": [
      "total condition no.: 80\n",
      "total device no.: 80\n",
      "maximum Y (PCE [%]):  16.51\n"
     ]
    },
    {
     "name": "stderr",
     "output_type": "stream",
     "text": [
      "reconstraining parameters Mat52.lengthscale\n",
      "reconstraining parameters Mat52.variance\n"
     ]
    },
    {
     "name": "stdout",
     "output_type": "stream",
     "text": [
      "total condition no.: 100\n",
      "total device no.: 100\n",
      "maximum Y (PCE [%]):  16.73\n"
     ]
    },
    {
     "name": "stderr",
     "output_type": "stream",
     "text": [
      "reconstraining parameters Mat52.lengthscale\n",
      "reconstraining parameters Mat52.variance\n"
     ]
    },
    {
     "name": "stdout",
     "output_type": "stream",
     "text": [
      "total condition no.: 120\n",
      "total device no.: 120\n",
      "maximum Y (PCE [%]):  16.79\n"
     ]
    },
    {
     "name": "stderr",
     "output_type": "stream",
     "text": [
      "reconstraining parameters Mat52.lengthscale\n",
      "reconstraining parameters Mat52.variance\n"
     ]
    },
    {
     "name": "stdout",
     "output_type": "stream",
     "text": [
      "total condition no.: 140\n",
      "total device no.: 140\n",
      "maximum Y (PCE [%]):  17.21\n"
     ]
    },
    {
     "name": "stderr",
     "output_type": "stream",
     "text": [
      "reconstraining parameters Mat52.lengthscale\n",
      "reconstraining parameters Mat52.variance\n"
     ]
    },
    {
     "name": "stdout",
     "output_type": "stream",
     "text": [
      "total condition no.: 160\n",
      "total device no.: 160\n",
      "maximum Y (PCE [%]):  17.21\n"
     ]
    },
    {
     "name": "stderr",
     "output_type": "stream",
     "text": [
      "reconstraining parameters Mat52.lengthscale\n",
      "reconstraining parameters Mat52.variance\n"
     ]
    },
    {
     "name": "stdout",
     "output_type": "stream",
     "text": [
      "total condition no.: 180\n",
      "total device no.: 180\n",
      "maximum Y (PCE [%]):  17.21\n"
     ]
    },
    {
     "name": "stderr",
     "output_type": "stream",
     "text": [
      "reconstraining parameters Mat52.lengthscale\n",
      "reconstraining parameters Mat52.variance\n"
     ]
    },
    {
     "name": "stdout",
     "output_type": "stream",
     "text": [
      "total condition no.: 200\n",
      "total device no.: 200\n",
      "maximum Y (PCE [%]):  17.33\n"
     ]
    },
    {
     "name": "stderr",
     "output_type": "stream",
     "text": [
      "reconstraining parameters Mat52.lengthscale\n",
      "reconstraining parameters Mat52.variance\n"
     ]
    },
    {
     "name": "stdout",
     "output_type": "stream",
     "text": [
      "total condition no.: 220\n",
      "total device no.: 220\n",
      "maximum Y (PCE [%]):  17.33\n"
     ]
    },
    {
     "name": "stderr",
     "output_type": "stream",
     "text": [
      "reconstraining parameters Mat52.lengthscale\n",
      "reconstraining parameters Mat52.variance\n"
     ]
    },
    {
     "name": "stdout",
     "output_type": "stream",
     "text": [
      "total condition no.: 240\n",
      "total device no.: 240\n",
      "maximum Y (PCE [%]):  17.33\n"
     ]
    },
    {
     "name": "stderr",
     "output_type": "stream",
     "text": [
      "reconstraining parameters Mat52.lengthscale\n",
      "reconstraining parameters Mat52.variance\n"
     ]
    },
    {
     "name": "stdout",
     "output_type": "stream",
     "text": [
      "total condition no.: 260\n",
      "total device no.: 260\n",
      "maximum Y (PCE [%]):  17.47\n"
     ]
    },
    {
     "name": "stderr",
     "output_type": "stream",
     "text": [
      "reconstraining parameters Mat52.lengthscale\n",
      "reconstraining parameters Mat52.variance\n"
     ]
    },
    {
     "name": "stdout",
     "output_type": "stream",
     "text": [
      "total condition no.: 280\n",
      "total device no.: 280\n",
      "maximum Y (PCE [%]):  17.47\n"
     ]
    },
    {
     "name": "stderr",
     "output_type": "stream",
     "text": [
      "reconstraining parameters Mat52.lengthscale\n",
      "reconstraining parameters Mat52.variance\n"
     ]
    },
    {
     "name": "stdout",
     "output_type": "stream",
     "text": [
      "total condition no.: 300\n",
      "total device no.: 300\n",
      "maximum Y (PCE [%]):  17.47\n"
     ]
    },
    {
     "name": "stderr",
     "output_type": "stream",
     "text": [
      "reconstraining parameters Mat52.lengthscale\n",
      "reconstraining parameters Mat52.variance\n"
     ]
    },
    {
     "name": "stdout",
     "output_type": "stream",
     "text": [
      "     Temperature [°C]  Speed [mm/s]  Spray Flow [uL/min]  Plamsa Height [cm]  \\\n",
      "310        145.248815    142.515672          3341.475148                 1.2   \n",
      "\n",
      "     Plasma Gas Flow [L/min]  Plasma DC [%]  Efficiency [%]  \n",
      "310                     15.0      29.953139       17.477868  \n"
     ]
    },
    {
     "name": "stderr",
     "output_type": "stream",
     "text": [
      "reconstraining parameters Mat52.lengthscale\n",
      "reconstraining parameters Mat52.variance\n"
     ]
    },
    {
     "name": "stdout",
     "output_type": "stream",
     "text": [
      "total condition no.: 20\n",
      "total device no.: 20\n",
      "maximum Y (PCE [%]):  14.11\n",
      "total condition no.: 40\n",
      "total device no.: 40\n",
      "maximum Y (PCE [%]):  15.58\n"
     ]
    },
    {
     "name": "stderr",
     "output_type": "stream",
     "text": [
      "reconstraining parameters Mat52.lengthscale\n",
      "reconstraining parameters Mat52.variance\n"
     ]
    },
    {
     "name": "stdout",
     "output_type": "stream",
     "text": [
      "total condition no.: 60\n",
      "total device no.: 60\n",
      "maximum Y (PCE [%]):  15.58\n"
     ]
    },
    {
     "name": "stderr",
     "output_type": "stream",
     "text": [
      "reconstraining parameters Mat52.lengthscale\n",
      "reconstraining parameters Mat52.variance\n"
     ]
    },
    {
     "name": "stdout",
     "output_type": "stream",
     "text": [
      "total condition no.: 80\n",
      "total device no.: 80\n",
      "maximum Y (PCE [%]):  15.58\n"
     ]
    },
    {
     "name": "stderr",
     "output_type": "stream",
     "text": [
      "reconstraining parameters Mat52.lengthscale\n",
      "reconstraining parameters Mat52.variance\n"
     ]
    },
    {
     "name": "stdout",
     "output_type": "stream",
     "text": [
      "total condition no.: 100\n",
      "total device no.: 100\n",
      "maximum Y (PCE [%]):  15.58\n"
     ]
    },
    {
     "name": "stderr",
     "output_type": "stream",
     "text": [
      "reconstraining parameters Mat52.lengthscale\n",
      "reconstraining parameters Mat52.variance\n"
     ]
    },
    {
     "name": "stdout",
     "output_type": "stream",
     "text": [
      "total condition no.: 120\n",
      "total device no.: 120\n",
      "maximum Y (PCE [%]):  15.58\n"
     ]
    },
    {
     "name": "stderr",
     "output_type": "stream",
     "text": [
      "reconstraining parameters Mat52.lengthscale\n",
      "reconstraining parameters Mat52.variance\n"
     ]
    },
    {
     "name": "stdout",
     "output_type": "stream",
     "text": [
      "total condition no.: 140\n",
      "total device no.: 140\n",
      "maximum Y (PCE [%]):  15.58\n"
     ]
    },
    {
     "name": "stderr",
     "output_type": "stream",
     "text": [
      "reconstraining parameters Mat52.lengthscale\n",
      "reconstraining parameters Mat52.variance\n"
     ]
    },
    {
     "name": "stdout",
     "output_type": "stream",
     "text": [
      "total condition no.: 160\n",
      "total device no.: 160\n",
      "maximum Y (PCE [%]):  16.1\n"
     ]
    },
    {
     "name": "stderr",
     "output_type": "stream",
     "text": [
      "reconstraining parameters Mat52.lengthscale\n",
      "reconstraining parameters Mat52.variance\n"
     ]
    },
    {
     "name": "stdout",
     "output_type": "stream",
     "text": [
      "total condition no.: 180\n",
      "total device no.: 180\n",
      "maximum Y (PCE [%]):  16.1\n"
     ]
    },
    {
     "name": "stderr",
     "output_type": "stream",
     "text": [
      "reconstraining parameters Mat52.lengthscale\n",
      "reconstraining parameters Mat52.variance\n"
     ]
    },
    {
     "name": "stdout",
     "output_type": "stream",
     "text": [
      "total condition no.: 200\n",
      "total device no.: 200\n",
      "maximum Y (PCE [%]):  16.14\n"
     ]
    },
    {
     "name": "stderr",
     "output_type": "stream",
     "text": [
      "reconstraining parameters Mat52.lengthscale\n",
      "reconstraining parameters Mat52.variance\n"
     ]
    },
    {
     "name": "stdout",
     "output_type": "stream",
     "text": [
      "total condition no.: 220\n",
      "total device no.: 220\n",
      "maximum Y (PCE [%]):  16.14\n"
     ]
    },
    {
     "name": "stderr",
     "output_type": "stream",
     "text": [
      "reconstraining parameters Mat52.lengthscale\n",
      "reconstraining parameters Mat52.variance\n"
     ]
    },
    {
     "name": "stdout",
     "output_type": "stream",
     "text": [
      "total condition no.: 240\n",
      "total device no.: 240\n",
      "maximum Y (PCE [%]):  16.14\n"
     ]
    },
    {
     "name": "stderr",
     "output_type": "stream",
     "text": [
      "reconstraining parameters Mat52.lengthscale\n",
      "reconstraining parameters Mat52.variance\n"
     ]
    },
    {
     "name": "stdout",
     "output_type": "stream",
     "text": [
      "total condition no.: 260\n",
      "total device no.: 260\n",
      "maximum Y (PCE [%]):  16.25\n"
     ]
    },
    {
     "name": "stderr",
     "output_type": "stream",
     "text": [
      "reconstraining parameters Mat52.lengthscale\n",
      "reconstraining parameters Mat52.variance\n"
     ]
    },
    {
     "name": "stdout",
     "output_type": "stream",
     "text": [
      "total condition no.: 280\n",
      "total device no.: 280\n",
      "maximum Y (PCE [%]):  16.35\n"
     ]
    },
    {
     "name": "stderr",
     "output_type": "stream",
     "text": [
      "reconstraining parameters Mat52.lengthscale\n",
      "reconstraining parameters Mat52.variance\n"
     ]
    },
    {
     "name": "stdout",
     "output_type": "stream",
     "text": [
      "total condition no.: 300\n",
      "total device no.: 300\n",
      "maximum Y (PCE [%]):  16.55\n"
     ]
    },
    {
     "name": "stderr",
     "output_type": "stream",
     "text": [
      "reconstraining parameters Mat52.lengthscale\n",
      "reconstraining parameters Mat52.variance\n"
     ]
    },
    {
     "name": "stdout",
     "output_type": "stream",
     "text": [
      "     Temperature [°C]  Speed [mm/s]  Spray Flow [uL/min]  Plamsa Height [cm]  \\\n",
      "287        137.567176    134.955198          3014.693207            1.197351   \n",
      "\n",
      "     Plasma Gas Flow [L/min]  Plasma DC [%]  Efficiency [%]  \n",
      "287                     15.0       26.00984       16.545269  \n"
     ]
    },
    {
     "name": "stderr",
     "output_type": "stream",
     "text": [
      "reconstraining parameters Mat52.lengthscale\n",
      "reconstraining parameters Mat52.variance\n"
     ]
    },
    {
     "name": "stdout",
     "output_type": "stream",
     "text": [
      "total condition no.: 20\n",
      "total device no.: 20\n",
      "maximum Y (PCE [%]):  14.5\n",
      "total condition no.: 40\n",
      "total device no.: 40\n",
      "maximum Y (PCE [%]):  15.29\n"
     ]
    },
    {
     "name": "stderr",
     "output_type": "stream",
     "text": [
      "reconstraining parameters Mat52.lengthscale\n",
      "reconstraining parameters Mat52.variance\n"
     ]
    },
    {
     "name": "stdout",
     "output_type": "stream",
     "text": [
      "total condition no.: 60\n",
      "total device no.: 60\n",
      "maximum Y (PCE [%]):  15.81\n"
     ]
    },
    {
     "name": "stderr",
     "output_type": "stream",
     "text": [
      "reconstraining parameters Mat52.lengthscale\n",
      "reconstraining parameters Mat52.variance\n"
     ]
    },
    {
     "name": "stdout",
     "output_type": "stream",
     "text": [
      "total condition no.: 80\n",
      "total device no.: 80\n",
      "maximum Y (PCE [%]):  15.82\n"
     ]
    },
    {
     "name": "stderr",
     "output_type": "stream",
     "text": [
      "reconstraining parameters Mat52.lengthscale\n",
      "reconstraining parameters Mat52.variance\n"
     ]
    },
    {
     "name": "stdout",
     "output_type": "stream",
     "text": [
      "total condition no.: 100\n",
      "total device no.: 100\n",
      "maximum Y (PCE [%]):  15.82\n"
     ]
    },
    {
     "name": "stderr",
     "output_type": "stream",
     "text": [
      "reconstraining parameters Mat52.lengthscale\n",
      "reconstraining parameters Mat52.variance\n"
     ]
    },
    {
     "name": "stdout",
     "output_type": "stream",
     "text": [
      "total condition no.: 120\n",
      "total device no.: 120\n",
      "maximum Y (PCE [%]):  15.85\n"
     ]
    },
    {
     "name": "stderr",
     "output_type": "stream",
     "text": [
      "reconstraining parameters Mat52.lengthscale\n",
      "reconstraining parameters Mat52.variance\n"
     ]
    },
    {
     "name": "stdout",
     "output_type": "stream",
     "text": [
      "total condition no.: 140\n",
      "total device no.: 140\n",
      "maximum Y (PCE [%]):  16.63\n"
     ]
    },
    {
     "name": "stderr",
     "output_type": "stream",
     "text": [
      "reconstraining parameters Mat52.lengthscale\n",
      "reconstraining parameters Mat52.variance\n"
     ]
    },
    {
     "name": "stdout",
     "output_type": "stream",
     "text": [
      "total condition no.: 160\n",
      "total device no.: 160\n",
      "maximum Y (PCE [%]):  16.63\n"
     ]
    },
    {
     "name": "stderr",
     "output_type": "stream",
     "text": [
      "reconstraining parameters Mat52.lengthscale\n",
      "reconstraining parameters Mat52.variance\n"
     ]
    },
    {
     "name": "stdout",
     "output_type": "stream",
     "text": [
      "total condition no.: 180\n",
      "total device no.: 180\n",
      "maximum Y (PCE [%]):  16.65\n"
     ]
    },
    {
     "name": "stderr",
     "output_type": "stream",
     "text": [
      "reconstraining parameters Mat52.lengthscale\n",
      "reconstraining parameters Mat52.variance\n"
     ]
    },
    {
     "name": "stdout",
     "output_type": "stream",
     "text": [
      "total condition no.: 200\n",
      "total device no.: 200\n",
      "maximum Y (PCE [%]):  16.67\n"
     ]
    },
    {
     "name": "stderr",
     "output_type": "stream",
     "text": [
      "reconstraining parameters Mat52.lengthscale\n",
      "reconstraining parameters Mat52.variance\n"
     ]
    },
    {
     "name": "stdout",
     "output_type": "stream",
     "text": [
      "total condition no.: 220\n",
      "total device no.: 220\n",
      "maximum Y (PCE [%]):  16.69\n"
     ]
    },
    {
     "name": "stderr",
     "output_type": "stream",
     "text": [
      "reconstraining parameters Mat52.lengthscale\n",
      "reconstraining parameters Mat52.variance\n"
     ]
    },
    {
     "name": "stdout",
     "output_type": "stream",
     "text": [
      "total condition no.: 240\n",
      "total device no.: 240\n",
      "maximum Y (PCE [%]):  16.69\n"
     ]
    },
    {
     "name": "stderr",
     "output_type": "stream",
     "text": [
      "reconstraining parameters Mat52.lengthscale\n",
      "reconstraining parameters Mat52.variance\n"
     ]
    },
    {
     "name": "stdout",
     "output_type": "stream",
     "text": [
      "total condition no.: 260\n",
      "total device no.: 260\n",
      "maximum Y (PCE [%]):  16.69\n"
     ]
    },
    {
     "name": "stderr",
     "output_type": "stream",
     "text": [
      "reconstraining parameters Mat52.lengthscale\n",
      "reconstraining parameters Mat52.variance\n"
     ]
    },
    {
     "name": "stdout",
     "output_type": "stream",
     "text": [
      "total condition no.: 280\n",
      "total device no.: 280\n",
      "maximum Y (PCE [%]):  16.69\n"
     ]
    },
    {
     "name": "stderr",
     "output_type": "stream",
     "text": [
      "reconstraining parameters Mat52.lengthscale\n",
      "reconstraining parameters Mat52.variance\n"
     ]
    },
    {
     "name": "stdout",
     "output_type": "stream",
     "text": [
      "total condition no.: 300\n",
      "total device no.: 300\n",
      "maximum Y (PCE [%]):  16.69\n"
     ]
    },
    {
     "name": "stderr",
     "output_type": "stream",
     "text": [
      "reconstraining parameters Mat52.lengthscale\n",
      "reconstraining parameters Mat52.variance\n"
     ]
    },
    {
     "name": "stdout",
     "output_type": "stream",
     "text": [
      "     Temperature [°C]  Speed [mm/s]  Spray Flow [uL/min]  Plamsa Height [cm]  \\\n",
      "238         134.28839    129.771738          3225.718813            1.068981   \n",
      "\n",
      "     Plasma Gas Flow [L/min]  Plasma DC [%]  Efficiency [%]  \n",
      "238                     15.0      28.752226       16.694359  \n"
     ]
    },
    {
     "name": "stderr",
     "output_type": "stream",
     "text": [
      "reconstraining parameters Mat52.lengthscale\n",
      "reconstraining parameters Mat52.variance\n"
     ]
    },
    {
     "name": "stdout",
     "output_type": "stream",
     "text": [
      "total condition no.: 20\n",
      "total device no.: 20\n",
      "maximum Y (PCE [%]):  14.05\n",
      "total condition no.: 40\n",
      "total device no.: 40\n",
      "maximum Y (PCE [%]):  15.59\n"
     ]
    },
    {
     "name": "stderr",
     "output_type": "stream",
     "text": [
      "reconstraining parameters Mat52.lengthscale\n",
      "reconstraining parameters Mat52.variance\n"
     ]
    },
    {
     "name": "stdout",
     "output_type": "stream",
     "text": [
      "total condition no.: 60\n",
      "total device no.: 60\n",
      "maximum Y (PCE [%]):  15.88\n"
     ]
    },
    {
     "name": "stderr",
     "output_type": "stream",
     "text": [
      "reconstraining parameters Mat52.lengthscale\n",
      "reconstraining parameters Mat52.variance\n"
     ]
    },
    {
     "name": "stdout",
     "output_type": "stream",
     "text": [
      "total condition no.: 80\n",
      "total device no.: 80\n",
      "maximum Y (PCE [%]):  15.88\n"
     ]
    },
    {
     "name": "stderr",
     "output_type": "stream",
     "text": [
      "reconstraining parameters Mat52.lengthscale\n",
      "reconstraining parameters Mat52.variance\n"
     ]
    },
    {
     "name": "stdout",
     "output_type": "stream",
     "text": [
      "total condition no.: 100\n",
      "total device no.: 100\n",
      "maximum Y (PCE [%]):  15.88\n"
     ]
    },
    {
     "name": "stderr",
     "output_type": "stream",
     "text": [
      "reconstraining parameters Mat52.lengthscale\n",
      "reconstraining parameters Mat52.variance\n"
     ]
    },
    {
     "name": "stdout",
     "output_type": "stream",
     "text": [
      "total condition no.: 120\n",
      "total device no.: 120\n",
      "maximum Y (PCE [%]):  15.95\n"
     ]
    },
    {
     "name": "stderr",
     "output_type": "stream",
     "text": [
      "reconstraining parameters Mat52.lengthscale\n",
      "reconstraining parameters Mat52.variance\n"
     ]
    },
    {
     "name": "stdout",
     "output_type": "stream",
     "text": [
      "total condition no.: 140\n",
      "total device no.: 140\n",
      "maximum Y (PCE [%]):  16.44\n"
     ]
    },
    {
     "name": "stderr",
     "output_type": "stream",
     "text": [
      "reconstraining parameters Mat52.lengthscale\n",
      "reconstraining parameters Mat52.variance\n"
     ]
    },
    {
     "name": "stdout",
     "output_type": "stream",
     "text": [
      "total condition no.: 160\n",
      "total device no.: 160\n",
      "maximum Y (PCE [%]):  16.66\n"
     ]
    },
    {
     "name": "stderr",
     "output_type": "stream",
     "text": [
      "reconstraining parameters Mat52.lengthscale\n",
      "reconstraining parameters Mat52.variance\n"
     ]
    },
    {
     "name": "stdout",
     "output_type": "stream",
     "text": [
      "total condition no.: 180\n",
      "total device no.: 180\n",
      "maximum Y (PCE [%]):  16.66\n"
     ]
    },
    {
     "name": "stderr",
     "output_type": "stream",
     "text": [
      "reconstraining parameters Mat52.lengthscale\n",
      "reconstraining parameters Mat52.variance\n"
     ]
    },
    {
     "name": "stdout",
     "output_type": "stream",
     "text": [
      "total condition no.: 200\n",
      "total device no.: 200\n",
      "maximum Y (PCE [%]):  16.66\n"
     ]
    },
    {
     "name": "stderr",
     "output_type": "stream",
     "text": [
      "reconstraining parameters Mat52.lengthscale\n",
      "reconstraining parameters Mat52.variance\n"
     ]
    },
    {
     "name": "stdout",
     "output_type": "stream",
     "text": [
      "total condition no.: 220\n",
      "total device no.: 220\n",
      "maximum Y (PCE [%]):  16.66\n"
     ]
    },
    {
     "name": "stderr",
     "output_type": "stream",
     "text": [
      "reconstraining parameters Mat52.lengthscale\n",
      "reconstraining parameters Mat52.variance\n"
     ]
    },
    {
     "name": "stdout",
     "output_type": "stream",
     "text": [
      "total condition no.: 240\n",
      "total device no.: 240\n",
      "maximum Y (PCE [%]):  16.66\n"
     ]
    },
    {
     "name": "stderr",
     "output_type": "stream",
     "text": [
      "reconstraining parameters Mat52.lengthscale\n",
      "reconstraining parameters Mat52.variance\n"
     ]
    },
    {
     "name": "stdout",
     "output_type": "stream",
     "text": [
      "total condition no.: 260\n",
      "total device no.: 260\n",
      "maximum Y (PCE [%]):  16.66\n"
     ]
    },
    {
     "name": "stderr",
     "output_type": "stream",
     "text": [
      "reconstraining parameters Mat52.lengthscale\n",
      "reconstraining parameters Mat52.variance\n"
     ]
    },
    {
     "name": "stdout",
     "output_type": "stream",
     "text": [
      "total condition no.: 280\n",
      "total device no.: 280\n",
      "maximum Y (PCE [%]):  16.66\n"
     ]
    },
    {
     "name": "stderr",
     "output_type": "stream",
     "text": [
      "reconstraining parameters Mat52.lengthscale\n",
      "reconstraining parameters Mat52.variance\n"
     ]
    },
    {
     "name": "stdout",
     "output_type": "stream",
     "text": [
      "total condition no.: 300\n",
      "total device no.: 300\n",
      "maximum Y (PCE [%]):  16.66\n"
     ]
    },
    {
     "name": "stderr",
     "output_type": "stream",
     "text": [
      "reconstraining parameters Mat52.lengthscale\n",
      "reconstraining parameters Mat52.variance\n"
     ]
    },
    {
     "name": "stdout",
     "output_type": "stream",
     "text": [
      "     Temperature [°C]  Speed [mm/s]  Spray Flow [uL/min]  Plamsa Height [cm]  \\\n",
      "148        145.815354    179.390361          3971.020255            1.065395   \n",
      "\n",
      "     Plasma Gas Flow [L/min]  Plasma DC [%]  Efficiency [%]  \n",
      "148                     15.0      59.127653       16.655978  \n"
     ]
    },
    {
     "name": "stderr",
     "output_type": "stream",
     "text": [
      "reconstraining parameters Mat52.lengthscale\n",
      "reconstraining parameters Mat52.variance\n"
     ]
    },
    {
     "name": "stdout",
     "output_type": "stream",
     "text": [
      "total condition no.: 20\n",
      "total device no.: 20\n",
      "maximum Y (PCE [%]):  14.65\n",
      "total condition no.: 40\n",
      "total device no.: 40\n",
      "maximum Y (PCE [%]):  15.63\n"
     ]
    },
    {
     "name": "stderr",
     "output_type": "stream",
     "text": [
      "reconstraining parameters Mat52.lengthscale\n",
      "reconstraining parameters Mat52.variance\n"
     ]
    },
    {
     "name": "stdout",
     "output_type": "stream",
     "text": [
      "total condition no.: 60\n",
      "total device no.: 60\n",
      "maximum Y (PCE [%]):  16.53\n"
     ]
    },
    {
     "name": "stderr",
     "output_type": "stream",
     "text": [
      "reconstraining parameters Mat52.lengthscale\n",
      "reconstraining parameters Mat52.variance\n"
     ]
    },
    {
     "name": "stdout",
     "output_type": "stream",
     "text": [
      "total condition no.: 80\n",
      "total device no.: 80\n",
      "maximum Y (PCE [%]):  16.53\n"
     ]
    },
    {
     "name": "stderr",
     "output_type": "stream",
     "text": [
      "reconstraining parameters Mat52.lengthscale\n",
      "reconstraining parameters Mat52.variance\n"
     ]
    },
    {
     "name": "stdout",
     "output_type": "stream",
     "text": [
      "total condition no.: 100\n",
      "total device no.: 100\n",
      "maximum Y (PCE [%]):  16.54\n"
     ]
    },
    {
     "name": "stderr",
     "output_type": "stream",
     "text": [
      "reconstraining parameters Mat52.lengthscale\n",
      "reconstraining parameters Mat52.variance\n"
     ]
    },
    {
     "name": "stdout",
     "output_type": "stream",
     "text": [
      "total condition no.: 120\n",
      "total device no.: 120\n",
      "maximum Y (PCE [%]):  16.54\n"
     ]
    },
    {
     "name": "stderr",
     "output_type": "stream",
     "text": [
      "reconstraining parameters Mat52.lengthscale\n",
      "reconstraining parameters Mat52.variance\n"
     ]
    },
    {
     "name": "stdout",
     "output_type": "stream",
     "text": [
      "total condition no.: 140\n",
      "total device no.: 140\n",
      "maximum Y (PCE [%]):  16.66\n"
     ]
    },
    {
     "name": "stderr",
     "output_type": "stream",
     "text": [
      "reconstraining parameters Mat52.lengthscale\n",
      "reconstraining parameters Mat52.variance\n"
     ]
    },
    {
     "name": "stdout",
     "output_type": "stream",
     "text": [
      "total condition no.: 160\n",
      "total device no.: 160\n",
      "maximum Y (PCE [%]):  16.74\n"
     ]
    },
    {
     "name": "stderr",
     "output_type": "stream",
     "text": [
      "reconstraining parameters Mat52.lengthscale\n",
      "reconstraining parameters Mat52.variance\n"
     ]
    },
    {
     "name": "stdout",
     "output_type": "stream",
     "text": [
      "total condition no.: 180\n",
      "total device no.: 180\n",
      "maximum Y (PCE [%]):  16.74\n"
     ]
    },
    {
     "name": "stderr",
     "output_type": "stream",
     "text": [
      "reconstraining parameters Mat52.lengthscale\n",
      "reconstraining parameters Mat52.variance\n"
     ]
    },
    {
     "name": "stdout",
     "output_type": "stream",
     "text": [
      "total condition no.: 200\n",
      "total device no.: 200\n",
      "maximum Y (PCE [%]):  16.74\n"
     ]
    },
    {
     "name": "stderr",
     "output_type": "stream",
     "text": [
      "reconstraining parameters Mat52.lengthscale\n",
      "reconstraining parameters Mat52.variance\n"
     ]
    },
    {
     "name": "stdout",
     "output_type": "stream",
     "text": [
      "total condition no.: 220\n",
      "total device no.: 220\n",
      "maximum Y (PCE [%]):  16.74\n"
     ]
    },
    {
     "name": "stderr",
     "output_type": "stream",
     "text": [
      "reconstraining parameters Mat52.lengthscale\n",
      "reconstraining parameters Mat52.variance\n"
     ]
    },
    {
     "name": "stdout",
     "output_type": "stream",
     "text": [
      "total condition no.: 240\n",
      "total device no.: 240\n",
      "maximum Y (PCE [%]):  16.74\n"
     ]
    },
    {
     "name": "stderr",
     "output_type": "stream",
     "text": [
      "reconstraining parameters Mat52.lengthscale\n",
      "reconstraining parameters Mat52.variance\n"
     ]
    },
    {
     "name": "stdout",
     "output_type": "stream",
     "text": [
      "total condition no.: 260\n",
      "total device no.: 260\n",
      "maximum Y (PCE [%]):  16.74\n"
     ]
    },
    {
     "name": "stderr",
     "output_type": "stream",
     "text": [
      "reconstraining parameters Mat52.lengthscale\n",
      "reconstraining parameters Mat52.variance\n"
     ]
    },
    {
     "name": "stdout",
     "output_type": "stream",
     "text": [
      "total condition no.: 280\n",
      "total device no.: 280\n",
      "maximum Y (PCE [%]):  16.74\n"
     ]
    },
    {
     "name": "stderr",
     "output_type": "stream",
     "text": [
      "reconstraining parameters Mat52.lengthscale\n",
      "reconstraining parameters Mat52.variance\n"
     ]
    },
    {
     "name": "stdout",
     "output_type": "stream",
     "text": [
      "total condition no.: 300\n",
      "total device no.: 300\n",
      "maximum Y (PCE [%]):  16.74\n"
     ]
    },
    {
     "name": "stderr",
     "output_type": "stream",
     "text": [
      "reconstraining parameters Mat52.lengthscale\n",
      "reconstraining parameters Mat52.variance\n"
     ]
    },
    {
     "name": "stdout",
     "output_type": "stream",
     "text": [
      "     Temperature [°C]  Speed [mm/s]  Spray Flow [uL/min]  Plamsa Height [cm]  \\\n",
      "151        145.522186    177.494045          3471.649211            1.074854   \n",
      "\n",
      "     Plasma Gas Flow [L/min]  Plasma DC [%]  Efficiency [%]  \n",
      "151                     15.0       56.16679       16.744381  \n"
     ]
    },
    {
     "name": "stderr",
     "output_type": "stream",
     "text": [
      "reconstraining parameters Mat52.lengthscale\n",
      "reconstraining parameters Mat52.variance\n"
     ]
    },
    {
     "name": "stdout",
     "output_type": "stream",
     "text": [
      "total condition no.: 20\n",
      "total device no.: 20\n",
      "maximum Y (PCE [%]):  14.22\n",
      "total condition no.: 40\n",
      "total device no.: 40\n",
      "maximum Y (PCE [%]):  15.67\n"
     ]
    },
    {
     "name": "stderr",
     "output_type": "stream",
     "text": [
      "reconstraining parameters Mat52.lengthscale\n",
      "reconstraining parameters Mat52.variance\n"
     ]
    },
    {
     "name": "stdout",
     "output_type": "stream",
     "text": [
      "total condition no.: 60\n",
      "total device no.: 60\n",
      "maximum Y (PCE [%]):  16.73\n"
     ]
    },
    {
     "name": "stderr",
     "output_type": "stream",
     "text": [
      "reconstraining parameters Mat52.lengthscale\n",
      "reconstraining parameters Mat52.variance\n"
     ]
    },
    {
     "name": "stdout",
     "output_type": "stream",
     "text": [
      "total condition no.: 80\n",
      "total device no.: 80\n",
      "maximum Y (PCE [%]):  16.74\n"
     ]
    },
    {
     "name": "stderr",
     "output_type": "stream",
     "text": [
      "reconstraining parameters Mat52.lengthscale\n",
      "reconstraining parameters Mat52.variance\n"
     ]
    },
    {
     "name": "stdout",
     "output_type": "stream",
     "text": [
      "total condition no.: 100\n",
      "total device no.: 100\n",
      "maximum Y (PCE [%]):  16.74\n"
     ]
    },
    {
     "name": "stderr",
     "output_type": "stream",
     "text": [
      "reconstraining parameters Mat52.lengthscale\n",
      "reconstraining parameters Mat52.variance\n"
     ]
    },
    {
     "name": "stdout",
     "output_type": "stream",
     "text": [
      "total condition no.: 120\n",
      "total device no.: 120\n",
      "maximum Y (PCE [%]):  17.01\n"
     ]
    },
    {
     "name": "stderr",
     "output_type": "stream",
     "text": [
      "reconstraining parameters Mat52.lengthscale\n",
      "reconstraining parameters Mat52.variance\n"
     ]
    },
    {
     "name": "stdout",
     "output_type": "stream",
     "text": [
      "total condition no.: 140\n",
      "total device no.: 140\n",
      "maximum Y (PCE [%]):  17.01\n"
     ]
    },
    {
     "name": "stderr",
     "output_type": "stream",
     "text": [
      "reconstraining parameters Mat52.lengthscale\n",
      "reconstraining parameters Mat52.variance\n"
     ]
    },
    {
     "name": "stdout",
     "output_type": "stream",
     "text": [
      "total condition no.: 160\n",
      "total device no.: 160\n",
      "maximum Y (PCE [%]):  17.11\n"
     ]
    },
    {
     "name": "stderr",
     "output_type": "stream",
     "text": [
      "reconstraining parameters Mat52.lengthscale\n",
      "reconstraining parameters Mat52.variance\n"
     ]
    },
    {
     "name": "stdout",
     "output_type": "stream",
     "text": [
      "total condition no.: 180\n",
      "total device no.: 180\n",
      "maximum Y (PCE [%]):  17.19\n"
     ]
    },
    {
     "name": "stderr",
     "output_type": "stream",
     "text": [
      "reconstraining parameters Mat52.lengthscale\n",
      "reconstraining parameters Mat52.variance\n"
     ]
    },
    {
     "name": "stdout",
     "output_type": "stream",
     "text": [
      "total condition no.: 200\n",
      "total device no.: 200\n",
      "maximum Y (PCE [%]):  17.19\n"
     ]
    },
    {
     "name": "stderr",
     "output_type": "stream",
     "text": [
      "reconstraining parameters Mat52.lengthscale\n",
      "reconstraining parameters Mat52.variance\n"
     ]
    },
    {
     "name": "stdout",
     "output_type": "stream",
     "text": [
      "total condition no.: 220\n",
      "total device no.: 220\n",
      "maximum Y (PCE [%]):  17.19\n"
     ]
    },
    {
     "name": "stderr",
     "output_type": "stream",
     "text": [
      "reconstraining parameters Mat52.lengthscale\n",
      "reconstraining parameters Mat52.variance\n"
     ]
    },
    {
     "name": "stdout",
     "output_type": "stream",
     "text": [
      "total condition no.: 240\n",
      "total device no.: 240\n",
      "maximum Y (PCE [%]):  17.19\n"
     ]
    },
    {
     "name": "stderr",
     "output_type": "stream",
     "text": [
      "reconstraining parameters Mat52.lengthscale\n",
      "reconstraining parameters Mat52.variance\n"
     ]
    },
    {
     "name": "stdout",
     "output_type": "stream",
     "text": [
      "total condition no.: 260\n",
      "total device no.: 260\n",
      "maximum Y (PCE [%]):  17.19\n"
     ]
    },
    {
     "name": "stderr",
     "output_type": "stream",
     "text": [
      "reconstraining parameters Mat52.lengthscale\n",
      "reconstraining parameters Mat52.variance\n"
     ]
    },
    {
     "name": "stdout",
     "output_type": "stream",
     "text": [
      "total condition no.: 280\n",
      "total device no.: 280\n",
      "maximum Y (PCE [%]):  17.19\n"
     ]
    },
    {
     "name": "stderr",
     "output_type": "stream",
     "text": [
      "reconstraining parameters Mat52.lengthscale\n",
      "reconstraining parameters Mat52.variance\n"
     ]
    },
    {
     "name": "stdout",
     "output_type": "stream",
     "text": [
      "total condition no.: 300\n",
      "total device no.: 300\n",
      "maximum Y (PCE [%]):  17.42\n"
     ]
    },
    {
     "name": "stderr",
     "output_type": "stream",
     "text": [
      "reconstraining parameters Mat52.lengthscale\n",
      "reconstraining parameters Mat52.variance\n"
     ]
    },
    {
     "name": "stdout",
     "output_type": "stream",
     "text": [
      "     Temperature [°C]  Speed [mm/s]  Spray Flow [uL/min]  Plamsa Height [cm]  \\\n",
      "284        143.041084    129.326977          3152.842322                 1.2   \n",
      "\n",
      "     Plasma Gas Flow [L/min]  Plasma DC [%]  Efficiency [%]  \n",
      "284                15.515084      26.616709       17.419608  \n"
     ]
    },
    {
     "name": "stderr",
     "output_type": "stream",
     "text": [
      "reconstraining parameters Mat52.lengthscale\n",
      "reconstraining parameters Mat52.variance\n"
     ]
    },
    {
     "name": "stdout",
     "output_type": "stream",
     "text": [
      "total condition no.: 20\n",
      "total device no.: 20\n",
      "maximum Y (PCE [%]):  14.75\n",
      "total condition no.: 40\n",
      "total device no.: 40\n",
      "maximum Y (PCE [%]):  14.92\n"
     ]
    },
    {
     "name": "stderr",
     "output_type": "stream",
     "text": [
      "reconstraining parameters Mat52.lengthscale\n",
      "reconstraining parameters Mat52.variance\n"
     ]
    },
    {
     "name": "stdout",
     "output_type": "stream",
     "text": [
      "total condition no.: 60\n",
      "total device no.: 60\n",
      "maximum Y (PCE [%]):  15.48\n"
     ]
    },
    {
     "name": "stderr",
     "output_type": "stream",
     "text": [
      "reconstraining parameters Mat52.lengthscale\n",
      "reconstraining parameters Mat52.variance\n"
     ]
    },
    {
     "name": "stdout",
     "output_type": "stream",
     "text": [
      "total condition no.: 80\n",
      "total device no.: 80\n",
      "maximum Y (PCE [%]):  15.84\n"
     ]
    },
    {
     "name": "stderr",
     "output_type": "stream",
     "text": [
      "reconstraining parameters Mat52.lengthscale\n",
      "reconstraining parameters Mat52.variance\n"
     ]
    },
    {
     "name": "stdout",
     "output_type": "stream",
     "text": [
      "total condition no.: 100\n",
      "total device no.: 100\n",
      "maximum Y (PCE [%]):  15.84\n"
     ]
    },
    {
     "name": "stderr",
     "output_type": "stream",
     "text": [
      "reconstraining parameters Mat52.lengthscale\n",
      "reconstraining parameters Mat52.variance\n"
     ]
    },
    {
     "name": "stdout",
     "output_type": "stream",
     "text": [
      "total condition no.: 120\n",
      "total device no.: 120\n",
      "maximum Y (PCE [%]):  16.14\n"
     ]
    },
    {
     "name": "stderr",
     "output_type": "stream",
     "text": [
      "reconstraining parameters Mat52.lengthscale\n",
      "reconstraining parameters Mat52.variance\n"
     ]
    },
    {
     "name": "stdout",
     "output_type": "stream",
     "text": [
      "total condition no.: 140\n",
      "total device no.: 140\n",
      "maximum Y (PCE [%]):  17.04\n"
     ]
    },
    {
     "name": "stderr",
     "output_type": "stream",
     "text": [
      "reconstraining parameters Mat52.lengthscale\n",
      "reconstraining parameters Mat52.variance\n"
     ]
    },
    {
     "name": "stdout",
     "output_type": "stream",
     "text": [
      "total condition no.: 160\n",
      "total device no.: 160\n",
      "maximum Y (PCE [%]):  17.04\n"
     ]
    },
    {
     "name": "stderr",
     "output_type": "stream",
     "text": [
      "reconstraining parameters Mat52.lengthscale\n",
      "reconstraining parameters Mat52.variance\n"
     ]
    },
    {
     "name": "stdout",
     "output_type": "stream",
     "text": [
      "total condition no.: 180\n",
      "total device no.: 180\n",
      "maximum Y (PCE [%]):  17.04\n"
     ]
    },
    {
     "name": "stderr",
     "output_type": "stream",
     "text": [
      "reconstraining parameters Mat52.lengthscale\n",
      "reconstraining parameters Mat52.variance\n"
     ]
    },
    {
     "name": "stdout",
     "output_type": "stream",
     "text": [
      "total condition no.: 200\n",
      "total device no.: 200\n",
      "maximum Y (PCE [%]):  17.51\n"
     ]
    },
    {
     "name": "stderr",
     "output_type": "stream",
     "text": [
      "reconstraining parameters Mat52.lengthscale\n",
      "reconstraining parameters Mat52.variance\n"
     ]
    },
    {
     "name": "stdout",
     "output_type": "stream",
     "text": [
      "total condition no.: 220\n",
      "total device no.: 220\n",
      "maximum Y (PCE [%]):  17.51\n"
     ]
    },
    {
     "name": "stderr",
     "output_type": "stream",
     "text": [
      "reconstraining parameters Mat52.lengthscale\n",
      "reconstraining parameters Mat52.variance\n"
     ]
    },
    {
     "name": "stdout",
     "output_type": "stream",
     "text": [
      "total condition no.: 240\n",
      "total device no.: 240\n",
      "maximum Y (PCE [%]):  17.51\n"
     ]
    },
    {
     "name": "stderr",
     "output_type": "stream",
     "text": [
      "reconstraining parameters Mat52.lengthscale\n",
      "reconstraining parameters Mat52.variance\n"
     ]
    },
    {
     "name": "stdout",
     "output_type": "stream",
     "text": [
      "total condition no.: 260\n",
      "total device no.: 260\n",
      "maximum Y (PCE [%]):  17.51\n"
     ]
    },
    {
     "name": "stderr",
     "output_type": "stream",
     "text": [
      "reconstraining parameters Mat52.lengthscale\n",
      "reconstraining parameters Mat52.variance\n"
     ]
    },
    {
     "name": "stdout",
     "output_type": "stream",
     "text": [
      "total condition no.: 280\n",
      "total device no.: 280\n",
      "maximum Y (PCE [%]):  17.51\n"
     ]
    },
    {
     "name": "stderr",
     "output_type": "stream",
     "text": [
      "reconstraining parameters Mat52.lengthscale\n",
      "reconstraining parameters Mat52.variance\n"
     ]
    },
    {
     "name": "stdout",
     "output_type": "stream",
     "text": [
      "total condition no.: 300\n",
      "total device no.: 300\n",
      "maximum Y (PCE [%]):  17.51\n"
     ]
    },
    {
     "name": "stderr",
     "output_type": "stream",
     "text": [
      "reconstraining parameters Mat52.lengthscale\n",
      "reconstraining parameters Mat52.variance\n"
     ]
    },
    {
     "name": "stdout",
     "output_type": "stream",
     "text": [
      "     Temperature [°C]  Speed [mm/s]  Spray Flow [uL/min]  Plamsa Height [cm]  \\\n",
      "196        142.556346    143.768535          3325.559972                 1.2   \n",
      "\n",
      "     Plasma Gas Flow [L/min]  Plasma DC [%]  Efficiency [%]  \n",
      "196                     15.0       28.37276       17.512579  \n"
     ]
    },
    {
     "name": "stderr",
     "output_type": "stream",
     "text": [
      "reconstraining parameters Mat52.lengthscale\n",
      "reconstraining parameters Mat52.variance\n"
     ]
    },
    {
     "name": "stdout",
     "output_type": "stream",
     "text": [
      "total condition no.: 20\n",
      "total device no.: 20\n",
      "maximum Y (PCE [%]):  14.62\n",
      "total condition no.: 40\n",
      "total device no.: 40\n",
      "maximum Y (PCE [%]):  15.27\n"
     ]
    },
    {
     "name": "stderr",
     "output_type": "stream",
     "text": [
      "reconstraining parameters Mat52.lengthscale\n",
      "reconstraining parameters Mat52.variance\n"
     ]
    },
    {
     "name": "stdout",
     "output_type": "stream",
     "text": [
      "total condition no.: 60\n",
      "total device no.: 60\n",
      "maximum Y (PCE [%]):  15.36\n"
     ]
    },
    {
     "name": "stderr",
     "output_type": "stream",
     "text": [
      "reconstraining parameters Mat52.lengthscale\n",
      "reconstraining parameters Mat52.variance\n"
     ]
    },
    {
     "name": "stdout",
     "output_type": "stream",
     "text": [
      "total condition no.: 80\n",
      "total device no.: 80\n",
      "maximum Y (PCE [%]):  15.36\n"
     ]
    },
    {
     "name": "stderr",
     "output_type": "stream",
     "text": [
      "reconstraining parameters Mat52.lengthscale\n",
      "reconstraining parameters Mat52.variance\n"
     ]
    },
    {
     "name": "stdout",
     "output_type": "stream",
     "text": [
      "total condition no.: 100\n",
      "total device no.: 100\n",
      "maximum Y (PCE [%]):  15.36\n"
     ]
    },
    {
     "name": "stderr",
     "output_type": "stream",
     "text": [
      "reconstraining parameters Mat52.lengthscale\n",
      "reconstraining parameters Mat52.variance\n"
     ]
    },
    {
     "name": "stdout",
     "output_type": "stream",
     "text": [
      "total condition no.: 120\n",
      "total device no.: 120\n",
      "maximum Y (PCE [%]):  15.36\n"
     ]
    },
    {
     "name": "stderr",
     "output_type": "stream",
     "text": [
      "reconstraining parameters Mat52.lengthscale\n",
      "reconstraining parameters Mat52.variance\n"
     ]
    },
    {
     "name": "stdout",
     "output_type": "stream",
     "text": [
      "total condition no.: 140\n",
      "total device no.: 140\n",
      "maximum Y (PCE [%]):  15.36\n"
     ]
    },
    {
     "name": "stderr",
     "output_type": "stream",
     "text": [
      "reconstraining parameters Mat52.lengthscale\n",
      "reconstraining parameters Mat52.variance\n"
     ]
    },
    {
     "name": "stdout",
     "output_type": "stream",
     "text": [
      "total condition no.: 160\n",
      "total device no.: 160\n",
      "maximum Y (PCE [%]):  15.96\n"
     ]
    },
    {
     "name": "stderr",
     "output_type": "stream",
     "text": [
      "reconstraining parameters Mat52.lengthscale\n",
      "reconstraining parameters Mat52.variance\n"
     ]
    },
    {
     "name": "stdout",
     "output_type": "stream",
     "text": [
      "total condition no.: 180\n",
      "total device no.: 180\n",
      "maximum Y (PCE [%]):  16.13\n"
     ]
    },
    {
     "name": "stderr",
     "output_type": "stream",
     "text": [
      "reconstraining parameters Mat52.lengthscale\n",
      "reconstraining parameters Mat52.variance\n"
     ]
    },
    {
     "name": "stdout",
     "output_type": "stream",
     "text": [
      "total condition no.: 200\n",
      "total device no.: 200\n",
      "maximum Y (PCE [%]):  16.13\n"
     ]
    },
    {
     "name": "stderr",
     "output_type": "stream",
     "text": [
      "reconstraining parameters Mat52.lengthscale\n",
      "reconstraining parameters Mat52.variance\n"
     ]
    },
    {
     "name": "stdout",
     "output_type": "stream",
     "text": [
      "total condition no.: 220\n",
      "total device no.: 220\n",
      "maximum Y (PCE [%]):  16.13\n"
     ]
    },
    {
     "name": "stderr",
     "output_type": "stream",
     "text": [
      "reconstraining parameters Mat52.lengthscale\n",
      "reconstraining parameters Mat52.variance\n"
     ]
    },
    {
     "name": "stdout",
     "output_type": "stream",
     "text": [
      "total condition no.: 240\n",
      "total device no.: 240\n",
      "maximum Y (PCE [%]):  16.13\n"
     ]
    },
    {
     "name": "stderr",
     "output_type": "stream",
     "text": [
      "reconstraining parameters Mat52.lengthscale\n",
      "reconstraining parameters Mat52.variance\n"
     ]
    },
    {
     "name": "stdout",
     "output_type": "stream",
     "text": [
      "total condition no.: 260\n",
      "total device no.: 260\n",
      "maximum Y (PCE [%]):  16.13\n"
     ]
    },
    {
     "name": "stderr",
     "output_type": "stream",
     "text": [
      "reconstraining parameters Mat52.lengthscale\n",
      "reconstraining parameters Mat52.variance\n"
     ]
    },
    {
     "name": "stdout",
     "output_type": "stream",
     "text": [
      "total condition no.: 280\n",
      "total device no.: 280\n",
      "maximum Y (PCE [%]):  16.13\n"
     ]
    },
    {
     "name": "stderr",
     "output_type": "stream",
     "text": [
      "reconstraining parameters Mat52.lengthscale\n",
      "reconstraining parameters Mat52.variance\n"
     ]
    },
    {
     "name": "stdout",
     "output_type": "stream",
     "text": [
      "total condition no.: 300\n",
      "total device no.: 300\n",
      "maximum Y (PCE [%]):  16.13\n"
     ]
    },
    {
     "name": "stderr",
     "output_type": "stream",
     "text": [
      "reconstraining parameters Mat52.lengthscale\n",
      "reconstraining parameters Mat52.variance\n"
     ]
    },
    {
     "name": "stdout",
     "output_type": "stream",
     "text": [
      "     Temperature [°C]  Speed [mm/s]  Spray Flow [uL/min]  Plamsa Height [cm]  \\\n",
      "175        143.422895     186.29033          3424.727122                 0.8   \n",
      "\n",
      "     Plasma Gas Flow [L/min]  Plasma DC [%]  Efficiency [%]  \n",
      "175                20.814359      62.973903       16.128742  \n"
     ]
    },
    {
     "name": "stderr",
     "output_type": "stream",
     "text": [
      " C:\\Users\\Zhe\\AppData\\Roaming\\Python\\Python37\\site-packages\\emukit\\bayesian_optimization\\acquisitions\\log_acquisition.py:25: RuntimeWarning:invalid value encountered in log\n",
      "reconstraining parameters Mat52.lengthscale\n",
      "reconstraining parameters Mat52.variance\n"
     ]
    },
    {
     "name": "stdout",
     "output_type": "stream",
     "text": [
      "total condition no.: 20\n",
      "total device no.: 20\n",
      "maximum Y (PCE [%]):  14.28\n",
      "total condition no.: 40\n",
      "total device no.: 40\n",
      "maximum Y (PCE [%]):  15.06\n"
     ]
    },
    {
     "name": "stderr",
     "output_type": "stream",
     "text": [
      " C:\\Users\\Zhe\\AppData\\Roaming\\Python\\Python37\\site-packages\\emukit\\bayesian_optimization\\acquisitions\\log_acquisition.py:25: RuntimeWarning:invalid value encountered in log\n",
      "reconstraining parameters Mat52.lengthscale\n",
      "reconstraining parameters Mat52.variance\n"
     ]
    },
    {
     "name": "stdout",
     "output_type": "stream",
     "text": [
      "total condition no.: 60\n",
      "total device no.: 60\n",
      "maximum Y (PCE [%]):  16.0\n"
     ]
    },
    {
     "name": "stderr",
     "output_type": "stream",
     "text": [
      " C:\\Users\\Zhe\\AppData\\Roaming\\Python\\Python37\\site-packages\\emukit\\bayesian_optimization\\acquisitions\\log_acquisition.py:25: RuntimeWarning:invalid value encountered in log\n",
      "reconstraining parameters Mat52.lengthscale\n",
      "reconstraining parameters Mat52.variance\n"
     ]
    },
    {
     "name": "stdout",
     "output_type": "stream",
     "text": [
      "total condition no.: 80\n",
      "total device no.: 80\n",
      "maximum Y (PCE [%]):  16.56\n"
     ]
    },
    {
     "name": "stderr",
     "output_type": "stream",
     "text": [
      "reconstraining parameters Mat52.lengthscale\n",
      "reconstraining parameters Mat52.variance\n"
     ]
    },
    {
     "name": "stdout",
     "output_type": "stream",
     "text": [
      "total condition no.: 100\n",
      "total device no.: 100\n",
      "maximum Y (PCE [%]):  16.58\n"
     ]
    },
    {
     "name": "stderr",
     "output_type": "stream",
     "text": [
      "reconstraining parameters Mat52.lengthscale\n",
      "reconstraining parameters Mat52.variance\n"
     ]
    },
    {
     "name": "stdout",
     "output_type": "stream",
     "text": [
      "total condition no.: 120\n",
      "total device no.: 120\n",
      "maximum Y (PCE [%]):  16.62\n"
     ]
    },
    {
     "name": "stderr",
     "output_type": "stream",
     "text": [
      "reconstraining parameters Mat52.lengthscale\n",
      "reconstraining parameters Mat52.variance\n"
     ]
    },
    {
     "name": "stdout",
     "output_type": "stream",
     "text": [
      "total condition no.: 140\n",
      "total device no.: 140\n",
      "maximum Y (PCE [%]):  16.63\n"
     ]
    },
    {
     "name": "stderr",
     "output_type": "stream",
     "text": [
      "reconstraining parameters Mat52.lengthscale\n",
      "reconstraining parameters Mat52.variance\n"
     ]
    },
    {
     "name": "stdout",
     "output_type": "stream",
     "text": [
      "total condition no.: 160\n",
      "total device no.: 160\n",
      "maximum Y (PCE [%]):  16.65\n"
     ]
    },
    {
     "name": "stderr",
     "output_type": "stream",
     "text": [
      "reconstraining parameters Mat52.lengthscale\n",
      "reconstraining parameters Mat52.variance\n"
     ]
    },
    {
     "name": "stdout",
     "output_type": "stream",
     "text": [
      "total condition no.: 180\n",
      "total device no.: 180\n",
      "maximum Y (PCE [%]):  16.65\n"
     ]
    },
    {
     "name": "stderr",
     "output_type": "stream",
     "text": [
      "reconstraining parameters Mat52.lengthscale\n",
      "reconstraining parameters Mat52.variance\n"
     ]
    },
    {
     "name": "stdout",
     "output_type": "stream",
     "text": [
      "total condition no.: 200\n",
      "total device no.: 200\n",
      "maximum Y (PCE [%]):  16.65\n"
     ]
    },
    {
     "name": "stderr",
     "output_type": "stream",
     "text": [
      "reconstraining parameters Mat52.lengthscale\n",
      "reconstraining parameters Mat52.variance\n"
     ]
    },
    {
     "name": "stdout",
     "output_type": "stream",
     "text": [
      "total condition no.: 220\n",
      "total device no.: 220\n",
      "maximum Y (PCE [%]):  16.65\n"
     ]
    },
    {
     "name": "stderr",
     "output_type": "stream",
     "text": [
      "reconstraining parameters Mat52.lengthscale\n",
      "reconstraining parameters Mat52.variance\n"
     ]
    },
    {
     "name": "stdout",
     "output_type": "stream",
     "text": [
      "total condition no.: 240\n",
      "total device no.: 240\n",
      "maximum Y (PCE [%]):  16.65\n"
     ]
    },
    {
     "name": "stderr",
     "output_type": "stream",
     "text": [
      "reconstraining parameters Mat52.lengthscale\n",
      "reconstraining parameters Mat52.variance\n"
     ]
    },
    {
     "name": "stdout",
     "output_type": "stream",
     "text": [
      "total condition no.: 260\n",
      "total device no.: 260\n",
      "maximum Y (PCE [%]):  16.65\n"
     ]
    },
    {
     "name": "stderr",
     "output_type": "stream",
     "text": [
      "reconstraining parameters Mat52.lengthscale\n",
      "reconstraining parameters Mat52.variance\n"
     ]
    },
    {
     "name": "stdout",
     "output_type": "stream",
     "text": [
      "total condition no.: 280\n",
      "total device no.: 280\n",
      "maximum Y (PCE [%]):  16.65\n"
     ]
    },
    {
     "name": "stderr",
     "output_type": "stream",
     "text": [
      "reconstraining parameters Mat52.lengthscale\n",
      "reconstraining parameters Mat52.variance\n"
     ]
    },
    {
     "name": "stdout",
     "output_type": "stream",
     "text": [
      "total condition no.: 300\n",
      "total device no.: 300\n",
      "maximum Y (PCE [%]):  16.65\n"
     ]
    },
    {
     "name": "stderr",
     "output_type": "stream",
     "text": [
      "reconstraining parameters Mat52.lengthscale\n",
      "reconstraining parameters Mat52.variance\n"
     ]
    },
    {
     "name": "stdout",
     "output_type": "stream",
     "text": [
      "     Temperature [°C]  Speed [mm/s]  Spray Flow [uL/min]  Plamsa Height [cm]  \\\n",
      "148        143.129016    178.712956          3786.228784                 1.2   \n",
      "\n",
      "     Plasma Gas Flow [L/min]  Plasma DC [%]  Efficiency [%]  \n",
      "148                     15.0      52.773786       16.648103  \n"
     ]
    },
    {
     "name": "stderr",
     "output_type": "stream",
     "text": [
      " C:\\Users\\Zhe\\AppData\\Roaming\\Python\\Python37\\site-packages\\emukit\\bayesian_optimization\\acquisitions\\log_acquisition.py:25: RuntimeWarning:invalid value encountered in log\n",
      "reconstraining parameters Mat52.lengthscale\n",
      "reconstraining parameters Mat52.variance\n"
     ]
    },
    {
     "name": "stdout",
     "output_type": "stream",
     "text": [
      "total condition no.: 20\n",
      "total device no.: 20\n",
      "maximum Y (PCE [%]):  14.43\n",
      "total condition no.: 40\n",
      "total device no.: 40\n",
      "maximum Y (PCE [%]):  16.41\n"
     ]
    },
    {
     "name": "stderr",
     "output_type": "stream",
     "text": [
      " C:\\Users\\Zhe\\AppData\\Roaming\\Python\\Python37\\site-packages\\emukit\\bayesian_optimization\\acquisitions\\log_acquisition.py:25: RuntimeWarning:invalid value encountered in log\n",
      "reconstraining parameters Mat52.lengthscale\n",
      "reconstraining parameters Mat52.variance\n"
     ]
    },
    {
     "name": "stdout",
     "output_type": "stream",
     "text": [
      "total condition no.: 60\n",
      "total device no.: 60\n",
      "maximum Y (PCE [%]):  16.78\n"
     ]
    },
    {
     "name": "stderr",
     "output_type": "stream",
     "text": [
      " C:\\Users\\Zhe\\AppData\\Roaming\\Python\\Python37\\site-packages\\emukit\\bayesian_optimization\\acquisitions\\log_acquisition.py:25: RuntimeWarning:invalid value encountered in log\n",
      "reconstraining parameters Mat52.lengthscale\n",
      "reconstraining parameters Mat52.variance\n"
     ]
    },
    {
     "name": "stdout",
     "output_type": "stream",
     "text": [
      "total condition no.: 80\n",
      "total device no.: 80\n",
      "maximum Y (PCE [%]):  16.93\n"
     ]
    },
    {
     "name": "stderr",
     "output_type": "stream",
     "text": [
      " C:\\Users\\Zhe\\AppData\\Roaming\\Python\\Python37\\site-packages\\emukit\\bayesian_optimization\\acquisitions\\log_acquisition.py:25: RuntimeWarning:invalid value encountered in log\n",
      "reconstraining parameters Mat52.lengthscale\n",
      "reconstraining parameters Mat52.variance\n"
     ]
    },
    {
     "name": "stdout",
     "output_type": "stream",
     "text": [
      "total condition no.: 100\n",
      "total device no.: 100\n",
      "maximum Y (PCE [%]):  17.21\n"
     ]
    },
    {
     "name": "stderr",
     "output_type": "stream",
     "text": [
      "reconstraining parameters Mat52.lengthscale\n",
      "reconstraining parameters Mat52.variance\n"
     ]
    },
    {
     "name": "stdout",
     "output_type": "stream",
     "text": [
      "total condition no.: 120\n",
      "total device no.: 120\n",
      "maximum Y (PCE [%]):  17.21\n"
     ]
    },
    {
     "name": "stderr",
     "output_type": "stream",
     "text": [
      "reconstraining parameters Mat52.lengthscale\n",
      "reconstraining parameters Mat52.variance\n"
     ]
    },
    {
     "name": "stdout",
     "output_type": "stream",
     "text": [
      "total condition no.: 140\n",
      "total device no.: 140\n",
      "maximum Y (PCE [%]):  17.29\n"
     ]
    },
    {
     "name": "stderr",
     "output_type": "stream",
     "text": [
      "reconstraining parameters Mat52.lengthscale\n",
      "reconstraining parameters Mat52.variance\n"
     ]
    },
    {
     "name": "stdout",
     "output_type": "stream",
     "text": [
      "total condition no.: 160\n",
      "total device no.: 160\n",
      "maximum Y (PCE [%]):  17.29\n"
     ]
    },
    {
     "name": "stderr",
     "output_type": "stream",
     "text": [
      " C:\\Users\\Zhe\\AppData\\Roaming\\Python\\Python37\\site-packages\\emukit\\bayesian_optimization\\acquisitions\\log_acquisition.py:25: RuntimeWarning:invalid value encountered in log\n",
      "reconstraining parameters Mat52.lengthscale\n",
      "reconstraining parameters Mat52.variance\n"
     ]
    },
    {
     "name": "stdout",
     "output_type": "stream",
     "text": [
      "total condition no.: 180\n",
      "total device no.: 180\n",
      "maximum Y (PCE [%]):  17.29\n"
     ]
    },
    {
     "name": "stderr",
     "output_type": "stream",
     "text": [
      "reconstraining parameters Mat52.lengthscale\n",
      "reconstraining parameters Mat52.variance\n"
     ]
    },
    {
     "name": "stdout",
     "output_type": "stream",
     "text": [
      "total condition no.: 200\n",
      "total device no.: 200\n",
      "maximum Y (PCE [%]):  17.29\n"
     ]
    },
    {
     "name": "stderr",
     "output_type": "stream",
     "text": [
      "reconstraining parameters Mat52.lengthscale\n",
      "reconstraining parameters Mat52.variance\n"
     ]
    },
    {
     "name": "stdout",
     "output_type": "stream",
     "text": [
      "total condition no.: 220\n",
      "total device no.: 220\n",
      "maximum Y (PCE [%]):  17.34\n"
     ]
    },
    {
     "name": "stderr",
     "output_type": "stream",
     "text": [
      "reconstraining parameters Mat52.lengthscale\n",
      "reconstraining parameters Mat52.variance\n"
     ]
    },
    {
     "name": "stdout",
     "output_type": "stream",
     "text": [
      "total condition no.: 240\n",
      "total device no.: 240\n",
      "maximum Y (PCE [%]):  17.35\n"
     ]
    },
    {
     "name": "stderr",
     "output_type": "stream",
     "text": [
      " C:\\Users\\Zhe\\AppData\\Roaming\\Python\\Python37\\site-packages\\emukit\\bayesian_optimization\\acquisitions\\log_acquisition.py:25: RuntimeWarning:invalid value encountered in log\n",
      "reconstraining parameters Mat52.lengthscale\n",
      "reconstraining parameters Mat52.variance\n"
     ]
    },
    {
     "name": "stdout",
     "output_type": "stream",
     "text": [
      "total condition no.: 260\n",
      "total device no.: 260\n",
      "maximum Y (PCE [%]):  17.35\n"
     ]
    },
    {
     "name": "stderr",
     "output_type": "stream",
     "text": [
      "reconstraining parameters Mat52.lengthscale\n",
      "reconstraining parameters Mat52.variance\n"
     ]
    },
    {
     "name": "stdout",
     "output_type": "stream",
     "text": [
      "total condition no.: 280\n",
      "total device no.: 280\n",
      "maximum Y (PCE [%]):  17.35\n"
     ]
    },
    {
     "name": "stderr",
     "output_type": "stream",
     "text": [
      " C:\\Users\\Zhe\\AppData\\Roaming\\Python\\Python37\\site-packages\\emukit\\bayesian_optimization\\acquisitions\\log_acquisition.py:25: RuntimeWarning:invalid value encountered in log\n",
      "reconstraining parameters Mat52.lengthscale\n",
      "reconstraining parameters Mat52.variance\n"
     ]
    },
    {
     "name": "stdout",
     "output_type": "stream",
     "text": [
      "total condition no.: 300\n",
      "total device no.: 300\n",
      "maximum Y (PCE [%]):  17.35\n"
     ]
    },
    {
     "name": "stderr",
     "output_type": "stream",
     "text": [
      "reconstraining parameters Mat52.lengthscale\n",
      "reconstraining parameters Mat52.variance\n"
     ]
    },
    {
     "name": "stdout",
     "output_type": "stream",
     "text": [
      "     Temperature [°C]  Speed [mm/s]  Spray Flow [uL/min]  Plamsa Height [cm]  \\\n",
      "220        143.300984    181.011106          3855.432218             1.09566   \n",
      "\n",
      "     Plasma Gas Flow [L/min]  Plasma DC [%]  Efficiency [%]  \n",
      "220                     15.0      30.354282       17.346142  \n"
     ]
    },
    {
     "name": "stderr",
     "output_type": "stream",
     "text": [
      "reconstraining parameters Mat52.lengthscale\n",
      "reconstraining parameters Mat52.variance\n"
     ]
    },
    {
     "name": "stdout",
     "output_type": "stream",
     "text": [
      "total condition no.: 20\n",
      "total device no.: 20\n",
      "maximum Y (PCE [%]):  14.66\n",
      "total condition no.: 40\n",
      "total device no.: 40\n",
      "maximum Y (PCE [%]):  15.99\n"
     ]
    },
    {
     "name": "stderr",
     "output_type": "stream",
     "text": [
      "reconstraining parameters Mat52.lengthscale\n",
      "reconstraining parameters Mat52.variance\n"
     ]
    },
    {
     "name": "stdout",
     "output_type": "stream",
     "text": [
      "total condition no.: 60\n",
      "total device no.: 60\n",
      "maximum Y (PCE [%]):  15.99\n"
     ]
    },
    {
     "name": "stderr",
     "output_type": "stream",
     "text": [
      "reconstraining parameters Mat52.lengthscale\n",
      "reconstraining parameters Mat52.variance\n"
     ]
    },
    {
     "name": "stdout",
     "output_type": "stream",
     "text": [
      "total condition no.: 80\n",
      "total device no.: 80\n",
      "maximum Y (PCE [%]):  16.07\n"
     ]
    },
    {
     "name": "stderr",
     "output_type": "stream",
     "text": [
      "reconstraining parameters Mat52.lengthscale\n",
      "reconstraining parameters Mat52.variance\n"
     ]
    },
    {
     "name": "stdout",
     "output_type": "stream",
     "text": [
      "total condition no.: 100\n",
      "total device no.: 100\n",
      "maximum Y (PCE [%]):  16.07\n"
     ]
    },
    {
     "name": "stderr",
     "output_type": "stream",
     "text": [
      "reconstraining parameters Mat52.lengthscale\n",
      "reconstraining parameters Mat52.variance\n"
     ]
    },
    {
     "name": "stdout",
     "output_type": "stream",
     "text": [
      "total condition no.: 120\n",
      "total device no.: 120\n",
      "maximum Y (PCE [%]):  16.07\n"
     ]
    },
    {
     "name": "stderr",
     "output_type": "stream",
     "text": [
      "reconstraining parameters Mat52.lengthscale\n",
      "reconstraining parameters Mat52.variance\n"
     ]
    },
    {
     "name": "stdout",
     "output_type": "stream",
     "text": [
      "total condition no.: 140\n",
      "total device no.: 140\n",
      "maximum Y (PCE [%]):  16.07\n"
     ]
    },
    {
     "name": "stderr",
     "output_type": "stream",
     "text": [
      "reconstraining parameters Mat52.lengthscale\n",
      "reconstraining parameters Mat52.variance\n"
     ]
    },
    {
     "name": "stdout",
     "output_type": "stream",
     "text": [
      "total condition no.: 160\n",
      "total device no.: 160\n",
      "maximum Y (PCE [%]):  16.12\n"
     ]
    },
    {
     "name": "stderr",
     "output_type": "stream",
     "text": [
      "reconstraining parameters Mat52.lengthscale\n",
      "reconstraining parameters Mat52.variance\n"
     ]
    },
    {
     "name": "stdout",
     "output_type": "stream",
     "text": [
      "total condition no.: 180\n",
      "total device no.: 180\n",
      "maximum Y (PCE [%]):  16.13\n"
     ]
    },
    {
     "name": "stderr",
     "output_type": "stream",
     "text": [
      "reconstraining parameters Mat52.lengthscale\n",
      "reconstraining parameters Mat52.variance\n"
     ]
    },
    {
     "name": "stdout",
     "output_type": "stream",
     "text": [
      "total condition no.: 200\n",
      "total device no.: 200\n",
      "maximum Y (PCE [%]):  16.13\n"
     ]
    },
    {
     "name": "stderr",
     "output_type": "stream",
     "text": [
      "reconstraining parameters Mat52.lengthscale\n",
      "reconstraining parameters Mat52.variance\n"
     ]
    },
    {
     "name": "stdout",
     "output_type": "stream",
     "text": [
      "total condition no.: 220\n",
      "total device no.: 220\n",
      "maximum Y (PCE [%]):  16.13\n"
     ]
    },
    {
     "name": "stderr",
     "output_type": "stream",
     "text": [
      "reconstraining parameters Mat52.lengthscale\n",
      "reconstraining parameters Mat52.variance\n"
     ]
    },
    {
     "name": "stdout",
     "output_type": "stream",
     "text": [
      "total condition no.: 240\n",
      "total device no.: 240\n",
      "maximum Y (PCE [%]):  16.13\n"
     ]
    },
    {
     "name": "stderr",
     "output_type": "stream",
     "text": [
      "reconstraining parameters Mat52.lengthscale\n",
      "reconstraining parameters Mat52.variance\n"
     ]
    },
    {
     "name": "stdout",
     "output_type": "stream",
     "text": [
      "total condition no.: 260\n",
      "total device no.: 260\n",
      "maximum Y (PCE [%]):  16.7\n"
     ]
    },
    {
     "name": "stderr",
     "output_type": "stream",
     "text": [
      "reconstraining parameters Mat52.lengthscale\n",
      "reconstraining parameters Mat52.variance\n"
     ]
    },
    {
     "name": "stdout",
     "output_type": "stream",
     "text": [
      "total condition no.: 280\n",
      "total device no.: 280\n",
      "maximum Y (PCE [%]):  16.7\n"
     ]
    },
    {
     "name": "stderr",
     "output_type": "stream",
     "text": [
      "reconstraining parameters Mat52.lengthscale\n",
      "reconstraining parameters Mat52.variance\n"
     ]
    },
    {
     "name": "stdout",
     "output_type": "stream",
     "text": [
      "total condition no.: 300\n",
      "total device no.: 300\n",
      "maximum Y (PCE [%]):  16.7\n"
     ]
    },
    {
     "name": "stderr",
     "output_type": "stream",
     "text": [
      "reconstraining parameters Mat52.lengthscale\n",
      "reconstraining parameters Mat52.variance\n"
     ]
    },
    {
     "name": "stdout",
     "output_type": "stream",
     "text": [
      "     Temperature [°C]  Speed [mm/s]  Spray Flow [uL/min]  Plamsa Height [cm]  \\\n",
      "249        142.692454    178.687526          3313.162115                 0.8   \n",
      "\n",
      "     Plasma Gas Flow [L/min]  Plasma DC [%]  Efficiency [%]  \n",
      "249                19.184958           25.0        16.69508  \n"
     ]
    },
    {
     "name": "stderr",
     "output_type": "stream",
     "text": [
      "reconstraining parameters Mat52.lengthscale\n",
      "reconstraining parameters Mat52.variance\n"
     ]
    },
    {
     "name": "stdout",
     "output_type": "stream",
     "text": [
      "total condition no.: 20\n",
      "total device no.: 20\n",
      "maximum Y (PCE [%]):  13.18\n",
      "total condition no.: 40\n",
      "total device no.: 40\n",
      "maximum Y (PCE [%]):  15.49\n"
     ]
    },
    {
     "name": "stderr",
     "output_type": "stream",
     "text": [
      "reconstraining parameters Mat52.lengthscale\n",
      "reconstraining parameters Mat52.variance\n"
     ]
    },
    {
     "name": "stdout",
     "output_type": "stream",
     "text": [
      "total condition no.: 60\n",
      "total device no.: 60\n",
      "maximum Y (PCE [%]):  15.53\n"
     ]
    },
    {
     "name": "stderr",
     "output_type": "stream",
     "text": [
      "reconstraining parameters Mat52.lengthscale\n",
      "reconstraining parameters Mat52.variance\n"
     ]
    },
    {
     "name": "stdout",
     "output_type": "stream",
     "text": [
      "total condition no.: 80\n",
      "total device no.: 80\n",
      "maximum Y (PCE [%]):  16.03\n"
     ]
    },
    {
     "name": "stderr",
     "output_type": "stream",
     "text": [
      "reconstraining parameters Mat52.lengthscale\n",
      "reconstraining parameters Mat52.variance\n"
     ]
    },
    {
     "name": "stdout",
     "output_type": "stream",
     "text": [
      "total condition no.: 100\n",
      "total device no.: 100\n",
      "maximum Y (PCE [%]):  16.45\n"
     ]
    },
    {
     "name": "stderr",
     "output_type": "stream",
     "text": [
      "reconstraining parameters Mat52.lengthscale\n",
      "reconstraining parameters Mat52.variance\n"
     ]
    },
    {
     "name": "stdout",
     "output_type": "stream",
     "text": [
      "total condition no.: 120\n",
      "total device no.: 120\n",
      "maximum Y (PCE [%]):  16.63\n"
     ]
    },
    {
     "name": "stderr",
     "output_type": "stream",
     "text": [
      "reconstraining parameters Mat52.lengthscale\n",
      "reconstraining parameters Mat52.variance\n"
     ]
    },
    {
     "name": "stdout",
     "output_type": "stream",
     "text": [
      "total condition no.: 140\n",
      "total device no.: 140\n",
      "maximum Y (PCE [%]):  16.63\n"
     ]
    },
    {
     "name": "stderr",
     "output_type": "stream",
     "text": [
      "reconstraining parameters Mat52.lengthscale\n",
      "reconstraining parameters Mat52.variance\n"
     ]
    },
    {
     "name": "stdout",
     "output_type": "stream",
     "text": [
      "total condition no.: 160\n",
      "total device no.: 160\n",
      "maximum Y (PCE [%]):  16.65\n"
     ]
    },
    {
     "name": "stderr",
     "output_type": "stream",
     "text": [
      "reconstraining parameters Mat52.lengthscale\n",
      "reconstraining parameters Mat52.variance\n"
     ]
    },
    {
     "name": "stdout",
     "output_type": "stream",
     "text": [
      "total condition no.: 180\n",
      "total device no.: 180\n",
      "maximum Y (PCE [%]):  16.65\n"
     ]
    },
    {
     "name": "stderr",
     "output_type": "stream",
     "text": [
      "reconstraining parameters Mat52.lengthscale\n",
      "reconstraining parameters Mat52.variance\n"
     ]
    },
    {
     "name": "stdout",
     "output_type": "stream",
     "text": [
      "total condition no.: 200\n",
      "total device no.: 200\n",
      "maximum Y (PCE [%]):  16.7\n"
     ]
    },
    {
     "name": "stderr",
     "output_type": "stream",
     "text": [
      "reconstraining parameters Mat52.lengthscale\n",
      "reconstraining parameters Mat52.variance\n"
     ]
    },
    {
     "name": "stdout",
     "output_type": "stream",
     "text": [
      "total condition no.: 220\n",
      "total device no.: 220\n",
      "maximum Y (PCE [%]):  16.7\n"
     ]
    },
    {
     "name": "stderr",
     "output_type": "stream",
     "text": [
      "reconstraining parameters Mat52.lengthscale\n",
      "reconstraining parameters Mat52.variance\n"
     ]
    },
    {
     "name": "stdout",
     "output_type": "stream",
     "text": [
      "total condition no.: 240\n",
      "total device no.: 240\n",
      "maximum Y (PCE [%]):  16.7\n"
     ]
    },
    {
     "name": "stderr",
     "output_type": "stream",
     "text": [
      "reconstraining parameters Mat52.lengthscale\n",
      "reconstraining parameters Mat52.variance\n"
     ]
    },
    {
     "name": "stdout",
     "output_type": "stream",
     "text": [
      "total condition no.: 260\n",
      "total device no.: 260\n",
      "maximum Y (PCE [%]):  16.7\n"
     ]
    },
    {
     "name": "stderr",
     "output_type": "stream",
     "text": [
      "reconstraining parameters Mat52.lengthscale\n",
      "reconstraining parameters Mat52.variance\n"
     ]
    },
    {
     "name": "stdout",
     "output_type": "stream",
     "text": [
      "total condition no.: 280\n",
      "total device no.: 280\n",
      "maximum Y (PCE [%]):  16.7\n"
     ]
    },
    {
     "name": "stderr",
     "output_type": "stream",
     "text": [
      "reconstraining parameters Mat52.lengthscale\n",
      "reconstraining parameters Mat52.variance\n"
     ]
    },
    {
     "name": "stdout",
     "output_type": "stream",
     "text": [
      "total condition no.: 300\n",
      "total device no.: 300\n",
      "maximum Y (PCE [%]):  16.7\n"
     ]
    },
    {
     "name": "stderr",
     "output_type": "stream",
     "text": [
      "reconstraining parameters Mat52.lengthscale\n",
      "reconstraining parameters Mat52.variance\n"
     ]
    },
    {
     "name": "stdout",
     "output_type": "stream",
     "text": [
      "     Temperature [°C]  Speed [mm/s]  Spray Flow [uL/min]  Plamsa Height [cm]  \\\n",
      "183         143.45897    183.705091          3880.185725            1.109069   \n",
      "\n",
      "     Plasma Gas Flow [L/min]  Plasma DC [%]  Efficiency [%]  \n",
      "183                     15.0      37.584758       16.704181  \n"
     ]
    },
    {
     "name": "stderr",
     "output_type": "stream",
     "text": [
      "reconstraining parameters Mat52.lengthscale\n",
      "reconstraining parameters Mat52.variance\n"
     ]
    },
    {
     "name": "stdout",
     "output_type": "stream",
     "text": [
      "total condition no.: 20\n",
      "total device no.: 20\n",
      "maximum Y (PCE [%]):  15.22\n",
      "total condition no.: 40\n",
      "total device no.: 40\n",
      "maximum Y (PCE [%]):  15.58\n"
     ]
    },
    {
     "name": "stderr",
     "output_type": "stream",
     "text": [
      "reconstraining parameters Mat52.lengthscale\n",
      "reconstraining parameters Mat52.variance\n"
     ]
    },
    {
     "name": "stdout",
     "output_type": "stream",
     "text": [
      "total condition no.: 60\n",
      "total device no.: 60\n",
      "maximum Y (PCE [%]):  16.48\n"
     ]
    },
    {
     "name": "stderr",
     "output_type": "stream",
     "text": [
      "reconstraining parameters Mat52.lengthscale\n",
      "reconstraining parameters Mat52.variance\n"
     ]
    },
    {
     "name": "stdout",
     "output_type": "stream",
     "text": [
      "total condition no.: 80\n",
      "total device no.: 80\n",
      "maximum Y (PCE [%]):  16.71\n"
     ]
    },
    {
     "name": "stderr",
     "output_type": "stream",
     "text": [
      "reconstraining parameters Mat52.lengthscale\n",
      "reconstraining parameters Mat52.variance\n"
     ]
    },
    {
     "name": "stdout",
     "output_type": "stream",
     "text": [
      "total condition no.: 100\n",
      "total device no.: 100\n",
      "maximum Y (PCE [%]):  16.71\n"
     ]
    },
    {
     "name": "stderr",
     "output_type": "stream",
     "text": [
      "reconstraining parameters Mat52.lengthscale\n",
      "reconstraining parameters Mat52.variance\n"
     ]
    },
    {
     "name": "stdout",
     "output_type": "stream",
     "text": [
      "total condition no.: 120\n",
      "total device no.: 120\n",
      "maximum Y (PCE [%]):  16.71\n"
     ]
    },
    {
     "name": "stderr",
     "output_type": "stream",
     "text": [
      "reconstraining parameters Mat52.lengthscale\n",
      "reconstraining parameters Mat52.variance\n"
     ]
    },
    {
     "name": "stdout",
     "output_type": "stream",
     "text": [
      "total condition no.: 140\n",
      "total device no.: 140\n",
      "maximum Y (PCE [%]):  16.71\n"
     ]
    },
    {
     "name": "stderr",
     "output_type": "stream",
     "text": [
      "reconstraining parameters Mat52.lengthscale\n",
      "reconstraining parameters Mat52.variance\n"
     ]
    },
    {
     "name": "stdout",
     "output_type": "stream",
     "text": [
      "total condition no.: 160\n",
      "total device no.: 160\n",
      "maximum Y (PCE [%]):  16.71\n"
     ]
    },
    {
     "name": "stderr",
     "output_type": "stream",
     "text": [
      "reconstraining parameters Mat52.lengthscale\n",
      "reconstraining parameters Mat52.variance\n"
     ]
    },
    {
     "name": "stdout",
     "output_type": "stream",
     "text": [
      "total condition no.: 180\n",
      "total device no.: 180\n",
      "maximum Y (PCE [%]):  16.71\n"
     ]
    },
    {
     "name": "stderr",
     "output_type": "stream",
     "text": [
      "reconstraining parameters Mat52.lengthscale\n",
      "reconstraining parameters Mat52.variance\n"
     ]
    },
    {
     "name": "stdout",
     "output_type": "stream",
     "text": [
      "total condition no.: 200\n",
      "total device no.: 200\n",
      "maximum Y (PCE [%]):  16.71\n"
     ]
    },
    {
     "name": "stderr",
     "output_type": "stream",
     "text": [
      "reconstraining parameters Mat52.lengthscale\n",
      "reconstraining parameters Mat52.variance\n"
     ]
    },
    {
     "name": "stdout",
     "output_type": "stream",
     "text": [
      "total condition no.: 220\n",
      "total device no.: 220\n",
      "maximum Y (PCE [%]):  16.71\n"
     ]
    },
    {
     "name": "stderr",
     "output_type": "stream",
     "text": [
      "reconstraining parameters Mat52.lengthscale\n",
      "reconstraining parameters Mat52.variance\n"
     ]
    },
    {
     "name": "stdout",
     "output_type": "stream",
     "text": [
      "total condition no.: 240\n",
      "total device no.: 240\n",
      "maximum Y (PCE [%]):  16.71\n"
     ]
    },
    {
     "name": "stderr",
     "output_type": "stream",
     "text": [
      "reconstraining parameters Mat52.lengthscale\n",
      "reconstraining parameters Mat52.variance\n"
     ]
    },
    {
     "name": "stdout",
     "output_type": "stream",
     "text": [
      "total condition no.: 260\n",
      "total device no.: 260\n",
      "maximum Y (PCE [%]):  16.71\n"
     ]
    },
    {
     "name": "stderr",
     "output_type": "stream",
     "text": [
      "reconstraining parameters Mat52.lengthscale\n",
      "reconstraining parameters Mat52.variance\n"
     ]
    },
    {
     "name": "stdout",
     "output_type": "stream",
     "text": [
      "total condition no.: 280\n",
      "total device no.: 280\n",
      "maximum Y (PCE [%]):  16.71\n"
     ]
    },
    {
     "name": "stderr",
     "output_type": "stream",
     "text": [
      "reconstraining parameters Mat52.lengthscale\n",
      "reconstraining parameters Mat52.variance\n"
     ]
    },
    {
     "name": "stdout",
     "output_type": "stream",
     "text": [
      "total condition no.: 300\n",
      "total device no.: 300\n",
      "maximum Y (PCE [%]):  16.71\n"
     ]
    },
    {
     "name": "stderr",
     "output_type": "stream",
     "text": [
      "reconstraining parameters Mat52.lengthscale\n",
      "reconstraining parameters Mat52.variance\n"
     ]
    },
    {
     "name": "stdout",
     "output_type": "stream",
     "text": [
      "    Temperature [°C]  Speed [mm/s]  Spray Flow [uL/min]  Plamsa Height [cm]  \\\n",
      "62        144.773374    180.352369          3451.859125             1.19262   \n",
      "\n",
      "    Plasma Gas Flow [L/min]  Plasma DC [%]  Efficiency [%]  \n",
      "62                     15.0      49.615767       16.706072  \n"
     ]
    },
    {
     "name": "stderr",
     "output_type": "stream",
     "text": [
      "reconstraining parameters Mat52.lengthscale\n",
      "reconstraining parameters Mat52.variance\n"
     ]
    },
    {
     "name": "stdout",
     "output_type": "stream",
     "text": [
      "total condition no.: 20\n",
      "total device no.: 20\n",
      "maximum Y (PCE [%]):  13.54\n",
      "total condition no.: 40\n",
      "total device no.: 40\n",
      "maximum Y (PCE [%]):  14.83\n"
     ]
    },
    {
     "name": "stderr",
     "output_type": "stream",
     "text": [
      "reconstraining parameters Mat52.lengthscale\n",
      "reconstraining parameters Mat52.variance\n"
     ]
    },
    {
     "name": "stdout",
     "output_type": "stream",
     "text": [
      "total condition no.: 60\n",
      "total device no.: 60\n",
      "maximum Y (PCE [%]):  15.7\n"
     ]
    },
    {
     "name": "stderr",
     "output_type": "stream",
     "text": [
      "reconstraining parameters Mat52.lengthscale\n",
      "reconstraining parameters Mat52.variance\n"
     ]
    },
    {
     "name": "stdout",
     "output_type": "stream",
     "text": [
      "total condition no.: 80\n",
      "total device no.: 80\n",
      "maximum Y (PCE [%]):  15.7\n"
     ]
    },
    {
     "name": "stderr",
     "output_type": "stream",
     "text": [
      "reconstraining parameters Mat52.lengthscale\n",
      "reconstraining parameters Mat52.variance\n"
     ]
    },
    {
     "name": "stdout",
     "output_type": "stream",
     "text": [
      "total condition no.: 100\n",
      "total device no.: 100\n",
      "maximum Y (PCE [%]):  15.7\n"
     ]
    },
    {
     "name": "stderr",
     "output_type": "stream",
     "text": [
      "reconstraining parameters Mat52.lengthscale\n",
      "reconstraining parameters Mat52.variance\n"
     ]
    },
    {
     "name": "stdout",
     "output_type": "stream",
     "text": [
      "total condition no.: 120\n",
      "total device no.: 120\n",
      "maximum Y (PCE [%]):  16.12\n"
     ]
    },
    {
     "name": "stderr",
     "output_type": "stream",
     "text": [
      "reconstraining parameters Mat52.lengthscale\n",
      "reconstraining parameters Mat52.variance\n"
     ]
    },
    {
     "name": "stdout",
     "output_type": "stream",
     "text": [
      "total condition no.: 140\n",
      "total device no.: 140\n",
      "maximum Y (PCE [%]):  16.12\n"
     ]
    },
    {
     "name": "stderr",
     "output_type": "stream",
     "text": [
      "reconstraining parameters Mat52.lengthscale\n",
      "reconstraining parameters Mat52.variance\n"
     ]
    },
    {
     "name": "stdout",
     "output_type": "stream",
     "text": [
      "total condition no.: 160\n",
      "total device no.: 160\n",
      "maximum Y (PCE [%]):  16.24\n"
     ]
    },
    {
     "name": "stderr",
     "output_type": "stream",
     "text": [
      "reconstraining parameters Mat52.lengthscale\n",
      "reconstraining parameters Mat52.variance\n"
     ]
    },
    {
     "name": "stdout",
     "output_type": "stream",
     "text": [
      "total condition no.: 180\n",
      "total device no.: 180\n",
      "maximum Y (PCE [%]):  16.34\n"
     ]
    },
    {
     "name": "stderr",
     "output_type": "stream",
     "text": [
      "reconstraining parameters Mat52.lengthscale\n",
      "reconstraining parameters Mat52.variance\n"
     ]
    },
    {
     "name": "stdout",
     "output_type": "stream",
     "text": [
      "total condition no.: 200\n",
      "total device no.: 200\n",
      "maximum Y (PCE [%]):  16.54\n"
     ]
    },
    {
     "name": "stderr",
     "output_type": "stream",
     "text": [
      "reconstraining parameters Mat52.lengthscale\n",
      "reconstraining parameters Mat52.variance\n"
     ]
    },
    {
     "name": "stdout",
     "output_type": "stream",
     "text": [
      "total condition no.: 220\n",
      "total device no.: 220\n",
      "maximum Y (PCE [%]):  16.54\n"
     ]
    },
    {
     "name": "stderr",
     "output_type": "stream",
     "text": [
      "reconstraining parameters Mat52.lengthscale\n",
      "reconstraining parameters Mat52.variance\n"
     ]
    },
    {
     "name": "stdout",
     "output_type": "stream",
     "text": [
      "total condition no.: 240\n",
      "total device no.: 240\n",
      "maximum Y (PCE [%]):  16.56\n"
     ]
    },
    {
     "name": "stderr",
     "output_type": "stream",
     "text": [
      "reconstraining parameters Mat52.lengthscale\n",
      "reconstraining parameters Mat52.variance\n"
     ]
    },
    {
     "name": "stdout",
     "output_type": "stream",
     "text": [
      "total condition no.: 260\n",
      "total device no.: 260\n",
      "maximum Y (PCE [%]):  16.56\n"
     ]
    },
    {
     "name": "stderr",
     "output_type": "stream",
     "text": [
      "reconstraining parameters Mat52.lengthscale\n",
      "reconstraining parameters Mat52.variance\n"
     ]
    },
    {
     "name": "stdout",
     "output_type": "stream",
     "text": [
      "total condition no.: 280\n",
      "total device no.: 280\n",
      "maximum Y (PCE [%]):  16.56\n"
     ]
    },
    {
     "name": "stderr",
     "output_type": "stream",
     "text": [
      "reconstraining parameters Mat52.lengthscale\n",
      "reconstraining parameters Mat52.variance\n"
     ]
    },
    {
     "name": "stdout",
     "output_type": "stream",
     "text": [
      "total condition no.: 300\n",
      "total device no.: 300\n",
      "maximum Y (PCE [%]):  16.56\n"
     ]
    },
    {
     "name": "stderr",
     "output_type": "stream",
     "text": [
      "reconstraining parameters Mat52.lengthscale\n",
      "reconstraining parameters Mat52.variance\n"
     ]
    },
    {
     "name": "stdout",
     "output_type": "stream",
     "text": [
      "     Temperature [°C]  Speed [mm/s]  Spray Flow [uL/min]  Plamsa Height [cm]  \\\n",
      "312        146.291563    181.729505          3336.353922                 1.2   \n",
      "\n",
      "     Plasma Gas Flow [L/min]  Plasma DC [%]  Efficiency [%]  \n",
      "312                16.289577      54.991728       16.653446  \n",
      "total condition no.: 20\n",
      "total device no.: 20\n",
      "maximum Y (PCE [%]):  13.84\n"
     ]
    },
    {
     "name": "stderr",
     "output_type": "stream",
     "text": [
      "reconstraining parameters Mat52.lengthscale\n",
      "reconstraining parameters Mat52.variance\n"
     ]
    },
    {
     "name": "stdout",
     "output_type": "stream",
     "text": [
      "total condition no.: 40\n",
      "total device no.: 40\n",
      "maximum Y (PCE [%]):  14.89\n"
     ]
    },
    {
     "name": "stderr",
     "output_type": "stream",
     "text": [
      "reconstraining parameters Mat52.lengthscale\n",
      "reconstraining parameters Mat52.variance\n"
     ]
    },
    {
     "name": "stdout",
     "output_type": "stream",
     "text": [
      "total condition no.: 60\n",
      "total device no.: 60\n",
      "maximum Y (PCE [%]):  15.28\n"
     ]
    },
    {
     "name": "stderr",
     "output_type": "stream",
     "text": [
      "reconstraining parameters Mat52.lengthscale\n",
      "reconstraining parameters Mat52.variance\n"
     ]
    },
    {
     "name": "stdout",
     "output_type": "stream",
     "text": [
      "total condition no.: 80\n",
      "total device no.: 80\n",
      "maximum Y (PCE [%]):  16.63\n"
     ]
    },
    {
     "name": "stderr",
     "output_type": "stream",
     "text": [
      "reconstraining parameters Mat52.lengthscale\n",
      "reconstraining parameters Mat52.variance\n"
     ]
    },
    {
     "name": "stdout",
     "output_type": "stream",
     "text": [
      "total condition no.: 100\n",
      "total device no.: 100\n",
      "maximum Y (PCE [%]):  16.64\n"
     ]
    },
    {
     "name": "stderr",
     "output_type": "stream",
     "text": [
      "reconstraining parameters Mat52.lengthscale\n",
      "reconstraining parameters Mat52.variance\n"
     ]
    },
    {
     "name": "stdout",
     "output_type": "stream",
     "text": [
      "total condition no.: 120\n",
      "total device no.: 120\n",
      "maximum Y (PCE [%]):  16.65\n"
     ]
    },
    {
     "name": "stderr",
     "output_type": "stream",
     "text": [
      "reconstraining parameters Mat52.lengthscale\n",
      "reconstraining parameters Mat52.variance\n"
     ]
    },
    {
     "name": "stdout",
     "output_type": "stream",
     "text": [
      "total condition no.: 140\n",
      "total device no.: 140\n",
      "maximum Y (PCE [%]):  16.65\n"
     ]
    },
    {
     "name": "stderr",
     "output_type": "stream",
     "text": [
      "reconstraining parameters Mat52.lengthscale\n",
      "reconstraining parameters Mat52.variance\n"
     ]
    },
    {
     "name": "stdout",
     "output_type": "stream",
     "text": [
      "total condition no.: 160\n",
      "total device no.: 160\n",
      "maximum Y (PCE [%]):  16.65\n"
     ]
    },
    {
     "name": "stderr",
     "output_type": "stream",
     "text": [
      "reconstraining parameters Mat52.lengthscale\n",
      "reconstraining parameters Mat52.variance\n"
     ]
    },
    {
     "name": "stdout",
     "output_type": "stream",
     "text": [
      "total condition no.: 180\n",
      "total device no.: 180\n",
      "maximum Y (PCE [%]):  16.65\n"
     ]
    },
    {
     "name": "stderr",
     "output_type": "stream",
     "text": [
      "reconstraining parameters Mat52.lengthscale\n",
      "reconstraining parameters Mat52.variance\n"
     ]
    },
    {
     "name": "stdout",
     "output_type": "stream",
     "text": [
      "total condition no.: 200\n",
      "total device no.: 200\n",
      "maximum Y (PCE [%]):  16.65\n"
     ]
    },
    {
     "name": "stderr",
     "output_type": "stream",
     "text": [
      "reconstraining parameters Mat52.lengthscale\n",
      "reconstraining parameters Mat52.variance\n"
     ]
    },
    {
     "name": "stdout",
     "output_type": "stream",
     "text": [
      "total condition no.: 220\n",
      "total device no.: 220\n",
      "maximum Y (PCE [%]):  16.65\n"
     ]
    },
    {
     "name": "stderr",
     "output_type": "stream",
     "text": [
      "reconstraining parameters Mat52.lengthscale\n",
      "reconstraining parameters Mat52.variance\n"
     ]
    },
    {
     "name": "stdout",
     "output_type": "stream",
     "text": [
      "total condition no.: 240\n",
      "total device no.: 240\n",
      "maximum Y (PCE [%]):  16.65\n"
     ]
    },
    {
     "name": "stderr",
     "output_type": "stream",
     "text": [
      "reconstraining parameters Mat52.lengthscale\n",
      "reconstraining parameters Mat52.variance\n"
     ]
    },
    {
     "name": "stdout",
     "output_type": "stream",
     "text": [
      "total condition no.: 260\n",
      "total device no.: 260\n",
      "maximum Y (PCE [%]):  16.65\n"
     ]
    },
    {
     "name": "stderr",
     "output_type": "stream",
     "text": [
      "reconstraining parameters Mat52.lengthscale\n",
      "reconstraining parameters Mat52.variance\n"
     ]
    },
    {
     "name": "stdout",
     "output_type": "stream",
     "text": [
      "total condition no.: 280\n",
      "total device no.: 280\n",
      "maximum Y (PCE [%]):  16.75\n"
     ]
    },
    {
     "name": "stderr",
     "output_type": "stream",
     "text": [
      "reconstraining parameters Mat52.lengthscale\n",
      "reconstraining parameters Mat52.variance\n"
     ]
    },
    {
     "name": "stdout",
     "output_type": "stream",
     "text": [
      "total condition no.: 300\n",
      "total device no.: 300\n",
      "maximum Y (PCE [%]):  16.75\n"
     ]
    },
    {
     "name": "stderr",
     "output_type": "stream",
     "text": [
      "reconstraining parameters Mat52.lengthscale\n",
      "reconstraining parameters Mat52.variance\n"
     ]
    },
    {
     "name": "stdout",
     "output_type": "stream",
     "text": [
      "     Temperature [°C]  Speed [mm/s]  Spray Flow [uL/min]  Plamsa Height [cm]  \\\n",
      "279        140.499487    182.051182          3668.939204                 1.2   \n",
      "\n",
      "     Plasma Gas Flow [L/min]  Plasma DC [%]  Efficiency [%]  \n",
      "279                     15.0      29.463931       16.749162  \n"
     ]
    },
    {
     "name": "stderr",
     "output_type": "stream",
     "text": [
      " C:\\Users\\Zhe\\AppData\\Roaming\\Python\\Python37\\site-packages\\emukit\\bayesian_optimization\\acquisitions\\log_acquisition.py:25: RuntimeWarning:invalid value encountered in log\n",
      "reconstraining parameters Mat52.lengthscale\n",
      "reconstraining parameters Mat52.variance\n"
     ]
    },
    {
     "name": "stdout",
     "output_type": "stream",
     "text": [
      "total condition no.: 20\n",
      "total device no.: 20\n",
      "maximum Y (PCE [%]):  14.4\n",
      "total condition no.: 40\n",
      "total device no.: 40\n",
      "maximum Y (PCE [%]):  15.99\n"
     ]
    },
    {
     "name": "stderr",
     "output_type": "stream",
     "text": [
      " C:\\Users\\Zhe\\AppData\\Roaming\\Python\\Python37\\site-packages\\emukit\\bayesian_optimization\\acquisitions\\log_acquisition.py:25: RuntimeWarning:invalid value encountered in log\n",
      "reconstraining parameters Mat52.lengthscale\n",
      "reconstraining parameters Mat52.variance\n"
     ]
    },
    {
     "name": "stdout",
     "output_type": "stream",
     "text": [
      "total condition no.: 60\n",
      "total device no.: 60\n",
      "maximum Y (PCE [%]):  15.99\n"
     ]
    },
    {
     "name": "stderr",
     "output_type": "stream",
     "text": [
      "reconstraining parameters Mat52.lengthscale\n",
      "reconstraining parameters Mat52.variance\n"
     ]
    },
    {
     "name": "stdout",
     "output_type": "stream",
     "text": [
      "total condition no.: 80\n",
      "total device no.: 80\n",
      "maximum Y (PCE [%]):  16.26\n"
     ]
    },
    {
     "name": "stderr",
     "output_type": "stream",
     "text": [
      "reconstraining parameters Mat52.lengthscale\n",
      "reconstraining parameters Mat52.variance\n"
     ]
    },
    {
     "name": "stdout",
     "output_type": "stream",
     "text": [
      "total condition no.: 100\n",
      "total device no.: 100\n",
      "maximum Y (PCE [%]):  16.58\n"
     ]
    },
    {
     "name": "stderr",
     "output_type": "stream",
     "text": [
      "reconstraining parameters Mat52.lengthscale\n",
      "reconstraining parameters Mat52.variance\n"
     ]
    },
    {
     "name": "stdout",
     "output_type": "stream",
     "text": [
      "total condition no.: 120\n",
      "total device no.: 120\n",
      "maximum Y (PCE [%]):  16.61\n"
     ]
    },
    {
     "name": "stderr",
     "output_type": "stream",
     "text": [
      "reconstraining parameters Mat52.lengthscale\n",
      "reconstraining parameters Mat52.variance\n"
     ]
    },
    {
     "name": "stdout",
     "output_type": "stream",
     "text": [
      "total condition no.: 140\n",
      "total device no.: 140\n",
      "maximum Y (PCE [%]):  16.63\n"
     ]
    },
    {
     "name": "stderr",
     "output_type": "stream",
     "text": [
      "reconstraining parameters Mat52.lengthscale\n",
      "reconstraining parameters Mat52.variance\n"
     ]
    },
    {
     "name": "stdout",
     "output_type": "stream",
     "text": [
      "total condition no.: 160\n",
      "total device no.: 160\n",
      "maximum Y (PCE [%]):  16.63\n"
     ]
    },
    {
     "name": "stderr",
     "output_type": "stream",
     "text": [
      "reconstraining parameters Mat52.lengthscale\n",
      "reconstraining parameters Mat52.variance\n"
     ]
    },
    {
     "name": "stdout",
     "output_type": "stream",
     "text": [
      "total condition no.: 180\n",
      "total device no.: 180\n",
      "maximum Y (PCE [%]):  16.64\n"
     ]
    },
    {
     "name": "stderr",
     "output_type": "stream",
     "text": [
      "reconstraining parameters Mat52.lengthscale\n",
      "reconstraining parameters Mat52.variance\n"
     ]
    },
    {
     "name": "stdout",
     "output_type": "stream",
     "text": [
      "total condition no.: 200\n",
      "total device no.: 200\n",
      "maximum Y (PCE [%]):  16.64\n"
     ]
    },
    {
     "name": "stderr",
     "output_type": "stream",
     "text": [
      "reconstraining parameters Mat52.lengthscale\n",
      "reconstraining parameters Mat52.variance\n"
     ]
    },
    {
     "name": "stdout",
     "output_type": "stream",
     "text": [
      "total condition no.: 220\n",
      "total device no.: 220\n",
      "maximum Y (PCE [%]):  16.64\n"
     ]
    },
    {
     "name": "stderr",
     "output_type": "stream",
     "text": [
      "reconstraining parameters Mat52.lengthscale\n",
      "reconstraining parameters Mat52.variance\n"
     ]
    },
    {
     "name": "stdout",
     "output_type": "stream",
     "text": [
      "total condition no.: 240\n",
      "total device no.: 240\n",
      "maximum Y (PCE [%]):  16.64\n"
     ]
    },
    {
     "name": "stderr",
     "output_type": "stream",
     "text": [
      "reconstraining parameters Mat52.lengthscale\n",
      "reconstraining parameters Mat52.variance\n"
     ]
    },
    {
     "name": "stdout",
     "output_type": "stream",
     "text": [
      "total condition no.: 260\n",
      "total device no.: 260\n",
      "maximum Y (PCE [%]):  16.64\n"
     ]
    },
    {
     "name": "stderr",
     "output_type": "stream",
     "text": [
      "reconstraining parameters Mat52.lengthscale\n",
      "reconstraining parameters Mat52.variance\n"
     ]
    },
    {
     "name": "stdout",
     "output_type": "stream",
     "text": [
      "total condition no.: 280\n",
      "total device no.: 280\n",
      "maximum Y (PCE [%]):  16.64\n"
     ]
    },
    {
     "name": "stderr",
     "output_type": "stream",
     "text": [
      "reconstraining parameters Mat52.lengthscale\n",
      "reconstraining parameters Mat52.variance\n"
     ]
    },
    {
     "name": "stdout",
     "output_type": "stream",
     "text": [
      "total condition no.: 300\n",
      "total device no.: 300\n",
      "maximum Y (PCE [%]):  17.13\n",
      "     Temperature [°C]  Speed [mm/s]  Spray Flow [uL/min]  Plamsa Height [cm]  \\\n",
      "290        147.067285    176.596191          3536.165709            1.071674   \n",
      "\n",
      "     Plasma Gas Flow [L/min]  Plasma DC [%]  Efficiency [%]  \n",
      "290                     15.0      31.042881       17.128242  \n"
     ]
    },
    {
     "name": "stderr",
     "output_type": "stream",
     "text": [
      "reconstraining parameters Mat52.lengthscale\n",
      "reconstraining parameters Mat52.variance\n"
     ]
    },
    {
     "name": "stdout",
     "output_type": "stream",
     "text": [
      "total condition no.: 20\n",
      "total device no.: 20\n",
      "maximum Y (PCE [%]):  14.39\n"
     ]
    },
    {
     "name": "stderr",
     "output_type": "stream",
     "text": [
      "reconstraining parameters Mat52.lengthscale\n",
      "reconstraining parameters Mat52.variance\n"
     ]
    },
    {
     "name": "stdout",
     "output_type": "stream",
     "text": [
      "total condition no.: 40\n",
      "total device no.: 40\n",
      "maximum Y (PCE [%]):  14.52\n"
     ]
    },
    {
     "name": "stderr",
     "output_type": "stream",
     "text": [
      "reconstraining parameters Mat52.lengthscale\n",
      "reconstraining parameters Mat52.variance\n"
     ]
    },
    {
     "name": "stdout",
     "output_type": "stream",
     "text": [
      "total condition no.: 60\n",
      "total device no.: 60\n",
      "maximum Y (PCE [%]):  15.89\n"
     ]
    },
    {
     "name": "stderr",
     "output_type": "stream",
     "text": [
      "reconstraining parameters Mat52.lengthscale\n",
      "reconstraining parameters Mat52.variance\n"
     ]
    },
    {
     "name": "stdout",
     "output_type": "stream",
     "text": [
      "total condition no.: 80\n",
      "total device no.: 80\n",
      "maximum Y (PCE [%]):  15.89\n"
     ]
    },
    {
     "name": "stderr",
     "output_type": "stream",
     "text": [
      "reconstraining parameters Mat52.lengthscale\n",
      "reconstraining parameters Mat52.variance\n"
     ]
    },
    {
     "name": "stdout",
     "output_type": "stream",
     "text": [
      "total condition no.: 100\n",
      "total device no.: 100\n",
      "maximum Y (PCE [%]):  16.2\n"
     ]
    },
    {
     "name": "stderr",
     "output_type": "stream",
     "text": [
      "reconstraining parameters Mat52.lengthscale\n",
      "reconstraining parameters Mat52.variance\n"
     ]
    },
    {
     "name": "stdout",
     "output_type": "stream",
     "text": [
      "total condition no.: 120\n",
      "total device no.: 120\n",
      "maximum Y (PCE [%]):  16.2\n"
     ]
    },
    {
     "name": "stderr",
     "output_type": "stream",
     "text": [
      "reconstraining parameters Mat52.lengthscale\n",
      "reconstraining parameters Mat52.variance\n"
     ]
    },
    {
     "name": "stdout",
     "output_type": "stream",
     "text": [
      "total condition no.: 140\n",
      "total device no.: 140\n",
      "maximum Y (PCE [%]):  16.2\n"
     ]
    },
    {
     "name": "stderr",
     "output_type": "stream",
     "text": [
      "reconstraining parameters Mat52.lengthscale\n",
      "reconstraining parameters Mat52.variance\n"
     ]
    },
    {
     "name": "stdout",
     "output_type": "stream",
     "text": [
      "total condition no.: 160\n",
      "total device no.: 160\n",
      "maximum Y (PCE [%]):  16.2\n"
     ]
    },
    {
     "name": "stderr",
     "output_type": "stream",
     "text": [
      "reconstraining parameters Mat52.lengthscale\n",
      "reconstraining parameters Mat52.variance\n"
     ]
    },
    {
     "name": "stdout",
     "output_type": "stream",
     "text": [
      "total condition no.: 180\n",
      "total device no.: 180\n",
      "maximum Y (PCE [%]):  16.2\n"
     ]
    },
    {
     "name": "stderr",
     "output_type": "stream",
     "text": [
      "reconstraining parameters Mat52.lengthscale\n",
      "reconstraining parameters Mat52.variance\n"
     ]
    },
    {
     "name": "stdout",
     "output_type": "stream",
     "text": [
      "total condition no.: 200\n",
      "total device no.: 200\n",
      "maximum Y (PCE [%]):  16.35\n"
     ]
    },
    {
     "name": "stderr",
     "output_type": "stream",
     "text": [
      "reconstraining parameters Mat52.lengthscale\n",
      "reconstraining parameters Mat52.variance\n"
     ]
    },
    {
     "name": "stdout",
     "output_type": "stream",
     "text": [
      "total condition no.: 220\n",
      "total device no.: 220\n",
      "maximum Y (PCE [%]):  16.35\n"
     ]
    },
    {
     "name": "stderr",
     "output_type": "stream",
     "text": [
      "reconstraining parameters Mat52.lengthscale\n",
      "reconstraining parameters Mat52.variance\n"
     ]
    },
    {
     "name": "stdout",
     "output_type": "stream",
     "text": [
      "total condition no.: 240\n",
      "total device no.: 240\n",
      "maximum Y (PCE [%]):  16.5\n"
     ]
    },
    {
     "name": "stderr",
     "output_type": "stream",
     "text": [
      "reconstraining parameters Mat52.lengthscale\n",
      "reconstraining parameters Mat52.variance\n"
     ]
    },
    {
     "name": "stdout",
     "output_type": "stream",
     "text": [
      "total condition no.: 260\n",
      "total device no.: 260\n",
      "maximum Y (PCE [%]):  16.5\n"
     ]
    },
    {
     "name": "stderr",
     "output_type": "stream",
     "text": [
      "reconstraining parameters Mat52.lengthscale\n",
      "reconstraining parameters Mat52.variance\n"
     ]
    },
    {
     "name": "stdout",
     "output_type": "stream",
     "text": [
      "total condition no.: 280\n",
      "total device no.: 280\n",
      "maximum Y (PCE [%]):  16.69\n"
     ]
    },
    {
     "name": "stderr",
     "output_type": "stream",
     "text": [
      "reconstraining parameters Mat52.lengthscale\n",
      "reconstraining parameters Mat52.variance\n"
     ]
    },
    {
     "name": "stdout",
     "output_type": "stream",
     "text": [
      "total condition no.: 300\n",
      "total device no.: 300\n",
      "maximum Y (PCE [%]):  16.69\n",
      "     Temperature [°C]  Speed [mm/s]  Spray Flow [uL/min]  Plamsa Height [cm]  \\\n",
      "271        144.153275    129.764835          2968.112673            1.179531   \n",
      "\n",
      "     Plasma Gas Flow [L/min]  Plasma DC [%]  Efficiency [%]  \n",
      "271                     15.0      52.940039       16.690397  \n"
     ]
    },
    {
     "name": "stderr",
     "output_type": "stream",
     "text": [
      "reconstraining parameters Mat52.lengthscale\n",
      "reconstraining parameters Mat52.variance\n"
     ]
    },
    {
     "name": "stdout",
     "output_type": "stream",
     "text": [
      "total condition no.: 20\n",
      "total device no.: 20\n",
      "maximum Y (PCE [%]):  14.7\n"
     ]
    },
    {
     "name": "stderr",
     "output_type": "stream",
     "text": [
      "reconstraining parameters Mat52.lengthscale\n",
      "reconstraining parameters Mat52.variance\n"
     ]
    },
    {
     "name": "stdout",
     "output_type": "stream",
     "text": [
      "total condition no.: 40\n",
      "total device no.: 40\n",
      "maximum Y (PCE [%]):  14.7\n"
     ]
    },
    {
     "name": "stderr",
     "output_type": "stream",
     "text": [
      "reconstraining parameters Mat52.lengthscale\n",
      "reconstraining parameters Mat52.variance\n"
     ]
    },
    {
     "name": "stdout",
     "output_type": "stream",
     "text": [
      "total condition no.: 60\n",
      "total device no.: 60\n",
      "maximum Y (PCE [%]):  14.93\n"
     ]
    },
    {
     "name": "stderr",
     "output_type": "stream",
     "text": [
      "reconstraining parameters Mat52.lengthscale\n",
      "reconstraining parameters Mat52.variance\n"
     ]
    },
    {
     "name": "stdout",
     "output_type": "stream",
     "text": [
      "total condition no.: 80\n",
      "total device no.: 80\n",
      "maximum Y (PCE [%]):  15.91\n"
     ]
    },
    {
     "name": "stderr",
     "output_type": "stream",
     "text": [
      "reconstraining parameters Mat52.lengthscale\n",
      "reconstraining parameters Mat52.variance\n"
     ]
    },
    {
     "name": "stdout",
     "output_type": "stream",
     "text": [
      "total condition no.: 100\n",
      "total device no.: 100\n",
      "maximum Y (PCE [%]):  16.44\n"
     ]
    },
    {
     "name": "stderr",
     "output_type": "stream",
     "text": [
      "reconstraining parameters Mat52.lengthscale\n",
      "reconstraining parameters Mat52.variance\n"
     ]
    },
    {
     "name": "stdout",
     "output_type": "stream",
     "text": [
      "total condition no.: 120\n",
      "total device no.: 120\n",
      "maximum Y (PCE [%]):  16.44\n"
     ]
    },
    {
     "name": "stderr",
     "output_type": "stream",
     "text": [
      "reconstraining parameters Mat52.lengthscale\n",
      "reconstraining parameters Mat52.variance\n"
     ]
    },
    {
     "name": "stdout",
     "output_type": "stream",
     "text": [
      "total condition no.: 140\n",
      "total device no.: 140\n",
      "maximum Y (PCE [%]):  16.44\n"
     ]
    },
    {
     "name": "stderr",
     "output_type": "stream",
     "text": [
      "reconstraining parameters Mat52.lengthscale\n",
      "reconstraining parameters Mat52.variance\n"
     ]
    },
    {
     "name": "stdout",
     "output_type": "stream",
     "text": [
      "total condition no.: 160\n",
      "total device no.: 160\n",
      "maximum Y (PCE [%]):  16.44\n"
     ]
    },
    {
     "name": "stderr",
     "output_type": "stream",
     "text": [
      "reconstraining parameters Mat52.lengthscale\n",
      "reconstraining parameters Mat52.variance\n"
     ]
    },
    {
     "name": "stdout",
     "output_type": "stream",
     "text": [
      "total condition no.: 180\n",
      "total device no.: 180\n",
      "maximum Y (PCE [%]):  16.44\n"
     ]
    },
    {
     "name": "stderr",
     "output_type": "stream",
     "text": [
      "reconstraining parameters Mat52.lengthscale\n",
      "reconstraining parameters Mat52.variance\n"
     ]
    },
    {
     "name": "stdout",
     "output_type": "stream",
     "text": [
      "total condition no.: 200\n",
      "total device no.: 200\n",
      "maximum Y (PCE [%]):  16.55\n"
     ]
    },
    {
     "name": "stderr",
     "output_type": "stream",
     "text": [
      "reconstraining parameters Mat52.lengthscale\n",
      "reconstraining parameters Mat52.variance\n"
     ]
    },
    {
     "name": "stdout",
     "output_type": "stream",
     "text": [
      "total condition no.: 220\n",
      "total device no.: 220\n",
      "maximum Y (PCE [%]):  17.02\n"
     ]
    },
    {
     "name": "stderr",
     "output_type": "stream",
     "text": [
      "reconstraining parameters Mat52.lengthscale\n",
      "reconstraining parameters Mat52.variance\n"
     ]
    },
    {
     "name": "stdout",
     "output_type": "stream",
     "text": [
      "total condition no.: 240\n",
      "total device no.: 240\n",
      "maximum Y (PCE [%]):  17.14\n"
     ]
    },
    {
     "name": "stderr",
     "output_type": "stream",
     "text": [
      "reconstraining parameters Mat52.lengthscale\n",
      "reconstraining parameters Mat52.variance\n"
     ]
    },
    {
     "name": "stdout",
     "output_type": "stream",
     "text": [
      "total condition no.: 260\n",
      "total device no.: 260\n",
      "maximum Y (PCE [%]):  17.14\n"
     ]
    },
    {
     "name": "stderr",
     "output_type": "stream",
     "text": [
      "reconstraining parameters Mat52.lengthscale\n",
      "reconstraining parameters Mat52.variance\n"
     ]
    },
    {
     "name": "stdout",
     "output_type": "stream",
     "text": [
      "total condition no.: 280\n",
      "total device no.: 280\n",
      "maximum Y (PCE [%]):  17.34\n"
     ]
    },
    {
     "name": "stderr",
     "output_type": "stream",
     "text": [
      "reconstraining parameters Mat52.lengthscale\n",
      "reconstraining parameters Mat52.variance\n"
     ]
    },
    {
     "name": "stdout",
     "output_type": "stream",
     "text": [
      "total condition no.: 300\n",
      "total device no.: 300\n",
      "maximum Y (PCE [%]):  17.34\n"
     ]
    },
    {
     "name": "stderr",
     "output_type": "stream",
     "text": [
      "reconstraining parameters Mat52.lengthscale\n",
      "reconstraining parameters Mat52.variance\n"
     ]
    },
    {
     "name": "stdout",
     "output_type": "stream",
     "text": [
      "     Temperature [°C]  Speed [mm/s]  Spray Flow [uL/min]  Plamsa Height [cm]  \\\n",
      "278         142.73205    129.180716          3167.771437            1.083284   \n",
      "\n",
      "     Plasma Gas Flow [L/min]  Plasma DC [%]  Efficiency [%]  \n",
      "278                16.462337       29.55258       17.342873  \n",
      "total condition no.: 20\n",
      "total device no.: 20\n",
      "maximum Y (PCE [%]):  12.72\n"
     ]
    },
    {
     "name": "stderr",
     "output_type": "stream",
     "text": [
      "reconstraining parameters Mat52.lengthscale\n",
      "reconstraining parameters Mat52.variance\n"
     ]
    },
    {
     "name": "stdout",
     "output_type": "stream",
     "text": [
      "total condition no.: 40\n",
      "total device no.: 40\n",
      "maximum Y (PCE [%]):  15.02\n"
     ]
    },
    {
     "name": "stderr",
     "output_type": "stream",
     "text": [
      "reconstraining parameters Mat52.lengthscale\n",
      "reconstraining parameters Mat52.variance\n"
     ]
    },
    {
     "name": "stdout",
     "output_type": "stream",
     "text": [
      "total condition no.: 60\n",
      "total device no.: 60\n",
      "maximum Y (PCE [%]):  15.93\n"
     ]
    },
    {
     "name": "stderr",
     "output_type": "stream",
     "text": [
      "reconstraining parameters Mat52.lengthscale\n",
      "reconstraining parameters Mat52.variance\n"
     ]
    },
    {
     "name": "stdout",
     "output_type": "stream",
     "text": [
      "total condition no.: 80\n",
      "total device no.: 80\n",
      "maximum Y (PCE [%]):  16.3\n"
     ]
    },
    {
     "name": "stderr",
     "output_type": "stream",
     "text": [
      "reconstraining parameters Mat52.lengthscale\n",
      "reconstraining parameters Mat52.variance\n"
     ]
    },
    {
     "name": "stdout",
     "output_type": "stream",
     "text": [
      "total condition no.: 100\n",
      "total device no.: 100\n",
      "maximum Y (PCE [%]):  16.65\n"
     ]
    },
    {
     "name": "stderr",
     "output_type": "stream",
     "text": [
      "reconstraining parameters Mat52.lengthscale\n",
      "reconstraining parameters Mat52.variance\n"
     ]
    },
    {
     "name": "stdout",
     "output_type": "stream",
     "text": [
      "total condition no.: 120\n",
      "total device no.: 120\n",
      "maximum Y (PCE [%]):  16.65\n"
     ]
    },
    {
     "name": "stderr",
     "output_type": "stream",
     "text": [
      "reconstraining parameters Mat52.lengthscale\n",
      "reconstraining parameters Mat52.variance\n"
     ]
    },
    {
     "name": "stdout",
     "output_type": "stream",
     "text": [
      "total condition no.: 140\n",
      "total device no.: 140\n",
      "maximum Y (PCE [%]):  16.65\n"
     ]
    },
    {
     "name": "stderr",
     "output_type": "stream",
     "text": [
      "reconstraining parameters Mat52.lengthscale\n",
      "reconstraining parameters Mat52.variance\n"
     ]
    },
    {
     "name": "stdout",
     "output_type": "stream",
     "text": [
      "total condition no.: 160\n",
      "total device no.: 160\n",
      "maximum Y (PCE [%]):  16.65\n"
     ]
    },
    {
     "name": "stderr",
     "output_type": "stream",
     "text": [
      "reconstraining parameters Mat52.lengthscale\n",
      "reconstraining parameters Mat52.variance\n"
     ]
    },
    {
     "name": "stdout",
     "output_type": "stream",
     "text": [
      "total condition no.: 180\n",
      "total device no.: 180\n",
      "maximum Y (PCE [%]):  16.65\n"
     ]
    },
    {
     "name": "stderr",
     "output_type": "stream",
     "text": [
      "reconstraining parameters Mat52.lengthscale\n",
      "reconstraining parameters Mat52.variance\n"
     ]
    },
    {
     "name": "stdout",
     "output_type": "stream",
     "text": [
      "total condition no.: 200\n",
      "total device no.: 200\n",
      "maximum Y (PCE [%]):  16.66\n"
     ]
    },
    {
     "name": "stderr",
     "output_type": "stream",
     "text": [
      "reconstraining parameters Mat52.lengthscale\n",
      "reconstraining parameters Mat52.variance\n"
     ]
    },
    {
     "name": "stdout",
     "output_type": "stream",
     "text": [
      "total condition no.: 220\n",
      "total device no.: 220\n",
      "maximum Y (PCE [%]):  16.66\n"
     ]
    },
    {
     "name": "stderr",
     "output_type": "stream",
     "text": [
      "reconstraining parameters Mat52.lengthscale\n",
      "reconstraining parameters Mat52.variance\n"
     ]
    },
    {
     "name": "stdout",
     "output_type": "stream",
     "text": [
      "total condition no.: 240\n",
      "total device no.: 240\n",
      "maximum Y (PCE [%]):  16.66\n"
     ]
    },
    {
     "name": "stderr",
     "output_type": "stream",
     "text": [
      "reconstraining parameters Mat52.lengthscale\n",
      "reconstraining parameters Mat52.variance\n"
     ]
    },
    {
     "name": "stdout",
     "output_type": "stream",
     "text": [
      "total condition no.: 260\n",
      "total device no.: 260\n",
      "maximum Y (PCE [%]):  16.66\n"
     ]
    },
    {
     "name": "stderr",
     "output_type": "stream",
     "text": [
      "reconstraining parameters Mat52.lengthscale\n",
      "reconstraining parameters Mat52.variance\n"
     ]
    },
    {
     "name": "stdout",
     "output_type": "stream",
     "text": [
      "total condition no.: 280\n",
      "total device no.: 280\n",
      "maximum Y (PCE [%]):  16.66\n"
     ]
    },
    {
     "name": "stderr",
     "output_type": "stream",
     "text": [
      "reconstraining parameters Mat52.lengthscale\n",
      "reconstraining parameters Mat52.variance\n"
     ]
    },
    {
     "name": "stdout",
     "output_type": "stream",
     "text": [
      "total condition no.: 300\n",
      "total device no.: 300\n",
      "maximum Y (PCE [%]):  16.66\n"
     ]
    },
    {
     "name": "stderr",
     "output_type": "stream",
     "text": [
      "reconstraining parameters Mat52.lengthscale\n",
      "reconstraining parameters Mat52.variance\n"
     ]
    },
    {
     "name": "stdout",
     "output_type": "stream",
     "text": [
      "     Temperature [°C]  Speed [mm/s]  Spray Flow [uL/min]  Plamsa Height [cm]  \\\n",
      "194        145.561248    175.702372          3853.512138               1.063   \n",
      "\n",
      "     Plasma Gas Flow [L/min]  Plasma DC [%]  Efficiency [%]  \n",
      "194                     15.0      50.563188       16.655978  \n",
      "total condition no.: 20\n",
      "total device no.: 20\n",
      "maximum Y (PCE [%]):  13.97\n"
     ]
    },
    {
     "name": "stderr",
     "output_type": "stream",
     "text": [
      "reconstraining parameters Mat52.lengthscale\n",
      "reconstraining parameters Mat52.variance\n"
     ]
    },
    {
     "name": "stdout",
     "output_type": "stream",
     "text": [
      "total condition no.: 40\n",
      "total device no.: 40\n",
      "maximum Y (PCE [%]):  15.0\n"
     ]
    },
    {
     "name": "stderr",
     "output_type": "stream",
     "text": [
      "reconstraining parameters Mat52.lengthscale\n",
      "reconstraining parameters Mat52.variance\n"
     ]
    },
    {
     "name": "stdout",
     "output_type": "stream",
     "text": [
      "total condition no.: 60\n",
      "total device no.: 60\n",
      "maximum Y (PCE [%]):  15.14\n"
     ]
    },
    {
     "name": "stderr",
     "output_type": "stream",
     "text": [
      "reconstraining parameters Mat52.lengthscale\n",
      "reconstraining parameters Mat52.variance\n"
     ]
    },
    {
     "name": "stdout",
     "output_type": "stream",
     "text": [
      "total condition no.: 80\n",
      "total device no.: 80\n",
      "maximum Y (PCE [%]):  15.86\n"
     ]
    },
    {
     "name": "stderr",
     "output_type": "stream",
     "text": [
      "reconstraining parameters Mat52.lengthscale\n",
      "reconstraining parameters Mat52.variance\n"
     ]
    },
    {
     "name": "stdout",
     "output_type": "stream",
     "text": [
      "total condition no.: 100\n",
      "total device no.: 100\n",
      "maximum Y (PCE [%]):  16.0\n"
     ]
    },
    {
     "name": "stderr",
     "output_type": "stream",
     "text": [
      "reconstraining parameters Mat52.lengthscale\n",
      "reconstraining parameters Mat52.variance\n"
     ]
    },
    {
     "name": "stdout",
     "output_type": "stream",
     "text": [
      "total condition no.: 120\n",
      "total device no.: 120\n",
      "maximum Y (PCE [%]):  16.08\n"
     ]
    },
    {
     "name": "stderr",
     "output_type": "stream",
     "text": [
      "reconstraining parameters Mat52.lengthscale\n",
      "reconstraining parameters Mat52.variance\n"
     ]
    },
    {
     "name": "stdout",
     "output_type": "stream",
     "text": [
      "total condition no.: 140\n",
      "total device no.: 140\n",
      "maximum Y (PCE [%]):  16.08\n"
     ]
    },
    {
     "name": "stderr",
     "output_type": "stream",
     "text": [
      "reconstraining parameters Mat52.lengthscale\n",
      "reconstraining parameters Mat52.variance\n"
     ]
    },
    {
     "name": "stdout",
     "output_type": "stream",
     "text": [
      "total condition no.: 160\n",
      "total device no.: 160\n",
      "maximum Y (PCE [%]):  16.08\n"
     ]
    },
    {
     "name": "stderr",
     "output_type": "stream",
     "text": [
      "reconstraining parameters Mat52.lengthscale\n",
      "reconstraining parameters Mat52.variance\n"
     ]
    },
    {
     "name": "stdout",
     "output_type": "stream",
     "text": [
      "total condition no.: 180\n",
      "total device no.: 180\n",
      "maximum Y (PCE [%]):  16.12\n"
     ]
    },
    {
     "name": "stderr",
     "output_type": "stream",
     "text": [
      "reconstraining parameters Mat52.lengthscale\n",
      "reconstraining parameters Mat52.variance\n"
     ]
    },
    {
     "name": "stdout",
     "output_type": "stream",
     "text": [
      "total condition no.: 200\n",
      "total device no.: 200\n",
      "maximum Y (PCE [%]):  16.3\n"
     ]
    },
    {
     "name": "stderr",
     "output_type": "stream",
     "text": [
      "reconstraining parameters Mat52.lengthscale\n",
      "reconstraining parameters Mat52.variance\n"
     ]
    },
    {
     "name": "stdout",
     "output_type": "stream",
     "text": [
      "total condition no.: 220\n",
      "total device no.: 220\n",
      "maximum Y (PCE [%]):  16.3\n"
     ]
    },
    {
     "name": "stderr",
     "output_type": "stream",
     "text": [
      "reconstraining parameters Mat52.lengthscale\n",
      "reconstraining parameters Mat52.variance\n"
     ]
    },
    {
     "name": "stdout",
     "output_type": "stream",
     "text": [
      "total condition no.: 240\n",
      "total device no.: 240\n",
      "maximum Y (PCE [%]):  16.32\n"
     ]
    },
    {
     "name": "stderr",
     "output_type": "stream",
     "text": [
      "reconstraining parameters Mat52.lengthscale\n",
      "reconstraining parameters Mat52.variance\n"
     ]
    },
    {
     "name": "stdout",
     "output_type": "stream",
     "text": [
      "total condition no.: 260\n",
      "total device no.: 260\n",
      "maximum Y (PCE [%]):  16.58\n"
     ]
    },
    {
     "name": "stderr",
     "output_type": "stream",
     "text": [
      "reconstraining parameters Mat52.lengthscale\n",
      "reconstraining parameters Mat52.variance\n"
     ]
    },
    {
     "name": "stdout",
     "output_type": "stream",
     "text": [
      "total condition no.: 280\n",
      "total device no.: 280\n",
      "maximum Y (PCE [%]):  16.9\n"
     ]
    },
    {
     "name": "stderr",
     "output_type": "stream",
     "text": [
      "reconstraining parameters Mat52.lengthscale\n",
      "reconstraining parameters Mat52.variance\n"
     ]
    },
    {
     "name": "stdout",
     "output_type": "stream",
     "text": [
      "total condition no.: 300\n",
      "total device no.: 300\n",
      "maximum Y (PCE [%]):  17.08\n",
      "     Temperature [°C]  Speed [mm/s]  Spray Flow [uL/min]  Plamsa Height [cm]  \\\n",
      "313        142.529699    145.966571           3320.91834                 1.2   \n",
      "\n",
      "     Plasma Gas Flow [L/min]  Plasma DC [%]  Efficiency [%]  \n",
      "313                     15.0           25.0       17.150733  \n"
     ]
    },
    {
     "name": "stderr",
     "output_type": "stream",
     "text": [
      "reconstraining parameters Mat52.lengthscale\n",
      "reconstraining parameters Mat52.variance\n"
     ]
    },
    {
     "name": "stdout",
     "output_type": "stream",
     "text": [
      "total condition no.: 20\n",
      "total device no.: 20\n",
      "maximum Y (PCE [%]):  13.99\n"
     ]
    },
    {
     "name": "stderr",
     "output_type": "stream",
     "text": [
      "reconstraining parameters Mat52.lengthscale\n",
      "reconstraining parameters Mat52.variance\n"
     ]
    },
    {
     "name": "stdout",
     "output_type": "stream",
     "text": [
      "total condition no.: 40\n",
      "total device no.: 40\n",
      "maximum Y (PCE [%]):  16.0\n"
     ]
    },
    {
     "name": "stderr",
     "output_type": "stream",
     "text": [
      "reconstraining parameters Mat52.lengthscale\n",
      "reconstraining parameters Mat52.variance\n"
     ]
    },
    {
     "name": "stdout",
     "output_type": "stream",
     "text": [
      "total condition no.: 60\n",
      "total device no.: 60\n",
      "maximum Y (PCE [%]):  16.0\n"
     ]
    },
    {
     "name": "stderr",
     "output_type": "stream",
     "text": [
      "reconstraining parameters Mat52.lengthscale\n",
      "reconstraining parameters Mat52.variance\n"
     ]
    },
    {
     "name": "stdout",
     "output_type": "stream",
     "text": [
      "total condition no.: 80\n",
      "total device no.: 80\n",
      "maximum Y (PCE [%]):  16.38\n"
     ]
    },
    {
     "name": "stderr",
     "output_type": "stream",
     "text": [
      "reconstraining parameters Mat52.lengthscale\n",
      "reconstraining parameters Mat52.variance\n"
     ]
    },
    {
     "name": "stdout",
     "output_type": "stream",
     "text": [
      "total condition no.: 100\n",
      "total device no.: 100\n",
      "maximum Y (PCE [%]):  16.51\n"
     ]
    },
    {
     "name": "stderr",
     "output_type": "stream",
     "text": [
      "reconstraining parameters Mat52.lengthscale\n",
      "reconstraining parameters Mat52.variance\n"
     ]
    },
    {
     "name": "stdout",
     "output_type": "stream",
     "text": [
      "total condition no.: 120\n",
      "total device no.: 120\n",
      "maximum Y (PCE [%]):  16.65\n"
     ]
    },
    {
     "name": "stderr",
     "output_type": "stream",
     "text": [
      "reconstraining parameters Mat52.lengthscale\n",
      "reconstraining parameters Mat52.variance\n"
     ]
    },
    {
     "name": "stdout",
     "output_type": "stream",
     "text": [
      "total condition no.: 140\n",
      "total device no.: 140\n",
      "maximum Y (PCE [%]):  16.65\n"
     ]
    },
    {
     "name": "stderr",
     "output_type": "stream",
     "text": [
      "reconstraining parameters Mat52.lengthscale\n",
      "reconstraining parameters Mat52.variance\n"
     ]
    },
    {
     "name": "stdout",
     "output_type": "stream",
     "text": [
      "total condition no.: 160\n",
      "total device no.: 160\n",
      "maximum Y (PCE [%]):  16.65\n"
     ]
    },
    {
     "name": "stderr",
     "output_type": "stream",
     "text": [
      "reconstraining parameters Mat52.lengthscale\n",
      "reconstraining parameters Mat52.variance\n"
     ]
    },
    {
     "name": "stdout",
     "output_type": "stream",
     "text": [
      "total condition no.: 180\n",
      "total device no.: 180\n",
      "maximum Y (PCE [%]):  16.65\n"
     ]
    },
    {
     "name": "stderr",
     "output_type": "stream",
     "text": [
      "reconstraining parameters Mat52.lengthscale\n",
      "reconstraining parameters Mat52.variance\n"
     ]
    },
    {
     "name": "stdout",
     "output_type": "stream",
     "text": [
      "total condition no.: 200\n",
      "total device no.: 200\n",
      "maximum Y (PCE [%]):  16.74\n"
     ]
    },
    {
     "name": "stderr",
     "output_type": "stream",
     "text": [
      "reconstraining parameters Mat52.lengthscale\n",
      "reconstraining parameters Mat52.variance\n"
     ]
    },
    {
     "name": "stdout",
     "output_type": "stream",
     "text": [
      "total condition no.: 220\n",
      "total device no.: 220\n",
      "maximum Y (PCE [%]):  16.74\n"
     ]
    },
    {
     "name": "stderr",
     "output_type": "stream",
     "text": [
      "reconstraining parameters Mat52.lengthscale\n",
      "reconstraining parameters Mat52.variance\n"
     ]
    },
    {
     "name": "stdout",
     "output_type": "stream",
     "text": [
      "total condition no.: 240\n",
      "total device no.: 240\n",
      "maximum Y (PCE [%]):  16.74\n"
     ]
    },
    {
     "name": "stderr",
     "output_type": "stream",
     "text": [
      "reconstraining parameters Mat52.lengthscale\n",
      "reconstraining parameters Mat52.variance\n"
     ]
    },
    {
     "name": "stdout",
     "output_type": "stream",
     "text": [
      "total condition no.: 260\n",
      "total device no.: 260\n",
      "maximum Y (PCE [%]):  16.74\n"
     ]
    },
    {
     "name": "stderr",
     "output_type": "stream",
     "text": [
      "reconstraining parameters Mat52.lengthscale\n",
      "reconstraining parameters Mat52.variance\n"
     ]
    },
    {
     "name": "stdout",
     "output_type": "stream",
     "text": [
      "total condition no.: 280\n",
      "total device no.: 280\n",
      "maximum Y (PCE [%]):  16.74\n"
     ]
    },
    {
     "name": "stderr",
     "output_type": "stream",
     "text": [
      "reconstraining parameters Mat52.lengthscale\n",
      "reconstraining parameters Mat52.variance\n"
     ]
    },
    {
     "name": "stdout",
     "output_type": "stream",
     "text": [
      "total condition no.: 300\n",
      "total device no.: 300\n",
      "maximum Y (PCE [%]):  16.74\n",
      "     Temperature [°C]  Speed [mm/s]  Spray Flow [uL/min]  Plamsa Height [cm]  \\\n",
      "197        145.820417    180.818834          3448.205953            1.069395   \n",
      "\n",
      "     Plasma Gas Flow [L/min]  Plasma DC [%]  Efficiency [%]  \n",
      "197                     15.0      53.602924       16.739126  \n"
     ]
    },
    {
     "name": "stderr",
     "output_type": "stream",
     "text": [
      "reconstraining parameters Mat52.lengthscale\n",
      "reconstraining parameters Mat52.variance\n"
     ]
    },
    {
     "name": "stdout",
     "output_type": "stream",
     "text": [
      "total condition no.: 20\n",
      "total device no.: 20\n",
      "maximum Y (PCE [%]):  15.01\n"
     ]
    },
    {
     "name": "stderr",
     "output_type": "stream",
     "text": [
      "reconstraining parameters Mat52.lengthscale\n",
      "reconstraining parameters Mat52.variance\n"
     ]
    },
    {
     "name": "stdout",
     "output_type": "stream",
     "text": [
      "total condition no.: 40\n",
      "total device no.: 40\n",
      "maximum Y (PCE [%]):  15.35\n"
     ]
    },
    {
     "name": "stderr",
     "output_type": "stream",
     "text": [
      "reconstraining parameters Mat52.lengthscale\n",
      "reconstraining parameters Mat52.variance\n"
     ]
    },
    {
     "name": "stdout",
     "output_type": "stream",
     "text": [
      "total condition no.: 60\n",
      "total device no.: 60\n",
      "maximum Y (PCE [%]):  16.15\n"
     ]
    },
    {
     "name": "stderr",
     "output_type": "stream",
     "text": [
      "reconstraining parameters Mat52.lengthscale\n",
      "reconstraining parameters Mat52.variance\n"
     ]
    },
    {
     "name": "stdout",
     "output_type": "stream",
     "text": [
      "total condition no.: 80\n",
      "total device no.: 80\n",
      "maximum Y (PCE [%]):  16.63\n"
     ]
    },
    {
     "name": "stderr",
     "output_type": "stream",
     "text": [
      "reconstraining parameters Mat52.lengthscale\n",
      "reconstraining parameters Mat52.variance\n"
     ]
    },
    {
     "name": "stdout",
     "output_type": "stream",
     "text": [
      "total condition no.: 100\n",
      "total device no.: 100\n",
      "maximum Y (PCE [%]):  16.63\n"
     ]
    },
    {
     "name": "stderr",
     "output_type": "stream",
     "text": [
      "reconstraining parameters Mat52.lengthscale\n",
      "reconstraining parameters Mat52.variance\n"
     ]
    },
    {
     "name": "stdout",
     "output_type": "stream",
     "text": [
      "total condition no.: 120\n",
      "total device no.: 120\n",
      "maximum Y (PCE [%]):  16.64\n"
     ]
    },
    {
     "name": "stderr",
     "output_type": "stream",
     "text": [
      "reconstraining parameters Mat52.lengthscale\n",
      "reconstraining parameters Mat52.variance\n"
     ]
    },
    {
     "name": "stdout",
     "output_type": "stream",
     "text": [
      "total condition no.: 140\n",
      "total device no.: 140\n",
      "maximum Y (PCE [%]):  16.65\n"
     ]
    },
    {
     "name": "stderr",
     "output_type": "stream",
     "text": [
      "reconstraining parameters Mat52.lengthscale\n",
      "reconstraining parameters Mat52.variance\n"
     ]
    },
    {
     "name": "stdout",
     "output_type": "stream",
     "text": [
      "total condition no.: 160\n",
      "total device no.: 160\n",
      "maximum Y (PCE [%]):  16.65\n"
     ]
    },
    {
     "name": "stderr",
     "output_type": "stream",
     "text": [
      "reconstraining parameters Mat52.lengthscale\n",
      "reconstraining parameters Mat52.variance\n"
     ]
    },
    {
     "name": "stdout",
     "output_type": "stream",
     "text": [
      "total condition no.: 180\n",
      "total device no.: 180\n",
      "maximum Y (PCE [%]):  16.65\n"
     ]
    },
    {
     "name": "stderr",
     "output_type": "stream",
     "text": [
      "reconstraining parameters Mat52.lengthscale\n",
      "reconstraining parameters Mat52.variance\n"
     ]
    },
    {
     "name": "stdout",
     "output_type": "stream",
     "text": [
      "total condition no.: 200\n",
      "total device no.: 200\n",
      "maximum Y (PCE [%]):  16.65\n"
     ]
    },
    {
     "name": "stderr",
     "output_type": "stream",
     "text": [
      "reconstraining parameters Mat52.lengthscale\n",
      "reconstraining parameters Mat52.variance\n"
     ]
    },
    {
     "name": "stdout",
     "output_type": "stream",
     "text": [
      "total condition no.: 220\n",
      "total device no.: 220\n",
      "maximum Y (PCE [%]):  16.65\n"
     ]
    },
    {
     "name": "stderr",
     "output_type": "stream",
     "text": [
      "reconstraining parameters Mat52.lengthscale\n",
      "reconstraining parameters Mat52.variance\n"
     ]
    },
    {
     "name": "stdout",
     "output_type": "stream",
     "text": [
      "total condition no.: 240\n",
      "total device no.: 240\n",
      "maximum Y (PCE [%]):  16.65\n"
     ]
    },
    {
     "name": "stderr",
     "output_type": "stream",
     "text": [
      "reconstraining parameters Mat52.lengthscale\n",
      "reconstraining parameters Mat52.variance\n"
     ]
    },
    {
     "name": "stdout",
     "output_type": "stream",
     "text": [
      "total condition no.: 260\n",
      "total device no.: 260\n",
      "maximum Y (PCE [%]):  16.65\n"
     ]
    },
    {
     "name": "stderr",
     "output_type": "stream",
     "text": [
      "reconstraining parameters Mat52.lengthscale\n",
      "reconstraining parameters Mat52.variance\n"
     ]
    },
    {
     "name": "stdout",
     "output_type": "stream",
     "text": [
      "total condition no.: 280\n",
      "total device no.: 280\n",
      "maximum Y (PCE [%]):  16.65\n"
     ]
    },
    {
     "name": "stderr",
     "output_type": "stream",
     "text": [
      "reconstraining parameters Mat52.lengthscale\n",
      "reconstraining parameters Mat52.variance\n"
     ]
    },
    {
     "name": "stdout",
     "output_type": "stream",
     "text": [
      "total condition no.: 300\n",
      "total device no.: 300\n",
      "maximum Y (PCE [%]):  16.65\n",
      "     Temperature [°C]  Speed [mm/s]  Spray Flow [uL/min]  Plamsa Height [cm]  \\\n",
      "132         143.12213    179.921927          3963.875693            1.058321   \n",
      "\n",
      "     Plasma Gas Flow [L/min]  Plasma DC [%]  Efficiency [%]  \n",
      "132                     15.0      52.801405       16.652023  \n"
     ]
    },
    {
     "name": "stderr",
     "output_type": "stream",
     "text": [
      "reconstraining parameters Mat52.lengthscale\n",
      "reconstraining parameters Mat52.variance\n"
     ]
    },
    {
     "name": "stdout",
     "output_type": "stream",
     "text": [
      "total condition no.: 20\n",
      "total device no.: 20\n",
      "maximum Y (PCE [%]):  14.66\n"
     ]
    },
    {
     "name": "stderr",
     "output_type": "stream",
     "text": [
      "reconstraining parameters Mat52.lengthscale\n",
      "reconstraining parameters Mat52.variance\n"
     ]
    },
    {
     "name": "stdout",
     "output_type": "stream",
     "text": [
      "total condition no.: 40\n",
      "total device no.: 40\n",
      "maximum Y (PCE [%]):  14.78\n"
     ]
    },
    {
     "name": "stderr",
     "output_type": "stream",
     "text": [
      "reconstraining parameters Mat52.lengthscale\n",
      "reconstraining parameters Mat52.variance\n"
     ]
    },
    {
     "name": "stdout",
     "output_type": "stream",
     "text": [
      "total condition no.: 60\n",
      "total device no.: 60\n",
      "maximum Y (PCE [%]):  15.85\n"
     ]
    },
    {
     "name": "stderr",
     "output_type": "stream",
     "text": [
      "reconstraining parameters Mat52.lengthscale\n",
      "reconstraining parameters Mat52.variance\n"
     ]
    },
    {
     "name": "stdout",
     "output_type": "stream",
     "text": [
      "total condition no.: 80\n",
      "total device no.: 80\n",
      "maximum Y (PCE [%]):  16.08\n"
     ]
    },
    {
     "name": "stderr",
     "output_type": "stream",
     "text": [
      "reconstraining parameters Mat52.lengthscale\n",
      "reconstraining parameters Mat52.variance\n"
     ]
    },
    {
     "name": "stdout",
     "output_type": "stream",
     "text": [
      "total condition no.: 100\n",
      "total device no.: 100\n",
      "maximum Y (PCE [%]):  16.28\n"
     ]
    },
    {
     "name": "stderr",
     "output_type": "stream",
     "text": [
      "reconstraining parameters Mat52.lengthscale\n",
      "reconstraining parameters Mat52.variance\n"
     ]
    },
    {
     "name": "stdout",
     "output_type": "stream",
     "text": [
      "total condition no.: 120\n",
      "total device no.: 120\n",
      "maximum Y (PCE [%]):  16.43\n"
     ]
    },
    {
     "name": "stderr",
     "output_type": "stream",
     "text": [
      "reconstraining parameters Mat52.lengthscale\n",
      "reconstraining parameters Mat52.variance\n"
     ]
    },
    {
     "name": "stdout",
     "output_type": "stream",
     "text": [
      "total condition no.: 140\n",
      "total device no.: 140\n",
      "maximum Y (PCE [%]):  16.63\n"
     ]
    },
    {
     "name": "stderr",
     "output_type": "stream",
     "text": [
      "reconstraining parameters Mat52.lengthscale\n",
      "reconstraining parameters Mat52.variance\n"
     ]
    },
    {
     "name": "stdout",
     "output_type": "stream",
     "text": [
      "total condition no.: 160\n",
      "total device no.: 160\n",
      "maximum Y (PCE [%]):  16.63\n"
     ]
    },
    {
     "name": "stderr",
     "output_type": "stream",
     "text": [
      "reconstraining parameters Mat52.lengthscale\n",
      "reconstraining parameters Mat52.variance\n"
     ]
    },
    {
     "name": "stdout",
     "output_type": "stream",
     "text": [
      "total condition no.: 180\n",
      "total device no.: 180\n",
      "maximum Y (PCE [%]):  16.63\n"
     ]
    },
    {
     "name": "stderr",
     "output_type": "stream",
     "text": [
      "reconstraining parameters Mat52.lengthscale\n",
      "reconstraining parameters Mat52.variance\n"
     ]
    },
    {
     "name": "stdout",
     "output_type": "stream",
     "text": [
      "total condition no.: 200\n",
      "total device no.: 200\n",
      "maximum Y (PCE [%]):  16.78\n"
     ]
    },
    {
     "name": "stderr",
     "output_type": "stream",
     "text": [
      "reconstraining parameters Mat52.lengthscale\n",
      "reconstraining parameters Mat52.variance\n"
     ]
    },
    {
     "name": "stdout",
     "output_type": "stream",
     "text": [
      "total condition no.: 220\n",
      "total device no.: 220\n",
      "maximum Y (PCE [%]):  16.78\n"
     ]
    },
    {
     "name": "stderr",
     "output_type": "stream",
     "text": [
      "reconstraining parameters Mat52.lengthscale\n",
      "reconstraining parameters Mat52.variance\n"
     ]
    },
    {
     "name": "stdout",
     "output_type": "stream",
     "text": [
      "total condition no.: 240\n",
      "total device no.: 240\n",
      "maximum Y (PCE [%]):  16.81\n"
     ]
    },
    {
     "name": "stderr",
     "output_type": "stream",
     "text": [
      "reconstraining parameters Mat52.lengthscale\n",
      "reconstraining parameters Mat52.variance\n"
     ]
    },
    {
     "name": "stdout",
     "output_type": "stream",
     "text": [
      "total condition no.: 260\n",
      "total device no.: 260\n",
      "maximum Y (PCE [%]):  16.81\n"
     ]
    },
    {
     "name": "stderr",
     "output_type": "stream",
     "text": [
      "reconstraining parameters Mat52.lengthscale\n",
      "reconstraining parameters Mat52.variance\n"
     ]
    },
    {
     "name": "stdout",
     "output_type": "stream",
     "text": [
      "total condition no.: 280\n",
      "total device no.: 280\n",
      "maximum Y (PCE [%]):  16.83\n"
     ]
    },
    {
     "name": "stderr",
     "output_type": "stream",
     "text": [
      "reconstraining parameters Mat52.lengthscale\n",
      "reconstraining parameters Mat52.variance\n"
     ]
    },
    {
     "name": "stdout",
     "output_type": "stream",
     "text": [
      "total condition no.: 300\n",
      "total device no.: 300\n",
      "maximum Y (PCE [%]):  16.83\n"
     ]
    },
    {
     "name": "stderr",
     "output_type": "stream",
     "text": [
      "reconstraining parameters Mat52.lengthscale\n",
      "reconstraining parameters Mat52.variance\n"
     ]
    },
    {
     "name": "stdout",
     "output_type": "stream",
     "text": [
      "     Temperature [°C]  Speed [mm/s]  Spray Flow [uL/min]  Plamsa Height [cm]  \\\n",
      "303         143.25188    180.861871          3412.063525            0.804688   \n",
      "\n",
      "     Plasma Gas Flow [L/min]  Plasma DC [%]  Efficiency [%]  \n",
      "303                15.050095      31.057169        16.93381  \n",
      "total condition no.: 20\n",
      "total device no.: 20\n",
      "maximum Y (PCE [%]):  13.58\n"
     ]
    },
    {
     "name": "stderr",
     "output_type": "stream",
     "text": [
      "reconstraining parameters Mat52.lengthscale\n",
      "reconstraining parameters Mat52.variance\n"
     ]
    },
    {
     "name": "stdout",
     "output_type": "stream",
     "text": [
      "total condition no.: 40\n",
      "total device no.: 40\n",
      "maximum Y (PCE [%]):  15.65\n"
     ]
    },
    {
     "name": "stderr",
     "output_type": "stream",
     "text": [
      "reconstraining parameters Mat52.lengthscale\n",
      "reconstraining parameters Mat52.variance\n"
     ]
    },
    {
     "name": "stdout",
     "output_type": "stream",
     "text": [
      "total condition no.: 60\n",
      "total device no.: 60\n",
      "maximum Y (PCE [%]):  16.29\n"
     ]
    },
    {
     "name": "stderr",
     "output_type": "stream",
     "text": [
      "reconstraining parameters Mat52.lengthscale\n",
      "reconstraining parameters Mat52.variance\n"
     ]
    },
    {
     "name": "stdout",
     "output_type": "stream",
     "text": [
      "total condition no.: 80\n",
      "total device no.: 80\n",
      "maximum Y (PCE [%]):  16.29\n"
     ]
    },
    {
     "name": "stderr",
     "output_type": "stream",
     "text": [
      "reconstraining parameters Mat52.lengthscale\n",
      "reconstraining parameters Mat52.variance\n"
     ]
    },
    {
     "name": "stdout",
     "output_type": "stream",
     "text": [
      "total condition no.: 100\n",
      "total device no.: 100\n",
      "maximum Y (PCE [%]):  16.29\n"
     ]
    },
    {
     "name": "stderr",
     "output_type": "stream",
     "text": [
      "reconstraining parameters Mat52.lengthscale\n",
      "reconstraining parameters Mat52.variance\n"
     ]
    },
    {
     "name": "stdout",
     "output_type": "stream",
     "text": [
      "total condition no.: 120\n",
      "total device no.: 120\n",
      "maximum Y (PCE [%]):  16.29\n"
     ]
    },
    {
     "name": "stderr",
     "output_type": "stream",
     "text": [
      "reconstraining parameters Mat52.lengthscale\n",
      "reconstraining parameters Mat52.variance\n"
     ]
    },
    {
     "name": "stdout",
     "output_type": "stream",
     "text": [
      "total condition no.: 140\n",
      "total device no.: 140\n",
      "maximum Y (PCE [%]):  16.29\n"
     ]
    },
    {
     "name": "stderr",
     "output_type": "stream",
     "text": [
      "reconstraining parameters Mat52.lengthscale\n",
      "reconstraining parameters Mat52.variance\n"
     ]
    },
    {
     "name": "stdout",
     "output_type": "stream",
     "text": [
      "total condition no.: 160\n",
      "total device no.: 160\n",
      "maximum Y (PCE [%]):  17.05\n"
     ]
    },
    {
     "name": "stderr",
     "output_type": "stream",
     "text": [
      "reconstraining parameters Mat52.lengthscale\n",
      "reconstraining parameters Mat52.variance\n"
     ]
    },
    {
     "name": "stdout",
     "output_type": "stream",
     "text": [
      "total condition no.: 180\n",
      "total device no.: 180\n",
      "maximum Y (PCE [%]):  17.05\n"
     ]
    },
    {
     "name": "stderr",
     "output_type": "stream",
     "text": [
      "reconstraining parameters Mat52.lengthscale\n",
      "reconstraining parameters Mat52.variance\n"
     ]
    },
    {
     "name": "stdout",
     "output_type": "stream",
     "text": [
      "total condition no.: 200\n",
      "total device no.: 200\n",
      "maximum Y (PCE [%]):  17.05\n"
     ]
    },
    {
     "name": "stderr",
     "output_type": "stream",
     "text": [
      "reconstraining parameters Mat52.lengthscale\n",
      "reconstraining parameters Mat52.variance\n"
     ]
    },
    {
     "name": "stdout",
     "output_type": "stream",
     "text": [
      "total condition no.: 220\n",
      "total device no.: 220\n",
      "maximum Y (PCE [%]):  17.05\n"
     ]
    },
    {
     "name": "stderr",
     "output_type": "stream",
     "text": [
      "reconstraining parameters Mat52.lengthscale\n",
      "reconstraining parameters Mat52.variance\n"
     ]
    },
    {
     "name": "stdout",
     "output_type": "stream",
     "text": [
      "total condition no.: 240\n",
      "total device no.: 240\n",
      "maximum Y (PCE [%]):  17.05\n"
     ]
    },
    {
     "name": "stderr",
     "output_type": "stream",
     "text": [
      "reconstraining parameters Mat52.lengthscale\n",
      "reconstraining parameters Mat52.variance\n"
     ]
    },
    {
     "name": "stdout",
     "output_type": "stream",
     "text": [
      "total condition no.: 260\n",
      "total device no.: 260\n",
      "maximum Y (PCE [%]):  17.05\n"
     ]
    },
    {
     "name": "stderr",
     "output_type": "stream",
     "text": [
      "reconstraining parameters Mat52.lengthscale\n",
      "reconstraining parameters Mat52.variance\n"
     ]
    },
    {
     "name": "stdout",
     "output_type": "stream",
     "text": [
      "total condition no.: 280\n",
      "total device no.: 280\n",
      "maximum Y (PCE [%]):  17.05\n"
     ]
    },
    {
     "name": "stderr",
     "output_type": "stream",
     "text": [
      "reconstraining parameters Mat52.lengthscale\n",
      "reconstraining parameters Mat52.variance\n"
     ]
    },
    {
     "name": "stdout",
     "output_type": "stream",
     "text": [
      "total condition no.: 300\n",
      "total device no.: 300\n",
      "maximum Y (PCE [%]):  17.17\n"
     ]
    },
    {
     "name": "stderr",
     "output_type": "stream",
     "text": [
      "reconstraining parameters Mat52.lengthscale\n",
      "reconstraining parameters Mat52.variance\n"
     ]
    },
    {
     "name": "stdout",
     "output_type": "stream",
     "text": [
      "     Temperature [°C]  Speed [mm/s]  Spray Flow [uL/min]  Plamsa Height [cm]  \\\n",
      "297        143.392693     160.77798          3417.928998                 1.2   \n",
      "\n",
      "     Plasma Gas Flow [L/min]  Plasma DC [%]  Efficiency [%]  \n",
      "297                     15.0      26.520984       17.170631  \n",
      "total condition no.: 20\n",
      "total device no.: 20\n",
      "maximum Y (PCE [%]):  14.38\n"
     ]
    },
    {
     "name": "stderr",
     "output_type": "stream",
     "text": [
      "reconstraining parameters Mat52.lengthscale\n",
      "reconstraining parameters Mat52.variance\n"
     ]
    },
    {
     "name": "stdout",
     "output_type": "stream",
     "text": [
      "total condition no.: 40\n",
      "total device no.: 40\n",
      "maximum Y (PCE [%]):  15.57\n"
     ]
    },
    {
     "name": "stderr",
     "output_type": "stream",
     "text": [
      "reconstraining parameters Mat52.lengthscale\n",
      "reconstraining parameters Mat52.variance\n"
     ]
    },
    {
     "name": "stdout",
     "output_type": "stream",
     "text": [
      "total condition no.: 60\n",
      "total device no.: 60\n",
      "maximum Y (PCE [%]):  15.99\n"
     ]
    },
    {
     "name": "stderr",
     "output_type": "stream",
     "text": [
      "reconstraining parameters Mat52.lengthscale\n",
      "reconstraining parameters Mat52.variance\n"
     ]
    },
    {
     "name": "stdout",
     "output_type": "stream",
     "text": [
      "total condition no.: 80\n",
      "total device no.: 80\n",
      "maximum Y (PCE [%]):  16.1\n"
     ]
    },
    {
     "name": "stderr",
     "output_type": "stream",
     "text": [
      "reconstraining parameters Mat52.lengthscale\n",
      "reconstraining parameters Mat52.variance\n"
     ]
    },
    {
     "name": "stdout",
     "output_type": "stream",
     "text": [
      "total condition no.: 100\n",
      "total device no.: 100\n",
      "maximum Y (PCE [%]):  16.12\n"
     ]
    },
    {
     "name": "stderr",
     "output_type": "stream",
     "text": [
      "reconstraining parameters Mat52.lengthscale\n",
      "reconstraining parameters Mat52.variance\n"
     ]
    },
    {
     "name": "stdout",
     "output_type": "stream",
     "text": [
      "total condition no.: 120\n",
      "total device no.: 120\n",
      "maximum Y (PCE [%]):  16.13\n"
     ]
    },
    {
     "name": "stderr",
     "output_type": "stream",
     "text": [
      "reconstraining parameters Mat52.lengthscale\n",
      "reconstraining parameters Mat52.variance\n"
     ]
    },
    {
     "name": "stdout",
     "output_type": "stream",
     "text": [
      "total condition no.: 140\n",
      "total device no.: 140\n",
      "maximum Y (PCE [%]):  16.13\n"
     ]
    },
    {
     "name": "stderr",
     "output_type": "stream",
     "text": [
      "reconstraining parameters Mat52.lengthscale\n",
      "reconstraining parameters Mat52.variance\n"
     ]
    },
    {
     "name": "stdout",
     "output_type": "stream",
     "text": [
      "total condition no.: 160\n",
      "total device no.: 160\n",
      "maximum Y (PCE [%]):  16.13\n"
     ]
    },
    {
     "name": "stderr",
     "output_type": "stream",
     "text": [
      "reconstraining parameters Mat52.lengthscale\n",
      "reconstraining parameters Mat52.variance\n"
     ]
    },
    {
     "name": "stdout",
     "output_type": "stream",
     "text": [
      "total condition no.: 180\n",
      "total device no.: 180\n",
      "maximum Y (PCE [%]):  16.13\n"
     ]
    },
    {
     "name": "stderr",
     "output_type": "stream",
     "text": [
      "reconstraining parameters Mat52.lengthscale\n",
      "reconstraining parameters Mat52.variance\n"
     ]
    },
    {
     "name": "stdout",
     "output_type": "stream",
     "text": [
      "total condition no.: 200\n",
      "total device no.: 200\n",
      "maximum Y (PCE [%]):  16.13\n"
     ]
    },
    {
     "name": "stderr",
     "output_type": "stream",
     "text": [
      "reconstraining parameters Mat52.lengthscale\n",
      "reconstraining parameters Mat52.variance\n"
     ]
    },
    {
     "name": "stdout",
     "output_type": "stream",
     "text": [
      "total condition no.: 220\n",
      "total device no.: 220\n",
      "maximum Y (PCE [%]):  16.13\n"
     ]
    },
    {
     "name": "stderr",
     "output_type": "stream",
     "text": [
      "reconstraining parameters Mat52.lengthscale\n",
      "reconstraining parameters Mat52.variance\n"
     ]
    },
    {
     "name": "stdout",
     "output_type": "stream",
     "text": [
      "total condition no.: 240\n",
      "total device no.: 240\n",
      "maximum Y (PCE [%]):  16.41\n"
     ]
    },
    {
     "name": "stderr",
     "output_type": "stream",
     "text": [
      "reconstraining parameters Mat52.lengthscale\n",
      "reconstraining parameters Mat52.variance\n"
     ]
    },
    {
     "name": "stdout",
     "output_type": "stream",
     "text": [
      "total condition no.: 260\n",
      "total device no.: 260\n",
      "maximum Y (PCE [%]):  16.41\n"
     ]
    },
    {
     "name": "stderr",
     "output_type": "stream",
     "text": [
      "reconstraining parameters Mat52.lengthscale\n",
      "reconstraining parameters Mat52.variance\n"
     ]
    },
    {
     "name": "stdout",
     "output_type": "stream",
     "text": [
      "total condition no.: 280\n",
      "total device no.: 280\n",
      "maximum Y (PCE [%]):  16.79\n"
     ]
    },
    {
     "name": "stderr",
     "output_type": "stream",
     "text": [
      "reconstraining parameters Mat52.lengthscale\n",
      "reconstraining parameters Mat52.variance\n"
     ]
    },
    {
     "name": "stdout",
     "output_type": "stream",
     "text": [
      "total condition no.: 300\n",
      "total device no.: 300\n",
      "maximum Y (PCE [%]):  16.79\n",
      "     Temperature [°C]  Speed [mm/s]  Spray Flow [uL/min]  Plamsa Height [cm]  \\\n",
      "319        144.314468    148.946238          3320.436415            1.113868   \n",
      "\n",
      "     Plasma Gas Flow [L/min]  Plasma DC [%]  Efficiency [%]  \n",
      "319                     15.0      27.266368       17.277965  \n"
     ]
    },
    {
     "name": "stderr",
     "output_type": "stream",
     "text": [
      "reconstraining parameters Mat52.lengthscale\n",
      "reconstraining parameters Mat52.variance\n"
     ]
    },
    {
     "name": "stdout",
     "output_type": "stream",
     "text": [
      "total condition no.: 20\n",
      "total device no.: 20\n",
      "maximum Y (PCE [%]):  15.06\n"
     ]
    },
    {
     "name": "stderr",
     "output_type": "stream",
     "text": [
      "reconstraining parameters Mat52.lengthscale\n",
      "reconstraining parameters Mat52.variance\n"
     ]
    },
    {
     "name": "stdout",
     "output_type": "stream",
     "text": [
      "total condition no.: 40\n",
      "total device no.: 40\n",
      "maximum Y (PCE [%]):  16.02\n"
     ]
    },
    {
     "name": "stderr",
     "output_type": "stream",
     "text": [
      "reconstraining parameters Mat52.lengthscale\n",
      "reconstraining parameters Mat52.variance\n"
     ]
    },
    {
     "name": "stdout",
     "output_type": "stream",
     "text": [
      "total condition no.: 60\n",
      "total device no.: 60\n",
      "maximum Y (PCE [%]):  16.72\n"
     ]
    },
    {
     "name": "stderr",
     "output_type": "stream",
     "text": [
      "reconstraining parameters Mat52.lengthscale\n",
      "reconstraining parameters Mat52.variance\n"
     ]
    },
    {
     "name": "stdout",
     "output_type": "stream",
     "text": [
      "total condition no.: 80\n",
      "total device no.: 80\n",
      "maximum Y (PCE [%]):  17.06\n"
     ]
    },
    {
     "name": "stderr",
     "output_type": "stream",
     "text": [
      "reconstraining parameters Mat52.lengthscale\n",
      "reconstraining parameters Mat52.variance\n"
     ]
    },
    {
     "name": "stdout",
     "output_type": "stream",
     "text": [
      "total condition no.: 100\n",
      "total device no.: 100\n",
      "maximum Y (PCE [%]):  17.06\n"
     ]
    },
    {
     "name": "stderr",
     "output_type": "stream",
     "text": [
      "reconstraining parameters Mat52.lengthscale\n",
      "reconstraining parameters Mat52.variance\n"
     ]
    },
    {
     "name": "stdout",
     "output_type": "stream",
     "text": [
      "total condition no.: 120\n",
      "total device no.: 120\n",
      "maximum Y (PCE [%]):  17.14\n"
     ]
    },
    {
     "name": "stderr",
     "output_type": "stream",
     "text": [
      "reconstraining parameters Mat52.lengthscale\n",
      "reconstraining parameters Mat52.variance\n"
     ]
    },
    {
     "name": "stdout",
     "output_type": "stream",
     "text": [
      "total condition no.: 140\n",
      "total device no.: 140\n",
      "maximum Y (PCE [%]):  17.35\n"
     ]
    },
    {
     "name": "stderr",
     "output_type": "stream",
     "text": [
      "reconstraining parameters Mat52.lengthscale\n",
      "reconstraining parameters Mat52.variance\n"
     ]
    },
    {
     "name": "stdout",
     "output_type": "stream",
     "text": [
      "total condition no.: 160\n",
      "total device no.: 160\n",
      "maximum Y (PCE [%]):  17.35\n"
     ]
    },
    {
     "name": "stderr",
     "output_type": "stream",
     "text": [
      "reconstraining parameters Mat52.lengthscale\n",
      "reconstraining parameters Mat52.variance\n"
     ]
    },
    {
     "name": "stdout",
     "output_type": "stream",
     "text": [
      "total condition no.: 180\n",
      "total device no.: 180\n",
      "maximum Y (PCE [%]):  17.63\n"
     ]
    },
    {
     "name": "stderr",
     "output_type": "stream",
     "text": [
      "reconstraining parameters Mat52.lengthscale\n",
      "reconstraining parameters Mat52.variance\n"
     ]
    },
    {
     "name": "stdout",
     "output_type": "stream",
     "text": [
      "total condition no.: 200\n",
      "total device no.: 200\n",
      "maximum Y (PCE [%]):  17.63\n"
     ]
    },
    {
     "name": "stderr",
     "output_type": "stream",
     "text": [
      "reconstraining parameters Mat52.lengthscale\n",
      "reconstraining parameters Mat52.variance\n"
     ]
    },
    {
     "name": "stdout",
     "output_type": "stream",
     "text": [
      "total condition no.: 220\n",
      "total device no.: 220\n",
      "maximum Y (PCE [%]):  17.65\n"
     ]
    },
    {
     "name": "stderr",
     "output_type": "stream",
     "text": [
      "reconstraining parameters Mat52.lengthscale\n",
      "reconstraining parameters Mat52.variance\n"
     ]
    },
    {
     "name": "stdout",
     "output_type": "stream",
     "text": [
      "total condition no.: 240\n",
      "total device no.: 240\n",
      "maximum Y (PCE [%]):  17.65\n"
     ]
    },
    {
     "name": "stderr",
     "output_type": "stream",
     "text": [
      "reconstraining parameters Mat52.lengthscale\n",
      "reconstraining parameters Mat52.variance\n"
     ]
    },
    {
     "name": "stdout",
     "output_type": "stream",
     "text": [
      "total condition no.: 260\n",
      "total device no.: 260\n",
      "maximum Y (PCE [%]):  17.65\n"
     ]
    },
    {
     "name": "stderr",
     "output_type": "stream",
     "text": [
      "reconstraining parameters Mat52.lengthscale\n",
      "reconstraining parameters Mat52.variance\n"
     ]
    },
    {
     "name": "stdout",
     "output_type": "stream",
     "text": [
      "total condition no.: 280\n",
      "total device no.: 280\n",
      "maximum Y (PCE [%]):  17.65\n"
     ]
    },
    {
     "name": "stderr",
     "output_type": "stream",
     "text": [
      "reconstraining parameters Mat52.lengthscale\n",
      "reconstraining parameters Mat52.variance\n"
     ]
    },
    {
     "name": "stdout",
     "output_type": "stream",
     "text": [
      "total condition no.: 300\n",
      "total device no.: 300\n",
      "maximum Y (PCE [%]):  17.65\n"
     ]
    },
    {
     "name": "stderr",
     "output_type": "stream",
     "text": [
      "reconstraining parameters Mat52.lengthscale\n",
      "reconstraining parameters Mat52.variance\n"
     ]
    },
    {
     "name": "stdout",
     "output_type": "stream",
     "text": [
      "     Temperature [°C]  Speed [mm/s]  Spray Flow [uL/min]  Plamsa Height [cm]  \\\n",
      "210        145.812732    177.132954          3473.306709            1.090043   \n",
      "\n",
      "     Plasma Gas Flow [L/min]  Plasma DC [%]  Efficiency [%]  \n",
      "210                     15.0      29.295836       17.649693  \n",
      "total condition no.: 20\n",
      "total device no.: 20\n",
      "maximum Y (PCE [%]):  13.55\n"
     ]
    },
    {
     "name": "stderr",
     "output_type": "stream",
     "text": [
      "reconstraining parameters Mat52.lengthscale\n",
      "reconstraining parameters Mat52.variance\n"
     ]
    },
    {
     "name": "stdout",
     "output_type": "stream",
     "text": [
      "total condition no.: 40\n",
      "total device no.: 40\n",
      "maximum Y (PCE [%]):  15.19\n"
     ]
    },
    {
     "name": "stderr",
     "output_type": "stream",
     "text": [
      "reconstraining parameters Mat52.lengthscale\n",
      "reconstraining parameters Mat52.variance\n"
     ]
    },
    {
     "name": "stdout",
     "output_type": "stream",
     "text": [
      "total condition no.: 60\n",
      "total device no.: 60\n",
      "maximum Y (PCE [%]):  15.19\n"
     ]
    },
    {
     "name": "stderr",
     "output_type": "stream",
     "text": [
      "reconstraining parameters Mat52.lengthscale\n",
      "reconstraining parameters Mat52.variance\n"
     ]
    },
    {
     "name": "stdout",
     "output_type": "stream",
     "text": [
      "total condition no.: 80\n",
      "total device no.: 80\n",
      "maximum Y (PCE [%]):  16.11\n"
     ]
    },
    {
     "name": "stderr",
     "output_type": "stream",
     "text": [
      "reconstraining parameters Mat52.lengthscale\n",
      "reconstraining parameters Mat52.variance\n"
     ]
    },
    {
     "name": "stdout",
     "output_type": "stream",
     "text": [
      "total condition no.: 100\n",
      "total device no.: 100\n",
      "maximum Y (PCE [%]):  16.51\n"
     ]
    },
    {
     "name": "stderr",
     "output_type": "stream",
     "text": [
      "reconstraining parameters Mat52.lengthscale\n",
      "reconstraining parameters Mat52.variance\n"
     ]
    },
    {
     "name": "stdout",
     "output_type": "stream",
     "text": [
      "total condition no.: 120\n",
      "total device no.: 120\n",
      "maximum Y (PCE [%]):  16.64\n"
     ]
    },
    {
     "name": "stderr",
     "output_type": "stream",
     "text": [
      "reconstraining parameters Mat52.lengthscale\n",
      "reconstraining parameters Mat52.variance\n"
     ]
    },
    {
     "name": "stdout",
     "output_type": "stream",
     "text": [
      "total condition no.: 140\n",
      "total device no.: 140\n",
      "maximum Y (PCE [%]):  16.65\n"
     ]
    },
    {
     "name": "stderr",
     "output_type": "stream",
     "text": [
      "reconstraining parameters Mat52.lengthscale\n",
      "reconstraining parameters Mat52.variance\n"
     ]
    },
    {
     "name": "stdout",
     "output_type": "stream",
     "text": [
      "total condition no.: 160\n",
      "total device no.: 160\n",
      "maximum Y (PCE [%]):  16.65\n"
     ]
    },
    {
     "name": "stderr",
     "output_type": "stream",
     "text": [
      "reconstraining parameters Mat52.lengthscale\n",
      "reconstraining parameters Mat52.variance\n"
     ]
    },
    {
     "name": "stdout",
     "output_type": "stream",
     "text": [
      "total condition no.: 180\n",
      "total device no.: 180\n",
      "maximum Y (PCE [%]):  16.65\n"
     ]
    },
    {
     "name": "stderr",
     "output_type": "stream",
     "text": [
      "reconstraining parameters Mat52.lengthscale\n",
      "reconstraining parameters Mat52.variance\n"
     ]
    },
    {
     "name": "stdout",
     "output_type": "stream",
     "text": [
      "total condition no.: 200\n",
      "total device no.: 200\n",
      "maximum Y (PCE [%]):  16.65\n"
     ]
    },
    {
     "name": "stderr",
     "output_type": "stream",
     "text": [
      "reconstraining parameters Mat52.lengthscale\n",
      "reconstraining parameters Mat52.variance\n"
     ]
    },
    {
     "name": "stdout",
     "output_type": "stream",
     "text": [
      "total condition no.: 220\n",
      "total device no.: 220\n",
      "maximum Y (PCE [%]):  16.96\n"
     ]
    },
    {
     "name": "stderr",
     "output_type": "stream",
     "text": [
      "reconstraining parameters Mat52.lengthscale\n",
      "reconstraining parameters Mat52.variance\n"
     ]
    },
    {
     "name": "stdout",
     "output_type": "stream",
     "text": [
      "total condition no.: 240\n",
      "total device no.: 240\n",
      "maximum Y (PCE [%]):  16.96\n"
     ]
    },
    {
     "name": "stderr",
     "output_type": "stream",
     "text": [
      "reconstraining parameters Mat52.lengthscale\n",
      "reconstraining parameters Mat52.variance\n"
     ]
    },
    {
     "name": "stdout",
     "output_type": "stream",
     "text": [
      "total condition no.: 260\n",
      "total device no.: 260\n",
      "maximum Y (PCE [%]):  17.08\n"
     ]
    },
    {
     "name": "stderr",
     "output_type": "stream",
     "text": [
      "reconstraining parameters Mat52.lengthscale\n",
      "reconstraining parameters Mat52.variance\n"
     ]
    },
    {
     "name": "stdout",
     "output_type": "stream",
     "text": [
      "total condition no.: 280\n",
      "total device no.: 280\n",
      "maximum Y (PCE [%]):  17.4\n"
     ]
    },
    {
     "name": "stderr",
     "output_type": "stream",
     "text": [
      "reconstraining parameters Mat52.lengthscale\n",
      "reconstraining parameters Mat52.variance\n"
     ]
    },
    {
     "name": "stdout",
     "output_type": "stream",
     "text": [
      "total condition no.: 300\n",
      "total device no.: 300\n",
      "maximum Y (PCE [%]):  17.44\n"
     ]
    },
    {
     "name": "stderr",
     "output_type": "stream",
     "text": [
      "reconstraining parameters Mat52.lengthscale\n",
      "reconstraining parameters Mat52.variance\n"
     ]
    },
    {
     "name": "stdout",
     "output_type": "stream",
     "text": [
      "     Temperature [°C]  Speed [mm/s]  Spray Flow [uL/min]  Plamsa Height [cm]  \\\n",
      "291         143.23904    127.636762          3153.599891                 1.2   \n",
      "\n",
      "     Plasma Gas Flow [L/min]  Plasma DC [%]  Efficiency [%]  \n",
      "291                  15.9597      27.230516       17.435209  \n",
      "total condition no.: 20\n",
      "total device no.: 20\n",
      "maximum Y (PCE [%]):  14.26\n"
     ]
    },
    {
     "name": "stderr",
     "output_type": "stream",
     "text": [
      "reconstraining parameters Mat52.lengthscale\n",
      "reconstraining parameters Mat52.variance\n"
     ]
    },
    {
     "name": "stdout",
     "output_type": "stream",
     "text": [
      "total condition no.: 40\n",
      "total device no.: 40\n",
      "maximum Y (PCE [%]):  15.63\n"
     ]
    },
    {
     "name": "stderr",
     "output_type": "stream",
     "text": [
      "reconstraining parameters Mat52.lengthscale\n",
      "reconstraining parameters Mat52.variance\n"
     ]
    },
    {
     "name": "stdout",
     "output_type": "stream",
     "text": [
      "total condition no.: 60\n",
      "total device no.: 60\n",
      "maximum Y (PCE [%]):  16.82\n"
     ]
    },
    {
     "name": "stderr",
     "output_type": "stream",
     "text": [
      "reconstraining parameters Mat52.lengthscale\n",
      "reconstraining parameters Mat52.variance\n"
     ]
    },
    {
     "name": "stdout",
     "output_type": "stream",
     "text": [
      "total condition no.: 80\n",
      "total device no.: 80\n",
      "maximum Y (PCE [%]):  16.82\n"
     ]
    },
    {
     "name": "stderr",
     "output_type": "stream",
     "text": [
      "reconstraining parameters Mat52.lengthscale\n",
      "reconstraining parameters Mat52.variance\n"
     ]
    },
    {
     "name": "stdout",
     "output_type": "stream",
     "text": [
      "total condition no.: 100\n",
      "total device no.: 100\n",
      "maximum Y (PCE [%]):  16.95\n"
     ]
    },
    {
     "name": "stderr",
     "output_type": "stream",
     "text": [
      "reconstraining parameters Mat52.lengthscale\n",
      "reconstraining parameters Mat52.variance\n"
     ]
    },
    {
     "name": "stdout",
     "output_type": "stream",
     "text": [
      "total condition no.: 120\n",
      "total device no.: 120\n",
      "maximum Y (PCE [%]):  16.95\n"
     ]
    },
    {
     "name": "stderr",
     "output_type": "stream",
     "text": [
      "reconstraining parameters Mat52.lengthscale\n",
      "reconstraining parameters Mat52.variance\n"
     ]
    },
    {
     "name": "stdout",
     "output_type": "stream",
     "text": [
      "total condition no.: 140\n",
      "total device no.: 140\n",
      "maximum Y (PCE [%]):  17.21\n"
     ]
    },
    {
     "name": "stderr",
     "output_type": "stream",
     "text": [
      "reconstraining parameters Mat52.lengthscale\n",
      "reconstraining parameters Mat52.variance\n"
     ]
    },
    {
     "name": "stdout",
     "output_type": "stream",
     "text": [
      "total condition no.: 160\n",
      "total device no.: 160\n",
      "maximum Y (PCE [%]):  17.5\n"
     ]
    },
    {
     "name": "stderr",
     "output_type": "stream",
     "text": [
      "reconstraining parameters Mat52.lengthscale\n",
      "reconstraining parameters Mat52.variance\n"
     ]
    },
    {
     "name": "stdout",
     "output_type": "stream",
     "text": [
      "total condition no.: 180\n",
      "total device no.: 180\n",
      "maximum Y (PCE [%]):  17.53\n"
     ]
    },
    {
     "name": "stderr",
     "output_type": "stream",
     "text": [
      "reconstraining parameters Mat52.lengthscale\n",
      "reconstraining parameters Mat52.variance\n"
     ]
    },
    {
     "name": "stdout",
     "output_type": "stream",
     "text": [
      "total condition no.: 200\n",
      "total device no.: 200\n",
      "maximum Y (PCE [%]):  17.54\n"
     ]
    },
    {
     "name": "stderr",
     "output_type": "stream",
     "text": [
      "reconstraining parameters Mat52.lengthscale\n",
      "reconstraining parameters Mat52.variance\n"
     ]
    },
    {
     "name": "stdout",
     "output_type": "stream",
     "text": [
      "total condition no.: 220\n",
      "total device no.: 220\n",
      "maximum Y (PCE [%]):  17.54\n"
     ]
    },
    {
     "name": "stderr",
     "output_type": "stream",
     "text": [
      "reconstraining parameters Mat52.lengthscale\n",
      "reconstraining parameters Mat52.variance\n"
     ]
    },
    {
     "name": "stdout",
     "output_type": "stream",
     "text": [
      "total condition no.: 240\n",
      "total device no.: 240\n",
      "maximum Y (PCE [%]):  17.54\n"
     ]
    },
    {
     "name": "stderr",
     "output_type": "stream",
     "text": [
      "reconstraining parameters Mat52.lengthscale\n",
      "reconstraining parameters Mat52.variance\n"
     ]
    },
    {
     "name": "stdout",
     "output_type": "stream",
     "text": [
      "total condition no.: 260\n",
      "total device no.: 260\n",
      "maximum Y (PCE [%]):  17.54\n"
     ]
    },
    {
     "name": "stderr",
     "output_type": "stream",
     "text": [
      "reconstraining parameters Mat52.lengthscale\n",
      "reconstraining parameters Mat52.variance\n"
     ]
    },
    {
     "name": "stdout",
     "output_type": "stream",
     "text": [
      "total condition no.: 280\n",
      "total device no.: 280\n",
      "maximum Y (PCE [%]):  17.54\n"
     ]
    },
    {
     "name": "stderr",
     "output_type": "stream",
     "text": [
      "reconstraining parameters Mat52.lengthscale\n",
      "reconstraining parameters Mat52.variance\n"
     ]
    },
    {
     "name": "stdout",
     "output_type": "stream",
     "text": [
      "total condition no.: 300\n",
      "total device no.: 300\n",
      "maximum Y (PCE [%]):  17.58\n",
      "     Temperature [°C]  Speed [mm/s]  Spray Flow [uL/min]  Plamsa Height [cm]  \\\n",
      "293        143.154933    179.410605          3448.989489            1.188977   \n",
      "\n",
      "     Plasma Gas Flow [L/min]  Plasma DC [%]  Efficiency [%]  \n",
      "293                     15.0      28.240572       17.579818  \n"
     ]
    },
    {
     "name": "stderr",
     "output_type": "stream",
     "text": [
      "reconstraining parameters Mat52.lengthscale\n",
      "reconstraining parameters Mat52.variance\n",
      " C:\\Users\\Zhe\\AppData\\Roaming\\Python\\Python37\\site-packages\\emukit\\bayesian_optimization\\acquisitions\\log_acquisition.py:25: RuntimeWarning:invalid value encountered in log\n"
     ]
    },
    {
     "name": "stdout",
     "output_type": "stream",
     "text": [
      "total condition no.: 20\n",
      "total device no.: 20\n",
      "maximum Y (PCE [%]):  14.87\n"
     ]
    },
    {
     "name": "stderr",
     "output_type": "stream",
     "text": [
      "reconstraining parameters Mat52.lengthscale\n",
      "reconstraining parameters Mat52.variance\n"
     ]
    },
    {
     "name": "stdout",
     "output_type": "stream",
     "text": [
      "total condition no.: 40\n",
      "total device no.: 40\n",
      "maximum Y (PCE [%]):  15.61\n"
     ]
    },
    {
     "name": "stderr",
     "output_type": "stream",
     "text": [
      " C:\\Users\\Zhe\\AppData\\Roaming\\Python\\Python37\\site-packages\\emukit\\bayesian_optimization\\acquisitions\\log_acquisition.py:25: RuntimeWarning:invalid value encountered in log\n",
      "reconstraining parameters Mat52.lengthscale\n",
      "reconstraining parameters Mat52.variance\n"
     ]
    },
    {
     "name": "stdout",
     "output_type": "stream",
     "text": [
      "total condition no.: 60\n",
      "total device no.: 60\n",
      "maximum Y (PCE [%]):  15.61\n"
     ]
    },
    {
     "name": "stderr",
     "output_type": "stream",
     "text": [
      "reconstraining parameters Mat52.lengthscale\n",
      "reconstraining parameters Mat52.variance\n"
     ]
    },
    {
     "name": "stdout",
     "output_type": "stream",
     "text": [
      "total condition no.: 80\n",
      "total device no.: 80\n",
      "maximum Y (PCE [%]):  15.61\n"
     ]
    },
    {
     "name": "stderr",
     "output_type": "stream",
     "text": [
      " C:\\Users\\Zhe\\AppData\\Roaming\\Python\\Python37\\site-packages\\emukit\\bayesian_optimization\\acquisitions\\log_acquisition.py:25: RuntimeWarning:invalid value encountered in log\n",
      "reconstraining parameters Mat52.lengthscale\n",
      "reconstraining parameters Mat52.variance\n"
     ]
    },
    {
     "name": "stdout",
     "output_type": "stream",
     "text": [
      "total condition no.: 100\n",
      "total device no.: 100\n",
      "maximum Y (PCE [%]):  15.61\n"
     ]
    },
    {
     "name": "stderr",
     "output_type": "stream",
     "text": [
      " C:\\Users\\Zhe\\AppData\\Roaming\\Python\\Python37\\site-packages\\emukit\\bayesian_optimization\\acquisitions\\log_acquisition.py:25: RuntimeWarning:invalid value encountered in log\n",
      "reconstraining parameters Mat52.lengthscale\n",
      "reconstraining parameters Mat52.variance\n"
     ]
    },
    {
     "name": "stdout",
     "output_type": "stream",
     "text": [
      "total condition no.: 120\n",
      "total device no.: 120\n",
      "maximum Y (PCE [%]):  15.61\n"
     ]
    },
    {
     "name": "stderr",
     "output_type": "stream",
     "text": [
      " C:\\Users\\Zhe\\AppData\\Roaming\\Python\\Python37\\site-packages\\emukit\\bayesian_optimization\\acquisitions\\log_acquisition.py:25: RuntimeWarning:invalid value encountered in log\n",
      "reconstraining parameters Mat52.lengthscale\n",
      "reconstraining parameters Mat52.variance\n"
     ]
    },
    {
     "name": "stdout",
     "output_type": "stream",
     "text": [
      "total condition no.: 140\n",
      "total device no.: 140\n",
      "maximum Y (PCE [%]):  16.13\n"
     ]
    },
    {
     "name": "stderr",
     "output_type": "stream",
     "text": [
      "reconstraining parameters Mat52.lengthscale\n",
      "reconstraining parameters Mat52.variance\n"
     ]
    },
    {
     "name": "stdout",
     "output_type": "stream",
     "text": [
      "total condition no.: 160\n",
      "total device no.: 160\n",
      "maximum Y (PCE [%]):  16.31\n"
     ]
    },
    {
     "name": "stderr",
     "output_type": "stream",
     "text": [
      " C:\\Users\\Zhe\\AppData\\Roaming\\Python\\Python37\\site-packages\\emukit\\bayesian_optimization\\acquisitions\\log_acquisition.py:25: RuntimeWarning:invalid value encountered in log\n",
      "reconstraining parameters Mat52.lengthscale\n",
      "reconstraining parameters Mat52.variance\n"
     ]
    },
    {
     "name": "stdout",
     "output_type": "stream",
     "text": [
      "total condition no.: 180\n",
      "total device no.: 180\n",
      "maximum Y (PCE [%]):  16.34\n"
     ]
    },
    {
     "name": "stderr",
     "output_type": "stream",
     "text": [
      " C:\\Users\\Zhe\\AppData\\Roaming\\Python\\Python37\\site-packages\\emukit\\bayesian_optimization\\acquisitions\\log_acquisition.py:25: RuntimeWarning:invalid value encountered in log\n",
      "reconstraining parameters Mat52.lengthscale\n",
      "reconstraining parameters Mat52.variance\n"
     ]
    },
    {
     "name": "stdout",
     "output_type": "stream",
     "text": [
      "total condition no.: 200\n",
      "total device no.: 200\n",
      "maximum Y (PCE [%]):  16.34\n"
     ]
    },
    {
     "name": "stderr",
     "output_type": "stream",
     "text": [
      " C:\\Users\\Zhe\\AppData\\Roaming\\Python\\Python37\\site-packages\\emukit\\bayesian_optimization\\acquisitions\\log_acquisition.py:25: RuntimeWarning:invalid value encountered in log\n",
      "reconstraining parameters Mat52.lengthscale\n",
      "reconstraining parameters Mat52.variance\n"
     ]
    },
    {
     "name": "stdout",
     "output_type": "stream",
     "text": [
      "total condition no.: 220\n",
      "total device no.: 220\n",
      "maximum Y (PCE [%]):  16.34\n"
     ]
    },
    {
     "name": "stderr",
     "output_type": "stream",
     "text": [
      " C:\\Users\\Zhe\\AppData\\Roaming\\Python\\Python37\\site-packages\\emukit\\bayesian_optimization\\acquisitions\\log_acquisition.py:25: RuntimeWarning:invalid value encountered in log\n",
      "reconstraining parameters Mat52.lengthscale\n",
      "reconstraining parameters Mat52.variance\n"
     ]
    },
    {
     "name": "stdout",
     "output_type": "stream",
     "text": [
      "total condition no.: 240\n",
      "total device no.: 240\n",
      "maximum Y (PCE [%]):  16.34\n"
     ]
    },
    {
     "name": "stderr",
     "output_type": "stream",
     "text": [
      "reconstraining parameters Mat52.lengthscale\n",
      "reconstraining parameters Mat52.variance\n"
     ]
    },
    {
     "name": "stdout",
     "output_type": "stream",
     "text": [
      "total condition no.: 260\n",
      "total device no.: 260\n",
      "maximum Y (PCE [%]):  16.34\n"
     ]
    },
    {
     "name": "stderr",
     "output_type": "stream",
     "text": [
      "reconstraining parameters Mat52.lengthscale\n",
      "reconstraining parameters Mat52.variance\n"
     ]
    },
    {
     "name": "stdout",
     "output_type": "stream",
     "text": [
      "total condition no.: 280\n",
      "total device no.: 280\n",
      "maximum Y (PCE [%]):  16.34\n"
     ]
    },
    {
     "name": "stderr",
     "output_type": "stream",
     "text": [
      "reconstraining parameters Mat52.lengthscale\n",
      "reconstraining parameters Mat52.variance\n"
     ]
    },
    {
     "name": "stdout",
     "output_type": "stream",
     "text": [
      "total condition no.: 300\n",
      "total device no.: 300\n",
      "maximum Y (PCE [%]):  16.34\n",
      "     Temperature [°C]  Speed [mm/s]  Spray Flow [uL/min]  Plamsa Height [cm]  \\\n",
      "172        143.135225    179.954092          3769.198244            1.071726   \n",
      "\n",
      "     Plasma Gas Flow [L/min]  Plasma DC [%]  Efficiency [%]  \n",
      "172                19.205596      59.242894       16.338372  \n"
     ]
    },
    {
     "name": "stderr",
     "output_type": "stream",
     "text": [
      "reconstraining parameters Mat52.lengthscale\n",
      "reconstraining parameters Mat52.variance\n"
     ]
    },
    {
     "name": "stdout",
     "output_type": "stream",
     "text": [
      "total condition no.: 20\n",
      "total device no.: 20\n",
      "maximum Y (PCE [%]):  15.17\n"
     ]
    },
    {
     "name": "stderr",
     "output_type": "stream",
     "text": [
      "reconstraining parameters Mat52.lengthscale\n",
      "reconstraining parameters Mat52.variance\n"
     ]
    },
    {
     "name": "stdout",
     "output_type": "stream",
     "text": [
      "total condition no.: 40\n",
      "total device no.: 40\n",
      "maximum Y (PCE [%]):  16.25\n"
     ]
    },
    {
     "name": "stderr",
     "output_type": "stream",
     "text": [
      "reconstraining parameters Mat52.lengthscale\n",
      "reconstraining parameters Mat52.variance\n"
     ]
    },
    {
     "name": "stdout",
     "output_type": "stream",
     "text": [
      "total condition no.: 60\n",
      "total device no.: 60\n",
      "maximum Y (PCE [%]):  16.57\n"
     ]
    },
    {
     "name": "stderr",
     "output_type": "stream",
     "text": [
      "reconstraining parameters Mat52.lengthscale\n",
      "reconstraining parameters Mat52.variance\n"
     ]
    },
    {
     "name": "stdout",
     "output_type": "stream",
     "text": [
      "total condition no.: 80\n",
      "total device no.: 80\n",
      "maximum Y (PCE [%]):  16.57\n"
     ]
    },
    {
     "name": "stderr",
     "output_type": "stream",
     "text": [
      "reconstraining parameters Mat52.lengthscale\n",
      "reconstraining parameters Mat52.variance\n"
     ]
    },
    {
     "name": "stdout",
     "output_type": "stream",
     "text": [
      "total condition no.: 100\n",
      "total device no.: 100\n",
      "maximum Y (PCE [%]):  17.23\n"
     ]
    },
    {
     "name": "stderr",
     "output_type": "stream",
     "text": [
      "reconstraining parameters Mat52.lengthscale\n",
      "reconstraining parameters Mat52.variance\n"
     ]
    },
    {
     "name": "stdout",
     "output_type": "stream",
     "text": [
      "total condition no.: 120\n",
      "total device no.: 120\n",
      "maximum Y (PCE [%]):  17.23\n"
     ]
    },
    {
     "name": "stderr",
     "output_type": "stream",
     "text": [
      "reconstraining parameters Mat52.lengthscale\n",
      "reconstraining parameters Mat52.variance\n"
     ]
    },
    {
     "name": "stdout",
     "output_type": "stream",
     "text": [
      "total condition no.: 140\n",
      "total device no.: 140\n",
      "maximum Y (PCE [%]):  17.23\n"
     ]
    },
    {
     "name": "stderr",
     "output_type": "stream",
     "text": [
      "reconstraining parameters Mat52.lengthscale\n",
      "reconstraining parameters Mat52.variance\n"
     ]
    },
    {
     "name": "stdout",
     "output_type": "stream",
     "text": [
      "total condition no.: 160\n",
      "total device no.: 160\n",
      "maximum Y (PCE [%]):  17.23\n"
     ]
    },
    {
     "name": "stderr",
     "output_type": "stream",
     "text": [
      "reconstraining parameters Mat52.lengthscale\n",
      "reconstraining parameters Mat52.variance\n"
     ]
    },
    {
     "name": "stdout",
     "output_type": "stream",
     "text": [
      "total condition no.: 180\n",
      "total device no.: 180\n",
      "maximum Y (PCE [%]):  17.23\n"
     ]
    },
    {
     "name": "stderr",
     "output_type": "stream",
     "text": [
      "reconstraining parameters Mat52.lengthscale\n",
      "reconstraining parameters Mat52.variance\n"
     ]
    },
    {
     "name": "stdout",
     "output_type": "stream",
     "text": [
      "total condition no.: 200\n",
      "total device no.: 200\n",
      "maximum Y (PCE [%]):  17.29\n"
     ]
    },
    {
     "name": "stderr",
     "output_type": "stream",
     "text": [
      "reconstraining parameters Mat52.lengthscale\n",
      "reconstraining parameters Mat52.variance\n"
     ]
    },
    {
     "name": "stdout",
     "output_type": "stream",
     "text": [
      "total condition no.: 220\n",
      "total device no.: 220\n",
      "maximum Y (PCE [%]):  17.29\n"
     ]
    },
    {
     "name": "stderr",
     "output_type": "stream",
     "text": [
      "reconstraining parameters Mat52.lengthscale\n",
      "reconstraining parameters Mat52.variance\n"
     ]
    },
    {
     "name": "stdout",
     "output_type": "stream",
     "text": [
      "total condition no.: 240\n",
      "total device no.: 240\n",
      "maximum Y (PCE [%]):  17.29\n"
     ]
    },
    {
     "name": "stderr",
     "output_type": "stream",
     "text": [
      "reconstraining parameters Mat52.lengthscale\n",
      "reconstraining parameters Mat52.variance\n"
     ]
    },
    {
     "name": "stdout",
     "output_type": "stream",
     "text": [
      "total condition no.: 260\n",
      "total device no.: 260\n",
      "maximum Y (PCE [%]):  17.29\n"
     ]
    },
    {
     "name": "stderr",
     "output_type": "stream",
     "text": [
      "reconstraining parameters Mat52.lengthscale\n",
      "reconstraining parameters Mat52.variance\n"
     ]
    },
    {
     "name": "stdout",
     "output_type": "stream",
     "text": [
      "total condition no.: 280\n",
      "total device no.: 280\n",
      "maximum Y (PCE [%]):  17.3\n"
     ]
    },
    {
     "name": "stderr",
     "output_type": "stream",
     "text": [
      "reconstraining parameters Mat52.lengthscale\n",
      "reconstraining parameters Mat52.variance\n"
     ]
    },
    {
     "name": "stdout",
     "output_type": "stream",
     "text": [
      "total condition no.: 300\n",
      "total device no.: 300\n",
      "maximum Y (PCE [%]):  17.3\n"
     ]
    },
    {
     "name": "stderr",
     "output_type": "stream",
     "text": [
      "reconstraining parameters Mat52.lengthscale\n",
      "reconstraining parameters Mat52.variance\n"
     ]
    },
    {
     "name": "stdout",
     "output_type": "stream",
     "text": [
      "     Temperature [°C]  Speed [mm/s]  Spray Flow [uL/min]  Plamsa Height [cm]  \\\n",
      "266        143.439047    177.640264          3430.497623                 1.2   \n",
      "\n",
      "     Plasma Gas Flow [L/min]  Plasma DC [%]  Efficiency [%]  \n",
      "266                     15.0           25.0       17.295709  \n",
      "total condition no.: 20\n",
      "total device no.: 20\n",
      "maximum Y (PCE [%]):  14.5\n"
     ]
    },
    {
     "name": "stderr",
     "output_type": "stream",
     "text": [
      "reconstraining parameters Mat52.lengthscale\n",
      "reconstraining parameters Mat52.variance\n"
     ]
    },
    {
     "name": "stdout",
     "output_type": "stream",
     "text": [
      "total condition no.: 40\n",
      "total device no.: 40\n",
      "maximum Y (PCE [%]):  14.5\n"
     ]
    },
    {
     "name": "stderr",
     "output_type": "stream",
     "text": [
      "reconstraining parameters Mat52.lengthscale\n",
      "reconstraining parameters Mat52.variance\n"
     ]
    },
    {
     "name": "stdout",
     "output_type": "stream",
     "text": [
      "total condition no.: 60\n",
      "total device no.: 60\n",
      "maximum Y (PCE [%]):  15.42\n"
     ]
    },
    {
     "name": "stderr",
     "output_type": "stream",
     "text": [
      "reconstraining parameters Mat52.lengthscale\n",
      "reconstraining parameters Mat52.variance\n"
     ]
    },
    {
     "name": "stdout",
     "output_type": "stream",
     "text": [
      "total condition no.: 80\n",
      "total device no.: 80\n",
      "maximum Y (PCE [%]):  15.94\n"
     ]
    },
    {
     "name": "stderr",
     "output_type": "stream",
     "text": [
      "reconstraining parameters Mat52.lengthscale\n",
      "reconstraining parameters Mat52.variance\n"
     ]
    },
    {
     "name": "stdout",
     "output_type": "stream",
     "text": [
      "total condition no.: 100\n",
      "total device no.: 100\n",
      "maximum Y (PCE [%]):  15.94\n"
     ]
    },
    {
     "name": "stderr",
     "output_type": "stream",
     "text": [
      "reconstraining parameters Mat52.lengthscale\n",
      "reconstraining parameters Mat52.variance\n"
     ]
    },
    {
     "name": "stdout",
     "output_type": "stream",
     "text": [
      "total condition no.: 120\n",
      "total device no.: 120\n",
      "maximum Y (PCE [%]):  15.94\n"
     ]
    },
    {
     "name": "stderr",
     "output_type": "stream",
     "text": [
      "reconstraining parameters Mat52.lengthscale\n",
      "reconstraining parameters Mat52.variance\n"
     ]
    },
    {
     "name": "stdout",
     "output_type": "stream",
     "text": [
      "total condition no.: 140\n",
      "total device no.: 140\n",
      "maximum Y (PCE [%]):  16.13\n"
     ]
    },
    {
     "name": "stderr",
     "output_type": "stream",
     "text": [
      "reconstraining parameters Mat52.lengthscale\n",
      "reconstraining parameters Mat52.variance\n"
     ]
    },
    {
     "name": "stdout",
     "output_type": "stream",
     "text": [
      "total condition no.: 160\n",
      "total device no.: 160\n",
      "maximum Y (PCE [%]):  16.43\n"
     ]
    },
    {
     "name": "stderr",
     "output_type": "stream",
     "text": [
      "reconstraining parameters Mat52.lengthscale\n",
      "reconstraining parameters Mat52.variance\n"
     ]
    },
    {
     "name": "stdout",
     "output_type": "stream",
     "text": [
      "total condition no.: 180\n",
      "total device no.: 180\n",
      "maximum Y (PCE [%]):  16.52\n"
     ]
    },
    {
     "name": "stderr",
     "output_type": "stream",
     "text": [
      "reconstraining parameters Mat52.lengthscale\n",
      "reconstraining parameters Mat52.variance\n"
     ]
    },
    {
     "name": "stdout",
     "output_type": "stream",
     "text": [
      "total condition no.: 200\n",
      "total device no.: 200\n",
      "maximum Y (PCE [%]):  16.71\n"
     ]
    },
    {
     "name": "stderr",
     "output_type": "stream",
     "text": [
      "reconstraining parameters Mat52.lengthscale\n",
      "reconstraining parameters Mat52.variance\n"
     ]
    },
    {
     "name": "stdout",
     "output_type": "stream",
     "text": [
      "total condition no.: 220\n",
      "total device no.: 220\n",
      "maximum Y (PCE [%]):  16.97\n"
     ]
    },
    {
     "name": "stderr",
     "output_type": "stream",
     "text": [
      "reconstraining parameters Mat52.lengthscale\n",
      "reconstraining parameters Mat52.variance\n"
     ]
    },
    {
     "name": "stdout",
     "output_type": "stream",
     "text": [
      "total condition no.: 240\n",
      "total device no.: 240\n",
      "maximum Y (PCE [%]):  16.97\n"
     ]
    },
    {
     "name": "stderr",
     "output_type": "stream",
     "text": [
      "reconstraining parameters Mat52.lengthscale\n",
      "reconstraining parameters Mat52.variance\n"
     ]
    },
    {
     "name": "stdout",
     "output_type": "stream",
     "text": [
      "total condition no.: 260\n",
      "total device no.: 260\n",
      "maximum Y (PCE [%]):  16.97\n"
     ]
    },
    {
     "name": "stderr",
     "output_type": "stream",
     "text": [
      "reconstraining parameters Mat52.lengthscale\n",
      "reconstraining parameters Mat52.variance\n"
     ]
    },
    {
     "name": "stdout",
     "output_type": "stream",
     "text": [
      "total condition no.: 280\n",
      "total device no.: 280\n",
      "maximum Y (PCE [%]):  16.97\n"
     ]
    },
    {
     "name": "stderr",
     "output_type": "stream",
     "text": [
      "reconstraining parameters Mat52.lengthscale\n",
      "reconstraining parameters Mat52.variance\n"
     ]
    },
    {
     "name": "stdout",
     "output_type": "stream",
     "text": [
      "total condition no.: 300\n",
      "total device no.: 300\n",
      "maximum Y (PCE [%]):  16.97\n"
     ]
    },
    {
     "name": "stderr",
     "output_type": "stream",
     "text": [
      "reconstraining parameters Mat52.lengthscale\n",
      "reconstraining parameters Mat52.variance\n"
     ]
    },
    {
     "name": "stdout",
     "output_type": "stream",
     "text": [
      "     Temperature [°C]  Speed [mm/s]  Spray Flow [uL/min]  Plamsa Height [cm]  \\\n",
      "216        145.993884    178.497154           3421.53442            0.806222   \n",
      "\n",
      "     Plasma Gas Flow [L/min]  Plasma DC [%]  Efficiency [%]  \n",
      "216                15.339511      28.063265       16.972686  \n",
      "total condition no.: 20\n",
      "total device no.: 20\n",
      "maximum Y (PCE [%]):  14.19\n"
     ]
    },
    {
     "name": "stderr",
     "output_type": "stream",
     "text": [
      "reconstraining parameters Mat52.lengthscale\n",
      "reconstraining parameters Mat52.variance\n"
     ]
    },
    {
     "name": "stdout",
     "output_type": "stream",
     "text": [
      "total condition no.: 40\n",
      "total device no.: 40\n",
      "maximum Y (PCE [%]):  14.19\n"
     ]
    },
    {
     "name": "stderr",
     "output_type": "stream",
     "text": [
      "reconstraining parameters Mat52.lengthscale\n",
      "reconstraining parameters Mat52.variance\n"
     ]
    },
    {
     "name": "stdout",
     "output_type": "stream",
     "text": [
      "total condition no.: 60\n",
      "total device no.: 60\n",
      "maximum Y (PCE [%]):  15.16\n"
     ]
    },
    {
     "name": "stderr",
     "output_type": "stream",
     "text": [
      "reconstraining parameters Mat52.lengthscale\n",
      "reconstraining parameters Mat52.variance\n"
     ]
    },
    {
     "name": "stdout",
     "output_type": "stream",
     "text": [
      "total condition no.: 80\n",
      "total device no.: 80\n",
      "maximum Y (PCE [%]):  15.92\n"
     ]
    },
    {
     "name": "stderr",
     "output_type": "stream",
     "text": [
      "reconstraining parameters Mat52.lengthscale\n",
      "reconstraining parameters Mat52.variance\n"
     ]
    },
    {
     "name": "stdout",
     "output_type": "stream",
     "text": [
      "total condition no.: 100\n",
      "total device no.: 100\n",
      "maximum Y (PCE [%]):  16.05\n"
     ]
    },
    {
     "name": "stderr",
     "output_type": "stream",
     "text": [
      "reconstraining parameters Mat52.lengthscale\n",
      "reconstraining parameters Mat52.variance\n"
     ]
    },
    {
     "name": "stdout",
     "output_type": "stream",
     "text": [
      "total condition no.: 120\n",
      "total device no.: 120\n",
      "maximum Y (PCE [%]):  16.11\n"
     ]
    },
    {
     "name": "stderr",
     "output_type": "stream",
     "text": [
      "reconstraining parameters Mat52.lengthscale\n",
      "reconstraining parameters Mat52.variance\n"
     ]
    },
    {
     "name": "stdout",
     "output_type": "stream",
     "text": [
      "total condition no.: 140\n",
      "total device no.: 140\n",
      "maximum Y (PCE [%]):  16.11\n"
     ]
    },
    {
     "name": "stderr",
     "output_type": "stream",
     "text": [
      "reconstraining parameters Mat52.lengthscale\n",
      "reconstraining parameters Mat52.variance\n"
     ]
    },
    {
     "name": "stdout",
     "output_type": "stream",
     "text": [
      "total condition no.: 160\n",
      "total device no.: 160\n",
      "maximum Y (PCE [%]):  16.11\n"
     ]
    },
    {
     "name": "stderr",
     "output_type": "stream",
     "text": [
      "reconstraining parameters Mat52.lengthscale\n",
      "reconstraining parameters Mat52.variance\n"
     ]
    },
    {
     "name": "stdout",
     "output_type": "stream",
     "text": [
      "total condition no.: 180\n",
      "total device no.: 180\n",
      "maximum Y (PCE [%]):  16.11\n"
     ]
    },
    {
     "name": "stderr",
     "output_type": "stream",
     "text": [
      "reconstraining parameters Mat52.lengthscale\n",
      "reconstraining parameters Mat52.variance\n"
     ]
    },
    {
     "name": "stdout",
     "output_type": "stream",
     "text": [
      "total condition no.: 200\n",
      "total device no.: 200\n",
      "maximum Y (PCE [%]):  16.11\n"
     ]
    },
    {
     "name": "stderr",
     "output_type": "stream",
     "text": [
      "reconstraining parameters Mat52.lengthscale\n",
      "reconstraining parameters Mat52.variance\n"
     ]
    },
    {
     "name": "stdout",
     "output_type": "stream",
     "text": [
      "total condition no.: 220\n",
      "total device no.: 220\n",
      "maximum Y (PCE [%]):  16.11\n"
     ]
    },
    {
     "name": "stderr",
     "output_type": "stream",
     "text": [
      "reconstraining parameters Mat52.lengthscale\n",
      "reconstraining parameters Mat52.variance\n"
     ]
    },
    {
     "name": "stdout",
     "output_type": "stream",
     "text": [
      "total condition no.: 240\n",
      "total device no.: 240\n",
      "maximum Y (PCE [%]):  16.11\n"
     ]
    },
    {
     "name": "stderr",
     "output_type": "stream",
     "text": [
      "reconstraining parameters Mat52.lengthscale\n",
      "reconstraining parameters Mat52.variance\n"
     ]
    },
    {
     "name": "stdout",
     "output_type": "stream",
     "text": [
      "total condition no.: 260\n",
      "total device no.: 260\n",
      "maximum Y (PCE [%]):  16.7\n"
     ]
    },
    {
     "name": "stderr",
     "output_type": "stream",
     "text": [
      "reconstraining parameters Mat52.lengthscale\n",
      "reconstraining parameters Mat52.variance\n"
     ]
    },
    {
     "name": "stdout",
     "output_type": "stream",
     "text": [
      "total condition no.: 280\n",
      "total device no.: 280\n",
      "maximum Y (PCE [%]):  16.88\n"
     ]
    },
    {
     "name": "stderr",
     "output_type": "stream",
     "text": [
      "reconstraining parameters Mat52.lengthscale\n",
      "reconstraining parameters Mat52.variance\n"
     ]
    },
    {
     "name": "stdout",
     "output_type": "stream",
     "text": [
      "total condition no.: 300\n",
      "total device no.: 300\n",
      "maximum Y (PCE [%]):  17.06\n",
      "     Temperature [°C]  Speed [mm/s]  Spray Flow [uL/min]  Plamsa Height [cm]  \\\n",
      "284        143.186523    147.864862          3374.138539                 1.2   \n",
      "\n",
      "     Plasma Gas Flow [L/min]  Plasma DC [%]  Efficiency [%]  \n",
      "284                     15.0           25.0       17.055058  \n"
     ]
    },
    {
     "name": "stderr",
     "output_type": "stream",
     "text": [
      "reconstraining parameters Mat52.lengthscale\n",
      "reconstraining parameters Mat52.variance\n"
     ]
    },
    {
     "name": "stdout",
     "output_type": "stream",
     "text": [
      "total condition no.: 20\n",
      "total device no.: 20\n",
      "maximum Y (PCE [%]):  13.87\n"
     ]
    },
    {
     "name": "stderr",
     "output_type": "stream",
     "text": [
      "reconstraining parameters Mat52.lengthscale\n",
      "reconstraining parameters Mat52.variance\n"
     ]
    },
    {
     "name": "stdout",
     "output_type": "stream",
     "text": [
      "total condition no.: 40\n",
      "total device no.: 40\n",
      "maximum Y (PCE [%]):  15.38\n"
     ]
    },
    {
     "name": "stderr",
     "output_type": "stream",
     "text": [
      "reconstraining parameters Mat52.lengthscale\n",
      "reconstraining parameters Mat52.variance\n"
     ]
    },
    {
     "name": "stdout",
     "output_type": "stream",
     "text": [
      "total condition no.: 60\n",
      "total device no.: 60\n",
      "maximum Y (PCE [%]):  15.65\n"
     ]
    },
    {
     "name": "stderr",
     "output_type": "stream",
     "text": [
      "reconstraining parameters Mat52.lengthscale\n",
      "reconstraining parameters Mat52.variance\n"
     ]
    },
    {
     "name": "stdout",
     "output_type": "stream",
     "text": [
      "total condition no.: 80\n",
      "total device no.: 80\n",
      "maximum Y (PCE [%]):  15.71\n"
     ]
    },
    {
     "name": "stderr",
     "output_type": "stream",
     "text": [
      "reconstraining parameters Mat52.lengthscale\n",
      "reconstraining parameters Mat52.variance\n"
     ]
    },
    {
     "name": "stdout",
     "output_type": "stream",
     "text": [
      "total condition no.: 100\n",
      "total device no.: 100\n",
      "maximum Y (PCE [%]):  15.71\n"
     ]
    },
    {
     "name": "stderr",
     "output_type": "stream",
     "text": [
      "reconstraining parameters Mat52.lengthscale\n",
      "reconstraining parameters Mat52.variance\n"
     ]
    },
    {
     "name": "stdout",
     "output_type": "stream",
     "text": [
      "total condition no.: 120\n",
      "total device no.: 120\n",
      "maximum Y (PCE [%]):  16.31\n"
     ]
    },
    {
     "name": "stderr",
     "output_type": "stream",
     "text": [
      "reconstraining parameters Mat52.lengthscale\n",
      "reconstraining parameters Mat52.variance\n"
     ]
    },
    {
     "name": "stdout",
     "output_type": "stream",
     "text": [
      "total condition no.: 140\n",
      "total device no.: 140\n",
      "maximum Y (PCE [%]):  16.72\n"
     ]
    },
    {
     "name": "stderr",
     "output_type": "stream",
     "text": [
      "reconstraining parameters Mat52.lengthscale\n",
      "reconstraining parameters Mat52.variance\n"
     ]
    },
    {
     "name": "stdout",
     "output_type": "stream",
     "text": [
      "total condition no.: 160\n",
      "total device no.: 160\n",
      "maximum Y (PCE [%]):  16.72\n"
     ]
    },
    {
     "name": "stderr",
     "output_type": "stream",
     "text": [
      "reconstraining parameters Mat52.lengthscale\n",
      "reconstraining parameters Mat52.variance\n"
     ]
    },
    {
     "name": "stdout",
     "output_type": "stream",
     "text": [
      "total condition no.: 180\n",
      "total device no.: 180\n",
      "maximum Y (PCE [%]):  16.72\n"
     ]
    },
    {
     "name": "stderr",
     "output_type": "stream",
     "text": [
      "reconstraining parameters Mat52.lengthscale\n",
      "reconstraining parameters Mat52.variance\n"
     ]
    },
    {
     "name": "stdout",
     "output_type": "stream",
     "text": [
      "total condition no.: 200\n",
      "total device no.: 200\n",
      "maximum Y (PCE [%]):  16.72\n"
     ]
    },
    {
     "name": "stderr",
     "output_type": "stream",
     "text": [
      "reconstraining parameters Mat52.lengthscale\n",
      "reconstraining parameters Mat52.variance\n"
     ]
    },
    {
     "name": "stdout",
     "output_type": "stream",
     "text": [
      "total condition no.: 220\n",
      "total device no.: 220\n",
      "maximum Y (PCE [%]):  16.76\n"
     ]
    },
    {
     "name": "stderr",
     "output_type": "stream",
     "text": [
      "reconstraining parameters Mat52.lengthscale\n",
      "reconstraining parameters Mat52.variance\n"
     ]
    },
    {
     "name": "stdout",
     "output_type": "stream",
     "text": [
      "total condition no.: 240\n",
      "total device no.: 240\n",
      "maximum Y (PCE [%]):  17.07\n"
     ]
    },
    {
     "name": "stderr",
     "output_type": "stream",
     "text": [
      "reconstraining parameters Mat52.lengthscale\n",
      "reconstraining parameters Mat52.variance\n"
     ]
    },
    {
     "name": "stdout",
     "output_type": "stream",
     "text": [
      "total condition no.: 260\n",
      "total device no.: 260\n",
      "maximum Y (PCE [%]):  17.07\n"
     ]
    },
    {
     "name": "stderr",
     "output_type": "stream",
     "text": [
      "reconstraining parameters Mat52.lengthscale\n",
      "reconstraining parameters Mat52.variance\n"
     ]
    },
    {
     "name": "stdout",
     "output_type": "stream",
     "text": [
      "total condition no.: 280\n",
      "total device no.: 280\n",
      "maximum Y (PCE [%]):  17.07\n"
     ]
    },
    {
     "name": "stderr",
     "output_type": "stream",
     "text": [
      "reconstraining parameters Mat52.lengthscale\n",
      "reconstraining parameters Mat52.variance\n"
     ]
    },
    {
     "name": "stdout",
     "output_type": "stream",
     "text": [
      "total condition no.: 300\n",
      "total device no.: 300\n",
      "maximum Y (PCE [%]):  17.07\n"
     ]
    },
    {
     "name": "stderr",
     "output_type": "stream",
     "text": [
      "reconstraining parameters Mat52.lengthscale\n",
      "reconstraining parameters Mat52.variance\n"
     ]
    },
    {
     "name": "stdout",
     "output_type": "stream",
     "text": [
      "     Temperature [°C]  Speed [mm/s]  Spray Flow [uL/min]  Plamsa Height [cm]  \\\n",
      "237        143.263872     181.33142          3452.175455                 0.8   \n",
      "\n",
      "     Plasma Gas Flow [L/min]  Plasma DC [%]  Efficiency [%]  \n",
      "237                18.586811      27.342027       17.068267  \n",
      "total condition no.: 20\n",
      "total device no.: 20\n",
      "maximum Y (PCE [%]):  14.13\n"
     ]
    },
    {
     "name": "stderr",
     "output_type": "stream",
     "text": [
      "reconstraining parameters Mat52.lengthscale\n",
      "reconstraining parameters Mat52.variance\n"
     ]
    },
    {
     "name": "stdout",
     "output_type": "stream",
     "text": [
      "total condition no.: 40\n",
      "total device no.: 40\n",
      "maximum Y (PCE [%]):  16.17\n"
     ]
    },
    {
     "name": "stderr",
     "output_type": "stream",
     "text": [
      "reconstraining parameters Mat52.lengthscale\n",
      "reconstraining parameters Mat52.variance\n"
     ]
    },
    {
     "name": "stdout",
     "output_type": "stream",
     "text": [
      "total condition no.: 60\n",
      "total device no.: 60\n",
      "maximum Y (PCE [%]):  16.64\n"
     ]
    },
    {
     "name": "stderr",
     "output_type": "stream",
     "text": [
      "reconstraining parameters Mat52.lengthscale\n",
      "reconstraining parameters Mat52.variance\n"
     ]
    },
    {
     "name": "stdout",
     "output_type": "stream",
     "text": [
      "total condition no.: 80\n",
      "total device no.: 80\n",
      "maximum Y (PCE [%]):  16.64\n"
     ]
    },
    {
     "name": "stderr",
     "output_type": "stream",
     "text": [
      "reconstraining parameters Mat52.lengthscale\n",
      "reconstraining parameters Mat52.variance\n"
     ]
    },
    {
     "name": "stdout",
     "output_type": "stream",
     "text": [
      "total condition no.: 100\n",
      "total device no.: 100\n",
      "maximum Y (PCE [%]):  16.64\n"
     ]
    },
    {
     "name": "stderr",
     "output_type": "stream",
     "text": [
      "reconstraining parameters Mat52.lengthscale\n",
      "reconstraining parameters Mat52.variance\n"
     ]
    },
    {
     "name": "stdout",
     "output_type": "stream",
     "text": [
      "total condition no.: 120\n",
      "total device no.: 120\n",
      "maximum Y (PCE [%]):  16.64\n"
     ]
    },
    {
     "name": "stderr",
     "output_type": "stream",
     "text": [
      "reconstraining parameters Mat52.lengthscale\n",
      "reconstraining parameters Mat52.variance\n"
     ]
    },
    {
     "name": "stdout",
     "output_type": "stream",
     "text": [
      "total condition no.: 140\n",
      "total device no.: 140\n",
      "maximum Y (PCE [%]):  17.09\n"
     ]
    },
    {
     "name": "stderr",
     "output_type": "stream",
     "text": [
      "reconstraining parameters Mat52.lengthscale\n",
      "reconstraining parameters Mat52.variance\n"
     ]
    },
    {
     "name": "stdout",
     "output_type": "stream",
     "text": [
      "total condition no.: 160\n",
      "total device no.: 160\n",
      "maximum Y (PCE [%]):  17.09\n"
     ]
    },
    {
     "name": "stderr",
     "output_type": "stream",
     "text": [
      "reconstraining parameters Mat52.lengthscale\n",
      "reconstraining parameters Mat52.variance\n"
     ]
    },
    {
     "name": "stdout",
     "output_type": "stream",
     "text": [
      "total condition no.: 180\n",
      "total device no.: 180\n",
      "maximum Y (PCE [%]):  17.28\n"
     ]
    },
    {
     "name": "stderr",
     "output_type": "stream",
     "text": [
      "reconstraining parameters Mat52.lengthscale\n",
      "reconstraining parameters Mat52.variance\n"
     ]
    },
    {
     "name": "stdout",
     "output_type": "stream",
     "text": [
      "total condition no.: 200\n",
      "total device no.: 200\n",
      "maximum Y (PCE [%]):  17.34\n"
     ]
    },
    {
     "name": "stderr",
     "output_type": "stream",
     "text": [
      "reconstraining parameters Mat52.lengthscale\n",
      "reconstraining parameters Mat52.variance\n"
     ]
    },
    {
     "name": "stdout",
     "output_type": "stream",
     "text": [
      "total condition no.: 220\n",
      "total device no.: 220\n",
      "maximum Y (PCE [%]):  17.62\n"
     ]
    },
    {
     "name": "stderr",
     "output_type": "stream",
     "text": [
      "reconstraining parameters Mat52.lengthscale\n",
      "reconstraining parameters Mat52.variance\n"
     ]
    },
    {
     "name": "stdout",
     "output_type": "stream",
     "text": [
      "total condition no.: 240\n",
      "total device no.: 240\n",
      "maximum Y (PCE [%]):  17.62\n"
     ]
    },
    {
     "name": "stderr",
     "output_type": "stream",
     "text": [
      "reconstraining parameters Mat52.lengthscale\n",
      "reconstraining parameters Mat52.variance\n"
     ]
    },
    {
     "name": "stdout",
     "output_type": "stream",
     "text": [
      "total condition no.: 260\n",
      "total device no.: 260\n",
      "maximum Y (PCE [%]):  17.62\n"
     ]
    },
    {
     "name": "stderr",
     "output_type": "stream",
     "text": [
      "reconstraining parameters Mat52.lengthscale\n",
      "reconstraining parameters Mat52.variance\n"
     ]
    },
    {
     "name": "stdout",
     "output_type": "stream",
     "text": [
      "total condition no.: 280\n",
      "total device no.: 280\n",
      "maximum Y (PCE [%]):  17.66\n"
     ]
    },
    {
     "name": "stderr",
     "output_type": "stream",
     "text": [
      "reconstraining parameters Mat52.lengthscale\n",
      "reconstraining parameters Mat52.variance\n"
     ]
    },
    {
     "name": "stdout",
     "output_type": "stream",
     "text": [
      "total condition no.: 300\n",
      "total device no.: 300\n",
      "maximum Y (PCE [%]):  17.67\n"
     ]
    },
    {
     "name": "stderr",
     "output_type": "stream",
     "text": [
      "reconstraining parameters Mat52.lengthscale\n",
      "reconstraining parameters Mat52.variance\n"
     ]
    },
    {
     "name": "stdout",
     "output_type": "stream",
     "text": [
      "     Temperature [°C]  Speed [mm/s]  Spray Flow [uL/min]  Plamsa Height [cm]  \\\n",
      "301        144.985867    185.357161          3431.530789            1.058996   \n",
      "\n",
      "     Plasma Gas Flow [L/min]  Plasma DC [%]  Efficiency [%]  \n",
      "301                15.551333      28.395148       17.668987  \n",
      "total condition no.: 20\n",
      "total device no.: 20\n",
      "maximum Y (PCE [%]):  13.9\n"
     ]
    },
    {
     "name": "stderr",
     "output_type": "stream",
     "text": [
      "reconstraining parameters Mat52.lengthscale\n",
      "reconstraining parameters Mat52.variance\n"
     ]
    },
    {
     "name": "stdout",
     "output_type": "stream",
     "text": [
      "total condition no.: 40\n",
      "total device no.: 40\n",
      "maximum Y (PCE [%]):  15.04\n"
     ]
    },
    {
     "name": "stderr",
     "output_type": "stream",
     "text": [
      "reconstraining parameters Mat52.lengthscale\n",
      "reconstraining parameters Mat52.variance\n"
     ]
    },
    {
     "name": "stdout",
     "output_type": "stream",
     "text": [
      "total condition no.: 60\n",
      "total device no.: 60\n",
      "maximum Y (PCE [%]):  15.39\n"
     ]
    },
    {
     "name": "stderr",
     "output_type": "stream",
     "text": [
      "reconstraining parameters Mat52.lengthscale\n",
      "reconstraining parameters Mat52.variance\n"
     ]
    },
    {
     "name": "stdout",
     "output_type": "stream",
     "text": [
      "total condition no.: 80\n",
      "total device no.: 80\n",
      "maximum Y (PCE [%]):  15.98\n"
     ]
    },
    {
     "name": "stderr",
     "output_type": "stream",
     "text": [
      "reconstraining parameters Mat52.lengthscale\n",
      "reconstraining parameters Mat52.variance\n"
     ]
    },
    {
     "name": "stdout",
     "output_type": "stream",
     "text": [
      "total condition no.: 100\n",
      "total device no.: 100\n",
      "maximum Y (PCE [%]):  16.16\n"
     ]
    },
    {
     "name": "stderr",
     "output_type": "stream",
     "text": [
      "reconstraining parameters Mat52.lengthscale\n",
      "reconstraining parameters Mat52.variance\n"
     ]
    },
    {
     "name": "stdout",
     "output_type": "stream",
     "text": [
      "total condition no.: 120\n",
      "total device no.: 120\n",
      "maximum Y (PCE [%]):  16.63\n"
     ]
    },
    {
     "name": "stderr",
     "output_type": "stream",
     "text": [
      "reconstraining parameters Mat52.lengthscale\n",
      "reconstraining parameters Mat52.variance\n"
     ]
    },
    {
     "name": "stdout",
     "output_type": "stream",
     "text": [
      "total condition no.: 140\n",
      "total device no.: 140\n",
      "maximum Y (PCE [%]):  16.63\n"
     ]
    },
    {
     "name": "stderr",
     "output_type": "stream",
     "text": [
      "reconstraining parameters Mat52.lengthscale\n",
      "reconstraining parameters Mat52.variance\n"
     ]
    },
    {
     "name": "stdout",
     "output_type": "stream",
     "text": [
      "total condition no.: 160\n",
      "total device no.: 160\n",
      "maximum Y (PCE [%]):  16.63\n"
     ]
    },
    {
     "name": "stderr",
     "output_type": "stream",
     "text": [
      "reconstraining parameters Mat52.lengthscale\n",
      "reconstraining parameters Mat52.variance\n"
     ]
    },
    {
     "name": "stdout",
     "output_type": "stream",
     "text": [
      "total condition no.: 180\n",
      "total device no.: 180\n",
      "maximum Y (PCE [%]):  16.63\n"
     ]
    },
    {
     "name": "stderr",
     "output_type": "stream",
     "text": [
      "reconstraining parameters Mat52.lengthscale\n",
      "reconstraining parameters Mat52.variance\n"
     ]
    },
    {
     "name": "stdout",
     "output_type": "stream",
     "text": [
      "total condition no.: 200\n",
      "total device no.: 200\n",
      "maximum Y (PCE [%]):  16.63\n"
     ]
    },
    {
     "name": "stderr",
     "output_type": "stream",
     "text": [
      "reconstraining parameters Mat52.lengthscale\n",
      "reconstraining parameters Mat52.variance\n"
     ]
    },
    {
     "name": "stdout",
     "output_type": "stream",
     "text": [
      "total condition no.: 220\n",
      "total device no.: 220\n",
      "maximum Y (PCE [%]):  16.63\n"
     ]
    },
    {
     "name": "stderr",
     "output_type": "stream",
     "text": [
      "reconstraining parameters Mat52.lengthscale\n",
      "reconstraining parameters Mat52.variance\n"
     ]
    },
    {
     "name": "stdout",
     "output_type": "stream",
     "text": [
      "total condition no.: 240\n",
      "total device no.: 240\n",
      "maximum Y (PCE [%]):  16.63\n"
     ]
    },
    {
     "name": "stderr",
     "output_type": "stream",
     "text": [
      "reconstraining parameters Mat52.lengthscale\n",
      "reconstraining parameters Mat52.variance\n"
     ]
    },
    {
     "name": "stdout",
     "output_type": "stream",
     "text": [
      "total condition no.: 260\n",
      "total device no.: 260\n",
      "maximum Y (PCE [%]):  16.63\n"
     ]
    },
    {
     "name": "stderr",
     "output_type": "stream",
     "text": [
      "reconstraining parameters Mat52.lengthscale\n",
      "reconstraining parameters Mat52.variance\n"
     ]
    },
    {
     "name": "stdout",
     "output_type": "stream",
     "text": [
      "total condition no.: 280\n",
      "total device no.: 280\n",
      "maximum Y (PCE [%]):  16.65\n"
     ]
    },
    {
     "name": "stderr",
     "output_type": "stream",
     "text": [
      "reconstraining parameters Mat52.lengthscale\n",
      "reconstraining parameters Mat52.variance\n"
     ]
    },
    {
     "name": "stdout",
     "output_type": "stream",
     "text": [
      "total condition no.: 300\n",
      "total device no.: 300\n",
      "maximum Y (PCE [%]):  16.65\n"
     ]
    },
    {
     "name": "stderr",
     "output_type": "stream",
     "text": [
      "reconstraining parameters Mat52.lengthscale\n"
     ]
    },
    {
     "name": "stdout",
     "output_type": "stream",
     "text": [
      "     Temperature [°C]  Speed [mm/s]  Spray Flow [uL/min]  Plamsa Height [cm]  \\\n",
      "306        143.183518    183.668578          3861.867553            1.074033   \n",
      "\n",
      "     Plasma Gas Flow [L/min]  Plasma DC [%]  Efficiency [%]  \n",
      "306                     15.0      53.035774       16.652023  \n"
     ]
    },
    {
     "name": "stderr",
     "output_type": "stream",
     "text": [
      "reconstraining parameters Mat52.variance\n",
      " C:\\Users\\Zhe\\AppData\\Roaming\\Python\\Python37\\site-packages\\emukit\\bayesian_optimization\\acquisitions\\log_acquisition.py:25: RuntimeWarning:invalid value encountered in log\n",
      "reconstraining parameters Mat52.lengthscale\n",
      "reconstraining parameters Mat52.variance\n"
     ]
    },
    {
     "name": "stdout",
     "output_type": "stream",
     "text": [
      "total condition no.: 20\n",
      "total device no.: 20\n",
      "maximum Y (PCE [%]):  14.19\n",
      "total condition no.: 40\n",
      "total device no.: 40\n",
      "maximum Y (PCE [%]):  15.94\n"
     ]
    },
    {
     "name": "stderr",
     "output_type": "stream",
     "text": [
      " C:\\Users\\Zhe\\AppData\\Roaming\\Python\\Python37\\site-packages\\emukit\\bayesian_optimization\\acquisitions\\log_acquisition.py:25: RuntimeWarning:invalid value encountered in log\n",
      "reconstraining parameters Mat52.lengthscale\n",
      "reconstraining parameters Mat52.variance\n"
     ]
    },
    {
     "name": "stdout",
     "output_type": "stream",
     "text": [
      "total condition no.: 60\n",
      "total device no.: 60\n",
      "maximum Y (PCE [%]):  16.88\n"
     ]
    },
    {
     "name": "stderr",
     "output_type": "stream",
     "text": [
      " C:\\Users\\Zhe\\AppData\\Roaming\\Python\\Python37\\site-packages\\emukit\\bayesian_optimization\\acquisitions\\log_acquisition.py:25: RuntimeWarning:invalid value encountered in log\n",
      "reconstraining parameters Mat52.lengthscale\n",
      "reconstraining parameters Mat52.variance\n"
     ]
    },
    {
     "name": "stdout",
     "output_type": "stream",
     "text": [
      "total condition no.: 80\n",
      "total device no.: 80\n",
      "maximum Y (PCE [%]):  16.88\n"
     ]
    },
    {
     "name": "stderr",
     "output_type": "stream",
     "text": [
      " C:\\Users\\Zhe\\AppData\\Roaming\\Python\\Python37\\site-packages\\emukit\\bayesian_optimization\\acquisitions\\log_acquisition.py:25: RuntimeWarning:invalid value encountered in log\n",
      "reconstraining parameters Mat52.lengthscale\n",
      "reconstraining parameters Mat52.variance\n"
     ]
    },
    {
     "name": "stdout",
     "output_type": "stream",
     "text": [
      "total condition no.: 100\n",
      "total device no.: 100\n",
      "maximum Y (PCE [%]):  16.88\n"
     ]
    },
    {
     "name": "stderr",
     "output_type": "stream",
     "text": [
      " C:\\Users\\Zhe\\AppData\\Roaming\\Python\\Python37\\site-packages\\emukit\\bayesian_optimization\\acquisitions\\log_acquisition.py:25: RuntimeWarning:invalid value encountered in log\n",
      "reconstraining parameters Mat52.lengthscale\n",
      "reconstraining parameters Mat52.variance\n"
     ]
    },
    {
     "name": "stdout",
     "output_type": "stream",
     "text": [
      "total condition no.: 120\n",
      "total device no.: 120\n",
      "maximum Y (PCE [%]):  17.04\n"
     ]
    },
    {
     "name": "stderr",
     "output_type": "stream",
     "text": [
      " C:\\Users\\Zhe\\AppData\\Roaming\\Python\\Python37\\site-packages\\emukit\\bayesian_optimization\\acquisitions\\log_acquisition.py:25: RuntimeWarning:invalid value encountered in log\n",
      "reconstraining parameters Mat52.lengthscale\n",
      "reconstraining parameters Mat52.variance\n"
     ]
    },
    {
     "name": "stdout",
     "output_type": "stream",
     "text": [
      "total condition no.: 140\n",
      "total device no.: 140\n",
      "maximum Y (PCE [%]):  17.04\n"
     ]
    },
    {
     "name": "stderr",
     "output_type": "stream",
     "text": [
      " C:\\Users\\Zhe\\AppData\\Roaming\\Python\\Python37\\site-packages\\emukit\\bayesian_optimization\\acquisitions\\log_acquisition.py:25: RuntimeWarning:invalid value encountered in log\n",
      "reconstraining parameters Mat52.lengthscale\n",
      "reconstraining parameters Mat52.variance\n"
     ]
    },
    {
     "name": "stdout",
     "output_type": "stream",
     "text": [
      "total condition no.: 160\n",
      "total device no.: 160\n",
      "maximum Y (PCE [%]):  17.11\n"
     ]
    },
    {
     "name": "stderr",
     "output_type": "stream",
     "text": [
      " C:\\Users\\Zhe\\AppData\\Roaming\\Python\\Python37\\site-packages\\emukit\\bayesian_optimization\\acquisitions\\log_acquisition.py:25: RuntimeWarning:invalid value encountered in log\n",
      "reconstraining parameters Mat52.lengthscale\n",
      "reconstraining parameters Mat52.variance\n"
     ]
    },
    {
     "name": "stdout",
     "output_type": "stream",
     "text": [
      "total condition no.: 180\n",
      "total device no.: 180\n",
      "maximum Y (PCE [%]):  17.11\n"
     ]
    },
    {
     "name": "stderr",
     "output_type": "stream",
     "text": [
      " C:\\Users\\Zhe\\AppData\\Roaming\\Python\\Python37\\site-packages\\emukit\\bayesian_optimization\\acquisitions\\log_acquisition.py:25: RuntimeWarning:invalid value encountered in log\n",
      "reconstraining parameters Mat52.lengthscale\n",
      "reconstraining parameters Mat52.variance\n"
     ]
    },
    {
     "name": "stdout",
     "output_type": "stream",
     "text": [
      "total condition no.: 200\n",
      "total device no.: 200\n",
      "maximum Y (PCE [%]):  17.11\n"
     ]
    },
    {
     "name": "stderr",
     "output_type": "stream",
     "text": [
      " C:\\Users\\Zhe\\AppData\\Roaming\\Python\\Python37\\site-packages\\emukit\\bayesian_optimization\\acquisitions\\log_acquisition.py:25: RuntimeWarning:invalid value encountered in log\n",
      "reconstraining parameters Mat52.lengthscale\n",
      "reconstraining parameters Mat52.variance\n"
     ]
    },
    {
     "name": "stdout",
     "output_type": "stream",
     "text": [
      "total condition no.: 220\n",
      "total device no.: 220\n",
      "maximum Y (PCE [%]):  17.34\n"
     ]
    },
    {
     "name": "stderr",
     "output_type": "stream",
     "text": [
      " C:\\Users\\Zhe\\AppData\\Roaming\\Python\\Python37\\site-packages\\emukit\\bayesian_optimization\\acquisitions\\log_acquisition.py:25: RuntimeWarning:invalid value encountered in log\n",
      "reconstraining parameters Mat52.lengthscale\n",
      "reconstraining parameters Mat52.variance\n"
     ]
    },
    {
     "name": "stdout",
     "output_type": "stream",
     "text": [
      "total condition no.: 240\n",
      "total device no.: 240\n",
      "maximum Y (PCE [%]):  17.34\n"
     ]
    },
    {
     "name": "stderr",
     "output_type": "stream",
     "text": [
      " C:\\Users\\Zhe\\AppData\\Roaming\\Python\\Python37\\site-packages\\emukit\\bayesian_optimization\\acquisitions\\log_acquisition.py:25: RuntimeWarning:invalid value encountered in log\n",
      "reconstraining parameters Mat52.lengthscale\n",
      "reconstraining parameters Mat52.variance\n"
     ]
    },
    {
     "name": "stdout",
     "output_type": "stream",
     "text": [
      "total condition no.: 260\n",
      "total device no.: 260\n",
      "maximum Y (PCE [%]):  17.34\n"
     ]
    },
    {
     "name": "stderr",
     "output_type": "stream",
     "text": [
      " C:\\Users\\Zhe\\AppData\\Roaming\\Python\\Python37\\site-packages\\emukit\\bayesian_optimization\\acquisitions\\log_acquisition.py:25: RuntimeWarning:invalid value encountered in log\n",
      "reconstraining parameters Mat52.lengthscale\n",
      "reconstraining parameters Mat52.variance\n"
     ]
    },
    {
     "name": "stdout",
     "output_type": "stream",
     "text": [
      "total condition no.: 280\n",
      "total device no.: 280\n",
      "maximum Y (PCE [%]):  17.4\n"
     ]
    },
    {
     "name": "stderr",
     "output_type": "stream",
     "text": [
      " C:\\Users\\Zhe\\AppData\\Roaming\\Python\\Python37\\site-packages\\emukit\\bayesian_optimization\\acquisitions\\log_acquisition.py:25: RuntimeWarning:invalid value encountered in log\n",
      "reconstraining parameters Mat52.lengthscale\n",
      "reconstraining parameters Mat52.variance\n"
     ]
    },
    {
     "name": "stdout",
     "output_type": "stream",
     "text": [
      "total condition no.: 300\n",
      "total device no.: 300\n",
      "maximum Y (PCE [%]):  17.4\n"
     ]
    },
    {
     "name": "stderr",
     "output_type": "stream",
     "text": [
      " C:\\Users\\Zhe\\AppData\\Roaming\\Python\\Python37\\site-packages\\emukit\\bayesian_optimization\\acquisitions\\log_acquisition.py:25: RuntimeWarning:invalid value encountered in log\n",
      "reconstraining parameters Mat52.lengthscale\n",
      "reconstraining parameters Mat52.variance\n"
     ]
    },
    {
     "name": "stdout",
     "output_type": "stream",
     "text": [
      "     Temperature [°C]  Speed [mm/s]  Spray Flow [uL/min]  Plamsa Height [cm]  \\\n",
      "262         144.27567    130.258664          3146.643907            1.179414   \n",
      "\n",
      "     Plasma Gas Flow [L/min]  Plasma DC [%]  Efficiency [%]  \n",
      "262                15.639253      27.547414       17.395837  \n"
     ]
    },
    {
     "name": "stderr",
     "output_type": "stream",
     "text": [
      "reconstraining parameters Mat52.lengthscale\n",
      "reconstraining parameters Mat52.variance\n"
     ]
    },
    {
     "name": "stdout",
     "output_type": "stream",
     "text": [
      "total condition no.: 20\n",
      "total device no.: 20\n",
      "maximum Y (PCE [%]):  15.17\n",
      "total condition no.: 40\n",
      "total device no.: 40\n",
      "maximum Y (PCE [%]):  15.73\n"
     ]
    },
    {
     "name": "stderr",
     "output_type": "stream",
     "text": [
      "reconstraining parameters Mat52.lengthscale\n",
      "reconstraining parameters Mat52.variance\n"
     ]
    },
    {
     "name": "stdout",
     "output_type": "stream",
     "text": [
      "total condition no.: 60\n",
      "total device no.: 60\n",
      "maximum Y (PCE [%]):  15.96\n"
     ]
    },
    {
     "name": "stderr",
     "output_type": "stream",
     "text": [
      "reconstraining parameters Mat52.lengthscale\n",
      "reconstraining parameters Mat52.variance\n"
     ]
    },
    {
     "name": "stdout",
     "output_type": "stream",
     "text": [
      "total condition no.: 80\n",
      "total device no.: 80\n",
      "maximum Y (PCE [%]):  15.96\n"
     ]
    },
    {
     "name": "stderr",
     "output_type": "stream",
     "text": [
      "reconstraining parameters Mat52.lengthscale\n",
      "reconstraining parameters Mat52.variance\n"
     ]
    },
    {
     "name": "stdout",
     "output_type": "stream",
     "text": [
      "total condition no.: 100\n",
      "total device no.: 100\n",
      "maximum Y (PCE [%]):  16.51\n"
     ]
    },
    {
     "name": "stderr",
     "output_type": "stream",
     "text": [
      "reconstraining parameters Mat52.lengthscale\n",
      "reconstraining parameters Mat52.variance\n"
     ]
    },
    {
     "name": "stdout",
     "output_type": "stream",
     "text": [
      "total condition no.: 120\n",
      "total device no.: 120\n",
      "maximum Y (PCE [%]):  16.58\n"
     ]
    },
    {
     "name": "stderr",
     "output_type": "stream",
     "text": [
      "reconstraining parameters Mat52.lengthscale\n",
      "reconstraining parameters Mat52.variance\n"
     ]
    },
    {
     "name": "stdout",
     "output_type": "stream",
     "text": [
      "total condition no.: 140\n",
      "total device no.: 140\n",
      "maximum Y (PCE [%]):  16.58\n"
     ]
    },
    {
     "name": "stderr",
     "output_type": "stream",
     "text": [
      "reconstraining parameters Mat52.lengthscale\n",
      "reconstraining parameters Mat52.variance\n"
     ]
    },
    {
     "name": "stdout",
     "output_type": "stream",
     "text": [
      "total condition no.: 160\n",
      "total device no.: 160\n",
      "maximum Y (PCE [%]):  16.59\n"
     ]
    },
    {
     "name": "stderr",
     "output_type": "stream",
     "text": [
      "reconstraining parameters Mat52.lengthscale\n",
      "reconstraining parameters Mat52.variance\n"
     ]
    },
    {
     "name": "stdout",
     "output_type": "stream",
     "text": [
      "total condition no.: 180\n",
      "total device no.: 180\n",
      "maximum Y (PCE [%]):  16.63\n"
     ]
    },
    {
     "name": "stderr",
     "output_type": "stream",
     "text": [
      "reconstraining parameters Mat52.lengthscale\n",
      "reconstraining parameters Mat52.variance\n"
     ]
    },
    {
     "name": "stdout",
     "output_type": "stream",
     "text": [
      "total condition no.: 200\n",
      "total device no.: 200\n",
      "maximum Y (PCE [%]):  16.63\n"
     ]
    },
    {
     "name": "stderr",
     "output_type": "stream",
     "text": [
      "reconstraining parameters Mat52.lengthscale\n",
      "reconstraining parameters Mat52.variance\n"
     ]
    },
    {
     "name": "stdout",
     "output_type": "stream",
     "text": [
      "total condition no.: 220\n",
      "total device no.: 220\n",
      "maximum Y (PCE [%]):  16.63\n"
     ]
    },
    {
     "name": "stderr",
     "output_type": "stream",
     "text": [
      "reconstraining parameters Mat52.lengthscale\n",
      "reconstraining parameters Mat52.variance\n"
     ]
    },
    {
     "name": "stdout",
     "output_type": "stream",
     "text": [
      "total condition no.: 240\n",
      "total device no.: 240\n",
      "maximum Y (PCE [%]):  16.63\n"
     ]
    },
    {
     "name": "stderr",
     "output_type": "stream",
     "text": [
      "reconstraining parameters Mat52.lengthscale\n",
      "reconstraining parameters Mat52.variance\n"
     ]
    },
    {
     "name": "stdout",
     "output_type": "stream",
     "text": [
      "total condition no.: 260\n",
      "total device no.: 260\n",
      "maximum Y (PCE [%]):  16.63\n"
     ]
    },
    {
     "name": "stderr",
     "output_type": "stream",
     "text": [
      "reconstraining parameters Mat52.lengthscale\n",
      "reconstraining parameters Mat52.variance\n"
     ]
    },
    {
     "name": "stdout",
     "output_type": "stream",
     "text": [
      "total condition no.: 280\n",
      "total device no.: 280\n",
      "maximum Y (PCE [%]):  16.63\n"
     ]
    },
    {
     "name": "stderr",
     "output_type": "stream",
     "text": [
      "reconstraining parameters Mat52.lengthscale\n",
      "reconstraining parameters Mat52.variance\n"
     ]
    },
    {
     "name": "stdout",
     "output_type": "stream",
     "text": [
      "total condition no.: 300\n",
      "total device no.: 300\n",
      "maximum Y (PCE [%]):  16.63\n",
      "     Temperature [°C]  Speed [mm/s]  Spray Flow [uL/min]  Plamsa Height [cm]  \\\n",
      "179        143.764409    179.857519          3851.713497            1.096291   \n",
      "\n",
      "     Plasma Gas Flow [L/min]  Plasma DC [%]  Efficiency [%]  \n",
      "179                     15.0      49.473761       16.625885  \n"
     ]
    },
    {
     "name": "stderr",
     "output_type": "stream",
     "text": [
      "reconstraining parameters Mat52.lengthscale\n",
      "reconstraining parameters Mat52.variance\n"
     ]
    },
    {
     "name": "stdout",
     "output_type": "stream",
     "text": [
      "total condition no.: 20\n",
      "total device no.: 20\n",
      "maximum Y (PCE [%]):  14.43\n"
     ]
    },
    {
     "name": "stderr",
     "output_type": "stream",
     "text": [
      "reconstraining parameters Mat52.lengthscale\n",
      "reconstraining parameters Mat52.variance\n"
     ]
    },
    {
     "name": "stdout",
     "output_type": "stream",
     "text": [
      "total condition no.: 40\n",
      "total device no.: 40\n",
      "maximum Y (PCE [%]):  14.48\n"
     ]
    },
    {
     "name": "stderr",
     "output_type": "stream",
     "text": [
      "reconstraining parameters Mat52.lengthscale\n",
      "reconstraining parameters Mat52.variance\n"
     ]
    },
    {
     "name": "stdout",
     "output_type": "stream",
     "text": [
      "total condition no.: 60\n",
      "total device no.: 60\n",
      "maximum Y (PCE [%]):  15.02\n"
     ]
    },
    {
     "name": "stderr",
     "output_type": "stream",
     "text": [
      "reconstraining parameters Mat52.lengthscale\n",
      "reconstraining parameters Mat52.variance\n"
     ]
    },
    {
     "name": "stdout",
     "output_type": "stream",
     "text": [
      "total condition no.: 80\n",
      "total device no.: 80\n",
      "maximum Y (PCE [%]):  15.02\n"
     ]
    },
    {
     "name": "stderr",
     "output_type": "stream",
     "text": [
      "reconstraining parameters Mat52.lengthscale\n",
      "reconstraining parameters Mat52.variance\n"
     ]
    },
    {
     "name": "stdout",
     "output_type": "stream",
     "text": [
      "total condition no.: 100\n",
      "total device no.: 100\n",
      "maximum Y (PCE [%]):  15.66\n"
     ]
    },
    {
     "name": "stderr",
     "output_type": "stream",
     "text": [
      "reconstraining parameters Mat52.lengthscale\n",
      "reconstraining parameters Mat52.variance\n"
     ]
    },
    {
     "name": "stdout",
     "output_type": "stream",
     "text": [
      "total condition no.: 120\n",
      "total device no.: 120\n",
      "maximum Y (PCE [%]):  15.8\n"
     ]
    },
    {
     "name": "stderr",
     "output_type": "stream",
     "text": [
      "reconstraining parameters Mat52.lengthscale\n",
      "reconstraining parameters Mat52.variance\n"
     ]
    },
    {
     "name": "stdout",
     "output_type": "stream",
     "text": [
      "total condition no.: 140\n",
      "total device no.: 140\n",
      "maximum Y (PCE [%]):  16.27\n"
     ]
    },
    {
     "name": "stderr",
     "output_type": "stream",
     "text": [
      "reconstraining parameters Mat52.lengthscale\n",
      "reconstraining parameters Mat52.variance\n"
     ]
    },
    {
     "name": "stdout",
     "output_type": "stream",
     "text": [
      "total condition no.: 160\n",
      "total device no.: 160\n",
      "maximum Y (PCE [%]):  16.56\n"
     ]
    },
    {
     "name": "stderr",
     "output_type": "stream",
     "text": [
      "reconstraining parameters Mat52.lengthscale\n",
      "reconstraining parameters Mat52.variance\n"
     ]
    },
    {
     "name": "stdout",
     "output_type": "stream",
     "text": [
      "total condition no.: 180\n",
      "total device no.: 180\n",
      "maximum Y (PCE [%]):  16.6\n"
     ]
    },
    {
     "name": "stderr",
     "output_type": "stream",
     "text": [
      "reconstraining parameters Mat52.lengthscale\n",
      "reconstraining parameters Mat52.variance\n"
     ]
    },
    {
     "name": "stdout",
     "output_type": "stream",
     "text": [
      "total condition no.: 200\n",
      "total device no.: 200\n",
      "maximum Y (PCE [%]):  16.63\n"
     ]
    },
    {
     "name": "stderr",
     "output_type": "stream",
     "text": [
      "reconstraining parameters Mat52.lengthscale\n",
      "reconstraining parameters Mat52.variance\n"
     ]
    },
    {
     "name": "stdout",
     "output_type": "stream",
     "text": [
      "total condition no.: 220\n",
      "total device no.: 220\n",
      "maximum Y (PCE [%]):  16.63\n"
     ]
    },
    {
     "name": "stderr",
     "output_type": "stream",
     "text": [
      "reconstraining parameters Mat52.lengthscale\n",
      "reconstraining parameters Mat52.variance\n"
     ]
    },
    {
     "name": "stdout",
     "output_type": "stream",
     "text": [
      "total condition no.: 240\n",
      "total device no.: 240\n",
      "maximum Y (PCE [%]):  16.63\n"
     ]
    },
    {
     "name": "stderr",
     "output_type": "stream",
     "text": [
      "reconstraining parameters Mat52.lengthscale\n",
      "reconstraining parameters Mat52.variance\n"
     ]
    },
    {
     "name": "stdout",
     "output_type": "stream",
     "text": [
      "total condition no.: 260\n",
      "total device no.: 260\n",
      "maximum Y (PCE [%]):  16.64\n"
     ]
    },
    {
     "name": "stderr",
     "output_type": "stream",
     "text": [
      "reconstraining parameters Mat52.lengthscale\n",
      "reconstraining parameters Mat52.variance\n"
     ]
    },
    {
     "name": "stdout",
     "output_type": "stream",
     "text": [
      "total condition no.: 280\n",
      "total device no.: 280\n",
      "maximum Y (PCE [%]):  16.64\n"
     ]
    },
    {
     "name": "stderr",
     "output_type": "stream",
     "text": [
      "reconstraining parameters Mat52.lengthscale\n",
      "reconstraining parameters Mat52.variance\n"
     ]
    },
    {
     "name": "stdout",
     "output_type": "stream",
     "text": [
      "total condition no.: 300\n",
      "total device no.: 300\n",
      "maximum Y (PCE [%]):  17.33\n"
     ]
    },
    {
     "name": "stderr",
     "output_type": "stream",
     "text": [
      "reconstraining parameters Mat52.lengthscale\n"
     ]
    },
    {
     "name": "stdout",
     "output_type": "stream",
     "text": [
      "     Temperature [°C]  Speed [mm/s]  Spray Flow [uL/min]  Plamsa Height [cm]  \\\n",
      "284         143.26736    179.588757           3626.12835            1.069509   \n",
      "\n",
      "     Plasma Gas Flow [L/min]  Plasma DC [%]  Efficiency [%]  \n",
      "284                     15.0      27.589887       17.331958  \n"
     ]
    },
    {
     "name": "stderr",
     "output_type": "stream",
     "text": [
      "reconstraining parameters Mat52.variance\n",
      " C:\\Users\\Zhe\\AppData\\Roaming\\Python\\Python37\\site-packages\\emukit\\bayesian_optimization\\acquisitions\\log_acquisition.py:25: RuntimeWarning:invalid value encountered in log\n"
     ]
    },
    {
     "name": "stdout",
     "output_type": "stream",
     "text": [
      "total condition no.: 20\n",
      "total device no.: 20\n",
      "maximum Y (PCE [%]):  14.52\n"
     ]
    },
    {
     "name": "stderr",
     "output_type": "stream",
     "text": [
      "reconstraining parameters Mat52.lengthscale\n",
      "reconstraining parameters Mat52.variance\n"
     ]
    },
    {
     "name": "stdout",
     "output_type": "stream",
     "text": [
      "total condition no.: 40\n",
      "total device no.: 40\n",
      "maximum Y (PCE [%]):  15.96\n"
     ]
    },
    {
     "name": "stderr",
     "output_type": "stream",
     "text": [
      " C:\\Users\\Zhe\\AppData\\Roaming\\Python\\Python37\\site-packages\\emukit\\bayesian_optimization\\acquisitions\\log_acquisition.py:25: RuntimeWarning:invalid value encountered in log\n",
      "reconstraining parameters Mat52.lengthscale\n",
      "reconstraining parameters Mat52.variance\n"
     ]
    },
    {
     "name": "stdout",
     "output_type": "stream",
     "text": [
      "total condition no.: 60\n",
      "total device no.: 60\n",
      "maximum Y (PCE [%]):  15.96\n"
     ]
    },
    {
     "name": "stderr",
     "output_type": "stream",
     "text": [
      " C:\\Users\\Zhe\\AppData\\Roaming\\Python\\Python37\\site-packages\\emukit\\bayesian_optimization\\acquisitions\\log_acquisition.py:25: RuntimeWarning:invalid value encountered in log\n",
      "reconstraining parameters Mat52.lengthscale\n",
      "reconstraining parameters Mat52.variance\n"
     ]
    },
    {
     "name": "stdout",
     "output_type": "stream",
     "text": [
      "total condition no.: 80\n",
      "total device no.: 80\n",
      "maximum Y (PCE [%]):  16.83\n"
     ]
    },
    {
     "name": "stderr",
     "output_type": "stream",
     "text": [
      " C:\\Users\\Zhe\\AppData\\Roaming\\Python\\Python37\\site-packages\\emukit\\bayesian_optimization\\acquisitions\\log_acquisition.py:25: RuntimeWarning:invalid value encountered in log\n",
      "reconstraining parameters Mat52.lengthscale\n",
      "reconstraining parameters Mat52.variance\n"
     ]
    },
    {
     "name": "stdout",
     "output_type": "stream",
     "text": [
      "total condition no.: 100\n",
      "total device no.: 100\n",
      "maximum Y (PCE [%]):  17.0\n"
     ]
    },
    {
     "name": "stderr",
     "output_type": "stream",
     "text": [
      " C:\\Users\\Zhe\\AppData\\Roaming\\Python\\Python37\\site-packages\\emukit\\bayesian_optimization\\acquisitions\\log_acquisition.py:25: RuntimeWarning:invalid value encountered in log\n",
      "reconstraining parameters Mat52.lengthscale\n",
      "reconstraining parameters Mat52.variance\n"
     ]
    },
    {
     "name": "stdout",
     "output_type": "stream",
     "text": [
      "total condition no.: 120\n",
      "total device no.: 120\n",
      "maximum Y (PCE [%]):  17.0\n"
     ]
    },
    {
     "name": "stderr",
     "output_type": "stream",
     "text": [
      " C:\\Users\\Zhe\\AppData\\Roaming\\Python\\Python37\\site-packages\\emukit\\bayesian_optimization\\acquisitions\\log_acquisition.py:25: RuntimeWarning:invalid value encountered in log\n",
      "reconstraining parameters Mat52.lengthscale\n",
      "reconstraining parameters Mat52.variance\n"
     ]
    },
    {
     "name": "stdout",
     "output_type": "stream",
     "text": [
      "total condition no.: 140\n",
      "total device no.: 140\n",
      "maximum Y (PCE [%]):  17.0\n"
     ]
    },
    {
     "name": "stderr",
     "output_type": "stream",
     "text": [
      " C:\\Users\\Zhe\\AppData\\Roaming\\Python\\Python37\\site-packages\\emukit\\bayesian_optimization\\acquisitions\\log_acquisition.py:25: RuntimeWarning:invalid value encountered in log\n",
      "reconstraining parameters Mat52.lengthscale\n",
      "reconstraining parameters Mat52.variance\n"
     ]
    },
    {
     "name": "stdout",
     "output_type": "stream",
     "text": [
      "total condition no.: 160\n",
      "total device no.: 160\n",
      "maximum Y (PCE [%]):  17.0\n"
     ]
    },
    {
     "name": "stderr",
     "output_type": "stream",
     "text": [
      " C:\\Users\\Zhe\\AppData\\Roaming\\Python\\Python37\\site-packages\\emukit\\bayesian_optimization\\acquisitions\\log_acquisition.py:25: RuntimeWarning:invalid value encountered in log\n",
      "reconstraining parameters Mat52.lengthscale\n",
      "reconstraining parameters Mat52.variance\n"
     ]
    },
    {
     "name": "stdout",
     "output_type": "stream",
     "text": [
      "total condition no.: 180\n",
      "total device no.: 180\n",
      "maximum Y (PCE [%]):  17.0\n"
     ]
    },
    {
     "name": "stderr",
     "output_type": "stream",
     "text": [
      " C:\\Users\\Zhe\\AppData\\Roaming\\Python\\Python37\\site-packages\\emukit\\bayesian_optimization\\acquisitions\\log_acquisition.py:25: RuntimeWarning:invalid value encountered in log\n",
      "reconstraining parameters Mat52.lengthscale\n",
      "reconstraining parameters Mat52.variance\n"
     ]
    },
    {
     "name": "stdout",
     "output_type": "stream",
     "text": [
      "total condition no.: 200\n",
      "total device no.: 200\n",
      "maximum Y (PCE [%]):  17.25\n"
     ]
    },
    {
     "name": "stderr",
     "output_type": "stream",
     "text": [
      " C:\\Users\\Zhe\\AppData\\Roaming\\Python\\Python37\\site-packages\\emukit\\bayesian_optimization\\acquisitions\\log_acquisition.py:25: RuntimeWarning:invalid value encountered in log\n",
      "reconstraining parameters Mat52.lengthscale\n",
      "reconstraining parameters Mat52.variance\n"
     ]
    },
    {
     "name": "stdout",
     "output_type": "stream",
     "text": [
      "total condition no.: 220\n",
      "total device no.: 220\n",
      "maximum Y (PCE [%]):  17.25\n"
     ]
    },
    {
     "name": "stderr",
     "output_type": "stream",
     "text": [
      " C:\\Users\\Zhe\\AppData\\Roaming\\Python\\Python37\\site-packages\\emukit\\bayesian_optimization\\acquisitions\\log_acquisition.py:25: RuntimeWarning:invalid value encountered in log\n",
      "reconstraining parameters Mat52.lengthscale\n",
      "reconstraining parameters Mat52.variance\n"
     ]
    },
    {
     "name": "stdout",
     "output_type": "stream",
     "text": [
      "total condition no.: 240\n",
      "total device no.: 240\n",
      "maximum Y (PCE [%]):  17.25\n"
     ]
    },
    {
     "name": "stderr",
     "output_type": "stream",
     "text": [
      " C:\\Users\\Zhe\\AppData\\Roaming\\Python\\Python37\\site-packages\\emukit\\bayesian_optimization\\acquisitions\\log_acquisition.py:25: RuntimeWarning:invalid value encountered in log\n",
      "reconstraining parameters Mat52.lengthscale\n",
      "reconstraining parameters Mat52.variance\n"
     ]
    },
    {
     "name": "stdout",
     "output_type": "stream",
     "text": [
      "total condition no.: 260\n",
      "total device no.: 260\n",
      "maximum Y (PCE [%]):  17.29\n"
     ]
    },
    {
     "name": "stderr",
     "output_type": "stream",
     "text": [
      " C:\\Users\\Zhe\\AppData\\Roaming\\Python\\Python37\\site-packages\\emukit\\bayesian_optimization\\acquisitions\\log_acquisition.py:25: RuntimeWarning:invalid value encountered in log\n",
      "reconstraining parameters Mat52.lengthscale\n",
      "reconstraining parameters Mat52.variance\n"
     ]
    },
    {
     "name": "stdout",
     "output_type": "stream",
     "text": [
      "total condition no.: 280\n",
      "total device no.: 280\n",
      "maximum Y (PCE [%]):  17.31\n"
     ]
    },
    {
     "name": "stderr",
     "output_type": "stream",
     "text": [
      " C:\\Users\\Zhe\\AppData\\Roaming\\Python\\Python37\\site-packages\\emukit\\bayesian_optimization\\acquisitions\\log_acquisition.py:25: RuntimeWarning:invalid value encountered in log\n",
      "reconstraining parameters Mat52.lengthscale\n",
      "reconstraining parameters Mat52.variance\n"
     ]
    },
    {
     "name": "stdout",
     "output_type": "stream",
     "text": [
      "total condition no.: 300\n",
      "total device no.: 300\n",
      "maximum Y (PCE [%]):  17.36\n"
     ]
    },
    {
     "name": "stderr",
     "output_type": "stream",
     "text": [
      " C:\\Users\\Zhe\\AppData\\Roaming\\Python\\Python37\\site-packages\\emukit\\bayesian_optimization\\acquisitions\\log_acquisition.py:25: RuntimeWarning:invalid value encountered in log\n",
      "reconstraining parameters Mat52.lengthscale\n",
      "reconstraining parameters Mat52.variance\n"
     ]
    },
    {
     "name": "stdout",
     "output_type": "stream",
     "text": [
      "     Temperature [°C]  Speed [mm/s]  Spray Flow [uL/min]  Plamsa Height [cm]  \\\n",
      "293         142.48554    180.052572          3782.707574             1.08316   \n",
      "\n",
      "     Plasma Gas Flow [L/min]  Plasma DC [%]  Efficiency [%]  \n",
      "293                     15.0      28.581746       17.361546  \n"
     ]
    },
    {
     "name": "stderr",
     "output_type": "stream",
     "text": [
      "reconstraining parameters Mat52.lengthscale\n",
      "reconstraining parameters Mat52.variance\n"
     ]
    },
    {
     "name": "stdout",
     "output_type": "stream",
     "text": [
      "total condition no.: 20\n",
      "total device no.: 20\n",
      "maximum Y (PCE [%]):  14.52\n",
      "total condition no.: 40\n",
      "total device no.: 40\n",
      "maximum Y (PCE [%]):  15.88\n"
     ]
    },
    {
     "name": "stderr",
     "output_type": "stream",
     "text": [
      "reconstraining parameters Mat52.lengthscale\n",
      "reconstraining parameters Mat52.variance\n"
     ]
    },
    {
     "name": "stdout",
     "output_type": "stream",
     "text": [
      "total condition no.: 60\n",
      "total device no.: 60\n",
      "maximum Y (PCE [%]):  16.43\n"
     ]
    },
    {
     "name": "stderr",
     "output_type": "stream",
     "text": [
      "reconstraining parameters Mat52.lengthscale\n",
      "reconstraining parameters Mat52.variance\n"
     ]
    },
    {
     "name": "stdout",
     "output_type": "stream",
     "text": [
      "total condition no.: 80\n",
      "total device no.: 80\n",
      "maximum Y (PCE [%]):  17.08\n"
     ]
    },
    {
     "name": "stderr",
     "output_type": "stream",
     "text": [
      "reconstraining parameters Mat52.lengthscale\n",
      "reconstraining parameters Mat52.variance\n"
     ]
    },
    {
     "name": "stdout",
     "output_type": "stream",
     "text": [
      "total condition no.: 100\n",
      "total device no.: 100\n",
      "maximum Y (PCE [%]):  17.34\n"
     ]
    },
    {
     "name": "stderr",
     "output_type": "stream",
     "text": [
      "reconstraining parameters Mat52.lengthscale\n",
      "reconstraining parameters Mat52.variance\n"
     ]
    },
    {
     "name": "stdout",
     "output_type": "stream",
     "text": [
      "total condition no.: 120\n",
      "total device no.: 120\n",
      "maximum Y (PCE [%]):  17.34\n"
     ]
    },
    {
     "name": "stderr",
     "output_type": "stream",
     "text": [
      "reconstraining parameters Mat52.lengthscale\n",
      "reconstraining parameters Mat52.variance\n"
     ]
    },
    {
     "name": "stdout",
     "output_type": "stream",
     "text": [
      "total condition no.: 140\n",
      "total device no.: 140\n",
      "maximum Y (PCE [%]):  17.34\n"
     ]
    },
    {
     "name": "stderr",
     "output_type": "stream",
     "text": [
      "reconstraining parameters Mat52.lengthscale\n",
      "reconstraining parameters Mat52.variance\n"
     ]
    },
    {
     "name": "stdout",
     "output_type": "stream",
     "text": [
      "total condition no.: 160\n",
      "total device no.: 160\n",
      "maximum Y (PCE [%]):  17.34\n"
     ]
    },
    {
     "name": "stderr",
     "output_type": "stream",
     "text": [
      "reconstraining parameters Mat52.lengthscale\n",
      "reconstraining parameters Mat52.variance\n"
     ]
    },
    {
     "name": "stdout",
     "output_type": "stream",
     "text": [
      "total condition no.: 180\n",
      "total device no.: 180\n",
      "maximum Y (PCE [%]):  17.34\n"
     ]
    },
    {
     "name": "stderr",
     "output_type": "stream",
     "text": [
      "reconstraining parameters Mat52.lengthscale\n",
      "reconstraining parameters Mat52.variance\n"
     ]
    },
    {
     "name": "stdout",
     "output_type": "stream",
     "text": [
      "total condition no.: 200\n",
      "total device no.: 200\n",
      "maximum Y (PCE [%]):  17.34\n"
     ]
    },
    {
     "name": "stderr",
     "output_type": "stream",
     "text": [
      "reconstraining parameters Mat52.lengthscale\n",
      "reconstraining parameters Mat52.variance\n"
     ]
    },
    {
     "name": "stdout",
     "output_type": "stream",
     "text": [
      "total condition no.: 220\n",
      "total device no.: 220\n",
      "maximum Y (PCE [%]):  17.34\n"
     ]
    },
    {
     "name": "stderr",
     "output_type": "stream",
     "text": [
      "reconstraining parameters Mat52.lengthscale\n",
      "reconstraining parameters Mat52.variance\n"
     ]
    },
    {
     "name": "stdout",
     "output_type": "stream",
     "text": [
      "total condition no.: 240\n",
      "total device no.: 240\n",
      "maximum Y (PCE [%]):  17.36\n"
     ]
    },
    {
     "name": "stderr",
     "output_type": "stream",
     "text": [
      "reconstraining parameters Mat52.lengthscale\n",
      "reconstraining parameters Mat52.variance\n"
     ]
    },
    {
     "name": "stdout",
     "output_type": "stream",
     "text": [
      "total condition no.: 260\n",
      "total device no.: 260\n",
      "maximum Y (PCE [%]):  17.4\n"
     ]
    },
    {
     "name": "stderr",
     "output_type": "stream",
     "text": [
      "reconstraining parameters Mat52.lengthscale\n",
      "reconstraining parameters Mat52.variance\n"
     ]
    },
    {
     "name": "stdout",
     "output_type": "stream",
     "text": [
      "total condition no.: 280\n",
      "total device no.: 280\n",
      "maximum Y (PCE [%]):  17.42\n"
     ]
    },
    {
     "name": "stderr",
     "output_type": "stream",
     "text": [
      "reconstraining parameters Mat52.lengthscale\n",
      "reconstraining parameters Mat52.variance\n"
     ]
    },
    {
     "name": "stdout",
     "output_type": "stream",
     "text": [
      "total condition no.: 300\n",
      "total device no.: 300\n",
      "maximum Y (PCE [%]):  17.46\n"
     ]
    },
    {
     "name": "stderr",
     "output_type": "stream",
     "text": [
      "reconstraining parameters Mat52.lengthscale\n",
      "reconstraining parameters Mat52.variance\n"
     ]
    },
    {
     "name": "stdout",
     "output_type": "stream",
     "text": [
      "     Temperature [°C]  Speed [mm/s]  Spray Flow [uL/min]  Plamsa Height [cm]  \\\n",
      "295        144.444804    146.475939          3388.073836                 1.2   \n",
      "\n",
      "     Plasma Gas Flow [L/min]  Plasma DC [%]  Efficiency [%]  \n",
      "295                     15.0      30.966624       17.461079  \n",
      "total condition no.: 20\n",
      "total device no.: 20\n",
      "maximum Y (PCE [%]):  14.68\n"
     ]
    },
    {
     "name": "stderr",
     "output_type": "stream",
     "text": [
      "reconstraining parameters Mat52.lengthscale\n",
      "reconstraining parameters Mat52.variance\n"
     ]
    },
    {
     "name": "stdout",
     "output_type": "stream",
     "text": [
      "total condition no.: 40\n",
      "total device no.: 40\n",
      "maximum Y (PCE [%]):  15.07\n"
     ]
    },
    {
     "name": "stderr",
     "output_type": "stream",
     "text": [
      "reconstraining parameters Mat52.lengthscale\n",
      "reconstraining parameters Mat52.variance\n"
     ]
    },
    {
     "name": "stdout",
     "output_type": "stream",
     "text": [
      "total condition no.: 60\n",
      "total device no.: 60\n",
      "maximum Y (PCE [%]):  16.06\n"
     ]
    },
    {
     "name": "stderr",
     "output_type": "stream",
     "text": [
      "reconstraining parameters Mat52.lengthscale\n",
      "reconstraining parameters Mat52.variance\n"
     ]
    },
    {
     "name": "stdout",
     "output_type": "stream",
     "text": [
      "total condition no.: 80\n",
      "total device no.: 80\n",
      "maximum Y (PCE [%]):  16.06\n"
     ]
    },
    {
     "name": "stderr",
     "output_type": "stream",
     "text": [
      "reconstraining parameters Mat52.lengthscale\n",
      "reconstraining parameters Mat52.variance\n"
     ]
    },
    {
     "name": "stdout",
     "output_type": "stream",
     "text": [
      "total condition no.: 100\n",
      "total device no.: 100\n",
      "maximum Y (PCE [%]):  16.06\n"
     ]
    },
    {
     "name": "stderr",
     "output_type": "stream",
     "text": [
      "reconstraining parameters Mat52.lengthscale\n",
      "reconstraining parameters Mat52.variance\n"
     ]
    },
    {
     "name": "stdout",
     "output_type": "stream",
     "text": [
      "total condition no.: 120\n",
      "total device no.: 120\n",
      "maximum Y (PCE [%]):  16.06\n"
     ]
    },
    {
     "name": "stderr",
     "output_type": "stream",
     "text": [
      "reconstraining parameters Mat52.lengthscale\n",
      "reconstraining parameters Mat52.variance\n"
     ]
    },
    {
     "name": "stdout",
     "output_type": "stream",
     "text": [
      "total condition no.: 140\n",
      "total device no.: 140\n",
      "maximum Y (PCE [%]):  16.31\n"
     ]
    },
    {
     "name": "stderr",
     "output_type": "stream",
     "text": [
      "reconstraining parameters Mat52.lengthscale\n",
      "reconstraining parameters Mat52.variance\n"
     ]
    },
    {
     "name": "stdout",
     "output_type": "stream",
     "text": [
      "total condition no.: 160\n",
      "total device no.: 160\n",
      "maximum Y (PCE [%]):  16.31\n"
     ]
    },
    {
     "name": "stderr",
     "output_type": "stream",
     "text": [
      "reconstraining parameters Mat52.lengthscale\n",
      "reconstraining parameters Mat52.variance\n"
     ]
    },
    {
     "name": "stdout",
     "output_type": "stream",
     "text": [
      "total condition no.: 180\n",
      "total device no.: 180\n",
      "maximum Y (PCE [%]):  16.5\n"
     ]
    },
    {
     "name": "stderr",
     "output_type": "stream",
     "text": [
      "reconstraining parameters Mat52.lengthscale\n",
      "reconstraining parameters Mat52.variance\n"
     ]
    },
    {
     "name": "stdout",
     "output_type": "stream",
     "text": [
      "total condition no.: 200\n",
      "total device no.: 200\n",
      "maximum Y (PCE [%]):  16.51\n"
     ]
    },
    {
     "name": "stderr",
     "output_type": "stream",
     "text": [
      "reconstraining parameters Mat52.lengthscale\n",
      "reconstraining parameters Mat52.variance\n"
     ]
    },
    {
     "name": "stdout",
     "output_type": "stream",
     "text": [
      "total condition no.: 220\n",
      "total device no.: 220\n",
      "maximum Y (PCE [%]):  16.51\n"
     ]
    },
    {
     "name": "stderr",
     "output_type": "stream",
     "text": [
      "reconstraining parameters Mat52.lengthscale\n",
      "reconstraining parameters Mat52.variance\n"
     ]
    },
    {
     "name": "stdout",
     "output_type": "stream",
     "text": [
      "total condition no.: 240\n",
      "total device no.: 240\n",
      "maximum Y (PCE [%]):  16.66\n"
     ]
    },
    {
     "name": "stderr",
     "output_type": "stream",
     "text": [
      "reconstraining parameters Mat52.lengthscale\n",
      "reconstraining parameters Mat52.variance\n"
     ]
    },
    {
     "name": "stdout",
     "output_type": "stream",
     "text": [
      "total condition no.: 260\n",
      "total device no.: 260\n",
      "maximum Y (PCE [%]):  16.66\n"
     ]
    },
    {
     "name": "stderr",
     "output_type": "stream",
     "text": [
      "reconstraining parameters Mat52.lengthscale\n",
      "reconstraining parameters Mat52.variance\n"
     ]
    },
    {
     "name": "stdout",
     "output_type": "stream",
     "text": [
      "total condition no.: 280\n",
      "total device no.: 280\n",
      "maximum Y (PCE [%]):  16.66\n"
     ]
    },
    {
     "name": "stderr",
     "output_type": "stream",
     "text": [
      "reconstraining parameters Mat52.lengthscale\n",
      "reconstraining parameters Mat52.variance\n"
     ]
    },
    {
     "name": "stdout",
     "output_type": "stream",
     "text": [
      "total condition no.: 300\n",
      "total device no.: 300\n",
      "maximum Y (PCE [%]):  16.66\n"
     ]
    },
    {
     "name": "stderr",
     "output_type": "stream",
     "text": [
      "reconstraining parameters Mat52.lengthscale\n",
      "reconstraining parameters Mat52.variance\n"
     ]
    },
    {
     "name": "stdout",
     "output_type": "stream",
     "text": [
      "     Temperature [°C]  Speed [mm/s]  Spray Flow [uL/min]  Plamsa Height [cm]  \\\n",
      "229        145.709981    177.950405          3917.419908             1.06964   \n",
      "\n",
      "     Plasma Gas Flow [L/min]  Plasma DC [%]  Efficiency [%]  \n",
      "229                     15.0       50.19636       16.655978  \n"
     ]
    },
    {
     "name": "stderr",
     "output_type": "stream",
     "text": [
      "reconstraining parameters Mat52.lengthscale\n",
      "reconstraining parameters Mat52.variance\n"
     ]
    },
    {
     "name": "stdout",
     "output_type": "stream",
     "text": [
      "total condition no.: 20\n",
      "total device no.: 20\n",
      "maximum Y (PCE [%]):  13.14\n",
      "total condition no.: 40\n",
      "total device no.: 40\n",
      "maximum Y (PCE [%]):  14.42\n"
     ]
    },
    {
     "name": "stderr",
     "output_type": "stream",
     "text": [
      "reconstraining parameters Mat52.lengthscale\n",
      "reconstraining parameters Mat52.variance\n"
     ]
    },
    {
     "name": "stdout",
     "output_type": "stream",
     "text": [
      "total condition no.: 60\n",
      "total device no.: 60\n",
      "maximum Y (PCE [%]):  14.42\n"
     ]
    },
    {
     "name": "stderr",
     "output_type": "stream",
     "text": [
      "reconstraining parameters Mat52.lengthscale\n",
      "reconstraining parameters Mat52.variance\n"
     ]
    },
    {
     "name": "stdout",
     "output_type": "stream",
     "text": [
      "total condition no.: 80\n",
      "total device no.: 80\n",
      "maximum Y (PCE [%]):  15.21\n"
     ]
    },
    {
     "name": "stderr",
     "output_type": "stream",
     "text": [
      "reconstraining parameters Mat52.lengthscale\n",
      "reconstraining parameters Mat52.variance\n"
     ]
    },
    {
     "name": "stdout",
     "output_type": "stream",
     "text": [
      "total condition no.: 100\n",
      "total device no.: 100\n",
      "maximum Y (PCE [%]):  16.33\n"
     ]
    },
    {
     "name": "stderr",
     "output_type": "stream",
     "text": [
      "reconstraining parameters Mat52.lengthscale\n",
      "reconstraining parameters Mat52.variance\n"
     ]
    },
    {
     "name": "stdout",
     "output_type": "stream",
     "text": [
      "total condition no.: 120\n",
      "total device no.: 120\n",
      "maximum Y (PCE [%]):  16.42\n"
     ]
    },
    {
     "name": "stderr",
     "output_type": "stream",
     "text": [
      "reconstraining parameters Mat52.lengthscale\n",
      "reconstraining parameters Mat52.variance\n"
     ]
    },
    {
     "name": "stdout",
     "output_type": "stream",
     "text": [
      "total condition no.: 140\n",
      "total device no.: 140\n",
      "maximum Y (PCE [%]):  16.49\n"
     ]
    },
    {
     "name": "stderr",
     "output_type": "stream",
     "text": [
      "reconstraining parameters Mat52.lengthscale\n",
      "reconstraining parameters Mat52.variance\n"
     ]
    },
    {
     "name": "stdout",
     "output_type": "stream",
     "text": [
      "total condition no.: 160\n",
      "total device no.: 160\n",
      "maximum Y (PCE [%]):  16.6\n"
     ]
    },
    {
     "name": "stderr",
     "output_type": "stream",
     "text": [
      "reconstraining parameters Mat52.lengthscale\n",
      "reconstraining parameters Mat52.variance\n"
     ]
    },
    {
     "name": "stdout",
     "output_type": "stream",
     "text": [
      "total condition no.: 180\n",
      "total device no.: 180\n",
      "maximum Y (PCE [%]):  16.73\n"
     ]
    },
    {
     "name": "stderr",
     "output_type": "stream",
     "text": [
      "reconstraining parameters Mat52.lengthscale\n",
      "reconstraining parameters Mat52.variance\n"
     ]
    },
    {
     "name": "stdout",
     "output_type": "stream",
     "text": [
      "total condition no.: 200\n",
      "total device no.: 200\n",
      "maximum Y (PCE [%]):  16.73\n"
     ]
    },
    {
     "name": "stderr",
     "output_type": "stream",
     "text": [
      "reconstraining parameters Mat52.lengthscale\n",
      "reconstraining parameters Mat52.variance\n"
     ]
    },
    {
     "name": "stdout",
     "output_type": "stream",
     "text": [
      "total condition no.: 220\n",
      "total device no.: 220\n",
      "maximum Y (PCE [%]):  16.73\n"
     ]
    },
    {
     "name": "stderr",
     "output_type": "stream",
     "text": [
      "reconstraining parameters Mat52.lengthscale\n",
      "reconstraining parameters Mat52.variance\n"
     ]
    },
    {
     "name": "stdout",
     "output_type": "stream",
     "text": [
      "total condition no.: 240\n",
      "total device no.: 240\n",
      "maximum Y (PCE [%]):  16.73\n"
     ]
    },
    {
     "name": "stderr",
     "output_type": "stream",
     "text": [
      "reconstraining parameters Mat52.lengthscale\n",
      "reconstraining parameters Mat52.variance\n"
     ]
    },
    {
     "name": "stdout",
     "output_type": "stream",
     "text": [
      "total condition no.: 260\n",
      "total device no.: 260\n",
      "maximum Y (PCE [%]):  16.73\n"
     ]
    },
    {
     "name": "stderr",
     "output_type": "stream",
     "text": [
      "reconstraining parameters Mat52.lengthscale\n",
      "reconstraining parameters Mat52.variance\n"
     ]
    },
    {
     "name": "stdout",
     "output_type": "stream",
     "text": [
      "total condition no.: 280\n",
      "total device no.: 280\n",
      "maximum Y (PCE [%]):  16.73\n"
     ]
    },
    {
     "name": "stderr",
     "output_type": "stream",
     "text": [
      "reconstraining parameters Mat52.lengthscale\n",
      "reconstraining parameters Mat52.variance\n"
     ]
    },
    {
     "name": "stdout",
     "output_type": "stream",
     "text": [
      "total condition no.: 300\n",
      "total device no.: 300\n",
      "maximum Y (PCE [%]):  16.73\n"
     ]
    },
    {
     "name": "stderr",
     "output_type": "stream",
     "text": [
      "reconstraining parameters Mat52.lengthscale\n",
      "reconstraining parameters Mat52.variance\n"
     ]
    },
    {
     "name": "stdout",
     "output_type": "stream",
     "text": [
      "     Temperature [°C]  Speed [mm/s]  Spray Flow [uL/min]  Plamsa Height [cm]  \\\n",
      "169        144.739674    181.615593          3459.106599            1.084201   \n",
      "\n",
      "     Plasma Gas Flow [L/min]  Plasma DC [%]  Efficiency [%]  \n",
      "169                15.292067      72.450631       16.732035  \n",
      "total condition no.: 20\n",
      "total device no.: 20\n",
      "maximum Y (PCE [%]):  14.97\n"
     ]
    },
    {
     "name": "stderr",
     "output_type": "stream",
     "text": [
      "reconstraining parameters Mat52.lengthscale\n",
      "reconstraining parameters Mat52.variance\n"
     ]
    },
    {
     "name": "stdout",
     "output_type": "stream",
     "text": [
      "total condition no.: 40\n",
      "total device no.: 40\n",
      "maximum Y (PCE [%]):  15.19\n"
     ]
    },
    {
     "name": "stderr",
     "output_type": "stream",
     "text": [
      "reconstraining parameters Mat52.lengthscale\n",
      "reconstraining parameters Mat52.variance\n"
     ]
    },
    {
     "name": "stdout",
     "output_type": "stream",
     "text": [
      "total condition no.: 60\n",
      "total device no.: 60\n",
      "maximum Y (PCE [%]):  16.7\n"
     ]
    },
    {
     "name": "stderr",
     "output_type": "stream",
     "text": [
      "reconstraining parameters Mat52.lengthscale\n",
      "reconstraining parameters Mat52.variance\n"
     ]
    },
    {
     "name": "stdout",
     "output_type": "stream",
     "text": [
      "total condition no.: 80\n",
      "total device no.: 80\n",
      "maximum Y (PCE [%]):  16.7\n"
     ]
    },
    {
     "name": "stderr",
     "output_type": "stream",
     "text": [
      "reconstraining parameters Mat52.lengthscale\n",
      "reconstraining parameters Mat52.variance\n"
     ]
    },
    {
     "name": "stdout",
     "output_type": "stream",
     "text": [
      "total condition no.: 100\n",
      "total device no.: 100\n",
      "maximum Y (PCE [%]):  16.7\n"
     ]
    },
    {
     "name": "stderr",
     "output_type": "stream",
     "text": [
      "reconstraining parameters Mat52.lengthscale\n",
      "reconstraining parameters Mat52.variance\n"
     ]
    },
    {
     "name": "stdout",
     "output_type": "stream",
     "text": [
      "total condition no.: 120\n",
      "total device no.: 120\n",
      "maximum Y (PCE [%]):  16.95\n"
     ]
    },
    {
     "name": "stderr",
     "output_type": "stream",
     "text": [
      "reconstraining parameters Mat52.lengthscale\n",
      "reconstraining parameters Mat52.variance\n"
     ]
    },
    {
     "name": "stdout",
     "output_type": "stream",
     "text": [
      "total condition no.: 140\n",
      "total device no.: 140\n",
      "maximum Y (PCE [%]):  17.23\n"
     ]
    },
    {
     "name": "stderr",
     "output_type": "stream",
     "text": [
      "reconstraining parameters Mat52.lengthscale\n",
      "reconstraining parameters Mat52.variance\n"
     ]
    },
    {
     "name": "stdout",
     "output_type": "stream",
     "text": [
      "total condition no.: 160\n",
      "total device no.: 160\n",
      "maximum Y (PCE [%]):  17.54\n"
     ]
    },
    {
     "name": "stderr",
     "output_type": "stream",
     "text": [
      "reconstraining parameters Mat52.lengthscale\n",
      "reconstraining parameters Mat52.variance\n"
     ]
    },
    {
     "name": "stdout",
     "output_type": "stream",
     "text": [
      "total condition no.: 180\n",
      "total device no.: 180\n",
      "maximum Y (PCE [%]):  17.54\n"
     ]
    },
    {
     "name": "stderr",
     "output_type": "stream",
     "text": [
      "reconstraining parameters Mat52.lengthscale\n",
      "reconstraining parameters Mat52.variance\n"
     ]
    },
    {
     "name": "stdout",
     "output_type": "stream",
     "text": [
      "total condition no.: 200\n",
      "total device no.: 200\n",
      "maximum Y (PCE [%]):  17.54\n"
     ]
    },
    {
     "name": "stderr",
     "output_type": "stream",
     "text": [
      "reconstraining parameters Mat52.lengthscale\n",
      "reconstraining parameters Mat52.variance\n"
     ]
    },
    {
     "name": "stdout",
     "output_type": "stream",
     "text": [
      "total condition no.: 220\n",
      "total device no.: 220\n",
      "maximum Y (PCE [%]):  17.55\n"
     ]
    },
    {
     "name": "stderr",
     "output_type": "stream",
     "text": [
      "reconstraining parameters Mat52.lengthscale\n",
      "reconstraining parameters Mat52.variance\n"
     ]
    },
    {
     "name": "stdout",
     "output_type": "stream",
     "text": [
      "total condition no.: 240\n",
      "total device no.: 240\n",
      "maximum Y (PCE [%]):  17.57\n"
     ]
    },
    {
     "name": "stderr",
     "output_type": "stream",
     "text": [
      "reconstraining parameters Mat52.lengthscale\n",
      "reconstraining parameters Mat52.variance\n"
     ]
    },
    {
     "name": "stdout",
     "output_type": "stream",
     "text": [
      "total condition no.: 260\n",
      "total device no.: 260\n",
      "maximum Y (PCE [%]):  17.57\n"
     ]
    },
    {
     "name": "stderr",
     "output_type": "stream",
     "text": [
      "reconstraining parameters Mat52.lengthscale\n",
      "reconstraining parameters Mat52.variance\n"
     ]
    },
    {
     "name": "stdout",
     "output_type": "stream",
     "text": [
      "total condition no.: 280\n",
      "total device no.: 280\n",
      "maximum Y (PCE [%]):  17.57\n"
     ]
    },
    {
     "name": "stderr",
     "output_type": "stream",
     "text": [
      "reconstraining parameters Mat52.lengthscale\n",
      "reconstraining parameters Mat52.variance\n"
     ]
    },
    {
     "name": "stdout",
     "output_type": "stream",
     "text": [
      "total condition no.: 300\n",
      "total device no.: 300\n",
      "maximum Y (PCE [%]):  17.57\n"
     ]
    },
    {
     "name": "stderr",
     "output_type": "stream",
     "text": [
      "reconstraining parameters Mat52.lengthscale\n",
      "reconstraining parameters Mat52.variance\n"
     ]
    },
    {
     "name": "stdout",
     "output_type": "stream",
     "text": [
      "     Temperature [°C]  Speed [mm/s]  Spray Flow [uL/min]  Plamsa Height [cm]  \\\n",
      "245        145.681053    178.429228          3450.419616                 1.2   \n",
      "\n",
      "     Plasma Gas Flow [L/min]  Plasma DC [%]  Efficiency [%]  \n",
      "245                15.402964      27.632992       17.573174  \n",
      "total condition no.: 20\n",
      "total device no.: 20\n",
      "maximum Y (PCE [%]):  14.37\n"
     ]
    },
    {
     "name": "stderr",
     "output_type": "stream",
     "text": [
      "reconstraining parameters Mat52.lengthscale\n",
      "reconstraining parameters Mat52.variance\n"
     ]
    },
    {
     "name": "stdout",
     "output_type": "stream",
     "text": [
      "total condition no.: 40\n",
      "total device no.: 40\n",
      "maximum Y (PCE [%]):  15.26\n"
     ]
    },
    {
     "name": "stderr",
     "output_type": "stream",
     "text": [
      "reconstraining parameters Mat52.lengthscale\n",
      "reconstraining parameters Mat52.variance\n"
     ]
    },
    {
     "name": "stdout",
     "output_type": "stream",
     "text": [
      "total condition no.: 60\n",
      "total device no.: 60\n",
      "maximum Y (PCE [%]):  15.5\n"
     ]
    },
    {
     "name": "stderr",
     "output_type": "stream",
     "text": [
      "reconstraining parameters Mat52.lengthscale\n",
      "reconstraining parameters Mat52.variance\n"
     ]
    },
    {
     "name": "stdout",
     "output_type": "stream",
     "text": [
      "total condition no.: 80\n",
      "total device no.: 80\n",
      "maximum Y (PCE [%]):  15.93\n"
     ]
    },
    {
     "name": "stderr",
     "output_type": "stream",
     "text": [
      "reconstraining parameters Mat52.lengthscale\n",
      "reconstraining parameters Mat52.variance\n"
     ]
    },
    {
     "name": "stdout",
     "output_type": "stream",
     "text": [
      "total condition no.: 100\n",
      "total device no.: 100\n",
      "maximum Y (PCE [%]):  16.05\n"
     ]
    },
    {
     "name": "stderr",
     "output_type": "stream",
     "text": [
      "reconstraining parameters Mat52.lengthscale\n",
      "reconstraining parameters Mat52.variance\n"
     ]
    },
    {
     "name": "stdout",
     "output_type": "stream",
     "text": [
      "total condition no.: 120\n",
      "total device no.: 120\n",
      "maximum Y (PCE [%]):  16.34\n"
     ]
    },
    {
     "name": "stderr",
     "output_type": "stream",
     "text": [
      "reconstraining parameters Mat52.lengthscale\n",
      "reconstraining parameters Mat52.variance\n"
     ]
    },
    {
     "name": "stdout",
     "output_type": "stream",
     "text": [
      "total condition no.: 140\n",
      "total device no.: 140\n",
      "maximum Y (PCE [%]):  16.34\n"
     ]
    },
    {
     "name": "stderr",
     "output_type": "stream",
     "text": [
      "reconstraining parameters Mat52.lengthscale\n",
      "reconstraining parameters Mat52.variance\n"
     ]
    },
    {
     "name": "stdout",
     "output_type": "stream",
     "text": [
      "total condition no.: 160\n",
      "total device no.: 160\n",
      "maximum Y (PCE [%]):  16.37\n"
     ]
    },
    {
     "name": "stderr",
     "output_type": "stream",
     "text": [
      "reconstraining parameters Mat52.lengthscale\n",
      "reconstraining parameters Mat52.variance\n"
     ]
    },
    {
     "name": "stdout",
     "output_type": "stream",
     "text": [
      "total condition no.: 180\n",
      "total device no.: 180\n",
      "maximum Y (PCE [%]):  16.37\n"
     ]
    },
    {
     "name": "stderr",
     "output_type": "stream",
     "text": [
      "reconstraining parameters Mat52.lengthscale\n",
      "reconstraining parameters Mat52.variance\n"
     ]
    },
    {
     "name": "stdout",
     "output_type": "stream",
     "text": [
      "total condition no.: 200\n",
      "total device no.: 200\n",
      "maximum Y (PCE [%]):  16.45\n"
     ]
    },
    {
     "name": "stderr",
     "output_type": "stream",
     "text": [
      "reconstraining parameters Mat52.lengthscale\n",
      "reconstraining parameters Mat52.variance\n"
     ]
    },
    {
     "name": "stdout",
     "output_type": "stream",
     "text": [
      "total condition no.: 220\n",
      "total device no.: 220\n",
      "maximum Y (PCE [%]):  16.53\n"
     ]
    },
    {
     "name": "stderr",
     "output_type": "stream",
     "text": [
      "reconstraining parameters Mat52.lengthscale\n",
      "reconstraining parameters Mat52.variance\n"
     ]
    },
    {
     "name": "stdout",
     "output_type": "stream",
     "text": [
      "total condition no.: 240\n",
      "total device no.: 240\n",
      "maximum Y (PCE [%]):  16.53\n"
     ]
    },
    {
     "name": "stderr",
     "output_type": "stream",
     "text": [
      "reconstraining parameters Mat52.lengthscale\n",
      "reconstraining parameters Mat52.variance\n"
     ]
    },
    {
     "name": "stdout",
     "output_type": "stream",
     "text": [
      "total condition no.: 260\n",
      "total device no.: 260\n",
      "maximum Y (PCE [%]):  16.53\n"
     ]
    },
    {
     "name": "stderr",
     "output_type": "stream",
     "text": [
      "reconstraining parameters Mat52.lengthscale\n",
      "reconstraining parameters Mat52.variance\n"
     ]
    },
    {
     "name": "stdout",
     "output_type": "stream",
     "text": [
      "total condition no.: 280\n",
      "total device no.: 280\n",
      "maximum Y (PCE [%]):  16.53\n"
     ]
    },
    {
     "name": "stderr",
     "output_type": "stream",
     "text": [
      "reconstraining parameters Mat52.lengthscale\n",
      "reconstraining parameters Mat52.variance\n"
     ]
    },
    {
     "name": "stdout",
     "output_type": "stream",
     "text": [
      "total condition no.: 300\n",
      "total device no.: 300\n",
      "maximum Y (PCE [%]):  16.53\n"
     ]
    },
    {
     "name": "stderr",
     "output_type": "stream",
     "text": [
      "reconstraining parameters Mat52.lengthscale\n",
      "reconstraining parameters Mat52.variance\n"
     ]
    },
    {
     "name": "stdout",
     "output_type": "stream",
     "text": [
      "     Temperature [°C]  Speed [mm/s]  Spray Flow [uL/min]  Plamsa Height [cm]  \\\n",
      "206         144.70608    125.273098          2921.958413            1.105056   \n",
      "\n",
      "     Plasma Gas Flow [L/min]  Plasma DC [%]  Efficiency [%]  \n",
      "206                15.227556      54.776574       16.534049  \n",
      "total condition no.: 20\n",
      "total device no.: 20\n",
      "maximum Y (PCE [%]):  13.63\n"
     ]
    },
    {
     "name": "stderr",
     "output_type": "stream",
     "text": [
      "reconstraining parameters Mat52.lengthscale\n",
      "reconstraining parameters Mat52.variance\n"
     ]
    },
    {
     "name": "stdout",
     "output_type": "stream",
     "text": [
      "total condition no.: 40\n",
      "total device no.: 40\n",
      "maximum Y (PCE [%]):  14.82\n"
     ]
    },
    {
     "name": "stderr",
     "output_type": "stream",
     "text": [
      "reconstraining parameters Mat52.lengthscale\n",
      "reconstraining parameters Mat52.variance\n"
     ]
    },
    {
     "name": "stdout",
     "output_type": "stream",
     "text": [
      "total condition no.: 60\n",
      "total device no.: 60\n",
      "maximum Y (PCE [%]):  15.02\n"
     ]
    },
    {
     "name": "stderr",
     "output_type": "stream",
     "text": [
      "reconstraining parameters Mat52.lengthscale\n",
      "reconstraining parameters Mat52.variance\n"
     ]
    },
    {
     "name": "stdout",
     "output_type": "stream",
     "text": [
      "total condition no.: 80\n",
      "total device no.: 80\n",
      "maximum Y (PCE [%]):  15.11\n"
     ]
    },
    {
     "name": "stderr",
     "output_type": "stream",
     "text": [
      "reconstraining parameters Mat52.lengthscale\n",
      "reconstraining parameters Mat52.variance\n"
     ]
    },
    {
     "name": "stdout",
     "output_type": "stream",
     "text": [
      "total condition no.: 100\n",
      "total device no.: 100\n",
      "maximum Y (PCE [%]):  16.03\n"
     ]
    },
    {
     "name": "stderr",
     "output_type": "stream",
     "text": [
      "reconstraining parameters Mat52.lengthscale\n",
      "reconstraining parameters Mat52.variance\n"
     ]
    },
    {
     "name": "stdout",
     "output_type": "stream",
     "text": [
      "total condition no.: 120\n",
      "total device no.: 120\n",
      "maximum Y (PCE [%]):  16.23\n"
     ]
    },
    {
     "name": "stderr",
     "output_type": "stream",
     "text": [
      "reconstraining parameters Mat52.lengthscale\n",
      "reconstraining parameters Mat52.variance\n"
     ]
    },
    {
     "name": "stdout",
     "output_type": "stream",
     "text": [
      "total condition no.: 140\n",
      "total device no.: 140\n",
      "maximum Y (PCE [%]):  16.47\n"
     ]
    },
    {
     "name": "stderr",
     "output_type": "stream",
     "text": [
      "reconstraining parameters Mat52.lengthscale\n",
      "reconstraining parameters Mat52.variance\n"
     ]
    },
    {
     "name": "stdout",
     "output_type": "stream",
     "text": [
      "total condition no.: 160\n",
      "total device no.: 160\n",
      "maximum Y (PCE [%]):  16.47\n"
     ]
    },
    {
     "name": "stderr",
     "output_type": "stream",
     "text": [
      "reconstraining parameters Mat52.lengthscale\n",
      "reconstraining parameters Mat52.variance\n"
     ]
    },
    {
     "name": "stdout",
     "output_type": "stream",
     "text": [
      "total condition no.: 180\n",
      "total device no.: 180\n",
      "maximum Y (PCE [%]):  16.47\n"
     ]
    },
    {
     "name": "stderr",
     "output_type": "stream",
     "text": [
      "reconstraining parameters Mat52.lengthscale\n",
      "reconstraining parameters Mat52.variance\n"
     ]
    },
    {
     "name": "stdout",
     "output_type": "stream",
     "text": [
      "total condition no.: 200\n",
      "total device no.: 200\n",
      "maximum Y (PCE [%]):  16.5\n"
     ]
    },
    {
     "name": "stderr",
     "output_type": "stream",
     "text": [
      "reconstraining parameters Mat52.lengthscale\n",
      "reconstraining parameters Mat52.variance\n"
     ]
    },
    {
     "name": "stdout",
     "output_type": "stream",
     "text": [
      "total condition no.: 220\n",
      "total device no.: 220\n",
      "maximum Y (PCE [%]):  16.5\n"
     ]
    },
    {
     "name": "stderr",
     "output_type": "stream",
     "text": [
      "reconstraining parameters Mat52.lengthscale\n",
      "reconstraining parameters Mat52.variance\n"
     ]
    },
    {
     "name": "stdout",
     "output_type": "stream",
     "text": [
      "total condition no.: 240\n",
      "total device no.: 240\n",
      "maximum Y (PCE [%]):  16.6\n"
     ]
    },
    {
     "name": "stderr",
     "output_type": "stream",
     "text": [
      "reconstraining parameters Mat52.lengthscale\n",
      "reconstraining parameters Mat52.variance\n"
     ]
    },
    {
     "name": "stdout",
     "output_type": "stream",
     "text": [
      "total condition no.: 260\n",
      "total device no.: 260\n",
      "maximum Y (PCE [%]):  16.66\n"
     ]
    },
    {
     "name": "stderr",
     "output_type": "stream",
     "text": [
      "reconstraining parameters Mat52.lengthscale\n",
      "reconstraining parameters Mat52.variance\n"
     ]
    },
    {
     "name": "stdout",
     "output_type": "stream",
     "text": [
      "total condition no.: 280\n",
      "total device no.: 280\n",
      "maximum Y (PCE [%]):  16.66\n"
     ]
    },
    {
     "name": "stderr",
     "output_type": "stream",
     "text": [
      "reconstraining parameters Mat52.lengthscale\n",
      "reconstraining parameters Mat52.variance\n"
     ]
    },
    {
     "name": "stdout",
     "output_type": "stream",
     "text": [
      "total condition no.: 300\n",
      "total device no.: 300\n",
      "maximum Y (PCE [%]):  16.66\n"
     ]
    },
    {
     "name": "stderr",
     "output_type": "stream",
     "text": [
      "reconstraining parameters Mat52.lengthscale\n",
      "reconstraining parameters Mat52.variance\n"
     ]
    },
    {
     "name": "stdout",
     "output_type": "stream",
     "text": [
      "     Temperature [°C]  Speed [mm/s]  Spray Flow [uL/min]  Plamsa Height [cm]  \\\n",
      "317        148.238294    178.791883          3450.648429            1.073192   \n",
      "\n",
      "     Plasma Gas Flow [L/min]  Plasma DC [%]  Efficiency [%]  \n",
      "317                     15.0           25.0       16.883508  \n"
     ]
    },
    {
     "name": "stderr",
     "output_type": "stream",
     "text": [
      "reconstraining parameters Mat52.lengthscale\n",
      "reconstraining parameters Mat52.variance\n"
     ]
    },
    {
     "name": "stdout",
     "output_type": "stream",
     "text": [
      "total condition no.: 20\n",
      "total device no.: 20\n",
      "maximum Y (PCE [%]):  15.21\n",
      "total condition no.: 40\n",
      "total device no.: 40\n",
      "maximum Y (PCE [%]):  16.45\n"
     ]
    },
    {
     "name": "stderr",
     "output_type": "stream",
     "text": [
      "reconstraining parameters Mat52.lengthscale\n",
      "reconstraining parameters Mat52.variance\n"
     ]
    },
    {
     "name": "stdout",
     "output_type": "stream",
     "text": [
      "total condition no.: 60\n",
      "total device no.: 60\n",
      "maximum Y (PCE [%]):  16.94\n"
     ]
    },
    {
     "name": "stderr",
     "output_type": "stream",
     "text": [
      "reconstraining parameters Mat52.lengthscale\n",
      "reconstraining parameters Mat52.variance\n"
     ]
    },
    {
     "name": "stdout",
     "output_type": "stream",
     "text": [
      "total condition no.: 80\n",
      "total device no.: 80\n",
      "maximum Y (PCE [%]):  16.94\n"
     ]
    },
    {
     "name": "stderr",
     "output_type": "stream",
     "text": [
      "reconstraining parameters Mat52.lengthscale\n",
      "reconstraining parameters Mat52.variance\n"
     ]
    },
    {
     "name": "stdout",
     "output_type": "stream",
     "text": [
      "total condition no.: 100\n",
      "total device no.: 100\n",
      "maximum Y (PCE [%]):  17.11\n"
     ]
    },
    {
     "name": "stderr",
     "output_type": "stream",
     "text": [
      "reconstraining parameters Mat52.lengthscale\n",
      "reconstraining parameters Mat52.variance\n"
     ]
    },
    {
     "name": "stdout",
     "output_type": "stream",
     "text": [
      "total condition no.: 120\n",
      "total device no.: 120\n",
      "maximum Y (PCE [%]):  17.33\n"
     ]
    },
    {
     "name": "stderr",
     "output_type": "stream",
     "text": [
      "reconstraining parameters Mat52.lengthscale\n",
      "reconstraining parameters Mat52.variance\n"
     ]
    },
    {
     "name": "stdout",
     "output_type": "stream",
     "text": [
      "total condition no.: 140\n",
      "total device no.: 140\n",
      "maximum Y (PCE [%]):  17.37\n"
     ]
    },
    {
     "name": "stderr",
     "output_type": "stream",
     "text": [
      "reconstraining parameters Mat52.lengthscale\n",
      "reconstraining parameters Mat52.variance\n"
     ]
    },
    {
     "name": "stdout",
     "output_type": "stream",
     "text": [
      "total condition no.: 160\n",
      "total device no.: 160\n",
      "maximum Y (PCE [%]):  17.4\n"
     ]
    },
    {
     "name": "stderr",
     "output_type": "stream",
     "text": [
      "reconstraining parameters Mat52.lengthscale\n",
      "reconstraining parameters Mat52.variance\n"
     ]
    },
    {
     "name": "stdout",
     "output_type": "stream",
     "text": [
      "total condition no.: 180\n",
      "total device no.: 180\n",
      "maximum Y (PCE [%]):  17.4\n"
     ]
    },
    {
     "name": "stderr",
     "output_type": "stream",
     "text": [
      "reconstraining parameters Mat52.lengthscale\n",
      "reconstraining parameters Mat52.variance\n"
     ]
    },
    {
     "name": "stdout",
     "output_type": "stream",
     "text": [
      "total condition no.: 200\n",
      "total device no.: 200\n",
      "maximum Y (PCE [%]):  17.4\n"
     ]
    },
    {
     "name": "stderr",
     "output_type": "stream",
     "text": [
      "reconstraining parameters Mat52.lengthscale\n",
      "reconstraining parameters Mat52.variance\n"
     ]
    },
    {
     "name": "stdout",
     "output_type": "stream",
     "text": [
      "total condition no.: 220\n",
      "total device no.: 220\n",
      "maximum Y (PCE [%]):  17.4\n"
     ]
    },
    {
     "name": "stderr",
     "output_type": "stream",
     "text": [
      "reconstraining parameters Mat52.lengthscale\n",
      "reconstraining parameters Mat52.variance\n"
     ]
    },
    {
     "name": "stdout",
     "output_type": "stream",
     "text": [
      "total condition no.: 240\n",
      "total device no.: 240\n",
      "maximum Y (PCE [%]):  17.4\n"
     ]
    },
    {
     "name": "stderr",
     "output_type": "stream",
     "text": [
      "reconstraining parameters Mat52.lengthscale\n",
      "reconstraining parameters Mat52.variance\n"
     ]
    },
    {
     "name": "stdout",
     "output_type": "stream",
     "text": [
      "total condition no.: 260\n",
      "total device no.: 260\n",
      "maximum Y (PCE [%]):  17.4\n"
     ]
    },
    {
     "name": "stderr",
     "output_type": "stream",
     "text": [
      "reconstraining parameters Mat52.lengthscale\n",
      "reconstraining parameters Mat52.variance\n"
     ]
    },
    {
     "name": "stdout",
     "output_type": "stream",
     "text": [
      "total condition no.: 280\n",
      "total device no.: 280\n",
      "maximum Y (PCE [%]):  17.41\n"
     ]
    },
    {
     "name": "stderr",
     "output_type": "stream",
     "text": [
      "reconstraining parameters Mat52.lengthscale\n",
      "reconstraining parameters Mat52.variance\n"
     ]
    },
    {
     "name": "stdout",
     "output_type": "stream",
     "text": [
      "total condition no.: 300\n",
      "total device no.: 300\n",
      "maximum Y (PCE [%]):  17.42\n"
     ]
    },
    {
     "name": "stderr",
     "output_type": "stream",
     "text": [
      "reconstraining parameters Mat52.lengthscale\n",
      "reconstraining parameters Mat52.variance\n"
     ]
    },
    {
     "name": "stdout",
     "output_type": "stream",
     "text": [
      "     Temperature [°C]  Speed [mm/s]  Spray Flow [uL/min]  Plamsa Height [cm]  \\\n",
      "318        143.041748    177.566709           3482.41703            1.067439   \n",
      "\n",
      "     Plasma Gas Flow [L/min]  Plasma DC [%]  Efficiency [%]  \n",
      "318                18.805361      28.577161       17.433521  \n"
     ]
    },
    {
     "name": "stderr",
     "output_type": "stream",
     "text": [
      "reconstraining parameters Mat52.lengthscale\n",
      "reconstraining parameters Mat52.variance\n"
     ]
    },
    {
     "name": "stdout",
     "output_type": "stream",
     "text": [
      "total condition no.: 20\n",
      "total device no.: 20\n",
      "maximum Y (PCE [%]):  13.62\n",
      "total condition no.: 40\n",
      "total device no.: 40\n",
      "maximum Y (PCE [%]):  15.2\n"
     ]
    },
    {
     "name": "stderr",
     "output_type": "stream",
     "text": [
      "reconstraining parameters Mat52.lengthscale\n",
      "reconstraining parameters Mat52.variance\n"
     ]
    },
    {
     "name": "stdout",
     "output_type": "stream",
     "text": [
      "total condition no.: 60\n",
      "total device no.: 60\n",
      "maximum Y (PCE [%]):  15.2\n"
     ]
    },
    {
     "name": "stderr",
     "output_type": "stream",
     "text": [
      "reconstraining parameters Mat52.lengthscale\n",
      "reconstraining parameters Mat52.variance\n"
     ]
    },
    {
     "name": "stdout",
     "output_type": "stream",
     "text": [
      "total condition no.: 80\n",
      "total device no.: 80\n",
      "maximum Y (PCE [%]):  15.2\n"
     ]
    },
    {
     "name": "stderr",
     "output_type": "stream",
     "text": [
      "reconstraining parameters Mat52.lengthscale\n",
      "reconstraining parameters Mat52.variance\n"
     ]
    },
    {
     "name": "stdout",
     "output_type": "stream",
     "text": [
      "total condition no.: 100\n",
      "total device no.: 100\n",
      "maximum Y (PCE [%]):  16.69\n"
     ]
    },
    {
     "name": "stderr",
     "output_type": "stream",
     "text": [
      "reconstraining parameters Mat52.lengthscale\n",
      "reconstraining parameters Mat52.variance\n"
     ]
    },
    {
     "name": "stdout",
     "output_type": "stream",
     "text": [
      "total condition no.: 120\n",
      "total device no.: 120\n",
      "maximum Y (PCE [%]):  16.95\n"
     ]
    },
    {
     "name": "stderr",
     "output_type": "stream",
     "text": [
      "reconstraining parameters Mat52.lengthscale\n",
      "reconstraining parameters Mat52.variance\n"
     ]
    },
    {
     "name": "stdout",
     "output_type": "stream",
     "text": [
      "total condition no.: 140\n",
      "total device no.: 140\n",
      "maximum Y (PCE [%]):  16.96\n"
     ]
    },
    {
     "name": "stderr",
     "output_type": "stream",
     "text": [
      "reconstraining parameters Mat52.lengthscale\n",
      "reconstraining parameters Mat52.variance\n"
     ]
    },
    {
     "name": "stdout",
     "output_type": "stream",
     "text": [
      "total condition no.: 160\n",
      "total device no.: 160\n",
      "maximum Y (PCE [%]):  17.1\n"
     ]
    },
    {
     "name": "stderr",
     "output_type": "stream",
     "text": [
      "reconstraining parameters Mat52.lengthscale\n",
      "reconstraining parameters Mat52.variance\n"
     ]
    },
    {
     "name": "stdout",
     "output_type": "stream",
     "text": [
      "total condition no.: 180\n",
      "total device no.: 180\n",
      "maximum Y (PCE [%]):  17.1\n"
     ]
    },
    {
     "name": "stderr",
     "output_type": "stream",
     "text": [
      "reconstraining parameters Mat52.lengthscale\n",
      "reconstraining parameters Mat52.variance\n"
     ]
    },
    {
     "name": "stdout",
     "output_type": "stream",
     "text": [
      "total condition no.: 200\n",
      "total device no.: 200\n",
      "maximum Y (PCE [%]):  17.26\n"
     ]
    },
    {
     "name": "stderr",
     "output_type": "stream",
     "text": [
      "reconstraining parameters Mat52.lengthscale\n",
      "reconstraining parameters Mat52.variance\n"
     ]
    },
    {
     "name": "stdout",
     "output_type": "stream",
     "text": [
      "total condition no.: 220\n",
      "total device no.: 220\n",
      "maximum Y (PCE [%]):  17.45\n"
     ]
    },
    {
     "name": "stderr",
     "output_type": "stream",
     "text": [
      "reconstraining parameters Mat52.lengthscale\n",
      "reconstraining parameters Mat52.variance\n"
     ]
    },
    {
     "name": "stdout",
     "output_type": "stream",
     "text": [
      "total condition no.: 240\n",
      "total device no.: 240\n",
      "maximum Y (PCE [%]):  17.52\n"
     ]
    },
    {
     "name": "stderr",
     "output_type": "stream",
     "text": [
      "reconstraining parameters Mat52.lengthscale\n",
      "reconstraining parameters Mat52.variance\n"
     ]
    },
    {
     "name": "stdout",
     "output_type": "stream",
     "text": [
      "total condition no.: 260\n",
      "total device no.: 260\n",
      "maximum Y (PCE [%]):  17.52\n"
     ]
    },
    {
     "name": "stderr",
     "output_type": "stream",
     "text": [
      "reconstraining parameters Mat52.lengthscale\n",
      "reconstraining parameters Mat52.variance\n"
     ]
    },
    {
     "name": "stdout",
     "output_type": "stream",
     "text": [
      "total condition no.: 280\n",
      "total device no.: 280\n",
      "maximum Y (PCE [%]):  17.52\n"
     ]
    },
    {
     "name": "stderr",
     "output_type": "stream",
     "text": [
      "reconstraining parameters Mat52.lengthscale\n",
      "reconstraining parameters Mat52.variance\n"
     ]
    },
    {
     "name": "stdout",
     "output_type": "stream",
     "text": [
      "total condition no.: 300\n",
      "total device no.: 300\n",
      "maximum Y (PCE [%]):  17.52\n"
     ]
    },
    {
     "name": "stderr",
     "output_type": "stream",
     "text": [
      "reconstraining parameters Mat52.lengthscale\n",
      "reconstraining parameters Mat52.variance\n"
     ]
    },
    {
     "name": "stdout",
     "output_type": "stream",
     "text": [
      "     Temperature [°C]  Speed [mm/s]  Spray Flow [uL/min]  Plamsa Height [cm]  \\\n",
      "220        144.551618    144.052321          3354.204813                 1.2   \n",
      "\n",
      "     Plasma Gas Flow [L/min]  Plasma DC [%]  Efficiency [%]  \n",
      "220                     15.0      26.992435       17.515454  \n"
     ]
    },
    {
     "name": "stderr",
     "output_type": "stream",
     "text": [
      " C:\\Users\\Zhe\\AppData\\Roaming\\Python\\Python37\\site-packages\\emukit\\bayesian_optimization\\acquisitions\\log_acquisition.py:25: RuntimeWarning:invalid value encountered in log\n"
     ]
    },
    {
     "name": "stdout",
     "output_type": "stream",
     "text": [
      "total condition no.: 20\n",
      "total device no.: 20\n",
      "maximum Y (PCE [%]):  14.28\n"
     ]
    },
    {
     "name": "stderr",
     "output_type": "stream",
     "text": [
      "reconstraining parameters Mat52.lengthscale\n",
      "reconstraining parameters Mat52.variance\n"
     ]
    },
    {
     "name": "stdout",
     "output_type": "stream",
     "text": [
      "total condition no.: 40\n",
      "total device no.: 40\n",
      "maximum Y (PCE [%]):  16.2\n"
     ]
    },
    {
     "name": "stderr",
     "output_type": "stream",
     "text": [
      " C:\\Users\\Zhe\\AppData\\Roaming\\Python\\Python37\\site-packages\\emukit\\bayesian_optimization\\acquisitions\\log_acquisition.py:25: RuntimeWarning:invalid value encountered in log\n",
      "reconstraining parameters Mat52.lengthscale\n",
      "reconstraining parameters Mat52.variance\n"
     ]
    },
    {
     "name": "stdout",
     "output_type": "stream",
     "text": [
      "total condition no.: 60\n",
      "total device no.: 60\n",
      "maximum Y (PCE [%]):  16.2\n"
     ]
    },
    {
     "name": "stderr",
     "output_type": "stream",
     "text": [
      " C:\\Users\\Zhe\\AppData\\Roaming\\Python\\Python37\\site-packages\\emukit\\bayesian_optimization\\acquisitions\\log_acquisition.py:25: RuntimeWarning:invalid value encountered in log\n",
      "reconstraining parameters Mat52.lengthscale\n",
      "reconstraining parameters Mat52.variance\n"
     ]
    },
    {
     "name": "stdout",
     "output_type": "stream",
     "text": [
      "total condition no.: 80\n",
      "total device no.: 80\n",
      "maximum Y (PCE [%]):  16.2\n"
     ]
    },
    {
     "name": "stderr",
     "output_type": "stream",
     "text": [
      " C:\\Users\\Zhe\\AppData\\Roaming\\Python\\Python37\\site-packages\\emukit\\bayesian_optimization\\acquisitions\\log_acquisition.py:25: RuntimeWarning:invalid value encountered in log\n",
      "reconstraining parameters Mat52.lengthscale\n",
      "reconstraining parameters Mat52.variance\n"
     ]
    },
    {
     "name": "stdout",
     "output_type": "stream",
     "text": [
      "total condition no.: 100\n",
      "total device no.: 100\n",
      "maximum Y (PCE [%]):  16.2\n"
     ]
    },
    {
     "name": "stderr",
     "output_type": "stream",
     "text": [
      " C:\\Users\\Zhe\\AppData\\Roaming\\Python\\Python37\\site-packages\\emukit\\bayesian_optimization\\acquisitions\\log_acquisition.py:25: RuntimeWarning:invalid value encountered in log\n",
      "reconstraining parameters Mat52.lengthscale\n",
      "reconstraining parameters Mat52.variance\n"
     ]
    },
    {
     "name": "stdout",
     "output_type": "stream",
     "text": [
      "total condition no.: 120\n",
      "total device no.: 120\n",
      "maximum Y (PCE [%]):  16.2\n"
     ]
    },
    {
     "name": "stderr",
     "output_type": "stream",
     "text": [
      " C:\\Users\\Zhe\\AppData\\Roaming\\Python\\Python37\\site-packages\\emukit\\bayesian_optimization\\acquisitions\\log_acquisition.py:25: RuntimeWarning:invalid value encountered in log\n",
      "reconstraining parameters Mat52.lengthscale\n",
      "reconstraining parameters Mat52.variance\n"
     ]
    },
    {
     "name": "stdout",
     "output_type": "stream",
     "text": [
      "total condition no.: 140\n",
      "total device no.: 140\n",
      "maximum Y (PCE [%]):  16.2\n"
     ]
    },
    {
     "name": "stderr",
     "output_type": "stream",
     "text": [
      " C:\\Users\\Zhe\\AppData\\Roaming\\Python\\Python37\\site-packages\\emukit\\bayesian_optimization\\acquisitions\\log_acquisition.py:25: RuntimeWarning:invalid value encountered in log\n",
      "reconstraining parameters Mat52.lengthscale\n",
      "reconstraining parameters Mat52.variance\n"
     ]
    },
    {
     "name": "stdout",
     "output_type": "stream",
     "text": [
      "total condition no.: 160\n",
      "total device no.: 160\n",
      "maximum Y (PCE [%]):  16.32\n"
     ]
    },
    {
     "name": "stderr",
     "output_type": "stream",
     "text": [
      " C:\\Users\\Zhe\\AppData\\Roaming\\Python\\Python37\\site-packages\\emukit\\bayesian_optimization\\acquisitions\\log_acquisition.py:25: RuntimeWarning:invalid value encountered in log\n",
      "reconstraining parameters Mat52.lengthscale\n",
      "reconstraining parameters Mat52.variance\n"
     ]
    },
    {
     "name": "stdout",
     "output_type": "stream",
     "text": [
      "total condition no.: 180\n",
      "total device no.: 180\n",
      "maximum Y (PCE [%]):  16.33\n"
     ]
    },
    {
     "name": "stderr",
     "output_type": "stream",
     "text": [
      "reconstraining parameters Mat52.lengthscale\n",
      "reconstraining parameters Mat52.variance\n"
     ]
    },
    {
     "name": "stdout",
     "output_type": "stream",
     "text": [
      "total condition no.: 200\n",
      "total device no.: 200\n",
      "maximum Y (PCE [%]):  16.33\n"
     ]
    },
    {
     "name": "stderr",
     "output_type": "stream",
     "text": [
      " C:\\Users\\Zhe\\AppData\\Roaming\\Python\\Python37\\site-packages\\emukit\\bayesian_optimization\\acquisitions\\log_acquisition.py:25: RuntimeWarning:invalid value encountered in log\n",
      "reconstraining parameters Mat52.lengthscale\n",
      "reconstraining parameters Mat52.variance\n"
     ]
    },
    {
     "name": "stdout",
     "output_type": "stream",
     "text": [
      "total condition no.: 220\n",
      "total device no.: 220\n",
      "maximum Y (PCE [%]):  16.33\n"
     ]
    },
    {
     "name": "stderr",
     "output_type": "stream",
     "text": [
      " C:\\Users\\Zhe\\AppData\\Roaming\\Python\\Python37\\site-packages\\emukit\\bayesian_optimization\\acquisitions\\log_acquisition.py:25: RuntimeWarning:invalid value encountered in log\n",
      "reconstraining parameters Mat52.lengthscale\n",
      "reconstraining parameters Mat52.variance\n"
     ]
    },
    {
     "name": "stdout",
     "output_type": "stream",
     "text": [
      "total condition no.: 240\n",
      "total device no.: 240\n",
      "maximum Y (PCE [%]):  16.34\n"
     ]
    },
    {
     "name": "stderr",
     "output_type": "stream",
     "text": [
      "reconstraining parameters Mat52.lengthscale\n",
      "reconstraining parameters Mat52.variance\n"
     ]
    },
    {
     "name": "stdout",
     "output_type": "stream",
     "text": [
      "total condition no.: 260\n",
      "total device no.: 260\n",
      "maximum Y (PCE [%]):  16.39\n"
     ]
    },
    {
     "name": "stderr",
     "output_type": "stream",
     "text": [
      "reconstraining parameters Mat52.lengthscale\n",
      "reconstraining parameters Mat52.variance\n"
     ]
    },
    {
     "name": "stdout",
     "output_type": "stream",
     "text": [
      "total condition no.: 280\n",
      "total device no.: 280\n",
      "maximum Y (PCE [%]):  16.39\n"
     ]
    },
    {
     "name": "stderr",
     "output_type": "stream",
     "text": [
      "reconstraining parameters Mat52.lengthscale\n",
      "reconstraining parameters Mat52.variance\n"
     ]
    },
    {
     "name": "stdout",
     "output_type": "stream",
     "text": [
      "total condition no.: 300\n",
      "total device no.: 300\n",
      "maximum Y (PCE [%]):  16.39\n"
     ]
    },
    {
     "name": "stderr",
     "output_type": "stream",
     "text": [
      "reconstraining parameters Mat52.lengthscale\n",
      "reconstraining parameters Mat52.variance\n"
     ]
    },
    {
     "name": "stdout",
     "output_type": "stream",
     "text": [
      "     Temperature [°C]  Speed [mm/s]  Spray Flow [uL/min]  Plamsa Height [cm]  \\\n",
      "319        142.277692    180.240475          3849.515593             1.08194   \n",
      "\n",
      "     Plasma Gas Flow [L/min]  Plasma DC [%]  Efficiency [%]  \n",
      "319                     15.0       52.30161         16.6254  \n"
     ]
    },
    {
     "name": "stderr",
     "output_type": "stream",
     "text": [
      "reconstraining parameters Mat52.lengthscale\n",
      "reconstraining parameters Mat52.variance\n"
     ]
    },
    {
     "name": "stdout",
     "output_type": "stream",
     "text": [
      "total condition no.: 20\n",
      "total device no.: 20\n",
      "maximum Y (PCE [%]):  14.22\n",
      "total condition no.: 40\n",
      "total device no.: 40\n",
      "maximum Y (PCE [%]):  16.12\n"
     ]
    },
    {
     "name": "stderr",
     "output_type": "stream",
     "text": [
      "reconstraining parameters Mat52.lengthscale\n",
      "reconstraining parameters Mat52.variance\n"
     ]
    },
    {
     "name": "stdout",
     "output_type": "stream",
     "text": [
      "total condition no.: 60\n",
      "total device no.: 60\n",
      "maximum Y (PCE [%]):  16.12\n"
     ]
    },
    {
     "name": "stderr",
     "output_type": "stream",
     "text": [
      "reconstraining parameters Mat52.lengthscale\n",
      "reconstraining parameters Mat52.variance\n"
     ]
    },
    {
     "name": "stdout",
     "output_type": "stream",
     "text": [
      "total condition no.: 80\n",
      "total device no.: 80\n",
      "maximum Y (PCE [%]):  16.54\n"
     ]
    },
    {
     "name": "stderr",
     "output_type": "stream",
     "text": [
      "reconstraining parameters Mat52.lengthscale\n",
      "reconstraining parameters Mat52.variance\n"
     ]
    },
    {
     "name": "stdout",
     "output_type": "stream",
     "text": [
      "total condition no.: 100\n",
      "total device no.: 100\n",
      "maximum Y (PCE [%]):  16.64\n"
     ]
    },
    {
     "name": "stderr",
     "output_type": "stream",
     "text": [
      "reconstraining parameters Mat52.lengthscale\n",
      "reconstraining parameters Mat52.variance\n"
     ]
    },
    {
     "name": "stdout",
     "output_type": "stream",
     "text": [
      "total condition no.: 120\n",
      "total device no.: 120\n",
      "maximum Y (PCE [%]):  16.73\n"
     ]
    },
    {
     "name": "stderr",
     "output_type": "stream",
     "text": [
      "reconstraining parameters Mat52.lengthscale\n",
      "reconstraining parameters Mat52.variance\n"
     ]
    },
    {
     "name": "stdout",
     "output_type": "stream",
     "text": [
      "total condition no.: 140\n",
      "total device no.: 140\n",
      "maximum Y (PCE [%]):  16.76\n"
     ]
    },
    {
     "name": "stderr",
     "output_type": "stream",
     "text": [
      "reconstraining parameters Mat52.lengthscale\n",
      "reconstraining parameters Mat52.variance\n"
     ]
    },
    {
     "name": "stdout",
     "output_type": "stream",
     "text": [
      "total condition no.: 160\n",
      "total device no.: 160\n",
      "maximum Y (PCE [%]):  17.03\n"
     ]
    },
    {
     "name": "stderr",
     "output_type": "stream",
     "text": [
      "reconstraining parameters Mat52.lengthscale\n",
      "reconstraining parameters Mat52.variance\n"
     ]
    },
    {
     "name": "stdout",
     "output_type": "stream",
     "text": [
      "total condition no.: 180\n",
      "total device no.: 180\n",
      "maximum Y (PCE [%]):  17.06\n"
     ]
    },
    {
     "name": "stderr",
     "output_type": "stream",
     "text": [
      "reconstraining parameters Mat52.lengthscale\n",
      "reconstraining parameters Mat52.variance\n"
     ]
    },
    {
     "name": "stdout",
     "output_type": "stream",
     "text": [
      "total condition no.: 200\n",
      "total device no.: 200\n",
      "maximum Y (PCE [%]):  17.06\n"
     ]
    },
    {
     "name": "stderr",
     "output_type": "stream",
     "text": [
      "reconstraining parameters Mat52.lengthscale\n",
      "reconstraining parameters Mat52.variance\n"
     ]
    },
    {
     "name": "stdout",
     "output_type": "stream",
     "text": [
      "total condition no.: 220\n",
      "total device no.: 220\n",
      "maximum Y (PCE [%]):  17.06\n"
     ]
    },
    {
     "name": "stderr",
     "output_type": "stream",
     "text": [
      "reconstraining parameters Mat52.lengthscale\n",
      "reconstraining parameters Mat52.variance\n"
     ]
    },
    {
     "name": "stdout",
     "output_type": "stream",
     "text": [
      "total condition no.: 240\n",
      "total device no.: 240\n",
      "maximum Y (PCE [%]):  17.06\n"
     ]
    },
    {
     "name": "stderr",
     "output_type": "stream",
     "text": [
      "reconstraining parameters Mat52.lengthscale\n",
      "reconstraining parameters Mat52.variance\n"
     ]
    },
    {
     "name": "stdout",
     "output_type": "stream",
     "text": [
      "total condition no.: 260\n",
      "total device no.: 260\n",
      "maximum Y (PCE [%]):  17.06\n"
     ]
    },
    {
     "name": "stderr",
     "output_type": "stream",
     "text": [
      "reconstraining parameters Mat52.lengthscale\n",
      "reconstraining parameters Mat52.variance\n"
     ]
    },
    {
     "name": "stdout",
     "output_type": "stream",
     "text": [
      "total condition no.: 280\n",
      "total device no.: 280\n",
      "maximum Y (PCE [%]):  17.06\n"
     ]
    },
    {
     "name": "stderr",
     "output_type": "stream",
     "text": [
      "reconstraining parameters Mat52.lengthscale\n",
      "reconstraining parameters Mat52.variance\n"
     ]
    },
    {
     "name": "stdout",
     "output_type": "stream",
     "text": [
      "total condition no.: 300\n",
      "total device no.: 300\n",
      "maximum Y (PCE [%]):  17.06\n"
     ]
    },
    {
     "name": "stderr",
     "output_type": "stream",
     "text": [
      "reconstraining parameters Mat52.lengthscale\n",
      "reconstraining parameters Mat52.variance\n"
     ]
    },
    {
     "name": "stdout",
     "output_type": "stream",
     "text": [
      "     Temperature [°C]  Speed [mm/s]  Spray Flow [uL/min]  Plamsa Height [cm]  \\\n",
      "176        143.178074    176.177992          3542.799784            1.056089   \n",
      "\n",
      "     Plasma Gas Flow [L/min]  Plasma DC [%]  Efficiency [%]  \n",
      "176                     15.0           25.0       17.055202  \n"
     ]
    },
    {
     "name": "stderr",
     "output_type": "stream",
     "text": [
      "reconstraining parameters Mat52.lengthscale\n",
      "reconstraining parameters Mat52.variance\n"
     ]
    },
    {
     "name": "stdout",
     "output_type": "stream",
     "text": [
      "total condition no.: 20\n",
      "total device no.: 20\n",
      "maximum Y (PCE [%]):  14.31\n",
      "total condition no.: 40\n",
      "total device no.: 40\n",
      "maximum Y (PCE [%]):  16.24\n"
     ]
    },
    {
     "name": "stderr",
     "output_type": "stream",
     "text": [
      "reconstraining parameters Mat52.lengthscale\n",
      "reconstraining parameters Mat52.variance\n"
     ]
    },
    {
     "name": "stdout",
     "output_type": "stream",
     "text": [
      "total condition no.: 60\n",
      "total device no.: 60\n",
      "maximum Y (PCE [%]):  16.24\n"
     ]
    },
    {
     "name": "stderr",
     "output_type": "stream",
     "text": [
      "reconstraining parameters Mat52.lengthscale\n",
      "reconstraining parameters Mat52.variance\n"
     ]
    },
    {
     "name": "stdout",
     "output_type": "stream",
     "text": [
      "total condition no.: 80\n",
      "total device no.: 80\n",
      "maximum Y (PCE [%]):  16.73\n"
     ]
    },
    {
     "name": "stderr",
     "output_type": "stream",
     "text": [
      "reconstraining parameters Mat52.lengthscale\n",
      "reconstraining parameters Mat52.variance\n"
     ]
    },
    {
     "name": "stdout",
     "output_type": "stream",
     "text": [
      "total condition no.: 100\n",
      "total device no.: 100\n",
      "maximum Y (PCE [%]):  16.73\n"
     ]
    },
    {
     "name": "stderr",
     "output_type": "stream",
     "text": [
      "reconstraining parameters Mat52.lengthscale\n",
      "reconstraining parameters Mat52.variance\n"
     ]
    },
    {
     "name": "stdout",
     "output_type": "stream",
     "text": [
      "total condition no.: 120\n",
      "total device no.: 120\n",
      "maximum Y (PCE [%]):  16.94\n"
     ]
    },
    {
     "name": "stderr",
     "output_type": "stream",
     "text": [
      "reconstraining parameters Mat52.lengthscale\n",
      "reconstraining parameters Mat52.variance\n"
     ]
    },
    {
     "name": "stdout",
     "output_type": "stream",
     "text": [
      "total condition no.: 140\n",
      "total device no.: 140\n",
      "maximum Y (PCE [%]):  17.09\n"
     ]
    },
    {
     "name": "stderr",
     "output_type": "stream",
     "text": [
      "reconstraining parameters Mat52.lengthscale\n",
      "reconstraining parameters Mat52.variance\n"
     ]
    },
    {
     "name": "stdout",
     "output_type": "stream",
     "text": [
      "total condition no.: 160\n",
      "total device no.: 160\n",
      "maximum Y (PCE [%]):  17.09\n"
     ]
    },
    {
     "name": "stderr",
     "output_type": "stream",
     "text": [
      "reconstraining parameters Mat52.lengthscale\n",
      "reconstraining parameters Mat52.variance\n"
     ]
    },
    {
     "name": "stdout",
     "output_type": "stream",
     "text": [
      "total condition no.: 180\n",
      "total device no.: 180\n",
      "maximum Y (PCE [%]):  17.09\n"
     ]
    },
    {
     "name": "stderr",
     "output_type": "stream",
     "text": [
      "reconstraining parameters Mat52.lengthscale\n",
      "reconstraining parameters Mat52.variance\n"
     ]
    },
    {
     "name": "stdout",
     "output_type": "stream",
     "text": [
      "total condition no.: 200\n",
      "total device no.: 200\n",
      "maximum Y (PCE [%]):  17.44\n"
     ]
    },
    {
     "name": "stderr",
     "output_type": "stream",
     "text": [
      "reconstraining parameters Mat52.lengthscale\n",
      "reconstraining parameters Mat52.variance\n"
     ]
    },
    {
     "name": "stdout",
     "output_type": "stream",
     "text": [
      "total condition no.: 220\n",
      "total device no.: 220\n",
      "maximum Y (PCE [%]):  17.44\n"
     ]
    },
    {
     "name": "stderr",
     "output_type": "stream",
     "text": [
      "reconstraining parameters Mat52.lengthscale\n",
      "reconstraining parameters Mat52.variance\n"
     ]
    },
    {
     "name": "stdout",
     "output_type": "stream",
     "text": [
      "total condition no.: 240\n",
      "total device no.: 240\n",
      "maximum Y (PCE [%]):  17.47\n"
     ]
    },
    {
     "name": "stderr",
     "output_type": "stream",
     "text": [
      "reconstraining parameters Mat52.lengthscale\n",
      "reconstraining parameters Mat52.variance\n"
     ]
    },
    {
     "name": "stdout",
     "output_type": "stream",
     "text": [
      "total condition no.: 260\n",
      "total device no.: 260\n",
      "maximum Y (PCE [%]):  17.47\n"
     ]
    },
    {
     "name": "stderr",
     "output_type": "stream",
     "text": [
      "reconstraining parameters Mat52.lengthscale\n",
      "reconstraining parameters Mat52.variance\n"
     ]
    },
    {
     "name": "stdout",
     "output_type": "stream",
     "text": [
      "total condition no.: 280\n",
      "total device no.: 280\n",
      "maximum Y (PCE [%]):  17.47\n"
     ]
    },
    {
     "name": "stderr",
     "output_type": "stream",
     "text": [
      "reconstraining parameters Mat52.lengthscale\n",
      "reconstraining parameters Mat52.variance\n"
     ]
    },
    {
     "name": "stdout",
     "output_type": "stream",
     "text": [
      "total condition no.: 300\n",
      "total device no.: 300\n",
      "maximum Y (PCE [%]):  17.47\n"
     ]
    },
    {
     "name": "stderr",
     "output_type": "stream",
     "text": [
      "reconstraining parameters Mat52.lengthscale\n"
     ]
    },
    {
     "name": "stdout",
     "output_type": "stream",
     "text": [
      "     Temperature [°C]  Speed [mm/s]  Spray Flow [uL/min]  Plamsa Height [cm]  \\\n",
      "300        144.217375    144.438423           3347.66131                 1.2   \n",
      "\n",
      "     Plasma Gas Flow [L/min]  Plasma DC [%]  Efficiency [%]  \n",
      "300                     15.0      28.536213        17.50425  \n"
     ]
    },
    {
     "name": "stderr",
     "output_type": "stream",
     "text": [
      "reconstraining parameters Mat52.variance\n",
      "reconstraining parameters Mat52.lengthscale\n"
     ]
    },
    {
     "name": "stdout",
     "output_type": "stream",
     "text": [
      "total condition no.: 20\n",
      "total device no.: 20\n",
      "maximum Y (PCE [%]):  14.76\n"
     ]
    },
    {
     "name": "stderr",
     "output_type": "stream",
     "text": [
      "reconstraining parameters Mat52.variance\n"
     ]
    },
    {
     "name": "stdout",
     "output_type": "stream",
     "text": [
      "total condition no.: 40\n",
      "total device no.: 40\n",
      "maximum Y (PCE [%]):  16.31\n"
     ]
    },
    {
     "name": "stderr",
     "output_type": "stream",
     "text": [
      " C:\\Users\\Zhe\\AppData\\Roaming\\Python\\Python37\\site-packages\\emukit\\bayesian_optimization\\acquisitions\\log_acquisition.py:25: RuntimeWarning:invalid value encountered in log\n",
      "reconstraining parameters Mat52.lengthscale\n",
      "reconstraining parameters Mat52.variance\n"
     ]
    },
    {
     "name": "stdout",
     "output_type": "stream",
     "text": [
      "total condition no.: 60\n",
      "total device no.: 60\n",
      "maximum Y (PCE [%]):  16.31\n"
     ]
    },
    {
     "name": "stderr",
     "output_type": "stream",
     "text": [
      " C:\\Users\\Zhe\\AppData\\Roaming\\Python\\Python37\\site-packages\\emukit\\bayesian_optimization\\acquisitions\\log_acquisition.py:25: RuntimeWarning:invalid value encountered in log\n",
      "reconstraining parameters Mat52.lengthscale\n",
      "reconstraining parameters Mat52.variance\n"
     ]
    },
    {
     "name": "stdout",
     "output_type": "stream",
     "text": [
      "total condition no.: 80\n",
      "total device no.: 80\n",
      "maximum Y (PCE [%]):  16.31\n"
     ]
    },
    {
     "name": "stderr",
     "output_type": "stream",
     "text": [
      " C:\\Users\\Zhe\\AppData\\Roaming\\Python\\Python37\\site-packages\\emukit\\bayesian_optimization\\acquisitions\\log_acquisition.py:25: RuntimeWarning:invalid value encountered in log\n",
      "reconstraining parameters Mat52.lengthscale\n",
      "reconstraining parameters Mat52.variance\n"
     ]
    },
    {
     "name": "stdout",
     "output_type": "stream",
     "text": [
      "total condition no.: 100\n",
      "total device no.: 100\n",
      "maximum Y (PCE [%]):  16.61\n"
     ]
    },
    {
     "name": "stderr",
     "output_type": "stream",
     "text": [
      " C:\\Users\\Zhe\\AppData\\Roaming\\Python\\Python37\\site-packages\\emukit\\bayesian_optimization\\acquisitions\\log_acquisition.py:25: RuntimeWarning:invalid value encountered in log\n",
      "reconstraining parameters Mat52.lengthscale\n",
      "reconstraining parameters Mat52.variance\n"
     ]
    },
    {
     "name": "stdout",
     "output_type": "stream",
     "text": [
      "total condition no.: 120\n",
      "total device no.: 120\n",
      "maximum Y (PCE [%]):  16.61\n"
     ]
    },
    {
     "name": "stderr",
     "output_type": "stream",
     "text": [
      "reconstraining parameters Mat52.lengthscale\n",
      "reconstraining parameters Mat52.variance\n"
     ]
    },
    {
     "name": "stdout",
     "output_type": "stream",
     "text": [
      "total condition no.: 140\n",
      "total device no.: 140\n",
      "maximum Y (PCE [%]):  16.61\n"
     ]
    },
    {
     "name": "stderr",
     "output_type": "stream",
     "text": [
      " C:\\Users\\Zhe\\AppData\\Roaming\\Python\\Python37\\site-packages\\emukit\\bayesian_optimization\\acquisitions\\log_acquisition.py:25: RuntimeWarning:invalid value encountered in log\n",
      "reconstraining parameters Mat52.lengthscale\n",
      "reconstraining parameters Mat52.variance\n"
     ]
    },
    {
     "name": "stdout",
     "output_type": "stream",
     "text": [
      "total condition no.: 160\n",
      "total device no.: 160\n",
      "maximum Y (PCE [%]):  16.64\n"
     ]
    },
    {
     "name": "stderr",
     "output_type": "stream",
     "text": [
      "reconstraining parameters Mat52.lengthscale\n",
      "reconstraining parameters Mat52.variance\n"
     ]
    },
    {
     "name": "stdout",
     "output_type": "stream",
     "text": [
      "total condition no.: 180\n",
      "total device no.: 180\n",
      "maximum Y (PCE [%]):  16.64\n"
     ]
    },
    {
     "name": "stderr",
     "output_type": "stream",
     "text": [
      "reconstraining parameters Mat52.lengthscale\n",
      "reconstraining parameters Mat52.variance\n"
     ]
    },
    {
     "name": "stdout",
     "output_type": "stream",
     "text": [
      "total condition no.: 200\n",
      "total device no.: 200\n",
      "maximum Y (PCE [%]):  16.64\n"
     ]
    },
    {
     "name": "stderr",
     "output_type": "stream",
     "text": [
      "reconstraining parameters Mat52.lengthscale\n",
      "reconstraining parameters Mat52.variance\n"
     ]
    },
    {
     "name": "stdout",
     "output_type": "stream",
     "text": [
      "total condition no.: 220\n",
      "total device no.: 220\n",
      "maximum Y (PCE [%]):  16.64\n"
     ]
    },
    {
     "name": "stderr",
     "output_type": "stream",
     "text": [
      " C:\\Users\\Zhe\\AppData\\Roaming\\Python\\Python37\\site-packages\\emukit\\bayesian_optimization\\acquisitions\\log_acquisition.py:25: RuntimeWarning:invalid value encountered in log\n",
      "reconstraining parameters Mat52.lengthscale\n",
      "reconstraining parameters Mat52.variance\n"
     ]
    },
    {
     "name": "stdout",
     "output_type": "stream",
     "text": [
      "total condition no.: 240\n",
      "total device no.: 240\n",
      "maximum Y (PCE [%]):  16.64\n"
     ]
    },
    {
     "name": "stderr",
     "output_type": "stream",
     "text": [
      "reconstraining parameters Mat52.lengthscale\n",
      "reconstraining parameters Mat52.variance\n"
     ]
    },
    {
     "name": "stdout",
     "output_type": "stream",
     "text": [
      "total condition no.: 260\n",
      "total device no.: 260\n",
      "maximum Y (PCE [%]):  16.65\n"
     ]
    },
    {
     "name": "stderr",
     "output_type": "stream",
     "text": [
      "reconstraining parameters Mat52.lengthscale\n",
      "reconstraining parameters Mat52.variance\n"
     ]
    },
    {
     "name": "stdout",
     "output_type": "stream",
     "text": [
      "total condition no.: 280\n",
      "total device no.: 280\n",
      "maximum Y (PCE [%]):  16.65\n"
     ]
    },
    {
     "name": "stderr",
     "output_type": "stream",
     "text": [
      "reconstraining parameters Mat52.lengthscale\n",
      "reconstraining parameters Mat52.variance\n"
     ]
    },
    {
     "name": "stdout",
     "output_type": "stream",
     "text": [
      "total condition no.: 300\n",
      "total device no.: 300\n",
      "maximum Y (PCE [%]):  16.65\n"
     ]
    },
    {
     "name": "stderr",
     "output_type": "stream",
     "text": [
      "reconstraining parameters Mat52.lengthscale\n",
      "reconstraining parameters Mat52.variance\n"
     ]
    },
    {
     "name": "stdout",
     "output_type": "stream",
     "text": [
      "     Temperature [°C]  Speed [mm/s]  Spray Flow [uL/min]  Plamsa Height [cm]  \\\n",
      "244        143.057767    179.935579          3872.143892                 1.2   \n",
      "\n",
      "     Plasma Gas Flow [L/min]  Plasma DC [%]  Efficiency [%]  \n",
      "244                     15.0      58.622529       16.647083  \n"
     ]
    },
    {
     "name": "stderr",
     "output_type": "stream",
     "text": [
      "reconstraining parameters Mat52.lengthscale\n",
      "reconstraining parameters Mat52.variance\n"
     ]
    },
    {
     "name": "stdout",
     "output_type": "stream",
     "text": [
      "total condition no.: 20\n",
      "total device no.: 20\n",
      "maximum Y (PCE [%]):  13.14\n",
      "total condition no.: 40\n",
      "total device no.: 40\n",
      "maximum Y (PCE [%]):  14.95\n"
     ]
    },
    {
     "name": "stderr",
     "output_type": "stream",
     "text": [
      "reconstraining parameters Mat52.lengthscale\n",
      "reconstraining parameters Mat52.variance\n"
     ]
    },
    {
     "name": "stdout",
     "output_type": "stream",
     "text": [
      "total condition no.: 60\n",
      "total device no.: 60\n",
      "maximum Y (PCE [%]):  15.26\n"
     ]
    },
    {
     "name": "stderr",
     "output_type": "stream",
     "text": [
      "reconstraining parameters Mat52.lengthscale\n",
      "reconstraining parameters Mat52.variance\n"
     ]
    },
    {
     "name": "stdout",
     "output_type": "stream",
     "text": [
      "total condition no.: 80\n",
      "total device no.: 80\n",
      "maximum Y (PCE [%]):  15.26\n"
     ]
    },
    {
     "name": "stderr",
     "output_type": "stream",
     "text": [
      "reconstraining parameters Mat52.lengthscale\n",
      "reconstraining parameters Mat52.variance\n"
     ]
    },
    {
     "name": "stdout",
     "output_type": "stream",
     "text": [
      "total condition no.: 100\n",
      "total device no.: 100\n",
      "maximum Y (PCE [%]):  15.31\n"
     ]
    },
    {
     "name": "stderr",
     "output_type": "stream",
     "text": [
      "reconstraining parameters Mat52.lengthscale\n",
      "reconstraining parameters Mat52.variance\n"
     ]
    },
    {
     "name": "stdout",
     "output_type": "stream",
     "text": [
      "total condition no.: 120\n",
      "total device no.: 120\n",
      "maximum Y (PCE [%]):  15.31\n"
     ]
    },
    {
     "name": "stderr",
     "output_type": "stream",
     "text": [
      "reconstraining parameters Mat52.lengthscale\n",
      "reconstraining parameters Mat52.variance\n"
     ]
    },
    {
     "name": "stdout",
     "output_type": "stream",
     "text": [
      "total condition no.: 140\n",
      "total device no.: 140\n",
      "maximum Y (PCE [%]):  15.31\n"
     ]
    },
    {
     "name": "stderr",
     "output_type": "stream",
     "text": [
      "reconstraining parameters Mat52.lengthscale\n",
      "reconstraining parameters Mat52.variance\n"
     ]
    },
    {
     "name": "stdout",
     "output_type": "stream",
     "text": [
      "total condition no.: 160\n",
      "total device no.: 160\n",
      "maximum Y (PCE [%]):  15.69\n"
     ]
    },
    {
     "name": "stderr",
     "output_type": "stream",
     "text": [
      "reconstraining parameters Mat52.lengthscale\n",
      "reconstraining parameters Mat52.variance\n"
     ]
    },
    {
     "name": "stdout",
     "output_type": "stream",
     "text": [
      "total condition no.: 180\n",
      "total device no.: 180\n",
      "maximum Y (PCE [%]):  16.72\n"
     ]
    },
    {
     "name": "stderr",
     "output_type": "stream",
     "text": [
      "reconstraining parameters Mat52.lengthscale\n",
      "reconstraining parameters Mat52.variance\n"
     ]
    },
    {
     "name": "stdout",
     "output_type": "stream",
     "text": [
      "total condition no.: 200\n",
      "total device no.: 200\n",
      "maximum Y (PCE [%]):  17.16\n"
     ]
    },
    {
     "name": "stderr",
     "output_type": "stream",
     "text": [
      "reconstraining parameters Mat52.lengthscale\n",
      "reconstraining parameters Mat52.variance\n"
     ]
    },
    {
     "name": "stdout",
     "output_type": "stream",
     "text": [
      "total condition no.: 220\n",
      "total device no.: 220\n",
      "maximum Y (PCE [%]):  17.23\n"
     ]
    },
    {
     "name": "stderr",
     "output_type": "stream",
     "text": [
      "reconstraining parameters Mat52.lengthscale\n",
      "reconstraining parameters Mat52.variance\n"
     ]
    },
    {
     "name": "stdout",
     "output_type": "stream",
     "text": [
      "total condition no.: 240\n",
      "total device no.: 240\n",
      "maximum Y (PCE [%]):  17.24\n"
     ]
    },
    {
     "name": "stderr",
     "output_type": "stream",
     "text": [
      "reconstraining parameters Mat52.lengthscale\n",
      "reconstraining parameters Mat52.variance\n"
     ]
    },
    {
     "name": "stdout",
     "output_type": "stream",
     "text": [
      "total condition no.: 260\n",
      "total device no.: 260\n",
      "maximum Y (PCE [%]):  17.24\n"
     ]
    },
    {
     "name": "stderr",
     "output_type": "stream",
     "text": [
      "reconstraining parameters Mat52.lengthscale\n",
      "reconstraining parameters Mat52.variance\n"
     ]
    },
    {
     "name": "stdout",
     "output_type": "stream",
     "text": [
      "total condition no.: 280\n",
      "total device no.: 280\n",
      "maximum Y (PCE [%]):  17.53\n"
     ]
    },
    {
     "name": "stderr",
     "output_type": "stream",
     "text": [
      "reconstraining parameters Mat52.lengthscale\n",
      "reconstraining parameters Mat52.variance\n"
     ]
    },
    {
     "name": "stdout",
     "output_type": "stream",
     "text": [
      "total condition no.: 300\n",
      "total device no.: 300\n",
      "maximum Y (PCE [%]):  17.55\n"
     ]
    },
    {
     "name": "stderr",
     "output_type": "stream",
     "text": [
      "reconstraining parameters Mat52.lengthscale\n",
      "reconstraining parameters Mat52.variance\n"
     ]
    },
    {
     "name": "stdout",
     "output_type": "stream",
     "text": [
      "     Temperature [°C]  Speed [mm/s]  Spray Flow [uL/min]  Plamsa Height [cm]  \\\n",
      "293        144.870644    181.308929          3340.325695                 1.2   \n",
      "\n",
      "     Plasma Gas Flow [L/min]  Plasma DC [%]  Efficiency [%]  \n",
      "293                     15.0      29.013343       17.545159  \n"
     ]
    },
    {
     "name": "stderr",
     "output_type": "stream",
     "text": [
      "reconstraining parameters Mat52.lengthscale\n",
      "reconstraining parameters Mat52.variance\n"
     ]
    },
    {
     "name": "stdout",
     "output_type": "stream",
     "text": [
      "total condition no.: 20\n",
      "total device no.: 20\n",
      "maximum Y (PCE [%]):  13.7\n",
      "total condition no.: 40\n",
      "total device no.: 40\n",
      "maximum Y (PCE [%]):  15.76\n"
     ]
    },
    {
     "name": "stderr",
     "output_type": "stream",
     "text": [
      "reconstraining parameters Mat52.lengthscale\n",
      "reconstraining parameters Mat52.variance\n"
     ]
    },
    {
     "name": "stdout",
     "output_type": "stream",
     "text": [
      "total condition no.: 60\n",
      "total device no.: 60\n",
      "maximum Y (PCE [%]):  15.83\n"
     ]
    },
    {
     "name": "stderr",
     "output_type": "stream",
     "text": [
      "reconstraining parameters Mat52.lengthscale\n",
      "reconstraining parameters Mat52.variance\n"
     ]
    },
    {
     "name": "stdout",
     "output_type": "stream",
     "text": [
      "total condition no.: 80\n",
      "total device no.: 80\n",
      "maximum Y (PCE [%]):  16.24\n"
     ]
    },
    {
     "name": "stderr",
     "output_type": "stream",
     "text": [
      "reconstraining parameters Mat52.lengthscale\n",
      "reconstraining parameters Mat52.variance\n"
     ]
    },
    {
     "name": "stdout",
     "output_type": "stream",
     "text": [
      "total condition no.: 100\n",
      "total device no.: 100\n",
      "maximum Y (PCE [%]):  16.24\n"
     ]
    },
    {
     "name": "stderr",
     "output_type": "stream",
     "text": [
      "reconstraining parameters Mat52.lengthscale\n",
      "reconstraining parameters Mat52.variance\n"
     ]
    },
    {
     "name": "stdout",
     "output_type": "stream",
     "text": [
      "total condition no.: 120\n",
      "total device no.: 120\n",
      "maximum Y (PCE [%]):  16.66\n"
     ]
    },
    {
     "name": "stderr",
     "output_type": "stream",
     "text": [
      "reconstraining parameters Mat52.lengthscale\n",
      "reconstraining parameters Mat52.variance\n"
     ]
    },
    {
     "name": "stdout",
     "output_type": "stream",
     "text": [
      "total condition no.: 140\n",
      "total device no.: 140\n",
      "maximum Y (PCE [%]):  16.66\n"
     ]
    },
    {
     "name": "stderr",
     "output_type": "stream",
     "text": [
      "reconstraining parameters Mat52.lengthscale\n",
      "reconstraining parameters Mat52.variance\n"
     ]
    },
    {
     "name": "stdout",
     "output_type": "stream",
     "text": [
      "total condition no.: 160\n",
      "total device no.: 160\n",
      "maximum Y (PCE [%]):  16.66\n"
     ]
    },
    {
     "name": "stderr",
     "output_type": "stream",
     "text": [
      "reconstraining parameters Mat52.lengthscale\n",
      "reconstraining parameters Mat52.variance\n"
     ]
    },
    {
     "name": "stdout",
     "output_type": "stream",
     "text": [
      "total condition no.: 180\n",
      "total device no.: 180\n",
      "maximum Y (PCE [%]):  16.66\n"
     ]
    },
    {
     "name": "stderr",
     "output_type": "stream",
     "text": [
      "reconstraining parameters Mat52.lengthscale\n",
      "reconstraining parameters Mat52.variance\n"
     ]
    },
    {
     "name": "stdout",
     "output_type": "stream",
     "text": [
      "total condition no.: 200\n",
      "total device no.: 200\n",
      "maximum Y (PCE [%]):  16.66\n"
     ]
    },
    {
     "name": "stderr",
     "output_type": "stream",
     "text": [
      "reconstraining parameters Mat52.lengthscale\n",
      "reconstraining parameters Mat52.variance\n"
     ]
    },
    {
     "name": "stdout",
     "output_type": "stream",
     "text": [
      "total condition no.: 220\n",
      "total device no.: 220\n",
      "maximum Y (PCE [%]):  16.66\n"
     ]
    },
    {
     "name": "stderr",
     "output_type": "stream",
     "text": [
      "reconstraining parameters Mat52.lengthscale\n",
      "reconstraining parameters Mat52.variance\n"
     ]
    },
    {
     "name": "stdout",
     "output_type": "stream",
     "text": [
      "total condition no.: 240\n",
      "total device no.: 240\n",
      "maximum Y (PCE [%]):  16.66\n"
     ]
    },
    {
     "name": "stderr",
     "output_type": "stream",
     "text": [
      "reconstraining parameters Mat52.lengthscale\n",
      "reconstraining parameters Mat52.variance\n"
     ]
    },
    {
     "name": "stdout",
     "output_type": "stream",
     "text": [
      "total condition no.: 260\n",
      "total device no.: 260\n",
      "maximum Y (PCE [%]):  17.05\n"
     ]
    },
    {
     "name": "stderr",
     "output_type": "stream",
     "text": [
      "reconstraining parameters Mat52.lengthscale\n",
      "reconstraining parameters Mat52.variance\n"
     ]
    },
    {
     "name": "stdout",
     "output_type": "stream",
     "text": [
      "total condition no.: 280\n",
      "total device no.: 280\n",
      "maximum Y (PCE [%]):  17.05\n"
     ]
    },
    {
     "name": "stderr",
     "output_type": "stream",
     "text": [
      "reconstraining parameters Mat52.lengthscale\n",
      "reconstraining parameters Mat52.variance\n"
     ]
    },
    {
     "name": "stdout",
     "output_type": "stream",
     "text": [
      "total condition no.: 300\n",
      "total device no.: 300\n",
      "maximum Y (PCE [%]):  17.05\n"
     ]
    },
    {
     "name": "stderr",
     "output_type": "stream",
     "text": [
      "reconstraining parameters Mat52.lengthscale\n"
     ]
    },
    {
     "name": "stdout",
     "output_type": "stream",
     "text": [
      "     Temperature [°C]  Speed [mm/s]  Spray Flow [uL/min]  Plamsa Height [cm]  \\\n",
      "247        142.417255    131.688906          2951.649472            1.101327   \n",
      "\n",
      "     Plasma Gas Flow [L/min]  Plasma DC [%]  Efficiency [%]  \n",
      "247                16.221296           25.0       17.053723  \n"
     ]
    },
    {
     "name": "stderr",
     "output_type": "stream",
     "text": [
      "reconstraining parameters Mat52.variance\n",
      "reconstraining parameters Mat52.lengthscale\n",
      "reconstraining parameters Mat52.variance\n"
     ]
    },
    {
     "name": "stdout",
     "output_type": "stream",
     "text": [
      "total condition no.: 20\n",
      "total device no.: 20\n",
      "maximum Y (PCE [%]):  14.93\n",
      "total condition no.: 40\n",
      "total device no.: 40\n",
      "maximum Y (PCE [%]):  15.83\n"
     ]
    },
    {
     "name": "stderr",
     "output_type": "stream",
     "text": [
      "reconstraining parameters Mat52.lengthscale\n",
      "reconstraining parameters Mat52.variance\n"
     ]
    },
    {
     "name": "stdout",
     "output_type": "stream",
     "text": [
      "total condition no.: 60\n",
      "total device no.: 60\n",
      "maximum Y (PCE [%]):  15.83\n"
     ]
    },
    {
     "name": "stderr",
     "output_type": "stream",
     "text": [
      "reconstraining parameters Mat52.lengthscale\n",
      "reconstraining parameters Mat52.variance\n"
     ]
    },
    {
     "name": "stdout",
     "output_type": "stream",
     "text": [
      "total condition no.: 80\n",
      "total device no.: 80\n",
      "maximum Y (PCE [%]):  15.83\n"
     ]
    },
    {
     "name": "stderr",
     "output_type": "stream",
     "text": [
      "reconstraining parameters Mat52.lengthscale\n",
      "reconstraining parameters Mat52.variance\n"
     ]
    },
    {
     "name": "stdout",
     "output_type": "stream",
     "text": [
      "total condition no.: 100\n",
      "total device no.: 100\n",
      "maximum Y (PCE [%]):  16.06\n"
     ]
    },
    {
     "name": "stderr",
     "output_type": "stream",
     "text": [
      "reconstraining parameters Mat52.lengthscale\n",
      "reconstraining parameters Mat52.variance\n"
     ]
    },
    {
     "name": "stdout",
     "output_type": "stream",
     "text": [
      "total condition no.: 120\n",
      "total device no.: 120\n",
      "maximum Y (PCE [%]):  16.06\n"
     ]
    },
    {
     "name": "stderr",
     "output_type": "stream",
     "text": [
      "reconstraining parameters Mat52.lengthscale\n",
      "reconstraining parameters Mat52.variance\n"
     ]
    },
    {
     "name": "stdout",
     "output_type": "stream",
     "text": [
      "total condition no.: 140\n",
      "total device no.: 140\n",
      "maximum Y (PCE [%]):  16.06\n"
     ]
    },
    {
     "name": "stderr",
     "output_type": "stream",
     "text": [
      "reconstraining parameters Mat52.lengthscale\n",
      "reconstraining parameters Mat52.variance\n"
     ]
    },
    {
     "name": "stdout",
     "output_type": "stream",
     "text": [
      "total condition no.: 160\n",
      "total device no.: 160\n",
      "maximum Y (PCE [%]):  16.06\n"
     ]
    },
    {
     "name": "stderr",
     "output_type": "stream",
     "text": [
      "reconstraining parameters Mat52.lengthscale\n",
      "reconstraining parameters Mat52.variance\n"
     ]
    },
    {
     "name": "stdout",
     "output_type": "stream",
     "text": [
      "total condition no.: 180\n",
      "total device no.: 180\n",
      "maximum Y (PCE [%]):  16.06\n"
     ]
    },
    {
     "name": "stderr",
     "output_type": "stream",
     "text": [
      "reconstraining parameters Mat52.lengthscale\n",
      "reconstraining parameters Mat52.variance\n"
     ]
    },
    {
     "name": "stdout",
     "output_type": "stream",
     "text": [
      "total condition no.: 200\n",
      "total device no.: 200\n",
      "maximum Y (PCE [%]):  16.1\n"
     ]
    },
    {
     "name": "stderr",
     "output_type": "stream",
     "text": [
      "reconstraining parameters Mat52.lengthscale\n",
      "reconstraining parameters Mat52.variance\n"
     ]
    },
    {
     "name": "stdout",
     "output_type": "stream",
     "text": [
      "total condition no.: 220\n",
      "total device no.: 220\n",
      "maximum Y (PCE [%]):  16.1\n"
     ]
    },
    {
     "name": "stderr",
     "output_type": "stream",
     "text": [
      "reconstraining parameters Mat52.lengthscale\n",
      "reconstraining parameters Mat52.variance\n"
     ]
    },
    {
     "name": "stdout",
     "output_type": "stream",
     "text": [
      "total condition no.: 240\n",
      "total device no.: 240\n",
      "maximum Y (PCE [%]):  16.11\n"
     ]
    },
    {
     "name": "stderr",
     "output_type": "stream",
     "text": [
      "reconstraining parameters Mat52.lengthscale\n",
      "reconstraining parameters Mat52.variance\n"
     ]
    },
    {
     "name": "stdout",
     "output_type": "stream",
     "text": [
      "total condition no.: 260\n",
      "total device no.: 260\n",
      "maximum Y (PCE [%]):  16.62\n"
     ]
    },
    {
     "name": "stderr",
     "output_type": "stream",
     "text": [
      "reconstraining parameters Mat52.lengthscale\n",
      "reconstraining parameters Mat52.variance\n"
     ]
    },
    {
     "name": "stdout",
     "output_type": "stream",
     "text": [
      "total condition no.: 280\n",
      "total device no.: 280\n",
      "maximum Y (PCE [%]):  16.62\n"
     ]
    },
    {
     "name": "stderr",
     "output_type": "stream",
     "text": [
      "reconstraining parameters Mat52.lengthscale\n",
      "reconstraining parameters Mat52.variance\n"
     ]
    },
    {
     "name": "stdout",
     "output_type": "stream",
     "text": [
      "total condition no.: 300\n",
      "total device no.: 300\n",
      "maximum Y (PCE [%]):  16.64\n",
      "     Temperature [°C]  Speed [mm/s]  Spray Flow [uL/min]  Plamsa Height [cm]  \\\n",
      "300        143.369688    182.650792          3780.498881            1.061567   \n",
      "\n",
      "     Plasma Gas Flow [L/min]  Plasma DC [%]  Efficiency [%]  \n",
      "300                     15.0      57.741206       16.652023  \n"
     ]
    },
    {
     "name": "stderr",
     "output_type": "stream",
     "text": [
      "reconstraining parameters Mat52.lengthscale\n",
      "reconstraining parameters Mat52.variance\n",
      "reconstraining parameters Mat52.lengthscale\n",
      "reconstraining parameters Mat52.variance\n"
     ]
    },
    {
     "name": "stdout",
     "output_type": "stream",
     "text": [
      "total condition no.: 20\n",
      "total device no.: 20\n",
      "maximum Y (PCE [%]):  14.22\n",
      "total condition no.: 40\n",
      "total device no.: 40\n",
      "maximum Y (PCE [%]):  15.73\n"
     ]
    },
    {
     "name": "stderr",
     "output_type": "stream",
     "text": [
      "reconstraining parameters Mat52.lengthscale\n",
      "reconstraining parameters Mat52.variance\n"
     ]
    },
    {
     "name": "stdout",
     "output_type": "stream",
     "text": [
      "total condition no.: 60\n",
      "total device no.: 60\n",
      "maximum Y (PCE [%]):  15.85\n"
     ]
    },
    {
     "name": "stderr",
     "output_type": "stream",
     "text": [
      "reconstraining parameters Mat52.lengthscale\n",
      "reconstraining parameters Mat52.variance\n"
     ]
    },
    {
     "name": "stdout",
     "output_type": "stream",
     "text": [
      "total condition no.: 80\n",
      "total device no.: 80\n",
      "maximum Y (PCE [%]):  16.06\n"
     ]
    },
    {
     "name": "stderr",
     "output_type": "stream",
     "text": [
      "reconstraining parameters Mat52.lengthscale\n",
      "reconstraining parameters Mat52.variance\n"
     ]
    },
    {
     "name": "stdout",
     "output_type": "stream",
     "text": [
      "total condition no.: 100\n",
      "total device no.: 100\n",
      "maximum Y (PCE [%]):  16.16\n"
     ]
    },
    {
     "name": "stderr",
     "output_type": "stream",
     "text": [
      "reconstraining parameters Mat52.lengthscale\n",
      "reconstraining parameters Mat52.variance\n"
     ]
    },
    {
     "name": "stdout",
     "output_type": "stream",
     "text": [
      "total condition no.: 120\n",
      "total device no.: 120\n",
      "maximum Y (PCE [%]):  16.58\n"
     ]
    },
    {
     "name": "stderr",
     "output_type": "stream",
     "text": [
      "reconstraining parameters Mat52.lengthscale\n",
      "reconstraining parameters Mat52.variance\n"
     ]
    },
    {
     "name": "stdout",
     "output_type": "stream",
     "text": [
      "total condition no.: 140\n",
      "total device no.: 140\n",
      "maximum Y (PCE [%]):  16.58\n"
     ]
    },
    {
     "name": "stderr",
     "output_type": "stream",
     "text": [
      "reconstraining parameters Mat52.lengthscale\n",
      "reconstraining parameters Mat52.variance\n"
     ]
    },
    {
     "name": "stdout",
     "output_type": "stream",
     "text": [
      "total condition no.: 160\n",
      "total device no.: 160\n",
      "maximum Y (PCE [%]):  16.58\n"
     ]
    },
    {
     "name": "stderr",
     "output_type": "stream",
     "text": [
      "reconstraining parameters Mat52.lengthscale\n",
      "reconstraining parameters Mat52.variance\n"
     ]
    },
    {
     "name": "stdout",
     "output_type": "stream",
     "text": [
      "total condition no.: 180\n",
      "total device no.: 180\n",
      "maximum Y (PCE [%]):  16.58\n"
     ]
    },
    {
     "name": "stderr",
     "output_type": "stream",
     "text": [
      "reconstraining parameters Mat52.lengthscale\n",
      "reconstraining parameters Mat52.variance\n"
     ]
    },
    {
     "name": "stdout",
     "output_type": "stream",
     "text": [
      "total condition no.: 200\n",
      "total device no.: 200\n",
      "maximum Y (PCE [%]):  16.63\n"
     ]
    },
    {
     "name": "stderr",
     "output_type": "stream",
     "text": [
      "reconstraining parameters Mat52.lengthscale\n",
      "reconstraining parameters Mat52.variance\n"
     ]
    },
    {
     "name": "stdout",
     "output_type": "stream",
     "text": [
      "total condition no.: 220\n",
      "total device no.: 220\n",
      "maximum Y (PCE [%]):  16.65\n"
     ]
    },
    {
     "name": "stderr",
     "output_type": "stream",
     "text": [
      "reconstraining parameters Mat52.lengthscale\n",
      "reconstraining parameters Mat52.variance\n"
     ]
    },
    {
     "name": "stdout",
     "output_type": "stream",
     "text": [
      "total condition no.: 240\n",
      "total device no.: 240\n",
      "maximum Y (PCE [%]):  16.65\n"
     ]
    },
    {
     "name": "stderr",
     "output_type": "stream",
     "text": [
      "reconstraining parameters Mat52.lengthscale\n",
      "reconstraining parameters Mat52.variance\n"
     ]
    },
    {
     "name": "stdout",
     "output_type": "stream",
     "text": [
      "total condition no.: 260\n",
      "total device no.: 260\n",
      "maximum Y (PCE [%]):  16.65\n"
     ]
    },
    {
     "name": "stderr",
     "output_type": "stream",
     "text": [
      "reconstraining parameters Mat52.lengthscale\n",
      "reconstraining parameters Mat52.variance\n"
     ]
    },
    {
     "name": "stdout",
     "output_type": "stream",
     "text": [
      "total condition no.: 280\n",
      "total device no.: 280\n",
      "maximum Y (PCE [%]):  16.65\n"
     ]
    },
    {
     "name": "stderr",
     "output_type": "stream",
     "text": [
      "reconstraining parameters Mat52.lengthscale\n",
      "reconstraining parameters Mat52.variance\n"
     ]
    },
    {
     "name": "stdout",
     "output_type": "stream",
     "text": [
      "total condition no.: 300\n",
      "total device no.: 300\n",
      "maximum Y (PCE [%]):  16.65\n"
     ]
    },
    {
     "name": "stderr",
     "output_type": "stream",
     "text": [
      "reconstraining parameters Mat52.lengthscale\n",
      "reconstraining parameters Mat52.variance\n"
     ]
    },
    {
     "name": "stdout",
     "output_type": "stream",
     "text": [
      "     Temperature [°C]  Speed [mm/s]  Spray Flow [uL/min]  Plamsa Height [cm]  \\\n",
      "210        144.629076    177.761133          3806.176225            1.067632   \n",
      "\n",
      "     Plasma Gas Flow [L/min]  Plasma DC [%]  Efficiency [%]  \n",
      "210                     15.0      55.903473       16.645365  \n",
      "total condition no.: 20\n",
      "total device no.: 20\n",
      "maximum Y (PCE [%]):  14.67\n"
     ]
    },
    {
     "name": "stderr",
     "output_type": "stream",
     "text": [
      "reconstraining parameters Mat52.lengthscale\n",
      "reconstraining parameters Mat52.variance\n"
     ]
    },
    {
     "name": "stdout",
     "output_type": "stream",
     "text": [
      "total condition no.: 40\n",
      "total device no.: 40\n",
      "maximum Y (PCE [%]):  14.85\n"
     ]
    },
    {
     "name": "stderr",
     "output_type": "stream",
     "text": [
      "reconstraining parameters Mat52.lengthscale\n",
      "reconstraining parameters Mat52.variance\n"
     ]
    },
    {
     "name": "stdout",
     "output_type": "stream",
     "text": [
      "total condition no.: 60\n",
      "total device no.: 60\n",
      "maximum Y (PCE [%]):  15.17\n"
     ]
    },
    {
     "name": "stderr",
     "output_type": "stream",
     "text": [
      "reconstraining parameters Mat52.lengthscale\n",
      "reconstraining parameters Mat52.variance\n"
     ]
    },
    {
     "name": "stdout",
     "output_type": "stream",
     "text": [
      "total condition no.: 80\n",
      "total device no.: 80\n",
      "maximum Y (PCE [%]):  15.59\n"
     ]
    },
    {
     "name": "stderr",
     "output_type": "stream",
     "text": [
      "reconstraining parameters Mat52.lengthscale\n",
      "reconstraining parameters Mat52.variance\n"
     ]
    },
    {
     "name": "stdout",
     "output_type": "stream",
     "text": [
      "total condition no.: 100\n",
      "total device no.: 100\n",
      "maximum Y (PCE [%]):  15.68\n"
     ]
    },
    {
     "name": "stderr",
     "output_type": "stream",
     "text": [
      "reconstraining parameters Mat52.lengthscale\n",
      "reconstraining parameters Mat52.variance\n"
     ]
    },
    {
     "name": "stdout",
     "output_type": "stream",
     "text": [
      "total condition no.: 120\n",
      "total device no.: 120\n",
      "maximum Y (PCE [%]):  16.48\n"
     ]
    },
    {
     "name": "stderr",
     "output_type": "stream",
     "text": [
      "reconstraining parameters Mat52.lengthscale\n",
      "reconstraining parameters Mat52.variance\n"
     ]
    },
    {
     "name": "stdout",
     "output_type": "stream",
     "text": [
      "total condition no.: 140\n",
      "total device no.: 140\n",
      "maximum Y (PCE [%]):  16.48\n"
     ]
    },
    {
     "name": "stderr",
     "output_type": "stream",
     "text": [
      "reconstraining parameters Mat52.lengthscale\n",
      "reconstraining parameters Mat52.variance\n"
     ]
    },
    {
     "name": "stdout",
     "output_type": "stream",
     "text": [
      "total condition no.: 160\n",
      "total device no.: 160\n",
      "maximum Y (PCE [%]):  16.48\n"
     ]
    },
    {
     "name": "stderr",
     "output_type": "stream",
     "text": [
      "reconstraining parameters Mat52.lengthscale\n",
      "reconstraining parameters Mat52.variance\n"
     ]
    },
    {
     "name": "stdout",
     "output_type": "stream",
     "text": [
      "total condition no.: 180\n",
      "total device no.: 180\n",
      "maximum Y (PCE [%]):  16.48\n"
     ]
    },
    {
     "name": "stderr",
     "output_type": "stream",
     "text": [
      "reconstraining parameters Mat52.lengthscale\n",
      "reconstraining parameters Mat52.variance\n"
     ]
    },
    {
     "name": "stdout",
     "output_type": "stream",
     "text": [
      "total condition no.: 200\n",
      "total device no.: 200\n",
      "maximum Y (PCE [%]):  16.85\n"
     ]
    },
    {
     "name": "stderr",
     "output_type": "stream",
     "text": [
      "reconstraining parameters Mat52.lengthscale\n",
      "reconstraining parameters Mat52.variance\n"
     ]
    },
    {
     "name": "stdout",
     "output_type": "stream",
     "text": [
      "total condition no.: 220\n",
      "total device no.: 220\n",
      "maximum Y (PCE [%]):  17.12\n"
     ]
    },
    {
     "name": "stderr",
     "output_type": "stream",
     "text": [
      "reconstraining parameters Mat52.lengthscale\n",
      "reconstraining parameters Mat52.variance\n"
     ]
    },
    {
     "name": "stdout",
     "output_type": "stream",
     "text": [
      "total condition no.: 240\n",
      "total device no.: 240\n",
      "maximum Y (PCE [%]):  17.39\n"
     ]
    },
    {
     "name": "stderr",
     "output_type": "stream",
     "text": [
      "reconstraining parameters Mat52.lengthscale\n",
      "reconstraining parameters Mat52.variance\n"
     ]
    },
    {
     "name": "stdout",
     "output_type": "stream",
     "text": [
      "total condition no.: 260\n",
      "total device no.: 260\n",
      "maximum Y (PCE [%]):  17.39\n"
     ]
    },
    {
     "name": "stderr",
     "output_type": "stream",
     "text": [
      "reconstraining parameters Mat52.lengthscale\n",
      "reconstraining parameters Mat52.variance\n"
     ]
    },
    {
     "name": "stdout",
     "output_type": "stream",
     "text": [
      "total condition no.: 280\n",
      "total device no.: 280\n",
      "maximum Y (PCE [%]):  17.39\n"
     ]
    },
    {
     "name": "stderr",
     "output_type": "stream",
     "text": [
      "reconstraining parameters Mat52.lengthscale\n",
      "reconstraining parameters Mat52.variance\n"
     ]
    },
    {
     "name": "stdout",
     "output_type": "stream",
     "text": [
      "total condition no.: 300\n",
      "total device no.: 300\n",
      "maximum Y (PCE [%]):  17.39\n"
     ]
    },
    {
     "name": "stderr",
     "output_type": "stream",
     "text": [
      "reconstraining parameters Mat52.lengthscale\n",
      "reconstraining parameters Mat52.variance\n"
     ]
    },
    {
     "name": "stdout",
     "output_type": "stream",
     "text": [
      "     Temperature [°C]  Speed [mm/s]  Spray Flow [uL/min]  Plamsa Height [cm]  \\\n",
      "224        143.292154    145.168202          3345.904002            1.113117   \n",
      "\n",
      "     Plasma Gas Flow [L/min]  Plasma DC [%]  Efficiency [%]  \n",
      "224                     15.0      28.069821       17.391092  \n",
      "total condition no.: 20\n",
      "total device no.: 20\n",
      "maximum Y (PCE [%]):  14.91\n"
     ]
    },
    {
     "name": "stderr",
     "output_type": "stream",
     "text": [
      "reconstraining parameters Mat52.lengthscale\n",
      "reconstraining parameters Mat52.variance\n"
     ]
    },
    {
     "name": "stdout",
     "output_type": "stream",
     "text": [
      "total condition no.: 40\n",
      "total device no.: 40\n",
      "maximum Y (PCE [%]):  16.75\n"
     ]
    },
    {
     "name": "stderr",
     "output_type": "stream",
     "text": [
      "reconstraining parameters Mat52.lengthscale\n",
      "reconstraining parameters Mat52.variance\n"
     ]
    },
    {
     "name": "stdout",
     "output_type": "stream",
     "text": [
      "total condition no.: 60\n",
      "total device no.: 60\n",
      "maximum Y (PCE [%]):  16.77\n"
     ]
    },
    {
     "name": "stderr",
     "output_type": "stream",
     "text": [
      "reconstraining parameters Mat52.lengthscale\n",
      "reconstraining parameters Mat52.variance\n"
     ]
    },
    {
     "name": "stdout",
     "output_type": "stream",
     "text": [
      "total condition no.: 80\n",
      "total device no.: 80\n",
      "maximum Y (PCE [%]):  17.0\n"
     ]
    },
    {
     "name": "stderr",
     "output_type": "stream",
     "text": [
      "reconstraining parameters Mat52.lengthscale\n",
      "reconstraining parameters Mat52.variance\n"
     ]
    },
    {
     "name": "stdout",
     "output_type": "stream",
     "text": [
      "total condition no.: 100\n",
      "total device no.: 100\n",
      "maximum Y (PCE [%]):  17.21\n"
     ]
    },
    {
     "name": "stderr",
     "output_type": "stream",
     "text": [
      "reconstraining parameters Mat52.lengthscale\n",
      "reconstraining parameters Mat52.variance\n"
     ]
    },
    {
     "name": "stdout",
     "output_type": "stream",
     "text": [
      "total condition no.: 120\n",
      "total device no.: 120\n",
      "maximum Y (PCE [%]):  17.28\n"
     ]
    },
    {
     "name": "stderr",
     "output_type": "stream",
     "text": [
      "reconstraining parameters Mat52.lengthscale\n",
      "reconstraining parameters Mat52.variance\n"
     ]
    },
    {
     "name": "stdout",
     "output_type": "stream",
     "text": [
      "total condition no.: 140\n",
      "total device no.: 140\n",
      "maximum Y (PCE [%]):  17.28\n"
     ]
    },
    {
     "name": "stderr",
     "output_type": "stream",
     "text": [
      "reconstraining parameters Mat52.lengthscale\n",
      "reconstraining parameters Mat52.variance\n"
     ]
    },
    {
     "name": "stdout",
     "output_type": "stream",
     "text": [
      "total condition no.: 160\n",
      "total device no.: 160\n",
      "maximum Y (PCE [%]):  17.28\n"
     ]
    },
    {
     "name": "stderr",
     "output_type": "stream",
     "text": [
      "reconstraining parameters Mat52.lengthscale\n",
      "reconstraining parameters Mat52.variance\n"
     ]
    },
    {
     "name": "stdout",
     "output_type": "stream",
     "text": [
      "total condition no.: 180\n",
      "total device no.: 180\n",
      "maximum Y (PCE [%]):  17.28\n"
     ]
    },
    {
     "name": "stderr",
     "output_type": "stream",
     "text": [
      "reconstraining parameters Mat52.lengthscale\n",
      "reconstraining parameters Mat52.variance\n"
     ]
    },
    {
     "name": "stdout",
     "output_type": "stream",
     "text": [
      "total condition no.: 200\n",
      "total device no.: 200\n",
      "maximum Y (PCE [%]):  17.29\n"
     ]
    },
    {
     "name": "stderr",
     "output_type": "stream",
     "text": [
      "reconstraining parameters Mat52.lengthscale\n",
      "reconstraining parameters Mat52.variance\n"
     ]
    },
    {
     "name": "stdout",
     "output_type": "stream",
     "text": [
      "total condition no.: 220\n",
      "total device no.: 220\n",
      "maximum Y (PCE [%]):  17.29\n"
     ]
    },
    {
     "name": "stderr",
     "output_type": "stream",
     "text": [
      "reconstraining parameters Mat52.lengthscale\n",
      "reconstraining parameters Mat52.variance\n"
     ]
    },
    {
     "name": "stdout",
     "output_type": "stream",
     "text": [
      "total condition no.: 240\n",
      "total device no.: 240\n",
      "maximum Y (PCE [%]):  17.29\n"
     ]
    },
    {
     "name": "stderr",
     "output_type": "stream",
     "text": [
      "reconstraining parameters Mat52.lengthscale\n",
      "reconstraining parameters Mat52.variance\n"
     ]
    },
    {
     "name": "stdout",
     "output_type": "stream",
     "text": [
      "total condition no.: 260\n",
      "total device no.: 260\n",
      "maximum Y (PCE [%]):  17.29\n"
     ]
    },
    {
     "name": "stderr",
     "output_type": "stream",
     "text": [
      "reconstraining parameters Mat52.lengthscale\n",
      "reconstraining parameters Mat52.variance\n"
     ]
    },
    {
     "name": "stdout",
     "output_type": "stream",
     "text": [
      "total condition no.: 280\n",
      "total device no.: 280\n",
      "maximum Y (PCE [%]):  17.34\n"
     ]
    },
    {
     "name": "stderr",
     "output_type": "stream",
     "text": [
      "reconstraining parameters Mat52.lengthscale\n",
      "reconstraining parameters Mat52.variance\n"
     ]
    },
    {
     "name": "stdout",
     "output_type": "stream",
     "text": [
      "total condition no.: 300\n",
      "total device no.: 300\n",
      "maximum Y (PCE [%]):  17.34\n"
     ]
    },
    {
     "name": "stderr",
     "output_type": "stream",
     "text": [
      "reconstraining parameters Mat52.lengthscale\n",
      "reconstraining parameters Mat52.variance\n"
     ]
    },
    {
     "name": "stdout",
     "output_type": "stream",
     "text": [
      "     Temperature [°C]  Speed [mm/s]  Spray Flow [uL/min]  Plamsa Height [cm]  \\\n",
      "309        144.739961    129.497268          3154.532159            1.062285   \n",
      "\n",
      "     Plasma Gas Flow [L/min]  Plasma DC [%]  Efficiency [%]  \n",
      "309                     15.0      29.050426       17.357167  \n"
     ]
    },
    {
     "name": "stderr",
     "output_type": "stream",
     "text": [
      "reconstraining parameters Mat52.lengthscale\n",
      "reconstraining parameters Mat52.variance\n"
     ]
    },
    {
     "name": "stdout",
     "output_type": "stream",
     "text": [
      "total condition no.: 20\n",
      "total device no.: 20\n",
      "maximum Y (PCE [%]):  15.04\n",
      "total condition no.: 40\n",
      "total device no.: 40\n",
      "maximum Y (PCE [%]):  16.24\n"
     ]
    },
    {
     "name": "stderr",
     "output_type": "stream",
     "text": [
      "reconstraining parameters Mat52.lengthscale\n",
      "reconstraining parameters Mat52.variance\n"
     ]
    },
    {
     "name": "stdout",
     "output_type": "stream",
     "text": [
      "total condition no.: 60\n",
      "total device no.: 60\n",
      "maximum Y (PCE [%]):  16.66\n"
     ]
    },
    {
     "name": "stderr",
     "output_type": "stream",
     "text": [
      "reconstraining parameters Mat52.lengthscale\n",
      "reconstraining parameters Mat52.variance\n"
     ]
    },
    {
     "name": "stdout",
     "output_type": "stream",
     "text": [
      "total condition no.: 80\n",
      "total device no.: 80\n",
      "maximum Y (PCE [%]):  17.12\n"
     ]
    },
    {
     "name": "stderr",
     "output_type": "stream",
     "text": [
      "reconstraining parameters Mat52.lengthscale\n",
      "reconstraining parameters Mat52.variance\n"
     ]
    },
    {
     "name": "stdout",
     "output_type": "stream",
     "text": [
      "total condition no.: 100\n",
      "total device no.: 100\n",
      "maximum Y (PCE [%]):  17.17\n"
     ]
    },
    {
     "name": "stderr",
     "output_type": "stream",
     "text": [
      "reconstraining parameters Mat52.lengthscale\n",
      "reconstraining parameters Mat52.variance\n"
     ]
    },
    {
     "name": "stdout",
     "output_type": "stream",
     "text": [
      "total condition no.: 120\n",
      "total device no.: 120\n",
      "maximum Y (PCE [%]):  17.35\n"
     ]
    },
    {
     "name": "stderr",
     "output_type": "stream",
     "text": [
      "reconstraining parameters Mat52.lengthscale\n",
      "reconstraining parameters Mat52.variance\n"
     ]
    },
    {
     "name": "stdout",
     "output_type": "stream",
     "text": [
      "total condition no.: 140\n",
      "total device no.: 140\n",
      "maximum Y (PCE [%]):  17.35\n"
     ]
    },
    {
     "name": "stderr",
     "output_type": "stream",
     "text": [
      "reconstraining parameters Mat52.lengthscale\n",
      "reconstraining parameters Mat52.variance\n"
     ]
    },
    {
     "name": "stdout",
     "output_type": "stream",
     "text": [
      "total condition no.: 160\n",
      "total device no.: 160\n",
      "maximum Y (PCE [%]):  17.35\n"
     ]
    },
    {
     "name": "stderr",
     "output_type": "stream",
     "text": [
      "reconstraining parameters Mat52.lengthscale\n",
      "reconstraining parameters Mat52.variance\n"
     ]
    },
    {
     "name": "stdout",
     "output_type": "stream",
     "text": [
      "total condition no.: 180\n",
      "total device no.: 180\n",
      "maximum Y (PCE [%]):  17.35\n"
     ]
    },
    {
     "name": "stderr",
     "output_type": "stream",
     "text": [
      "reconstraining parameters Mat52.lengthscale\n",
      "reconstraining parameters Mat52.variance\n"
     ]
    },
    {
     "name": "stdout",
     "output_type": "stream",
     "text": [
      "total condition no.: 200\n",
      "total device no.: 200\n",
      "maximum Y (PCE [%]):  17.35\n"
     ]
    },
    {
     "name": "stderr",
     "output_type": "stream",
     "text": [
      "reconstraining parameters Mat52.lengthscale\n",
      "reconstraining parameters Mat52.variance\n"
     ]
    },
    {
     "name": "stdout",
     "output_type": "stream",
     "text": [
      "total condition no.: 220\n",
      "total device no.: 220\n",
      "maximum Y (PCE [%]):  17.37\n"
     ]
    },
    {
     "name": "stderr",
     "output_type": "stream",
     "text": [
      "reconstraining parameters Mat52.lengthscale\n",
      "reconstraining parameters Mat52.variance\n"
     ]
    },
    {
     "name": "stdout",
     "output_type": "stream",
     "text": [
      "total condition no.: 240\n",
      "total device no.: 240\n",
      "maximum Y (PCE [%]):  17.37\n"
     ]
    },
    {
     "name": "stderr",
     "output_type": "stream",
     "text": [
      "reconstraining parameters Mat52.lengthscale\n",
      "reconstraining parameters Mat52.variance\n"
     ]
    },
    {
     "name": "stdout",
     "output_type": "stream",
     "text": [
      "total condition no.: 260\n",
      "total device no.: 260\n",
      "maximum Y (PCE [%]):  17.37\n"
     ]
    },
    {
     "name": "stderr",
     "output_type": "stream",
     "text": [
      "reconstraining parameters Mat52.lengthscale\n",
      "reconstraining parameters Mat52.variance\n"
     ]
    },
    {
     "name": "stdout",
     "output_type": "stream",
     "text": [
      "total condition no.: 280\n",
      "total device no.: 280\n",
      "maximum Y (PCE [%]):  17.37\n"
     ]
    },
    {
     "name": "stderr",
     "output_type": "stream",
     "text": [
      "reconstraining parameters Mat52.lengthscale\n",
      "reconstraining parameters Mat52.variance\n"
     ]
    },
    {
     "name": "stdout",
     "output_type": "stream",
     "text": [
      "total condition no.: 300\n",
      "total device no.: 300\n",
      "maximum Y (PCE [%]):  17.37\n",
      "     Temperature [°C]  Speed [mm/s]  Spray Flow [uL/min]  Plamsa Height [cm]  \\\n",
      "273        144.389684    144.617207          3334.000928            1.075361   \n",
      "\n",
      "     Plasma Gas Flow [L/min]  Plasma DC [%]  Efficiency [%]  \n",
      "273                15.618806      28.170135       17.371328  \n"
     ]
    },
    {
     "name": "stderr",
     "output_type": "stream",
     "text": [
      "reconstraining parameters Mat52.lengthscale\n",
      "reconstraining parameters Mat52.variance\n",
      "reconstraining parameters Mat52.lengthscale\n",
      "reconstraining parameters Mat52.variance\n"
     ]
    },
    {
     "name": "stdout",
     "output_type": "stream",
     "text": [
      "total condition no.: 20\n",
      "total device no.: 20\n",
      "maximum Y (PCE [%]):  14.15\n",
      "total condition no.: 40\n",
      "total device no.: 40\n",
      "maximum Y (PCE [%]):  14.79\n"
     ]
    },
    {
     "name": "stderr",
     "output_type": "stream",
     "text": [
      "reconstraining parameters Mat52.lengthscale\n",
      "reconstraining parameters Mat52.variance\n"
     ]
    },
    {
     "name": "stdout",
     "output_type": "stream",
     "text": [
      "total condition no.: 60\n",
      "total device no.: 60\n",
      "maximum Y (PCE [%]):  14.79\n"
     ]
    },
    {
     "name": "stderr",
     "output_type": "stream",
     "text": [
      "reconstraining parameters Mat52.lengthscale\n",
      "reconstraining parameters Mat52.variance\n"
     ]
    },
    {
     "name": "stdout",
     "output_type": "stream",
     "text": [
      "total condition no.: 80\n",
      "total device no.: 80\n",
      "maximum Y (PCE [%]):  15.23\n"
     ]
    },
    {
     "name": "stderr",
     "output_type": "stream",
     "text": [
      "reconstraining parameters Mat52.lengthscale\n",
      "reconstraining parameters Mat52.variance\n"
     ]
    },
    {
     "name": "stdout",
     "output_type": "stream",
     "text": [
      "total condition no.: 100\n",
      "total device no.: 100\n",
      "maximum Y (PCE [%]):  15.23\n"
     ]
    },
    {
     "name": "stderr",
     "output_type": "stream",
     "text": [
      "reconstraining parameters Mat52.lengthscale\n",
      "reconstraining parameters Mat52.variance\n"
     ]
    },
    {
     "name": "stdout",
     "output_type": "stream",
     "text": [
      "total condition no.: 120\n",
      "total device no.: 120\n",
      "maximum Y (PCE [%]):  15.4\n"
     ]
    },
    {
     "name": "stderr",
     "output_type": "stream",
     "text": [
      "reconstraining parameters Mat52.lengthscale\n",
      "reconstraining parameters Mat52.variance\n"
     ]
    },
    {
     "name": "stdout",
     "output_type": "stream",
     "text": [
      "total condition no.: 140\n",
      "total device no.: 140\n",
      "maximum Y (PCE [%]):  15.95\n"
     ]
    },
    {
     "name": "stderr",
     "output_type": "stream",
     "text": [
      "reconstraining parameters Mat52.lengthscale\n",
      "reconstraining parameters Mat52.variance\n"
     ]
    },
    {
     "name": "stdout",
     "output_type": "stream",
     "text": [
      "total condition no.: 160\n",
      "total device no.: 160\n",
      "maximum Y (PCE [%]):  15.99\n"
     ]
    },
    {
     "name": "stderr",
     "output_type": "stream",
     "text": [
      "reconstraining parameters Mat52.lengthscale\n",
      "reconstraining parameters Mat52.variance\n"
     ]
    },
    {
     "name": "stdout",
     "output_type": "stream",
     "text": [
      "total condition no.: 180\n",
      "total device no.: 180\n",
      "maximum Y (PCE [%]):  16.03\n"
     ]
    },
    {
     "name": "stderr",
     "output_type": "stream",
     "text": [
      "reconstraining parameters Mat52.lengthscale\n",
      "reconstraining parameters Mat52.variance\n"
     ]
    },
    {
     "name": "stdout",
     "output_type": "stream",
     "text": [
      "total condition no.: 200\n",
      "total device no.: 200\n",
      "maximum Y (PCE [%]):  16.03\n"
     ]
    },
    {
     "name": "stderr",
     "output_type": "stream",
     "text": [
      "reconstraining parameters Mat52.lengthscale\n",
      "reconstraining parameters Mat52.variance\n"
     ]
    },
    {
     "name": "stdout",
     "output_type": "stream",
     "text": [
      "total condition no.: 220\n",
      "total device no.: 220\n",
      "maximum Y (PCE [%]):  16.36\n"
     ]
    },
    {
     "name": "stderr",
     "output_type": "stream",
     "text": [
      "reconstraining parameters Mat52.lengthscale\n",
      "reconstraining parameters Mat52.variance\n"
     ]
    },
    {
     "name": "stdout",
     "output_type": "stream",
     "text": [
      "total condition no.: 240\n",
      "total device no.: 240\n",
      "maximum Y (PCE [%]):  16.47\n"
     ]
    },
    {
     "name": "stderr",
     "output_type": "stream",
     "text": [
      "reconstraining parameters Mat52.lengthscale\n",
      "reconstraining parameters Mat52.variance\n"
     ]
    },
    {
     "name": "stdout",
     "output_type": "stream",
     "text": [
      "total condition no.: 260\n",
      "total device no.: 260\n",
      "maximum Y (PCE [%]):  16.7\n"
     ]
    },
    {
     "name": "stderr",
     "output_type": "stream",
     "text": [
      "reconstraining parameters Mat52.lengthscale\n",
      "reconstraining parameters Mat52.variance\n"
     ]
    },
    {
     "name": "stdout",
     "output_type": "stream",
     "text": [
      "total condition no.: 280\n",
      "total device no.: 280\n",
      "maximum Y (PCE [%]):  16.91\n"
     ]
    },
    {
     "name": "stderr",
     "output_type": "stream",
     "text": [
      "reconstraining parameters Mat52.lengthscale\n",
      "reconstraining parameters Mat52.variance\n"
     ]
    },
    {
     "name": "stdout",
     "output_type": "stream",
     "text": [
      "total condition no.: 300\n",
      "total device no.: 300\n",
      "maximum Y (PCE [%]):  16.91\n"
     ]
    },
    {
     "name": "stderr",
     "output_type": "stream",
     "text": [
      "reconstraining parameters Mat52.lengthscale\n",
      "reconstraining parameters Mat52.variance\n"
     ]
    },
    {
     "name": "stdout",
     "output_type": "stream",
     "text": [
      "     Temperature [°C]  Speed [mm/s]  Spray Flow [uL/min]  Plamsa Height [cm]  \\\n",
      "271        136.254389    139.588573          3492.035614                 1.2   \n",
      "\n",
      "     Plasma Gas Flow [L/min]  Plasma DC [%]  Efficiency [%]  \n",
      "271                     15.0       27.09261       16.911335  \n",
      "total condition no.: 20\n",
      "total device no.: 20\n",
      "maximum Y (PCE [%]):  14.1\n"
     ]
    },
    {
     "name": "stderr",
     "output_type": "stream",
     "text": [
      "reconstraining parameters Mat52.lengthscale\n",
      "reconstraining parameters Mat52.variance\n"
     ]
    },
    {
     "name": "stdout",
     "output_type": "stream",
     "text": [
      "total condition no.: 40\n",
      "total device no.: 40\n",
      "maximum Y (PCE [%]):  14.1\n"
     ]
    },
    {
     "name": "stderr",
     "output_type": "stream",
     "text": [
      "reconstraining parameters Mat52.lengthscale\n",
      "reconstraining parameters Mat52.variance\n"
     ]
    },
    {
     "name": "stdout",
     "output_type": "stream",
     "text": [
      "total condition no.: 60\n",
      "total device no.: 60\n",
      "maximum Y (PCE [%]):  15.68\n"
     ]
    },
    {
     "name": "stderr",
     "output_type": "stream",
     "text": [
      "reconstraining parameters Mat52.lengthscale\n",
      "reconstraining parameters Mat52.variance\n"
     ]
    },
    {
     "name": "stdout",
     "output_type": "stream",
     "text": [
      "total condition no.: 80\n",
      "total device no.: 80\n",
      "maximum Y (PCE [%]):  16.03\n"
     ]
    },
    {
     "name": "stderr",
     "output_type": "stream",
     "text": [
      "reconstraining parameters Mat52.lengthscale\n",
      "reconstraining parameters Mat52.variance\n"
     ]
    },
    {
     "name": "stdout",
     "output_type": "stream",
     "text": [
      "total condition no.: 100\n",
      "total device no.: 100\n",
      "maximum Y (PCE [%]):  16.39\n"
     ]
    },
    {
     "name": "stderr",
     "output_type": "stream",
     "text": [
      "reconstraining parameters Mat52.lengthscale\n",
      "reconstraining parameters Mat52.variance\n"
     ]
    },
    {
     "name": "stdout",
     "output_type": "stream",
     "text": [
      "total condition no.: 120\n",
      "total device no.: 120\n",
      "maximum Y (PCE [%]):  16.65\n"
     ]
    },
    {
     "name": "stderr",
     "output_type": "stream",
     "text": [
      "reconstraining parameters Mat52.lengthscale\n",
      "reconstraining parameters Mat52.variance\n"
     ]
    },
    {
     "name": "stdout",
     "output_type": "stream",
     "text": [
      "total condition no.: 140\n",
      "total device no.: 140\n",
      "maximum Y (PCE [%]):  16.66\n"
     ]
    },
    {
     "name": "stderr",
     "output_type": "stream",
     "text": [
      "reconstraining parameters Mat52.lengthscale\n",
      "reconstraining parameters Mat52.variance\n"
     ]
    },
    {
     "name": "stdout",
     "output_type": "stream",
     "text": [
      "total condition no.: 160\n",
      "total device no.: 160\n",
      "maximum Y (PCE [%]):  16.66\n"
     ]
    },
    {
     "name": "stderr",
     "output_type": "stream",
     "text": [
      "reconstraining parameters Mat52.lengthscale\n",
      "reconstraining parameters Mat52.variance\n"
     ]
    },
    {
     "name": "stdout",
     "output_type": "stream",
     "text": [
      "total condition no.: 180\n",
      "total device no.: 180\n",
      "maximum Y (PCE [%]):  16.66\n"
     ]
    },
    {
     "name": "stderr",
     "output_type": "stream",
     "text": [
      "reconstraining parameters Mat52.lengthscale\n",
      "reconstraining parameters Mat52.variance\n"
     ]
    },
    {
     "name": "stdout",
     "output_type": "stream",
     "text": [
      "total condition no.: 200\n",
      "total device no.: 200\n",
      "maximum Y (PCE [%]):  16.94\n"
     ]
    },
    {
     "name": "stderr",
     "output_type": "stream",
     "text": [
      "reconstraining parameters Mat52.lengthscale\n",
      "reconstraining parameters Mat52.variance\n"
     ]
    },
    {
     "name": "stdout",
     "output_type": "stream",
     "text": [
      "total condition no.: 220\n",
      "total device no.: 220\n",
      "maximum Y (PCE [%]):  17.28\n"
     ]
    },
    {
     "name": "stderr",
     "output_type": "stream",
     "text": [
      "reconstraining parameters Mat52.lengthscale\n",
      "reconstraining parameters Mat52.variance\n"
     ]
    },
    {
     "name": "stdout",
     "output_type": "stream",
     "text": [
      "total condition no.: 240\n",
      "total device no.: 240\n",
      "maximum Y (PCE [%]):  17.28\n"
     ]
    },
    {
     "name": "stderr",
     "output_type": "stream",
     "text": [
      "reconstraining parameters Mat52.lengthscale\n",
      "reconstraining parameters Mat52.variance\n"
     ]
    },
    {
     "name": "stdout",
     "output_type": "stream",
     "text": [
      "total condition no.: 260\n",
      "total device no.: 260\n",
      "maximum Y (PCE [%]):  17.28\n"
     ]
    },
    {
     "name": "stderr",
     "output_type": "stream",
     "text": [
      "reconstraining parameters Mat52.lengthscale\n",
      "reconstraining parameters Mat52.variance\n"
     ]
    },
    {
     "name": "stdout",
     "output_type": "stream",
     "text": [
      "total condition no.: 280\n",
      "total device no.: 280\n",
      "maximum Y (PCE [%]):  17.28\n"
     ]
    },
    {
     "name": "stderr",
     "output_type": "stream",
     "text": [
      "reconstraining parameters Mat52.lengthscale\n",
      "reconstraining parameters Mat52.variance\n"
     ]
    },
    {
     "name": "stdout",
     "output_type": "stream",
     "text": [
      "total condition no.: 300\n",
      "total device no.: 300\n",
      "maximum Y (PCE [%]):  17.28\n"
     ]
    },
    {
     "name": "stderr",
     "output_type": "stream",
     "text": [
      "reconstraining parameters Mat52.lengthscale\n",
      "reconstraining parameters Mat52.variance\n"
     ]
    },
    {
     "name": "stdout",
     "output_type": "stream",
     "text": [
      "     Temperature [°C]  Speed [mm/s]  Spray Flow [uL/min]  Plamsa Height [cm]  \\\n",
      "217        143.746364    182.402117          3782.409192            1.177683   \n",
      "\n",
      "     Plasma Gas Flow [L/min]  Plasma DC [%]  Efficiency [%]  \n",
      "217                     15.0       28.15441       17.284814  \n"
     ]
    },
    {
     "name": "stderr",
     "output_type": "stream",
     "text": [
      "reconstraining parameters Mat52.lengthscale\n",
      "reconstraining parameters Mat52.variance\n"
     ]
    },
    {
     "name": "stdout",
     "output_type": "stream",
     "text": [
      "total condition no.: 20\n",
      "total device no.: 20\n",
      "maximum Y (PCE [%]):  14.24\n",
      "total condition no.: 40\n",
      "total device no.: 40\n",
      "maximum Y (PCE [%]):  15.34\n"
     ]
    },
    {
     "name": "stderr",
     "output_type": "stream",
     "text": [
      "reconstraining parameters Mat52.lengthscale\n",
      "reconstraining parameters Mat52.variance\n"
     ]
    },
    {
     "name": "stdout",
     "output_type": "stream",
     "text": [
      "total condition no.: 60\n",
      "total device no.: 60\n",
      "maximum Y (PCE [%]):  15.95\n"
     ]
    },
    {
     "name": "stderr",
     "output_type": "stream",
     "text": [
      "reconstraining parameters Mat52.lengthscale\n",
      "reconstraining parameters Mat52.variance\n"
     ]
    },
    {
     "name": "stdout",
     "output_type": "stream",
     "text": [
      "total condition no.: 80\n",
      "total device no.: 80\n",
      "maximum Y (PCE [%]):  16.38\n"
     ]
    },
    {
     "name": "stderr",
     "output_type": "stream",
     "text": [
      "reconstraining parameters Mat52.lengthscale\n",
      "reconstraining parameters Mat52.variance\n"
     ]
    },
    {
     "name": "stdout",
     "output_type": "stream",
     "text": [
      "total condition no.: 100\n",
      "total device no.: 100\n",
      "maximum Y (PCE [%]):  17.23\n"
     ]
    },
    {
     "name": "stderr",
     "output_type": "stream",
     "text": [
      "reconstraining parameters Mat52.lengthscale\n",
      "reconstraining parameters Mat52.variance\n"
     ]
    },
    {
     "name": "stdout",
     "output_type": "stream",
     "text": [
      "total condition no.: 120\n",
      "total device no.: 120\n",
      "maximum Y (PCE [%]):  17.23\n"
     ]
    },
    {
     "name": "stderr",
     "output_type": "stream",
     "text": [
      "reconstraining parameters Mat52.lengthscale\n",
      "reconstraining parameters Mat52.variance\n"
     ]
    },
    {
     "name": "stdout",
     "output_type": "stream",
     "text": [
      "total condition no.: 140\n",
      "total device no.: 140\n",
      "maximum Y (PCE [%]):  17.23\n"
     ]
    },
    {
     "name": "stderr",
     "output_type": "stream",
     "text": [
      "reconstraining parameters Mat52.lengthscale\n",
      "reconstraining parameters Mat52.variance\n"
     ]
    },
    {
     "name": "stdout",
     "output_type": "stream",
     "text": [
      "total condition no.: 160\n",
      "total device no.: 160\n",
      "maximum Y (PCE [%]):  17.23\n"
     ]
    },
    {
     "name": "stderr",
     "output_type": "stream",
     "text": [
      "reconstraining parameters Mat52.lengthscale\n",
      "reconstraining parameters Mat52.variance\n"
     ]
    },
    {
     "name": "stdout",
     "output_type": "stream",
     "text": [
      "total condition no.: 180\n",
      "total device no.: 180\n",
      "maximum Y (PCE [%]):  17.23\n"
     ]
    },
    {
     "name": "stderr",
     "output_type": "stream",
     "text": [
      "reconstraining parameters Mat52.lengthscale\n",
      "reconstraining parameters Mat52.variance\n"
     ]
    },
    {
     "name": "stdout",
     "output_type": "stream",
     "text": [
      "total condition no.: 200\n",
      "total device no.: 200\n",
      "maximum Y (PCE [%]):  17.23\n"
     ]
    },
    {
     "name": "stderr",
     "output_type": "stream",
     "text": [
      "reconstraining parameters Mat52.lengthscale\n",
      "reconstraining parameters Mat52.variance\n"
     ]
    },
    {
     "name": "stdout",
     "output_type": "stream",
     "text": [
      "total condition no.: 220\n",
      "total device no.: 220\n",
      "maximum Y (PCE [%]):  17.23\n"
     ]
    },
    {
     "name": "stderr",
     "output_type": "stream",
     "text": [
      "reconstraining parameters Mat52.lengthscale\n",
      "reconstraining parameters Mat52.variance\n"
     ]
    },
    {
     "name": "stdout",
     "output_type": "stream",
     "text": [
      "total condition no.: 240\n",
      "total device no.: 240\n",
      "maximum Y (PCE [%]):  17.23\n"
     ]
    },
    {
     "name": "stderr",
     "output_type": "stream",
     "text": [
      "reconstraining parameters Mat52.lengthscale\n",
      "reconstraining parameters Mat52.variance\n"
     ]
    },
    {
     "name": "stdout",
     "output_type": "stream",
     "text": [
      "total condition no.: 260\n",
      "total device no.: 260\n",
      "maximum Y (PCE [%]):  17.23\n"
     ]
    },
    {
     "name": "stderr",
     "output_type": "stream",
     "text": [
      "reconstraining parameters Mat52.lengthscale\n",
      "reconstraining parameters Mat52.variance\n"
     ]
    },
    {
     "name": "stdout",
     "output_type": "stream",
     "text": [
      "total condition no.: 280\n",
      "total device no.: 280\n",
      "maximum Y (PCE [%]):  17.23\n"
     ]
    },
    {
     "name": "stderr",
     "output_type": "stream",
     "text": [
      "reconstraining parameters Mat52.lengthscale\n",
      "reconstraining parameters Mat52.variance\n"
     ]
    },
    {
     "name": "stdout",
     "output_type": "stream",
     "text": [
      "total condition no.: 300\n",
      "total device no.: 300\n",
      "maximum Y (PCE [%]):  17.36\n"
     ]
    },
    {
     "name": "stderr",
     "output_type": "stream",
     "text": [
      "reconstraining parameters Mat52.lengthscale\n",
      "reconstraining parameters Mat52.variance\n"
     ]
    },
    {
     "name": "stdout",
     "output_type": "stream",
     "text": [
      "     Temperature [°C]  Speed [mm/s]  Spray Flow [uL/min]  Plamsa Height [cm]  \\\n",
      "298         145.98069    174.567994          3866.209346            1.094321   \n",
      "\n",
      "     Plasma Gas Flow [L/min]  Plasma DC [%]  Efficiency [%]  \n",
      "298                     15.0      27.927372       17.355664  \n",
      "total condition no.: 20\n",
      "total device no.: 20\n",
      "maximum Y (PCE [%]):  15.08\n"
     ]
    },
    {
     "name": "stderr",
     "output_type": "stream",
     "text": [
      "reconstraining parameters Mat52.lengthscale\n",
      "reconstraining parameters Mat52.variance\n"
     ]
    },
    {
     "name": "stdout",
     "output_type": "stream",
     "text": [
      "total condition no.: 40\n",
      "total device no.: 40\n",
      "maximum Y (PCE [%]):  15.47\n"
     ]
    },
    {
     "name": "stderr",
     "output_type": "stream",
     "text": [
      "reconstraining parameters Mat52.lengthscale\n",
      "reconstraining parameters Mat52.variance\n"
     ]
    },
    {
     "name": "stdout",
     "output_type": "stream",
     "text": [
      "total condition no.: 60\n",
      "total device no.: 60\n",
      "maximum Y (PCE [%]):  16.14\n"
     ]
    },
    {
     "name": "stderr",
     "output_type": "stream",
     "text": [
      "reconstraining parameters Mat52.lengthscale\n",
      "reconstraining parameters Mat52.variance\n"
     ]
    },
    {
     "name": "stdout",
     "output_type": "stream",
     "text": [
      "total condition no.: 80\n",
      "total device no.: 80\n",
      "maximum Y (PCE [%]):  16.27\n"
     ]
    },
    {
     "name": "stderr",
     "output_type": "stream",
     "text": [
      "reconstraining parameters Mat52.lengthscale\n",
      "reconstraining parameters Mat52.variance\n"
     ]
    },
    {
     "name": "stdout",
     "output_type": "stream",
     "text": [
      "total condition no.: 100\n",
      "total device no.: 100\n",
      "maximum Y (PCE [%]):  16.27\n"
     ]
    },
    {
     "name": "stderr",
     "output_type": "stream",
     "text": [
      "reconstraining parameters Mat52.lengthscale\n",
      "reconstraining parameters Mat52.variance\n"
     ]
    },
    {
     "name": "stdout",
     "output_type": "stream",
     "text": [
      "total condition no.: 120\n",
      "total device no.: 120\n",
      "maximum Y (PCE [%]):  16.56\n"
     ]
    },
    {
     "name": "stderr",
     "output_type": "stream",
     "text": [
      "reconstraining parameters Mat52.lengthscale\n",
      "reconstraining parameters Mat52.variance\n"
     ]
    },
    {
     "name": "stdout",
     "output_type": "stream",
     "text": [
      "total condition no.: 140\n",
      "total device no.: 140\n",
      "maximum Y (PCE [%]):  16.56\n"
     ]
    },
    {
     "name": "stderr",
     "output_type": "stream",
     "text": [
      "reconstraining parameters Mat52.lengthscale\n",
      "reconstraining parameters Mat52.variance\n"
     ]
    },
    {
     "name": "stdout",
     "output_type": "stream",
     "text": [
      "total condition no.: 160\n",
      "total device no.: 160\n",
      "maximum Y (PCE [%]):  16.56\n"
     ]
    },
    {
     "name": "stderr",
     "output_type": "stream",
     "text": [
      "reconstraining parameters Mat52.lengthscale\n",
      "reconstraining parameters Mat52.variance\n"
     ]
    },
    {
     "name": "stdout",
     "output_type": "stream",
     "text": [
      "total condition no.: 180\n",
      "total device no.: 180\n",
      "maximum Y (PCE [%]):  16.7\n"
     ]
    },
    {
     "name": "stderr",
     "output_type": "stream",
     "text": [
      "reconstraining parameters Mat52.lengthscale\n",
      "reconstraining parameters Mat52.variance\n"
     ]
    },
    {
     "name": "stdout",
     "output_type": "stream",
     "text": [
      "total condition no.: 200\n",
      "total device no.: 200\n",
      "maximum Y (PCE [%]):  16.7\n"
     ]
    },
    {
     "name": "stderr",
     "output_type": "stream",
     "text": [
      "reconstraining parameters Mat52.lengthscale\n",
      "reconstraining parameters Mat52.variance\n"
     ]
    },
    {
     "name": "stdout",
     "output_type": "stream",
     "text": [
      "total condition no.: 220\n",
      "total device no.: 220\n",
      "maximum Y (PCE [%]):  16.7\n"
     ]
    },
    {
     "name": "stderr",
     "output_type": "stream",
     "text": [
      "reconstraining parameters Mat52.lengthscale\n",
      "reconstraining parameters Mat52.variance\n"
     ]
    },
    {
     "name": "stdout",
     "output_type": "stream",
     "text": [
      "total condition no.: 240\n",
      "total device no.: 240\n",
      "maximum Y (PCE [%]):  16.7\n"
     ]
    },
    {
     "name": "stderr",
     "output_type": "stream",
     "text": [
      "reconstraining parameters Mat52.lengthscale\n",
      "reconstraining parameters Mat52.variance\n"
     ]
    },
    {
     "name": "stdout",
     "output_type": "stream",
     "text": [
      "total condition no.: 260\n",
      "total device no.: 260\n",
      "maximum Y (PCE [%]):  16.71\n"
     ]
    },
    {
     "name": "stderr",
     "output_type": "stream",
     "text": [
      "reconstraining parameters Mat52.lengthscale\n",
      "reconstraining parameters Mat52.variance\n"
     ]
    },
    {
     "name": "stdout",
     "output_type": "stream",
     "text": [
      "total condition no.: 280\n",
      "total device no.: 280\n",
      "maximum Y (PCE [%]):  16.71\n"
     ]
    },
    {
     "name": "stderr",
     "output_type": "stream",
     "text": [
      "reconstraining parameters Mat52.lengthscale\n",
      "reconstraining parameters Mat52.variance\n"
     ]
    },
    {
     "name": "stdout",
     "output_type": "stream",
     "text": [
      "total condition no.: 300\n",
      "total device no.: 300\n",
      "maximum Y (PCE [%]):  16.71\n"
     ]
    },
    {
     "name": "stderr",
     "output_type": "stream",
     "text": [
      "reconstraining parameters Mat52.lengthscale\n",
      "reconstraining parameters Mat52.variance\n"
     ]
    },
    {
     "name": "stdout",
     "output_type": "stream",
     "text": [
      "     Temperature [°C]  Speed [mm/s]  Spray Flow [uL/min]  Plamsa Height [cm]  \\\n",
      "246        145.002792     123.82823          2996.959027            1.175039   \n",
      "\n",
      "     Plasma Gas Flow [L/min]  Plasma DC [%]  Efficiency [%]  \n",
      "246                     15.0      58.149508       16.712734  \n"
     ]
    },
    {
     "name": "stderr",
     "output_type": "stream",
     "text": [
      "reconstraining parameters Mat52.lengthscale\n",
      "reconstraining parameters Mat52.variance\n"
     ]
    },
    {
     "name": "stdout",
     "output_type": "stream",
     "text": [
      "total condition no.: 20\n",
      "total device no.: 20\n",
      "maximum Y (PCE [%]):  13.68\n",
      "total condition no.: 40\n",
      "total device no.: 40\n",
      "maximum Y (PCE [%]):  16.27\n"
     ]
    },
    {
     "name": "stderr",
     "output_type": "stream",
     "text": [
      "reconstraining parameters Mat52.lengthscale\n",
      "reconstraining parameters Mat52.variance\n"
     ]
    },
    {
     "name": "stdout",
     "output_type": "stream",
     "text": [
      "total condition no.: 60\n",
      "total device no.: 60\n",
      "maximum Y (PCE [%]):  16.27\n"
     ]
    },
    {
     "name": "stderr",
     "output_type": "stream",
     "text": [
      "reconstraining parameters Mat52.lengthscale\n",
      "reconstraining parameters Mat52.variance\n"
     ]
    },
    {
     "name": "stdout",
     "output_type": "stream",
     "text": [
      "total condition no.: 80\n",
      "total device no.: 80\n",
      "maximum Y (PCE [%]):  16.27\n"
     ]
    },
    {
     "name": "stderr",
     "output_type": "stream",
     "text": [
      "reconstraining parameters Mat52.lengthscale\n",
      "reconstraining parameters Mat52.variance\n"
     ]
    },
    {
     "name": "stdout",
     "output_type": "stream",
     "text": [
      "total condition no.: 100\n",
      "total device no.: 100\n",
      "maximum Y (PCE [%]):  16.34\n"
     ]
    },
    {
     "name": "stderr",
     "output_type": "stream",
     "text": [
      "reconstraining parameters Mat52.lengthscale\n",
      "reconstraining parameters Mat52.variance\n"
     ]
    },
    {
     "name": "stdout",
     "output_type": "stream",
     "text": [
      "total condition no.: 120\n",
      "total device no.: 120\n",
      "maximum Y (PCE [%]):  16.34\n"
     ]
    },
    {
     "name": "stderr",
     "output_type": "stream",
     "text": [
      "reconstraining parameters Mat52.lengthscale\n",
      "reconstraining parameters Mat52.variance\n"
     ]
    },
    {
     "name": "stdout",
     "output_type": "stream",
     "text": [
      "total condition no.: 140\n",
      "total device no.: 140\n",
      "maximum Y (PCE [%]):  16.34\n"
     ]
    },
    {
     "name": "stderr",
     "output_type": "stream",
     "text": [
      "reconstraining parameters Mat52.lengthscale\n",
      "reconstraining parameters Mat52.variance\n"
     ]
    },
    {
     "name": "stdout",
     "output_type": "stream",
     "text": [
      "total condition no.: 160\n",
      "total device no.: 160\n",
      "maximum Y (PCE [%]):  16.89\n"
     ]
    },
    {
     "name": "stderr",
     "output_type": "stream",
     "text": [
      "reconstraining parameters Mat52.lengthscale\n",
      "reconstraining parameters Mat52.variance\n"
     ]
    },
    {
     "name": "stdout",
     "output_type": "stream",
     "text": [
      "total condition no.: 180\n",
      "total device no.: 180\n",
      "maximum Y (PCE [%]):  17.01\n"
     ]
    },
    {
     "name": "stderr",
     "output_type": "stream",
     "text": [
      "reconstraining parameters Mat52.lengthscale\n",
      "reconstraining parameters Mat52.variance\n"
     ]
    },
    {
     "name": "stdout",
     "output_type": "stream",
     "text": [
      "total condition no.: 200\n",
      "total device no.: 200\n",
      "maximum Y (PCE [%]):  17.29\n"
     ]
    },
    {
     "name": "stderr",
     "output_type": "stream",
     "text": [
      "reconstraining parameters Mat52.lengthscale\n",
      "reconstraining parameters Mat52.variance\n"
     ]
    },
    {
     "name": "stdout",
     "output_type": "stream",
     "text": [
      "total condition no.: 220\n",
      "total device no.: 220\n",
      "maximum Y (PCE [%]):  17.29\n"
     ]
    },
    {
     "name": "stderr",
     "output_type": "stream",
     "text": [
      "reconstraining parameters Mat52.lengthscale\n",
      "reconstraining parameters Mat52.variance\n"
     ]
    },
    {
     "name": "stdout",
     "output_type": "stream",
     "text": [
      "total condition no.: 240\n",
      "total device no.: 240\n",
      "maximum Y (PCE [%]):  17.29\n"
     ]
    },
    {
     "name": "stderr",
     "output_type": "stream",
     "text": [
      "reconstraining parameters Mat52.lengthscale\n",
      "reconstraining parameters Mat52.variance\n"
     ]
    },
    {
     "name": "stdout",
     "output_type": "stream",
     "text": [
      "total condition no.: 260\n",
      "total device no.: 260\n",
      "maximum Y (PCE [%]):  17.3\n"
     ]
    },
    {
     "name": "stderr",
     "output_type": "stream",
     "text": [
      "reconstraining parameters Mat52.lengthscale\n",
      "reconstraining parameters Mat52.variance\n"
     ]
    },
    {
     "name": "stdout",
     "output_type": "stream",
     "text": [
      "total condition no.: 280\n",
      "total device no.: 280\n",
      "maximum Y (PCE [%]):  17.3\n"
     ]
    },
    {
     "name": "stderr",
     "output_type": "stream",
     "text": [
      "reconstraining parameters Mat52.lengthscale\n",
      "reconstraining parameters Mat52.variance\n"
     ]
    },
    {
     "name": "stdout",
     "output_type": "stream",
     "text": [
      "total condition no.: 300\n",
      "total device no.: 300\n",
      "maximum Y (PCE [%]):  17.3\n"
     ]
    },
    {
     "name": "stderr",
     "output_type": "stream",
     "text": [
      "reconstraining parameters Mat52.lengthscale\n",
      "reconstraining parameters Mat52.variance\n"
     ]
    },
    {
     "name": "stdout",
     "output_type": "stream",
     "text": [
      "     Temperature [°C]  Speed [mm/s]  Spray Flow [uL/min]  Plamsa Height [cm]  \\\n",
      "279        142.000175    181.238535          3796.804458            1.192693   \n",
      "\n",
      "     Plasma Gas Flow [L/min]  Plasma DC [%]  Efficiency [%]  \n",
      "279                     15.0      27.224419       17.301879  \n",
      "total condition no.: 20\n",
      "total device no.: 20\n",
      "maximum Y (PCE [%]):  13.73\n"
     ]
    },
    {
     "name": "stderr",
     "output_type": "stream",
     "text": [
      "reconstraining parameters Mat52.lengthscale\n",
      "reconstraining parameters Mat52.variance\n"
     ]
    },
    {
     "name": "stdout",
     "output_type": "stream",
     "text": [
      "total condition no.: 40\n",
      "total device no.: 40\n",
      "maximum Y (PCE [%]):  15.2\n"
     ]
    },
    {
     "name": "stderr",
     "output_type": "stream",
     "text": [
      "reconstraining parameters Mat52.lengthscale\n",
      "reconstraining parameters Mat52.variance\n"
     ]
    },
    {
     "name": "stdout",
     "output_type": "stream",
     "text": [
      "total condition no.: 60\n",
      "total device no.: 60\n",
      "maximum Y (PCE [%]):  15.71\n"
     ]
    },
    {
     "name": "stderr",
     "output_type": "stream",
     "text": [
      "reconstraining parameters Mat52.lengthscale\n",
      "reconstraining parameters Mat52.variance\n"
     ]
    },
    {
     "name": "stdout",
     "output_type": "stream",
     "text": [
      "total condition no.: 80\n",
      "total device no.: 80\n",
      "maximum Y (PCE [%]):  16.28\n"
     ]
    },
    {
     "name": "stderr",
     "output_type": "stream",
     "text": [
      "reconstraining parameters Mat52.lengthscale\n",
      "reconstraining parameters Mat52.variance\n"
     ]
    },
    {
     "name": "stdout",
     "output_type": "stream",
     "text": [
      "total condition no.: 100\n",
      "total device no.: 100\n",
      "maximum Y (PCE [%]):  16.28\n"
     ]
    },
    {
     "name": "stderr",
     "output_type": "stream",
     "text": [
      "reconstraining parameters Mat52.lengthscale\n",
      "reconstraining parameters Mat52.variance\n"
     ]
    },
    {
     "name": "stdout",
     "output_type": "stream",
     "text": [
      "total condition no.: 120\n",
      "total device no.: 120\n",
      "maximum Y (PCE [%]):  16.28\n"
     ]
    },
    {
     "name": "stderr",
     "output_type": "stream",
     "text": [
      "reconstraining parameters Mat52.lengthscale\n",
      "reconstraining parameters Mat52.variance\n"
     ]
    },
    {
     "name": "stdout",
     "output_type": "stream",
     "text": [
      "total condition no.: 140\n",
      "total device no.: 140\n",
      "maximum Y (PCE [%]):  16.28\n"
     ]
    },
    {
     "name": "stderr",
     "output_type": "stream",
     "text": [
      "reconstraining parameters Mat52.lengthscale\n",
      "reconstraining parameters Mat52.variance\n"
     ]
    },
    {
     "name": "stdout",
     "output_type": "stream",
     "text": [
      "total condition no.: 160\n",
      "total device no.: 160\n",
      "maximum Y (PCE [%]):  16.47\n"
     ]
    },
    {
     "name": "stderr",
     "output_type": "stream",
     "text": [
      "reconstraining parameters Mat52.lengthscale\n",
      "reconstraining parameters Mat52.variance\n"
     ]
    },
    {
     "name": "stdout",
     "output_type": "stream",
     "text": [
      "total condition no.: 180\n",
      "total device no.: 180\n",
      "maximum Y (PCE [%]):  16.63\n"
     ]
    },
    {
     "name": "stderr",
     "output_type": "stream",
     "text": [
      "reconstraining parameters Mat52.lengthscale\n",
      "reconstraining parameters Mat52.variance\n"
     ]
    },
    {
     "name": "stdout",
     "output_type": "stream",
     "text": [
      "total condition no.: 200\n",
      "total device no.: 200\n",
      "maximum Y (PCE [%]):  16.65\n"
     ]
    },
    {
     "name": "stderr",
     "output_type": "stream",
     "text": [
      "reconstraining parameters Mat52.lengthscale\n",
      "reconstraining parameters Mat52.variance\n"
     ]
    },
    {
     "name": "stdout",
     "output_type": "stream",
     "text": [
      "total condition no.: 220\n",
      "total device no.: 220\n",
      "maximum Y (PCE [%]):  16.65\n"
     ]
    },
    {
     "name": "stderr",
     "output_type": "stream",
     "text": [
      "reconstraining parameters Mat52.lengthscale\n",
      "reconstraining parameters Mat52.variance\n"
     ]
    },
    {
     "name": "stdout",
     "output_type": "stream",
     "text": [
      "total condition no.: 240\n",
      "total device no.: 240\n",
      "maximum Y (PCE [%]):  16.66\n"
     ]
    },
    {
     "name": "stderr",
     "output_type": "stream",
     "text": [
      "reconstraining parameters Mat52.lengthscale\n",
      "reconstraining parameters Mat52.variance\n"
     ]
    },
    {
     "name": "stdout",
     "output_type": "stream",
     "text": [
      "total condition no.: 260\n",
      "total device no.: 260\n",
      "maximum Y (PCE [%]):  16.66\n"
     ]
    },
    {
     "name": "stderr",
     "output_type": "stream",
     "text": [
      "reconstraining parameters Mat52.lengthscale\n",
      "reconstraining parameters Mat52.variance\n"
     ]
    },
    {
     "name": "stdout",
     "output_type": "stream",
     "text": [
      "total condition no.: 280\n",
      "total device no.: 280\n",
      "maximum Y (PCE [%]):  16.66\n"
     ]
    },
    {
     "name": "stderr",
     "output_type": "stream",
     "text": [
      "reconstraining parameters Mat52.lengthscale\n",
      "reconstraining parameters Mat52.variance\n"
     ]
    },
    {
     "name": "stdout",
     "output_type": "stream",
     "text": [
      "total condition no.: 300\n",
      "total device no.: 300\n",
      "maximum Y (PCE [%]):  16.66\n"
     ]
    },
    {
     "name": "stderr",
     "output_type": "stream",
     "text": [
      "reconstraining parameters Mat52.lengthscale\n",
      "reconstraining parameters Mat52.variance\n"
     ]
    },
    {
     "name": "stdout",
     "output_type": "stream",
     "text": [
      "     Temperature [°C]  Speed [mm/s]  Spray Flow [uL/min]  Plamsa Height [cm]  \\\n",
      "222        145.977331    178.714247          3868.006601            1.070996   \n",
      "\n",
      "     Plasma Gas Flow [L/min]  Plasma DC [%]  Efficiency [%]  \n",
      "222                     15.0      49.297515       16.655978  \n"
     ]
    },
    {
     "name": "stderr",
     "output_type": "stream",
     "text": [
      "reconstraining parameters Mat52.lengthscale\n",
      "reconstraining parameters Mat52.variance\n"
     ]
    },
    {
     "name": "stdout",
     "output_type": "stream",
     "text": [
      "total condition no.: 20\n",
      "total device no.: 20\n",
      "maximum Y (PCE [%]):  15.45\n",
      "total condition no.: 40\n",
      "total device no.: 40\n",
      "maximum Y (PCE [%]):  15.73\n"
     ]
    },
    {
     "name": "stderr",
     "output_type": "stream",
     "text": [
      "reconstraining parameters Mat52.lengthscale\n",
      "reconstraining parameters Mat52.variance\n"
     ]
    },
    {
     "name": "stdout",
     "output_type": "stream",
     "text": [
      "total condition no.: 60\n",
      "total device no.: 60\n",
      "maximum Y (PCE [%]):  15.96\n"
     ]
    },
    {
     "name": "stderr",
     "output_type": "stream",
     "text": [
      "reconstraining parameters Mat52.lengthscale\n",
      "reconstraining parameters Mat52.variance\n"
     ]
    },
    {
     "name": "stdout",
     "output_type": "stream",
     "text": [
      "total condition no.: 80\n",
      "total device no.: 80\n",
      "maximum Y (PCE [%]):  16.12\n"
     ]
    },
    {
     "name": "stderr",
     "output_type": "stream",
     "text": [
      "reconstraining parameters Mat52.lengthscale\n",
      "reconstraining parameters Mat52.variance\n"
     ]
    },
    {
     "name": "stdout",
     "output_type": "stream",
     "text": [
      "total condition no.: 100\n",
      "total device no.: 100\n",
      "maximum Y (PCE [%]):  16.12\n"
     ]
    },
    {
     "name": "stderr",
     "output_type": "stream",
     "text": [
      "reconstraining parameters Mat52.lengthscale\n",
      "reconstraining parameters Mat52.variance\n"
     ]
    },
    {
     "name": "stdout",
     "output_type": "stream",
     "text": [
      "total condition no.: 120\n",
      "total device no.: 120\n",
      "maximum Y (PCE [%]):  16.57\n"
     ]
    },
    {
     "name": "stderr",
     "output_type": "stream",
     "text": [
      "reconstraining parameters Mat52.lengthscale\n",
      "reconstraining parameters Mat52.variance\n"
     ]
    },
    {
     "name": "stdout",
     "output_type": "stream",
     "text": [
      "total condition no.: 140\n",
      "total device no.: 140\n",
      "maximum Y (PCE [%]):  16.57\n"
     ]
    },
    {
     "name": "stderr",
     "output_type": "stream",
     "text": [
      "reconstraining parameters Mat52.lengthscale\n",
      "reconstraining parameters Mat52.variance\n"
     ]
    },
    {
     "name": "stdout",
     "output_type": "stream",
     "text": [
      "total condition no.: 160\n",
      "total device no.: 160\n",
      "maximum Y (PCE [%]):  16.7\n"
     ]
    },
    {
     "name": "stderr",
     "output_type": "stream",
     "text": [
      "reconstraining parameters Mat52.lengthscale\n",
      "reconstraining parameters Mat52.variance\n"
     ]
    },
    {
     "name": "stdout",
     "output_type": "stream",
     "text": [
      "total condition no.: 180\n",
      "total device no.: 180\n",
      "maximum Y (PCE [%]):  16.7\n"
     ]
    },
    {
     "name": "stderr",
     "output_type": "stream",
     "text": [
      "reconstraining parameters Mat52.lengthscale\n",
      "reconstraining parameters Mat52.variance\n"
     ]
    },
    {
     "name": "stdout",
     "output_type": "stream",
     "text": [
      "total condition no.: 200\n",
      "total device no.: 200\n",
      "maximum Y (PCE [%]):  17.08\n"
     ]
    },
    {
     "name": "stderr",
     "output_type": "stream",
     "text": [
      "reconstraining parameters Mat52.lengthscale\n",
      "reconstraining parameters Mat52.variance\n"
     ]
    },
    {
     "name": "stdout",
     "output_type": "stream",
     "text": [
      "total condition no.: 220\n",
      "total device no.: 220\n",
      "maximum Y (PCE [%]):  17.08\n"
     ]
    },
    {
     "name": "stderr",
     "output_type": "stream",
     "text": [
      "reconstraining parameters Mat52.lengthscale\n",
      "reconstraining parameters Mat52.variance\n"
     ]
    },
    {
     "name": "stdout",
     "output_type": "stream",
     "text": [
      "total condition no.: 240\n",
      "total device no.: 240\n",
      "maximum Y (PCE [%]):  17.08\n"
     ]
    },
    {
     "name": "stderr",
     "output_type": "stream",
     "text": [
      "reconstraining parameters Mat52.lengthscale\n",
      "reconstraining parameters Mat52.variance\n"
     ]
    },
    {
     "name": "stdout",
     "output_type": "stream",
     "text": [
      "total condition no.: 260\n",
      "total device no.: 260\n",
      "maximum Y (PCE [%]):  17.35\n"
     ]
    },
    {
     "name": "stderr",
     "output_type": "stream",
     "text": [
      "reconstraining parameters Mat52.lengthscale\n",
      "reconstraining parameters Mat52.variance\n"
     ]
    },
    {
     "name": "stdout",
     "output_type": "stream",
     "text": [
      "total condition no.: 280\n",
      "total device no.: 280\n",
      "maximum Y (PCE [%]):  17.35\n"
     ]
    },
    {
     "name": "stderr",
     "output_type": "stream",
     "text": [
      "reconstraining parameters Mat52.lengthscale\n",
      "reconstraining parameters Mat52.variance\n"
     ]
    },
    {
     "name": "stdout",
     "output_type": "stream",
     "text": [
      "total condition no.: 300\n",
      "total device no.: 300\n",
      "maximum Y (PCE [%]):  17.35\n"
     ]
    },
    {
     "name": "stderr",
     "output_type": "stream",
     "text": [
      "reconstraining parameters Mat52.lengthscale\n",
      "reconstraining parameters Mat52.variance\n"
     ]
    },
    {
     "name": "stdout",
     "output_type": "stream",
     "text": [
      "     Temperature [°C]  Speed [mm/s]  Spray Flow [uL/min]  Plamsa Height [cm]  \\\n",
      "303        146.443138    179.181184          3807.698065            1.050212   \n",
      "\n",
      "     Plasma Gas Flow [L/min]  Plasma DC [%]  Efficiency [%]  \n",
      "303                15.942015      28.117746       17.354822  \n"
     ]
    },
    {
     "name": "stderr",
     "output_type": "stream",
     "text": [
      "reconstraining parameters Mat52.lengthscale\n",
      "reconstraining parameters Mat52.variance\n"
     ]
    },
    {
     "name": "stdout",
     "output_type": "stream",
     "text": [
      "total condition no.: 20\n",
      "total device no.: 20\n",
      "maximum Y (PCE [%]):  13.62\n",
      "total condition no.: 40\n",
      "total device no.: 40\n",
      "maximum Y (PCE [%]):  15.56\n"
     ]
    },
    {
     "name": "stderr",
     "output_type": "stream",
     "text": [
      "reconstraining parameters Mat52.lengthscale\n",
      "reconstraining parameters Mat52.variance\n"
     ]
    },
    {
     "name": "stdout",
     "output_type": "stream",
     "text": [
      "total condition no.: 60\n",
      "total device no.: 60\n",
      "maximum Y (PCE [%]):  16.24\n"
     ]
    },
    {
     "name": "stderr",
     "output_type": "stream",
     "text": [
      "reconstraining parameters Mat52.lengthscale\n",
      "reconstraining parameters Mat52.variance\n"
     ]
    },
    {
     "name": "stdout",
     "output_type": "stream",
     "text": [
      "total condition no.: 80\n",
      "total device no.: 80\n",
      "maximum Y (PCE [%]):  16.24\n"
     ]
    },
    {
     "name": "stderr",
     "output_type": "stream",
     "text": [
      "reconstraining parameters Mat52.lengthscale\n",
      "reconstraining parameters Mat52.variance\n"
     ]
    },
    {
     "name": "stdout",
     "output_type": "stream",
     "text": [
      "total condition no.: 100\n",
      "total device no.: 100\n",
      "maximum Y (PCE [%]):  16.59\n"
     ]
    },
    {
     "name": "stderr",
     "output_type": "stream",
     "text": [
      "reconstraining parameters Mat52.lengthscale\n",
      "reconstraining parameters Mat52.variance\n"
     ]
    },
    {
     "name": "stdout",
     "output_type": "stream",
     "text": [
      "total condition no.: 120\n",
      "total device no.: 120\n",
      "maximum Y (PCE [%]):  16.85\n"
     ]
    },
    {
     "name": "stderr",
     "output_type": "stream",
     "text": [
      "reconstraining parameters Mat52.lengthscale\n",
      "reconstraining parameters Mat52.variance\n"
     ]
    },
    {
     "name": "stdout",
     "output_type": "stream",
     "text": [
      "total condition no.: 140\n",
      "total device no.: 140\n",
      "maximum Y (PCE [%]):  16.95\n"
     ]
    },
    {
     "name": "stderr",
     "output_type": "stream",
     "text": [
      "reconstraining parameters Mat52.lengthscale\n",
      "reconstraining parameters Mat52.variance\n"
     ]
    },
    {
     "name": "stdout",
     "output_type": "stream",
     "text": [
      "total condition no.: 160\n",
      "total device no.: 160\n",
      "maximum Y (PCE [%]):  17.09\n"
     ]
    },
    {
     "name": "stderr",
     "output_type": "stream",
     "text": [
      "reconstraining parameters Mat52.lengthscale\n",
      "reconstraining parameters Mat52.variance\n"
     ]
    },
    {
     "name": "stdout",
     "output_type": "stream",
     "text": [
      "total condition no.: 180\n",
      "total device no.: 180\n",
      "maximum Y (PCE [%]):  17.09\n"
     ]
    },
    {
     "name": "stderr",
     "output_type": "stream",
     "text": [
      "reconstraining parameters Mat52.lengthscale\n",
      "reconstraining parameters Mat52.variance\n"
     ]
    },
    {
     "name": "stdout",
     "output_type": "stream",
     "text": [
      "total condition no.: 200\n",
      "total device no.: 200\n",
      "maximum Y (PCE [%]):  17.09\n"
     ]
    },
    {
     "name": "stderr",
     "output_type": "stream",
     "text": [
      "reconstraining parameters Mat52.lengthscale\n",
      "reconstraining parameters Mat52.variance\n"
     ]
    },
    {
     "name": "stdout",
     "output_type": "stream",
     "text": [
      "total condition no.: 220\n",
      "total device no.: 220\n",
      "maximum Y (PCE [%]):  17.25\n"
     ]
    },
    {
     "name": "stderr",
     "output_type": "stream",
     "text": [
      "reconstraining parameters Mat52.lengthscale\n",
      "reconstraining parameters Mat52.variance\n"
     ]
    },
    {
     "name": "stdout",
     "output_type": "stream",
     "text": [
      "total condition no.: 240\n",
      "total device no.: 240\n",
      "maximum Y (PCE [%]):  17.3\n"
     ]
    },
    {
     "name": "stderr",
     "output_type": "stream",
     "text": [
      "reconstraining parameters Mat52.lengthscale\n",
      "reconstraining parameters Mat52.variance\n"
     ]
    },
    {
     "name": "stdout",
     "output_type": "stream",
     "text": [
      "total condition no.: 260\n",
      "total device no.: 260\n",
      "maximum Y (PCE [%]):  17.3\n"
     ]
    },
    {
     "name": "stderr",
     "output_type": "stream",
     "text": [
      "reconstraining parameters Mat52.lengthscale\n",
      "reconstraining parameters Mat52.variance\n"
     ]
    },
    {
     "name": "stdout",
     "output_type": "stream",
     "text": [
      "total condition no.: 280\n",
      "total device no.: 280\n",
      "maximum Y (PCE [%]):  17.3\n"
     ]
    },
    {
     "name": "stderr",
     "output_type": "stream",
     "text": [
      "reconstraining parameters Mat52.lengthscale\n",
      "reconstraining parameters Mat52.variance\n"
     ]
    },
    {
     "name": "stdout",
     "output_type": "stream",
     "text": [
      "total condition no.: 300\n",
      "total device no.: 300\n",
      "maximum Y (PCE [%]):  17.3\n"
     ]
    },
    {
     "name": "stderr",
     "output_type": "stream",
     "text": [
      "reconstraining parameters Mat52.lengthscale\n",
      "reconstraining parameters Mat52.variance\n"
     ]
    },
    {
     "name": "stdout",
     "output_type": "stream",
     "text": [
      "     Temperature [°C]  Speed [mm/s]  Spray Flow [uL/min]  Plamsa Height [cm]  \\\n",
      "307        142.708575    139.435737          3358.219858                 1.2   \n",
      "\n",
      "     Plasma Gas Flow [L/min]  Plasma DC [%]  Efficiency [%]  \n",
      "307                     15.0      27.067103       17.433102  \n"
     ]
    },
    {
     "name": "stderr",
     "output_type": "stream",
     "text": [
      "reconstraining parameters Mat52.lengthscale\n",
      "reconstraining parameters Mat52.variance\n"
     ]
    },
    {
     "name": "stdout",
     "output_type": "stream",
     "text": [
      "total condition no.: 20\n",
      "total device no.: 20\n",
      "maximum Y (PCE [%]):  14.92\n",
      "total condition no.: 40\n",
      "total device no.: 40\n",
      "maximum Y (PCE [%]):  15.69\n"
     ]
    },
    {
     "name": "stderr",
     "output_type": "stream",
     "text": [
      "reconstraining parameters Mat52.lengthscale\n",
      "reconstraining parameters Mat52.variance\n"
     ]
    },
    {
     "name": "stdout",
     "output_type": "stream",
     "text": [
      "total condition no.: 60\n",
      "total device no.: 60\n",
      "maximum Y (PCE [%]):  16.21\n"
     ]
    },
    {
     "name": "stderr",
     "output_type": "stream",
     "text": [
      "reconstraining parameters Mat52.lengthscale\n",
      "reconstraining parameters Mat52.variance\n"
     ]
    },
    {
     "name": "stdout",
     "output_type": "stream",
     "text": [
      "total condition no.: 80\n",
      "total device no.: 80\n",
      "maximum Y (PCE [%]):  16.63\n"
     ]
    },
    {
     "name": "stderr",
     "output_type": "stream",
     "text": [
      "reconstraining parameters Mat52.lengthscale\n",
      "reconstraining parameters Mat52.variance\n"
     ]
    },
    {
     "name": "stdout",
     "output_type": "stream",
     "text": [
      "total condition no.: 100\n",
      "total device no.: 100\n",
      "maximum Y (PCE [%]):  16.63\n"
     ]
    },
    {
     "name": "stderr",
     "output_type": "stream",
     "text": [
      "reconstraining parameters Mat52.lengthscale\n",
      "reconstraining parameters Mat52.variance\n"
     ]
    },
    {
     "name": "stdout",
     "output_type": "stream",
     "text": [
      "total condition no.: 120\n",
      "total device no.: 120\n",
      "maximum Y (PCE [%]):  16.66\n"
     ]
    },
    {
     "name": "stderr",
     "output_type": "stream",
     "text": [
      "reconstraining parameters Mat52.lengthscale\n",
      "reconstraining parameters Mat52.variance\n"
     ]
    },
    {
     "name": "stdout",
     "output_type": "stream",
     "text": [
      "total condition no.: 140\n",
      "total device no.: 140\n",
      "maximum Y (PCE [%]):  16.66\n"
     ]
    },
    {
     "name": "stderr",
     "output_type": "stream",
     "text": [
      "reconstraining parameters Mat52.lengthscale\n",
      "reconstraining parameters Mat52.variance\n"
     ]
    },
    {
     "name": "stdout",
     "output_type": "stream",
     "text": [
      "total condition no.: 160\n",
      "total device no.: 160\n",
      "maximum Y (PCE [%]):  16.66\n"
     ]
    },
    {
     "name": "stderr",
     "output_type": "stream",
     "text": [
      "reconstraining parameters Mat52.lengthscale\n",
      "reconstraining parameters Mat52.variance\n"
     ]
    },
    {
     "name": "stdout",
     "output_type": "stream",
     "text": [
      "total condition no.: 180\n",
      "total device no.: 180\n",
      "maximum Y (PCE [%]):  16.66\n"
     ]
    },
    {
     "name": "stderr",
     "output_type": "stream",
     "text": [
      "reconstraining parameters Mat52.lengthscale\n",
      "reconstraining parameters Mat52.variance\n"
     ]
    },
    {
     "name": "stdout",
     "output_type": "stream",
     "text": [
      "total condition no.: 200\n",
      "total device no.: 200\n",
      "maximum Y (PCE [%]):  16.66\n"
     ]
    },
    {
     "name": "stderr",
     "output_type": "stream",
     "text": [
      "reconstraining parameters Mat52.lengthscale\n",
      "reconstraining parameters Mat52.variance\n"
     ]
    },
    {
     "name": "stdout",
     "output_type": "stream",
     "text": [
      "total condition no.: 220\n",
      "total device no.: 220\n",
      "maximum Y (PCE [%]):  16.66\n"
     ]
    },
    {
     "name": "stderr",
     "output_type": "stream",
     "text": [
      "reconstraining parameters Mat52.lengthscale\n",
      "reconstraining parameters Mat52.variance\n"
     ]
    },
    {
     "name": "stdout",
     "output_type": "stream",
     "text": [
      "total condition no.: 240\n",
      "total device no.: 240\n",
      "maximum Y (PCE [%]):  16.66\n"
     ]
    },
    {
     "name": "stderr",
     "output_type": "stream",
     "text": [
      "reconstraining parameters Mat52.lengthscale\n",
      "reconstraining parameters Mat52.variance\n"
     ]
    },
    {
     "name": "stdout",
     "output_type": "stream",
     "text": [
      "total condition no.: 260\n",
      "total device no.: 260\n",
      "maximum Y (PCE [%]):  16.66\n"
     ]
    },
    {
     "name": "stderr",
     "output_type": "stream",
     "text": [
      "reconstraining parameters Mat52.lengthscale\n",
      "reconstraining parameters Mat52.variance\n"
     ]
    },
    {
     "name": "stdout",
     "output_type": "stream",
     "text": [
      "total condition no.: 280\n",
      "total device no.: 280\n",
      "maximum Y (PCE [%]):  17.31\n"
     ]
    },
    {
     "name": "stderr",
     "output_type": "stream",
     "text": [
      "reconstraining parameters Mat52.lengthscale\n",
      "reconstraining parameters Mat52.variance\n"
     ]
    },
    {
     "name": "stdout",
     "output_type": "stream",
     "text": [
      "total condition no.: 300\n",
      "total device no.: 300\n",
      "maximum Y (PCE [%]):  17.67\n"
     ]
    },
    {
     "name": "stderr",
     "output_type": "stream",
     "text": [
      "reconstraining parameters Mat52.lengthscale\n"
     ]
    },
    {
     "name": "stdout",
     "output_type": "stream",
     "text": [
      "     Temperature [°C]  Speed [mm/s]  Spray Flow [uL/min]  Plamsa Height [cm]  \\\n",
      "312        145.417936    179.374665          3441.448834            1.059909   \n",
      "\n",
      "     Plasma Gas Flow [L/min]  Plasma DC [%]  Efficiency [%]  \n",
      "312                     15.0      27.689486       17.668829  \n"
     ]
    },
    {
     "name": "stderr",
     "output_type": "stream",
     "text": [
      "reconstraining parameters Mat52.variance\n",
      "reconstraining parameters Mat52.lengthscale\n",
      "reconstraining parameters Mat52.variance\n"
     ]
    },
    {
     "name": "stdout",
     "output_type": "stream",
     "text": [
      "total condition no.: 20\n",
      "total device no.: 20\n",
      "maximum Y (PCE [%]):  14.23\n",
      "total condition no.: 40\n",
      "total device no.: 40\n",
      "maximum Y (PCE [%]):  14.87\n"
     ]
    },
    {
     "name": "stderr",
     "output_type": "stream",
     "text": [
      "reconstraining parameters Mat52.lengthscale\n",
      "reconstraining parameters Mat52.variance\n"
     ]
    },
    {
     "name": "stdout",
     "output_type": "stream",
     "text": [
      "total condition no.: 60\n",
      "total device no.: 60\n",
      "maximum Y (PCE [%]):  15.37\n"
     ]
    },
    {
     "name": "stderr",
     "output_type": "stream",
     "text": [
      "reconstraining parameters Mat52.lengthscale\n",
      "reconstraining parameters Mat52.variance\n"
     ]
    },
    {
     "name": "stdout",
     "output_type": "stream",
     "text": [
      "total condition no.: 80\n",
      "total device no.: 80\n",
      "maximum Y (PCE [%]):  15.37\n"
     ]
    },
    {
     "name": "stderr",
     "output_type": "stream",
     "text": [
      "reconstraining parameters Mat52.lengthscale\n",
      "reconstraining parameters Mat52.variance\n"
     ]
    },
    {
     "name": "stdout",
     "output_type": "stream",
     "text": [
      "total condition no.: 100\n",
      "total device no.: 100\n",
      "maximum Y (PCE [%]):  15.61\n"
     ]
    },
    {
     "name": "stderr",
     "output_type": "stream",
     "text": [
      "reconstraining parameters Mat52.lengthscale\n",
      "reconstraining parameters Mat52.variance\n"
     ]
    },
    {
     "name": "stdout",
     "output_type": "stream",
     "text": [
      "total condition no.: 120\n",
      "total device no.: 120\n",
      "maximum Y (PCE [%]):  15.85\n"
     ]
    },
    {
     "name": "stderr",
     "output_type": "stream",
     "text": [
      "reconstraining parameters Mat52.lengthscale\n",
      "reconstraining parameters Mat52.variance\n"
     ]
    },
    {
     "name": "stdout",
     "output_type": "stream",
     "text": [
      "total condition no.: 140\n",
      "total device no.: 140\n",
      "maximum Y (PCE [%]):  16.11\n"
     ]
    },
    {
     "name": "stderr",
     "output_type": "stream",
     "text": [
      "reconstraining parameters Mat52.lengthscale\n",
      "reconstraining parameters Mat52.variance\n"
     ]
    },
    {
     "name": "stdout",
     "output_type": "stream",
     "text": [
      "total condition no.: 160\n",
      "total device no.: 160\n",
      "maximum Y (PCE [%]):  16.11\n"
     ]
    },
    {
     "name": "stderr",
     "output_type": "stream",
     "text": [
      "reconstraining parameters Mat52.lengthscale\n",
      "reconstraining parameters Mat52.variance\n"
     ]
    },
    {
     "name": "stdout",
     "output_type": "stream",
     "text": [
      "total condition no.: 180\n",
      "total device no.: 180\n",
      "maximum Y (PCE [%]):  16.11\n"
     ]
    },
    {
     "name": "stderr",
     "output_type": "stream",
     "text": [
      "reconstraining parameters Mat52.lengthscale\n",
      "reconstraining parameters Mat52.variance\n"
     ]
    },
    {
     "name": "stdout",
     "output_type": "stream",
     "text": [
      "total condition no.: 200\n",
      "total device no.: 200\n",
      "maximum Y (PCE [%]):  16.11\n"
     ]
    },
    {
     "name": "stderr",
     "output_type": "stream",
     "text": [
      "reconstraining parameters Mat52.lengthscale\n",
      "reconstraining parameters Mat52.variance\n"
     ]
    },
    {
     "name": "stdout",
     "output_type": "stream",
     "text": [
      "total condition no.: 220\n",
      "total device no.: 220\n",
      "maximum Y (PCE [%]):  16.13\n"
     ]
    },
    {
     "name": "stderr",
     "output_type": "stream",
     "text": [
      "reconstraining parameters Mat52.lengthscale\n",
      "reconstraining parameters Mat52.variance\n"
     ]
    },
    {
     "name": "stdout",
     "output_type": "stream",
     "text": [
      "total condition no.: 240\n",
      "total device no.: 240\n",
      "maximum Y (PCE [%]):  16.13\n"
     ]
    },
    {
     "name": "stderr",
     "output_type": "stream",
     "text": [
      "reconstraining parameters Mat52.lengthscale\n",
      "reconstraining parameters Mat52.variance\n"
     ]
    },
    {
     "name": "stdout",
     "output_type": "stream",
     "text": [
      "total condition no.: 260\n",
      "total device no.: 260\n",
      "maximum Y (PCE [%]):  16.13\n"
     ]
    },
    {
     "name": "stderr",
     "output_type": "stream",
     "text": [
      "reconstraining parameters Mat52.lengthscale\n",
      "reconstraining parameters Mat52.variance\n"
     ]
    },
    {
     "name": "stdout",
     "output_type": "stream",
     "text": [
      "total condition no.: 280\n",
      "total device no.: 280\n",
      "maximum Y (PCE [%]):  16.13\n"
     ]
    },
    {
     "name": "stderr",
     "output_type": "stream",
     "text": [
      "reconstraining parameters Mat52.lengthscale\n",
      "reconstraining parameters Mat52.variance\n"
     ]
    },
    {
     "name": "stdout",
     "output_type": "stream",
     "text": [
      "total condition no.: 300\n",
      "total device no.: 300\n",
      "maximum Y (PCE [%]):  16.13\n"
     ]
    },
    {
     "name": "stderr",
     "output_type": "stream",
     "text": [
      "reconstraining parameters Mat52.lengthscale\n",
      "reconstraining parameters Mat52.variance\n"
     ]
    },
    {
     "name": "stdout",
     "output_type": "stream",
     "text": [
      "     Temperature [°C]  Speed [mm/s]  Spray Flow [uL/min]  Plamsa Height [cm]  \\\n",
      "215        139.300404    179.961826          3769.354072            1.062003   \n",
      "\n",
      "     Plasma Gas Flow [L/min]  Plasma DC [%]  Efficiency [%]  \n",
      "215                19.340316      56.362857       16.128786  \n",
      "total condition no.: 20\n",
      "total device no.: 20\n",
      "maximum Y (PCE [%]):  14.23\n"
     ]
    },
    {
     "name": "stderr",
     "output_type": "stream",
     "text": [
      "reconstraining parameters Mat52.lengthscale\n",
      "reconstraining parameters Mat52.variance\n"
     ]
    },
    {
     "name": "stdout",
     "output_type": "stream",
     "text": [
      "total condition no.: 40\n",
      "total device no.: 40\n",
      "maximum Y (PCE [%]):  15.36\n"
     ]
    },
    {
     "name": "stderr",
     "output_type": "stream",
     "text": [
      "reconstraining parameters Mat52.lengthscale\n",
      "reconstraining parameters Mat52.variance\n"
     ]
    },
    {
     "name": "stdout",
     "output_type": "stream",
     "text": [
      "total condition no.: 60\n",
      "total device no.: 60\n",
      "maximum Y (PCE [%]):  16.23\n"
     ]
    },
    {
     "name": "stderr",
     "output_type": "stream",
     "text": [
      "reconstraining parameters Mat52.lengthscale\n",
      "reconstraining parameters Mat52.variance\n"
     ]
    },
    {
     "name": "stdout",
     "output_type": "stream",
     "text": [
      "total condition no.: 80\n",
      "total device no.: 80\n",
      "maximum Y (PCE [%]):  16.63\n"
     ]
    },
    {
     "name": "stderr",
     "output_type": "stream",
     "text": [
      "reconstraining parameters Mat52.lengthscale\n",
      "reconstraining parameters Mat52.variance\n"
     ]
    },
    {
     "name": "stdout",
     "output_type": "stream",
     "text": [
      "total condition no.: 100\n",
      "total device no.: 100\n",
      "maximum Y (PCE [%]):  16.63\n"
     ]
    },
    {
     "name": "stderr",
     "output_type": "stream",
     "text": [
      "reconstraining parameters Mat52.lengthscale\n",
      "reconstraining parameters Mat52.variance\n"
     ]
    },
    {
     "name": "stdout",
     "output_type": "stream",
     "text": [
      "total condition no.: 120\n",
      "total device no.: 120\n",
      "maximum Y (PCE [%]):  16.63\n"
     ]
    },
    {
     "name": "stderr",
     "output_type": "stream",
     "text": [
      "reconstraining parameters Mat52.lengthscale\n",
      "reconstraining parameters Mat52.variance\n"
     ]
    },
    {
     "name": "stdout",
     "output_type": "stream",
     "text": [
      "total condition no.: 140\n",
      "total device no.: 140\n",
      "maximum Y (PCE [%]):  16.63\n"
     ]
    },
    {
     "name": "stderr",
     "output_type": "stream",
     "text": [
      "reconstraining parameters Mat52.lengthscale\n",
      "reconstraining parameters Mat52.variance\n"
     ]
    },
    {
     "name": "stdout",
     "output_type": "stream",
     "text": [
      "total condition no.: 160\n",
      "total device no.: 160\n",
      "maximum Y (PCE [%]):  16.63\n"
     ]
    },
    {
     "name": "stderr",
     "output_type": "stream",
     "text": [
      "reconstraining parameters Mat52.lengthscale\n",
      "reconstraining parameters Mat52.variance\n"
     ]
    },
    {
     "name": "stdout",
     "output_type": "stream",
     "text": [
      "total condition no.: 180\n",
      "total device no.: 180\n",
      "maximum Y (PCE [%]):  16.63\n"
     ]
    },
    {
     "name": "stderr",
     "output_type": "stream",
     "text": [
      "reconstraining parameters Mat52.lengthscale\n",
      "reconstraining parameters Mat52.variance\n"
     ]
    },
    {
     "name": "stdout",
     "output_type": "stream",
     "text": [
      "total condition no.: 200\n",
      "total device no.: 200\n",
      "maximum Y (PCE [%]):  16.63\n"
     ]
    },
    {
     "name": "stderr",
     "output_type": "stream",
     "text": [
      "reconstraining parameters Mat52.lengthscale\n",
      "reconstraining parameters Mat52.variance\n"
     ]
    },
    {
     "name": "stdout",
     "output_type": "stream",
     "text": [
      "total condition no.: 220\n",
      "total device no.: 220\n",
      "maximum Y (PCE [%]):  16.65\n"
     ]
    },
    {
     "name": "stderr",
     "output_type": "stream",
     "text": [
      "reconstraining parameters Mat52.lengthscale\n",
      "reconstraining parameters Mat52.variance\n"
     ]
    },
    {
     "name": "stdout",
     "output_type": "stream",
     "text": [
      "total condition no.: 240\n",
      "total device no.: 240\n",
      "maximum Y (PCE [%]):  16.65\n"
     ]
    },
    {
     "name": "stderr",
     "output_type": "stream",
     "text": [
      "reconstraining parameters Mat52.lengthscale\n",
      "reconstraining parameters Mat52.variance\n"
     ]
    },
    {
     "name": "stdout",
     "output_type": "stream",
     "text": [
      "total condition no.: 260\n",
      "total device no.: 260\n",
      "maximum Y (PCE [%]):  16.65\n"
     ]
    },
    {
     "name": "stderr",
     "output_type": "stream",
     "text": [
      "reconstraining parameters Mat52.lengthscale\n",
      "reconstraining parameters Mat52.variance\n"
     ]
    },
    {
     "name": "stdout",
     "output_type": "stream",
     "text": [
      "total condition no.: 280\n",
      "total device no.: 280\n",
      "maximum Y (PCE [%]):  16.65\n"
     ]
    },
    {
     "name": "stderr",
     "output_type": "stream",
     "text": [
      "reconstraining parameters Mat52.lengthscale\n",
      "reconstraining parameters Mat52.variance\n"
     ]
    },
    {
     "name": "stdout",
     "output_type": "stream",
     "text": [
      "total condition no.: 300\n",
      "total device no.: 300\n",
      "maximum Y (PCE [%]):  16.65\n"
     ]
    },
    {
     "name": "stderr",
     "output_type": "stream",
     "text": [
      "reconstraining parameters Mat52.lengthscale\n",
      "reconstraining parameters Mat52.variance\n"
     ]
    },
    {
     "name": "stdout",
     "output_type": "stream",
     "text": [
      "     Temperature [°C]  Speed [mm/s]  Spray Flow [uL/min]  Plamsa Height [cm]  \\\n",
      "249        143.476302    176.819078          3896.636213                 1.2   \n",
      "\n",
      "     Plasma Gas Flow [L/min]  Plasma DC [%]  Efficiency [%]  \n",
      "249                     15.0      56.596325       16.648072  \n"
     ]
    },
    {
     "name": "stderr",
     "output_type": "stream",
     "text": [
      "reconstraining parameters Mat52.lengthscale\n",
      "reconstraining parameters Mat52.variance\n"
     ]
    },
    {
     "name": "stdout",
     "output_type": "stream",
     "text": [
      "total condition no.: 20\n",
      "total device no.: 20\n",
      "maximum Y (PCE [%]):  15.51\n",
      "total condition no.: 40\n",
      "total device no.: 40\n",
      "maximum Y (PCE [%]):  15.51\n"
     ]
    },
    {
     "name": "stderr",
     "output_type": "stream",
     "text": [
      "reconstraining parameters Mat52.lengthscale\n",
      "reconstraining parameters Mat52.variance\n"
     ]
    },
    {
     "name": "stdout",
     "output_type": "stream",
     "text": [
      "total condition no.: 60\n",
      "total device no.: 60\n",
      "maximum Y (PCE [%]):  15.51\n"
     ]
    },
    {
     "name": "stderr",
     "output_type": "stream",
     "text": [
      "reconstraining parameters Mat52.lengthscale\n",
      "reconstraining parameters Mat52.variance\n"
     ]
    },
    {
     "name": "stdout",
     "output_type": "stream",
     "text": [
      "total condition no.: 80\n",
      "total device no.: 80\n",
      "maximum Y (PCE [%]):  15.69\n"
     ]
    },
    {
     "name": "stderr",
     "output_type": "stream",
     "text": [
      "reconstraining parameters Mat52.lengthscale\n",
      "reconstraining parameters Mat52.variance\n"
     ]
    },
    {
     "name": "stdout",
     "output_type": "stream",
     "text": [
      "total condition no.: 100\n",
      "total device no.: 100\n",
      "maximum Y (PCE [%]):  15.74\n"
     ]
    },
    {
     "name": "stderr",
     "output_type": "stream",
     "text": [
      "reconstraining parameters Mat52.lengthscale\n",
      "reconstraining parameters Mat52.variance\n"
     ]
    },
    {
     "name": "stdout",
     "output_type": "stream",
     "text": [
      "total condition no.: 120\n",
      "total device no.: 120\n",
      "maximum Y (PCE [%]):  15.74\n"
     ]
    },
    {
     "name": "stderr",
     "output_type": "stream",
     "text": [
      "reconstraining parameters Mat52.lengthscale\n",
      "reconstraining parameters Mat52.variance\n"
     ]
    },
    {
     "name": "stdout",
     "output_type": "stream",
     "text": [
      "total condition no.: 140\n",
      "total device no.: 140\n",
      "maximum Y (PCE [%]):  15.74\n"
     ]
    },
    {
     "name": "stderr",
     "output_type": "stream",
     "text": [
      "reconstraining parameters Mat52.lengthscale\n",
      "reconstraining parameters Mat52.variance\n"
     ]
    },
    {
     "name": "stdout",
     "output_type": "stream",
     "text": [
      "total condition no.: 160\n",
      "total device no.: 160\n",
      "maximum Y (PCE [%]):  15.74\n"
     ]
    },
    {
     "name": "stderr",
     "output_type": "stream",
     "text": [
      "reconstraining parameters Mat52.lengthscale\n",
      "reconstraining parameters Mat52.variance\n"
     ]
    },
    {
     "name": "stdout",
     "output_type": "stream",
     "text": [
      "total condition no.: 180\n",
      "total device no.: 180\n",
      "maximum Y (PCE [%]):  15.74\n"
     ]
    },
    {
     "name": "stderr",
     "output_type": "stream",
     "text": [
      "reconstraining parameters Mat52.lengthscale\n",
      "reconstraining parameters Mat52.variance\n"
     ]
    },
    {
     "name": "stdout",
     "output_type": "stream",
     "text": [
      "total condition no.: 200\n",
      "total device no.: 200\n",
      "maximum Y (PCE [%]):  15.81\n"
     ]
    },
    {
     "name": "stderr",
     "output_type": "stream",
     "text": [
      "reconstraining parameters Mat52.lengthscale\n",
      "reconstraining parameters Mat52.variance\n"
     ]
    },
    {
     "name": "stdout",
     "output_type": "stream",
     "text": [
      "total condition no.: 220\n",
      "total device no.: 220\n",
      "maximum Y (PCE [%]):  15.81\n"
     ]
    },
    {
     "name": "stderr",
     "output_type": "stream",
     "text": [
      "reconstraining parameters Mat52.lengthscale\n",
      "reconstraining parameters Mat52.variance\n"
     ]
    },
    {
     "name": "stdout",
     "output_type": "stream",
     "text": [
      "total condition no.: 240\n",
      "total device no.: 240\n",
      "maximum Y (PCE [%]):  16.04\n"
     ]
    },
    {
     "name": "stderr",
     "output_type": "stream",
     "text": [
      "reconstraining parameters Mat52.lengthscale\n",
      "reconstraining parameters Mat52.variance\n"
     ]
    },
    {
     "name": "stdout",
     "output_type": "stream",
     "text": [
      "total condition no.: 260\n",
      "total device no.: 260\n",
      "maximum Y (PCE [%]):  16.04\n"
     ]
    },
    {
     "name": "stderr",
     "output_type": "stream",
     "text": [
      "reconstraining parameters Mat52.lengthscale\n",
      "reconstraining parameters Mat52.variance\n"
     ]
    },
    {
     "name": "stdout",
     "output_type": "stream",
     "text": [
      "total condition no.: 280\n",
      "total device no.: 280\n",
      "maximum Y (PCE [%]):  16.13\n"
     ]
    },
    {
     "name": "stderr",
     "output_type": "stream",
     "text": [
      "reconstraining parameters Mat52.lengthscale\n",
      "reconstraining parameters Mat52.variance\n"
     ]
    },
    {
     "name": "stdout",
     "output_type": "stream",
     "text": [
      "total condition no.: 300\n",
      "total device no.: 300\n",
      "maximum Y (PCE [%]):  16.15\n",
      "     Temperature [°C]  Speed [mm/s]  Spray Flow [uL/min]  Plamsa Height [cm]  \\\n",
      "315        143.785685    178.928669          3431.570365             1.06988   \n",
      "\n",
      "     Plasma Gas Flow [L/min]  Plasma DC [%]  Efficiency [%]  \n",
      "315                23.884165      30.895431       16.149819  \n"
     ]
    },
    {
     "name": "stderr",
     "output_type": "stream",
     "text": [
      "reconstraining parameters Mat52.lengthscale\n",
      "reconstraining parameters Mat52.variance\n",
      "reconstraining parameters Mat52.lengthscale\n"
     ]
    },
    {
     "name": "stdout",
     "output_type": "stream",
     "text": [
      "total condition no.: 20\n",
      "total device no.: 20\n",
      "maximum Y (PCE [%]):  15.02\n"
     ]
    },
    {
     "name": "stderr",
     "output_type": "stream",
     "text": [
      "reconstraining parameters Mat52.variance\n"
     ]
    },
    {
     "name": "stdout",
     "output_type": "stream",
     "text": [
      "total condition no.: 40\n",
      "total device no.: 40\n",
      "maximum Y (PCE [%]):  16.41\n"
     ]
    },
    {
     "name": "stderr",
     "output_type": "stream",
     "text": [
      "reconstraining parameters Mat52.lengthscale\n",
      "reconstraining parameters Mat52.variance\n"
     ]
    },
    {
     "name": "stdout",
     "output_type": "stream",
     "text": [
      "total condition no.: 60\n",
      "total device no.: 60\n",
      "maximum Y (PCE [%]):  16.74\n"
     ]
    },
    {
     "name": "stderr",
     "output_type": "stream",
     "text": [
      "reconstraining parameters Mat52.lengthscale\n",
      "reconstraining parameters Mat52.variance\n"
     ]
    },
    {
     "name": "stdout",
     "output_type": "stream",
     "text": [
      "total condition no.: 80\n",
      "total device no.: 80\n",
      "maximum Y (PCE [%]):  16.81\n"
     ]
    },
    {
     "name": "stderr",
     "output_type": "stream",
     "text": [
      "reconstraining parameters Mat52.lengthscale\n",
      "reconstraining parameters Mat52.variance\n"
     ]
    },
    {
     "name": "stdout",
     "output_type": "stream",
     "text": [
      "total condition no.: 100\n",
      "total device no.: 100\n",
      "maximum Y (PCE [%]):  17.36\n"
     ]
    },
    {
     "name": "stderr",
     "output_type": "stream",
     "text": [
      "reconstraining parameters Mat52.lengthscale\n",
      "reconstraining parameters Mat52.variance\n"
     ]
    },
    {
     "name": "stdout",
     "output_type": "stream",
     "text": [
      "total condition no.: 120\n",
      "total device no.: 120\n",
      "maximum Y (PCE [%]):  17.36\n"
     ]
    },
    {
     "name": "stderr",
     "output_type": "stream",
     "text": [
      "reconstraining parameters Mat52.lengthscale\n",
      "reconstraining parameters Mat52.variance\n"
     ]
    },
    {
     "name": "stdout",
     "output_type": "stream",
     "text": [
      "total condition no.: 140\n",
      "total device no.: 140\n",
      "maximum Y (PCE [%]):  17.36\n"
     ]
    },
    {
     "name": "stderr",
     "output_type": "stream",
     "text": [
      "reconstraining parameters Mat52.lengthscale\n",
      "reconstraining parameters Mat52.variance\n"
     ]
    },
    {
     "name": "stdout",
     "output_type": "stream",
     "text": [
      "total condition no.: 160\n",
      "total device no.: 160\n",
      "maximum Y (PCE [%]):  17.36\n"
     ]
    },
    {
     "name": "stderr",
     "output_type": "stream",
     "text": [
      "reconstraining parameters Mat52.lengthscale\n",
      "reconstraining parameters Mat52.variance\n"
     ]
    },
    {
     "name": "stdout",
     "output_type": "stream",
     "text": [
      "total condition no.: 180\n",
      "total device no.: 180\n",
      "maximum Y (PCE [%]):  17.36\n"
     ]
    },
    {
     "name": "stderr",
     "output_type": "stream",
     "text": [
      "reconstraining parameters Mat52.lengthscale\n",
      "reconstraining parameters Mat52.variance\n"
     ]
    },
    {
     "name": "stdout",
     "output_type": "stream",
     "text": [
      "total condition no.: 200\n",
      "total device no.: 200\n",
      "maximum Y (PCE [%]):  17.36\n"
     ]
    },
    {
     "name": "stderr",
     "output_type": "stream",
     "text": [
      "reconstraining parameters Mat52.lengthscale\n",
      "reconstraining parameters Mat52.variance\n"
     ]
    },
    {
     "name": "stdout",
     "output_type": "stream",
     "text": [
      "total condition no.: 220\n",
      "total device no.: 220\n",
      "maximum Y (PCE [%]):  17.42\n"
     ]
    },
    {
     "name": "stderr",
     "output_type": "stream",
     "text": [
      "reconstraining parameters Mat52.lengthscale\n",
      "reconstraining parameters Mat52.variance\n"
     ]
    },
    {
     "name": "stdout",
     "output_type": "stream",
     "text": [
      "total condition no.: 240\n",
      "total device no.: 240\n",
      "maximum Y (PCE [%]):  17.42\n"
     ]
    },
    {
     "name": "stderr",
     "output_type": "stream",
     "text": [
      "reconstraining parameters Mat52.lengthscale\n",
      "reconstraining parameters Mat52.variance\n"
     ]
    },
    {
     "name": "stdout",
     "output_type": "stream",
     "text": [
      "total condition no.: 260\n",
      "total device no.: 260\n",
      "maximum Y (PCE [%]):  17.42\n"
     ]
    },
    {
     "name": "stderr",
     "output_type": "stream",
     "text": [
      "reconstraining parameters Mat52.lengthscale\n",
      "reconstraining parameters Mat52.variance\n"
     ]
    },
    {
     "name": "stdout",
     "output_type": "stream",
     "text": [
      "total condition no.: 280\n",
      "total device no.: 280\n",
      "maximum Y (PCE [%]):  17.42\n"
     ]
    },
    {
     "name": "stderr",
     "output_type": "stream",
     "text": [
      "reconstraining parameters Mat52.lengthscale\n",
      "reconstraining parameters Mat52.variance\n"
     ]
    },
    {
     "name": "stdout",
     "output_type": "stream",
     "text": [
      "total condition no.: 300\n",
      "total device no.: 300\n",
      "maximum Y (PCE [%]):  17.42\n"
     ]
    },
    {
     "name": "stderr",
     "output_type": "stream",
     "text": [
      "reconstraining parameters Mat52.lengthscale\n",
      "reconstraining parameters Mat52.variance\n"
     ]
    },
    {
     "name": "stdout",
     "output_type": "stream",
     "text": [
      "     Temperature [°C]  Speed [mm/s]  Spray Flow [uL/min]  Plamsa Height [cm]  \\\n",
      "256        143.206853    129.094069          3140.829928             1.19181   \n",
      "\n",
      "     Plasma Gas Flow [L/min]  Plasma DC [%]  Efficiency [%]  \n",
      "256                     15.0       29.48214       17.419997  \n"
     ]
    },
    {
     "name": "stderr",
     "output_type": "stream",
     "text": [
      "reconstraining parameters Mat52.lengthscale\n",
      "reconstraining parameters Mat52.variance\n"
     ]
    },
    {
     "name": "stdout",
     "output_type": "stream",
     "text": [
      "total condition no.: 20\n",
      "total device no.: 20\n",
      "maximum Y (PCE [%]):  13.74\n",
      "total condition no.: 40\n",
      "total device no.: 40\n",
      "maximum Y (PCE [%]):  15.63\n"
     ]
    },
    {
     "name": "stderr",
     "output_type": "stream",
     "text": [
      "reconstraining parameters Mat52.lengthscale\n",
      "reconstraining parameters Mat52.variance\n"
     ]
    },
    {
     "name": "stdout",
     "output_type": "stream",
     "text": [
      "total condition no.: 60\n",
      "total device no.: 60\n",
      "maximum Y (PCE [%]):  15.63\n"
     ]
    },
    {
     "name": "stderr",
     "output_type": "stream",
     "text": [
      "reconstraining parameters Mat52.lengthscale\n",
      "reconstraining parameters Mat52.variance\n"
     ]
    },
    {
     "name": "stdout",
     "output_type": "stream",
     "text": [
      "total condition no.: 80\n",
      "total device no.: 80\n",
      "maximum Y (PCE [%]):  15.66\n"
     ]
    },
    {
     "name": "stderr",
     "output_type": "stream",
     "text": [
      "reconstraining parameters Mat52.lengthscale\n",
      "reconstraining parameters Mat52.variance\n"
     ]
    },
    {
     "name": "stdout",
     "output_type": "stream",
     "text": [
      "total condition no.: 100\n",
      "total device no.: 100\n",
      "maximum Y (PCE [%]):  15.66\n"
     ]
    },
    {
     "name": "stderr",
     "output_type": "stream",
     "text": [
      "reconstraining parameters Mat52.lengthscale\n",
      "reconstraining parameters Mat52.variance\n"
     ]
    },
    {
     "name": "stdout",
     "output_type": "stream",
     "text": [
      "total condition no.: 120\n",
      "total device no.: 120\n",
      "maximum Y (PCE [%]):  15.69\n"
     ]
    },
    {
     "name": "stderr",
     "output_type": "stream",
     "text": [
      "reconstraining parameters Mat52.lengthscale\n",
      "reconstraining parameters Mat52.variance\n"
     ]
    },
    {
     "name": "stdout",
     "output_type": "stream",
     "text": [
      "total condition no.: 140\n",
      "total device no.: 140\n",
      "maximum Y (PCE [%]):  15.76\n"
     ]
    },
    {
     "name": "stderr",
     "output_type": "stream",
     "text": [
      "reconstraining parameters Mat52.lengthscale\n",
      "reconstraining parameters Mat52.variance\n"
     ]
    },
    {
     "name": "stdout",
     "output_type": "stream",
     "text": [
      "total condition no.: 160\n",
      "total device no.: 160\n",
      "maximum Y (PCE [%]):  15.92\n"
     ]
    },
    {
     "name": "stderr",
     "output_type": "stream",
     "text": [
      "reconstraining parameters Mat52.lengthscale\n",
      "reconstraining parameters Mat52.variance\n"
     ]
    },
    {
     "name": "stdout",
     "output_type": "stream",
     "text": [
      "total condition no.: 180\n",
      "total device no.: 180\n",
      "maximum Y (PCE [%]):  15.92\n"
     ]
    },
    {
     "name": "stderr",
     "output_type": "stream",
     "text": [
      "reconstraining parameters Mat52.lengthscale\n",
      "reconstraining parameters Mat52.variance\n"
     ]
    },
    {
     "name": "stdout",
     "output_type": "stream",
     "text": [
      "total condition no.: 200\n",
      "total device no.: 200\n",
      "maximum Y (PCE [%]):  16.43\n"
     ]
    },
    {
     "name": "stderr",
     "output_type": "stream",
     "text": [
      "reconstraining parameters Mat52.lengthscale\n",
      "reconstraining parameters Mat52.variance\n"
     ]
    },
    {
     "name": "stdout",
     "output_type": "stream",
     "text": [
      "total condition no.: 220\n",
      "total device no.: 220\n",
      "maximum Y (PCE [%]):  16.43\n"
     ]
    },
    {
     "name": "stderr",
     "output_type": "stream",
     "text": [
      "reconstraining parameters Mat52.lengthscale\n",
      "reconstraining parameters Mat52.variance\n"
     ]
    },
    {
     "name": "stdout",
     "output_type": "stream",
     "text": [
      "total condition no.: 240\n",
      "total device no.: 240\n",
      "maximum Y (PCE [%]):  16.43\n"
     ]
    },
    {
     "name": "stderr",
     "output_type": "stream",
     "text": [
      "reconstraining parameters Mat52.lengthscale\n",
      "reconstraining parameters Mat52.variance\n"
     ]
    },
    {
     "name": "stdout",
     "output_type": "stream",
     "text": [
      "total condition no.: 260\n",
      "total device no.: 260\n",
      "maximum Y (PCE [%]):  16.43\n"
     ]
    },
    {
     "name": "stderr",
     "output_type": "stream",
     "text": [
      "reconstraining parameters Mat52.lengthscale\n",
      "reconstraining parameters Mat52.variance\n"
     ]
    },
    {
     "name": "stdout",
     "output_type": "stream",
     "text": [
      "total condition no.: 280\n",
      "total device no.: 280\n",
      "maximum Y (PCE [%]):  16.43\n"
     ]
    },
    {
     "name": "stderr",
     "output_type": "stream",
     "text": [
      "reconstraining parameters Mat52.lengthscale\n",
      "reconstraining parameters Mat52.variance\n"
     ]
    },
    {
     "name": "stdout",
     "output_type": "stream",
     "text": [
      "total condition no.: 300\n",
      "total device no.: 300\n",
      "maximum Y (PCE [%]):  16.43\n"
     ]
    },
    {
     "name": "stderr",
     "output_type": "stream",
     "text": [
      "reconstraining parameters Mat52.lengthscale\n",
      "reconstraining parameters Mat52.variance\n"
     ]
    },
    {
     "name": "stdout",
     "output_type": "stream",
     "text": [
      "     Temperature [°C]  Speed [mm/s]  Spray Flow [uL/min]  Plamsa Height [cm]  \\\n",
      "315        143.267981    180.448075          3692.059374                 1.2   \n",
      "\n",
      "     Plasma Gas Flow [L/min]  Plasma DC [%]  Efficiency [%]  \n",
      "315                15.685894      58.935823       16.507817  \n"
     ]
    },
    {
     "name": "stderr",
     "output_type": "stream",
     "text": [
      "reconstraining parameters Mat52.lengthscale\n",
      "reconstraining parameters Mat52.variance\n"
     ]
    },
    {
     "name": "stdout",
     "output_type": "stream",
     "text": [
      "total condition no.: 20\n",
      "total device no.: 20\n",
      "maximum Y (PCE [%]):  13.94\n",
      "total condition no.: 40\n",
      "total device no.: 40\n",
      "maximum Y (PCE [%]):  15.39\n"
     ]
    },
    {
     "name": "stderr",
     "output_type": "stream",
     "text": [
      "reconstraining parameters Mat52.lengthscale\n",
      "reconstraining parameters Mat52.variance\n"
     ]
    },
    {
     "name": "stdout",
     "output_type": "stream",
     "text": [
      "total condition no.: 60\n",
      "total device no.: 60\n",
      "maximum Y (PCE [%]):  15.94\n"
     ]
    },
    {
     "name": "stderr",
     "output_type": "stream",
     "text": [
      "reconstraining parameters Mat52.lengthscale\n",
      "reconstraining parameters Mat52.variance\n"
     ]
    },
    {
     "name": "stdout",
     "output_type": "stream",
     "text": [
      "total condition no.: 80\n",
      "total device no.: 80\n",
      "maximum Y (PCE [%]):  16.08\n"
     ]
    },
    {
     "name": "stderr",
     "output_type": "stream",
     "text": [
      "reconstraining parameters Mat52.lengthscale\n",
      "reconstraining parameters Mat52.variance\n"
     ]
    },
    {
     "name": "stdout",
     "output_type": "stream",
     "text": [
      "total condition no.: 100\n",
      "total device no.: 100\n",
      "maximum Y (PCE [%]):  16.34\n"
     ]
    },
    {
     "name": "stderr",
     "output_type": "stream",
     "text": [
      "reconstraining parameters Mat52.lengthscale\n",
      "reconstraining parameters Mat52.variance\n"
     ]
    },
    {
     "name": "stdout",
     "output_type": "stream",
     "text": [
      "total condition no.: 120\n",
      "total device no.: 120\n",
      "maximum Y (PCE [%]):  16.34\n"
     ]
    },
    {
     "name": "stderr",
     "output_type": "stream",
     "text": [
      "reconstraining parameters Mat52.lengthscale\n",
      "reconstraining parameters Mat52.variance\n"
     ]
    },
    {
     "name": "stdout",
     "output_type": "stream",
     "text": [
      "total condition no.: 140\n",
      "total device no.: 140\n",
      "maximum Y (PCE [%]):  16.34\n"
     ]
    },
    {
     "name": "stderr",
     "output_type": "stream",
     "text": [
      "reconstraining parameters Mat52.lengthscale\n",
      "reconstraining parameters Mat52.variance\n"
     ]
    },
    {
     "name": "stdout",
     "output_type": "stream",
     "text": [
      "total condition no.: 160\n",
      "total device no.: 160\n",
      "maximum Y (PCE [%]):  16.43\n"
     ]
    },
    {
     "name": "stderr",
     "output_type": "stream",
     "text": [
      "reconstraining parameters Mat52.lengthscale\n",
      "reconstraining parameters Mat52.variance\n"
     ]
    },
    {
     "name": "stdout",
     "output_type": "stream",
     "text": [
      "total condition no.: 180\n",
      "total device no.: 180\n",
      "maximum Y (PCE [%]):  16.54\n"
     ]
    },
    {
     "name": "stderr",
     "output_type": "stream",
     "text": [
      "reconstraining parameters Mat52.lengthscale\n",
      "reconstraining parameters Mat52.variance\n"
     ]
    },
    {
     "name": "stdout",
     "output_type": "stream",
     "text": [
      "total condition no.: 200\n",
      "total device no.: 200\n",
      "maximum Y (PCE [%]):  16.54\n"
     ]
    },
    {
     "name": "stderr",
     "output_type": "stream",
     "text": [
      "reconstraining parameters Mat52.lengthscale\n",
      "reconstraining parameters Mat52.variance\n"
     ]
    },
    {
     "name": "stdout",
     "output_type": "stream",
     "text": [
      "total condition no.: 220\n",
      "total device no.: 220\n",
      "maximum Y (PCE [%]):  16.54\n"
     ]
    },
    {
     "name": "stderr",
     "output_type": "stream",
     "text": [
      "reconstraining parameters Mat52.lengthscale\n",
      "reconstraining parameters Mat52.variance\n"
     ]
    },
    {
     "name": "stdout",
     "output_type": "stream",
     "text": [
      "total condition no.: 240\n",
      "total device no.: 240\n",
      "maximum Y (PCE [%]):  16.54\n"
     ]
    },
    {
     "name": "stderr",
     "output_type": "stream",
     "text": [
      "reconstraining parameters Mat52.lengthscale\n",
      "reconstraining parameters Mat52.variance\n"
     ]
    },
    {
     "name": "stdout",
     "output_type": "stream",
     "text": [
      "total condition no.: 260\n",
      "total device no.: 260\n",
      "maximum Y (PCE [%]):  16.54\n"
     ]
    },
    {
     "name": "stderr",
     "output_type": "stream",
     "text": [
      "reconstraining parameters Mat52.lengthscale\n",
      "reconstraining parameters Mat52.variance\n"
     ]
    },
    {
     "name": "stdout",
     "output_type": "stream",
     "text": [
      "total condition no.: 280\n",
      "total device no.: 280\n",
      "maximum Y (PCE [%]):  16.54\n"
     ]
    },
    {
     "name": "stderr",
     "output_type": "stream",
     "text": [
      "reconstraining parameters Mat52.lengthscale\n",
      "reconstraining parameters Mat52.variance\n"
     ]
    },
    {
     "name": "stdout",
     "output_type": "stream",
     "text": [
      "total condition no.: 300\n",
      "total device no.: 300\n",
      "maximum Y (PCE [%]):  16.54\n"
     ]
    },
    {
     "name": "stderr",
     "output_type": "stream",
     "text": [
      "reconstraining parameters Mat52.lengthscale\n",
      "reconstraining parameters Mat52.variance\n"
     ]
    },
    {
     "name": "stdout",
     "output_type": "stream",
     "text": [
      "     Temperature [°C]  Speed [mm/s]  Spray Flow [uL/min]  Plamsa Height [cm]  \\\n",
      "165        143.152123    119.928414          2974.292612            1.102127   \n",
      "\n",
      "     Plasma Gas Flow [L/min]  Plasma DC [%]  Efficiency [%]  \n",
      "165                     15.0      55.107502       16.544381  \n"
     ]
    },
    {
     "name": "stderr",
     "output_type": "stream",
     "text": [
      "reconstraining parameters Mat52.lengthscale\n",
      "reconstraining parameters Mat52.variance\n"
     ]
    },
    {
     "name": "stdout",
     "output_type": "stream",
     "text": [
      "total condition no.: 20\n",
      "total device no.: 20\n",
      "maximum Y (PCE [%]):  14.2\n",
      "total condition no.: 40\n",
      "total device no.: 40\n",
      "maximum Y (PCE [%]):  16.64\n"
     ]
    },
    {
     "name": "stderr",
     "output_type": "stream",
     "text": [
      "reconstraining parameters Mat52.lengthscale\n",
      "reconstraining parameters Mat52.variance\n"
     ]
    },
    {
     "name": "stdout",
     "output_type": "stream",
     "text": [
      "total condition no.: 60\n",
      "total device no.: 60\n",
      "maximum Y (PCE [%]):  16.64\n"
     ]
    },
    {
     "name": "stderr",
     "output_type": "stream",
     "text": [
      "reconstraining parameters Mat52.lengthscale\n",
      "reconstraining parameters Mat52.variance\n"
     ]
    },
    {
     "name": "stdout",
     "output_type": "stream",
     "text": [
      "total condition no.: 80\n",
      "total device no.: 80\n",
      "maximum Y (PCE [%]):  16.85\n"
     ]
    },
    {
     "name": "stderr",
     "output_type": "stream",
     "text": [
      "reconstraining parameters Mat52.lengthscale\n",
      "reconstraining parameters Mat52.variance\n"
     ]
    },
    {
     "name": "stdout",
     "output_type": "stream",
     "text": [
      "total condition no.: 100\n",
      "total device no.: 100\n",
      "maximum Y (PCE [%]):  16.85\n"
     ]
    },
    {
     "name": "stderr",
     "output_type": "stream",
     "text": [
      "reconstraining parameters Mat52.lengthscale\n",
      "reconstraining parameters Mat52.variance\n"
     ]
    },
    {
     "name": "stdout",
     "output_type": "stream",
     "text": [
      "total condition no.: 120\n",
      "total device no.: 120\n",
      "maximum Y (PCE [%]):  16.87\n"
     ]
    },
    {
     "name": "stderr",
     "output_type": "stream",
     "text": [
      "reconstraining parameters Mat52.lengthscale\n",
      "reconstraining parameters Mat52.variance\n"
     ]
    },
    {
     "name": "stdout",
     "output_type": "stream",
     "text": [
      "total condition no.: 140\n",
      "total device no.: 140\n",
      "maximum Y (PCE [%]):  17.02\n"
     ]
    },
    {
     "name": "stderr",
     "output_type": "stream",
     "text": [
      "reconstraining parameters Mat52.lengthscale\n",
      "reconstraining parameters Mat52.variance\n"
     ]
    },
    {
     "name": "stdout",
     "output_type": "stream",
     "text": [
      "total condition no.: 160\n",
      "total device no.: 160\n",
      "maximum Y (PCE [%]):  17.02\n"
     ]
    },
    {
     "name": "stderr",
     "output_type": "stream",
     "text": [
      "reconstraining parameters Mat52.lengthscale\n",
      "reconstraining parameters Mat52.variance\n"
     ]
    },
    {
     "name": "stdout",
     "output_type": "stream",
     "text": [
      "total condition no.: 180\n",
      "total device no.: 180\n",
      "maximum Y (PCE [%]):  17.02\n"
     ]
    },
    {
     "name": "stderr",
     "output_type": "stream",
     "text": [
      "reconstraining parameters Mat52.lengthscale\n",
      "reconstraining parameters Mat52.variance\n"
     ]
    },
    {
     "name": "stdout",
     "output_type": "stream",
     "text": [
      "total condition no.: 200\n",
      "total device no.: 200\n",
      "maximum Y (PCE [%]):  17.02\n"
     ]
    },
    {
     "name": "stderr",
     "output_type": "stream",
     "text": [
      "reconstraining parameters Mat52.lengthscale\n",
      "reconstraining parameters Mat52.variance\n"
     ]
    },
    {
     "name": "stdout",
     "output_type": "stream",
     "text": [
      "total condition no.: 220\n",
      "total device no.: 220\n",
      "maximum Y (PCE [%]):  17.02\n"
     ]
    },
    {
     "name": "stderr",
     "output_type": "stream",
     "text": [
      "reconstraining parameters Mat52.lengthscale\n",
      "reconstraining parameters Mat52.variance\n"
     ]
    },
    {
     "name": "stdout",
     "output_type": "stream",
     "text": [
      "total condition no.: 240\n",
      "total device no.: 240\n",
      "maximum Y (PCE [%]):  17.39\n"
     ]
    },
    {
     "name": "stderr",
     "output_type": "stream",
     "text": [
      "reconstraining parameters Mat52.lengthscale\n",
      "reconstraining parameters Mat52.variance\n"
     ]
    },
    {
     "name": "stdout",
     "output_type": "stream",
     "text": [
      "total condition no.: 260\n",
      "total device no.: 260\n",
      "maximum Y (PCE [%]):  17.39\n"
     ]
    },
    {
     "name": "stderr",
     "output_type": "stream",
     "text": [
      "reconstraining parameters Mat52.lengthscale\n",
      "reconstraining parameters Mat52.variance\n"
     ]
    },
    {
     "name": "stdout",
     "output_type": "stream",
     "text": [
      "total condition no.: 280\n",
      "total device no.: 280\n",
      "maximum Y (PCE [%]):  17.39\n"
     ]
    },
    {
     "name": "stderr",
     "output_type": "stream",
     "text": [
      "reconstraining parameters Mat52.lengthscale\n",
      "reconstraining parameters Mat52.variance\n"
     ]
    },
    {
     "name": "stdout",
     "output_type": "stream",
     "text": [
      "total condition no.: 300\n",
      "total device no.: 300\n",
      "maximum Y (PCE [%]):  17.39\n"
     ]
    },
    {
     "name": "stderr",
     "output_type": "stream",
     "text": [
      "reconstraining parameters Mat52.lengthscale\n",
      "reconstraining parameters Mat52.variance\n"
     ]
    },
    {
     "name": "stdout",
     "output_type": "stream",
     "text": [
      "     Temperature [°C]  Speed [mm/s]  Spray Flow [uL/min]  Plamsa Height [cm]  \\\n",
      "310        142.783125    144.938936          3336.501478            1.070494   \n",
      "\n",
      "     Plasma Gas Flow [L/min]  Plasma DC [%]  Efficiency [%]  \n",
      "310                     15.0      29.325807       17.395076  \n"
     ]
    },
    {
     "name": "stderr",
     "output_type": "stream",
     "text": [
      " C:\\Users\\Zhe\\AppData\\Roaming\\Python\\Python37\\site-packages\\emukit\\bayesian_optimization\\acquisitions\\log_acquisition.py:25: RuntimeWarning:invalid value encountered in log\n",
      "reconstraining parameters Mat52.lengthscale\n",
      "reconstraining parameters Mat52.variance\n"
     ]
    },
    {
     "name": "stdout",
     "output_type": "stream",
     "text": [
      "total condition no.: 20\n",
      "total device no.: 20\n",
      "maximum Y (PCE [%]):  15.65\n",
      "total condition no.: 40\n",
      "total device no.: 40\n",
      "maximum Y (PCE [%]):  16.02\n"
     ]
    },
    {
     "name": "stderr",
     "output_type": "stream",
     "text": [
      " C:\\Users\\Zhe\\AppData\\Roaming\\Python\\Python37\\site-packages\\emukit\\bayesian_optimization\\acquisitions\\log_acquisition.py:25: RuntimeWarning:invalid value encountered in log\n",
      "reconstraining parameters Mat52.lengthscale\n",
      "reconstraining parameters Mat52.variance\n"
     ]
    },
    {
     "name": "stdout",
     "output_type": "stream",
     "text": [
      "total condition no.: 60\n",
      "total device no.: 60\n",
      "maximum Y (PCE [%]):  17.01\n"
     ]
    },
    {
     "name": "stderr",
     "output_type": "stream",
     "text": [
      " C:\\Users\\Zhe\\AppData\\Roaming\\Python\\Python37\\site-packages\\emukit\\bayesian_optimization\\acquisitions\\log_acquisition.py:25: RuntimeWarning:invalid value encountered in log\n",
      "reconstraining parameters Mat52.lengthscale\n",
      "reconstraining parameters Mat52.variance\n"
     ]
    },
    {
     "name": "stdout",
     "output_type": "stream",
     "text": [
      "total condition no.: 80\n",
      "total device no.: 80\n",
      "maximum Y (PCE [%]):  17.01\n"
     ]
    },
    {
     "name": "stderr",
     "output_type": "stream",
     "text": [
      " C:\\Users\\Zhe\\AppData\\Roaming\\Python\\Python37\\site-packages\\emukit\\bayesian_optimization\\acquisitions\\log_acquisition.py:25: RuntimeWarning:invalid value encountered in log\n",
      "reconstraining parameters Mat52.lengthscale\n",
      "reconstraining parameters Mat52.variance\n"
     ]
    },
    {
     "name": "stdout",
     "output_type": "stream",
     "text": [
      "total condition no.: 100\n",
      "total device no.: 100\n",
      "maximum Y (PCE [%]):  17.28\n"
     ]
    },
    {
     "name": "stderr",
     "output_type": "stream",
     "text": [
      " C:\\Users\\Zhe\\AppData\\Roaming\\Python\\Python37\\site-packages\\emukit\\bayesian_optimization\\acquisitions\\log_acquisition.py:25: RuntimeWarning:invalid value encountered in log\n",
      "reconstraining parameters Mat52.lengthscale\n",
      "reconstraining parameters Mat52.variance\n"
     ]
    },
    {
     "name": "stdout",
     "output_type": "stream",
     "text": [
      "total condition no.: 120\n",
      "total device no.: 120\n",
      "maximum Y (PCE [%]):  17.32\n"
     ]
    },
    {
     "name": "stderr",
     "output_type": "stream",
     "text": [
      "reconstraining parameters Mat52.lengthscale\n",
      "reconstraining parameters Mat52.variance\n"
     ]
    },
    {
     "name": "stdout",
     "output_type": "stream",
     "text": [
      "total condition no.: 140\n",
      "total device no.: 140\n",
      "maximum Y (PCE [%]):  17.33\n"
     ]
    },
    {
     "name": "stderr",
     "output_type": "stream",
     "text": [
      " C:\\Users\\Zhe\\AppData\\Roaming\\Python\\Python37\\site-packages\\emukit\\bayesian_optimization\\acquisitions\\log_acquisition.py:25: RuntimeWarning:invalid value encountered in log\n",
      "reconstraining parameters Mat52.lengthscale\n",
      "reconstraining parameters Mat52.variance\n"
     ]
    },
    {
     "name": "stdout",
     "output_type": "stream",
     "text": [
      "total condition no.: 160\n",
      "total device no.: 160\n",
      "maximum Y (PCE [%]):  17.35\n"
     ]
    },
    {
     "name": "stderr",
     "output_type": "stream",
     "text": [
      " C:\\Users\\Zhe\\AppData\\Roaming\\Python\\Python37\\site-packages\\emukit\\bayesian_optimization\\acquisitions\\log_acquisition.py:25: RuntimeWarning:invalid value encountered in log\n",
      "reconstraining parameters Mat52.lengthscale\n",
      "reconstraining parameters Mat52.variance\n"
     ]
    },
    {
     "name": "stdout",
     "output_type": "stream",
     "text": [
      "total condition no.: 180\n",
      "total device no.: 180\n",
      "maximum Y (PCE [%]):  17.35\n"
     ]
    },
    {
     "name": "stderr",
     "output_type": "stream",
     "text": [
      "reconstraining parameters Mat52.lengthscale\n",
      "reconstraining parameters Mat52.variance\n"
     ]
    },
    {
     "name": "stdout",
     "output_type": "stream",
     "text": [
      "total condition no.: 200\n",
      "total device no.: 200\n",
      "maximum Y (PCE [%]):  17.35\n"
     ]
    },
    {
     "name": "stderr",
     "output_type": "stream",
     "text": [
      "reconstraining parameters Mat52.lengthscale\n",
      "reconstraining parameters Mat52.variance\n"
     ]
    },
    {
     "name": "stdout",
     "output_type": "stream",
     "text": [
      "total condition no.: 220\n",
      "total device no.: 220\n",
      "maximum Y (PCE [%]):  17.35\n"
     ]
    },
    {
     "name": "stderr",
     "output_type": "stream",
     "text": [
      "reconstraining parameters Mat52.lengthscale\n",
      "reconstraining parameters Mat52.variance\n"
     ]
    },
    {
     "name": "stdout",
     "output_type": "stream",
     "text": [
      "total condition no.: 240\n",
      "total device no.: 240\n",
      "maximum Y (PCE [%]):  17.35\n"
     ]
    },
    {
     "name": "stderr",
     "output_type": "stream",
     "text": [
      "reconstraining parameters Mat52.lengthscale\n",
      "reconstraining parameters Mat52.variance\n"
     ]
    },
    {
     "name": "stdout",
     "output_type": "stream",
     "text": [
      "total condition no.: 260\n",
      "total device no.: 260\n",
      "maximum Y (PCE [%]):  17.35\n"
     ]
    },
    {
     "name": "stderr",
     "output_type": "stream",
     "text": [
      "reconstraining parameters Mat52.lengthscale\n",
      "reconstraining parameters Mat52.variance\n"
     ]
    },
    {
     "name": "stdout",
     "output_type": "stream",
     "text": [
      "total condition no.: 280\n",
      "total device no.: 280\n",
      "maximum Y (PCE [%]):  17.35\n"
     ]
    },
    {
     "name": "stderr",
     "output_type": "stream",
     "text": [
      "reconstraining parameters Mat52.lengthscale\n",
      "reconstraining parameters Mat52.variance\n"
     ]
    },
    {
     "name": "stdout",
     "output_type": "stream",
     "text": [
      "total condition no.: 300\n",
      "total device no.: 300\n",
      "maximum Y (PCE [%]):  17.35\n"
     ]
    },
    {
     "name": "stderr",
     "output_type": "stream",
     "text": [
      "reconstraining parameters Mat52.lengthscale\n",
      "reconstraining parameters Mat52.variance\n"
     ]
    },
    {
     "name": "stdout",
     "output_type": "stream",
     "text": [
      "     Temperature [°C]  Speed [mm/s]  Spray Flow [uL/min]  Plamsa Height [cm]  \\\n",
      "315        144.823459    180.559937          3410.175003            1.050087   \n",
      "\n",
      "     Plasma Gas Flow [L/min]  Plasma DC [%]  Efficiency [%]  \n",
      "315                     15.0      30.463246        17.62821  \n"
     ]
    },
    {
     "name": "stderr",
     "output_type": "stream",
     "text": [
      "reconstraining parameters Mat52.lengthscale\n",
      "reconstraining parameters Mat52.variance\n"
     ]
    },
    {
     "name": "stdout",
     "output_type": "stream",
     "text": [
      "total condition no.: 20\n",
      "total device no.: 20\n",
      "maximum Y (PCE [%]):  14.3\n",
      "total condition no.: 40\n",
      "total device no.: 40\n",
      "maximum Y (PCE [%]):  15.35\n"
     ]
    },
    {
     "name": "stderr",
     "output_type": "stream",
     "text": [
      "reconstraining parameters Mat52.lengthscale\n",
      "reconstraining parameters Mat52.variance\n"
     ]
    },
    {
     "name": "stdout",
     "output_type": "stream",
     "text": [
      "total condition no.: 60\n",
      "total device no.: 60\n",
      "maximum Y (PCE [%]):  16.21\n"
     ]
    },
    {
     "name": "stderr",
     "output_type": "stream",
     "text": [
      "reconstraining parameters Mat52.lengthscale\n",
      "reconstraining parameters Mat52.variance\n"
     ]
    },
    {
     "name": "stdout",
     "output_type": "stream",
     "text": [
      "total condition no.: 80\n",
      "total device no.: 80\n",
      "maximum Y (PCE [%]):  16.85\n"
     ]
    },
    {
     "name": "stderr",
     "output_type": "stream",
     "text": [
      "reconstraining parameters Mat52.lengthscale\n",
      "reconstraining parameters Mat52.variance\n"
     ]
    },
    {
     "name": "stdout",
     "output_type": "stream",
     "text": [
      "total condition no.: 100\n",
      "total device no.: 100\n",
      "maximum Y (PCE [%]):  16.85\n"
     ]
    },
    {
     "name": "stderr",
     "output_type": "stream",
     "text": [
      "reconstraining parameters Mat52.lengthscale\n",
      "reconstraining parameters Mat52.variance\n"
     ]
    },
    {
     "name": "stdout",
     "output_type": "stream",
     "text": [
      "total condition no.: 120\n",
      "total device no.: 120\n",
      "maximum Y (PCE [%]):  17.28\n"
     ]
    },
    {
     "name": "stderr",
     "output_type": "stream",
     "text": [
      "reconstraining parameters Mat52.lengthscale\n",
      "reconstraining parameters Mat52.variance\n"
     ]
    },
    {
     "name": "stdout",
     "output_type": "stream",
     "text": [
      "total condition no.: 140\n",
      "total device no.: 140\n",
      "maximum Y (PCE [%]):  17.35\n"
     ]
    },
    {
     "name": "stderr",
     "output_type": "stream",
     "text": [
      "reconstraining parameters Mat52.lengthscale\n",
      "reconstraining parameters Mat52.variance\n"
     ]
    },
    {
     "name": "stdout",
     "output_type": "stream",
     "text": [
      "total condition no.: 160\n",
      "total device no.: 160\n",
      "maximum Y (PCE [%]):  17.35\n"
     ]
    },
    {
     "name": "stderr",
     "output_type": "stream",
     "text": [
      "reconstraining parameters Mat52.lengthscale\n",
      "reconstraining parameters Mat52.variance\n"
     ]
    },
    {
     "name": "stdout",
     "output_type": "stream",
     "text": [
      "total condition no.: 180\n",
      "total device no.: 180\n",
      "maximum Y (PCE [%]):  17.36\n"
     ]
    },
    {
     "name": "stderr",
     "output_type": "stream",
     "text": [
      "reconstraining parameters Mat52.lengthscale\n",
      "reconstraining parameters Mat52.variance\n"
     ]
    },
    {
     "name": "stdout",
     "output_type": "stream",
     "text": [
      "total condition no.: 200\n",
      "total device no.: 200\n",
      "maximum Y (PCE [%]):  17.36\n"
     ]
    },
    {
     "name": "stderr",
     "output_type": "stream",
     "text": [
      "reconstraining parameters Mat52.lengthscale\n",
      "reconstraining parameters Mat52.variance\n"
     ]
    },
    {
     "name": "stdout",
     "output_type": "stream",
     "text": [
      "total condition no.: 220\n",
      "total device no.: 220\n",
      "maximum Y (PCE [%]):  17.36\n"
     ]
    },
    {
     "name": "stderr",
     "output_type": "stream",
     "text": [
      "reconstraining parameters Mat52.lengthscale\n",
      "reconstraining parameters Mat52.variance\n"
     ]
    },
    {
     "name": "stdout",
     "output_type": "stream",
     "text": [
      "total condition no.: 240\n",
      "total device no.: 240\n",
      "maximum Y (PCE [%]):  17.36\n"
     ]
    },
    {
     "name": "stderr",
     "output_type": "stream",
     "text": [
      "reconstraining parameters Mat52.lengthscale\n",
      "reconstraining parameters Mat52.variance\n"
     ]
    },
    {
     "name": "stdout",
     "output_type": "stream",
     "text": [
      "total condition no.: 260\n",
      "total device no.: 260\n",
      "maximum Y (PCE [%]):  17.36\n"
     ]
    },
    {
     "name": "stderr",
     "output_type": "stream",
     "text": [
      "reconstraining parameters Mat52.lengthscale\n",
      "reconstraining parameters Mat52.variance\n"
     ]
    },
    {
     "name": "stdout",
     "output_type": "stream",
     "text": [
      "total condition no.: 280\n",
      "total device no.: 280\n",
      "maximum Y (PCE [%]):  17.36\n"
     ]
    },
    {
     "name": "stderr",
     "output_type": "stream",
     "text": [
      "reconstraining parameters Mat52.lengthscale\n",
      "reconstraining parameters Mat52.variance\n"
     ]
    },
    {
     "name": "stdout",
     "output_type": "stream",
     "text": [
      "total condition no.: 300\n",
      "total device no.: 300\n",
      "maximum Y (PCE [%]):  17.36\n"
     ]
    },
    {
     "name": "stderr",
     "output_type": "stream",
     "text": [
      "reconstraining parameters Mat52.lengthscale\n",
      "reconstraining parameters Mat52.variance\n"
     ]
    },
    {
     "name": "stdout",
     "output_type": "stream",
     "text": [
      "     Temperature [°C]  Speed [mm/s]  Spray Flow [uL/min]  Plamsa Height [cm]  \\\n",
      "172        143.384265    182.367389          3817.790035            1.053674   \n",
      "\n",
      "     Plasma Gas Flow [L/min]  Plasma DC [%]  Efficiency [%]  \n",
      "172                     15.0      29.228796       17.363724  \n"
     ]
    },
    {
     "name": "stderr",
     "output_type": "stream",
     "text": [
      "reconstraining parameters Mat52.lengthscale\n",
      "reconstraining parameters Mat52.variance\n"
     ]
    },
    {
     "name": "stdout",
     "output_type": "stream",
     "text": [
      "total condition no.: 20\n",
      "total device no.: 20\n",
      "maximum Y (PCE [%]):  14.17\n",
      "total condition no.: 40\n",
      "total device no.: 40\n",
      "maximum Y (PCE [%]):  14.99\n"
     ]
    },
    {
     "name": "stderr",
     "output_type": "stream",
     "text": [
      "reconstraining parameters Mat52.lengthscale\n",
      "reconstraining parameters Mat52.variance\n"
     ]
    },
    {
     "name": "stdout",
     "output_type": "stream",
     "text": [
      "total condition no.: 60\n",
      "total device no.: 60\n",
      "maximum Y (PCE [%]):  15.03\n"
     ]
    },
    {
     "name": "stderr",
     "output_type": "stream",
     "text": [
      "reconstraining parameters Mat52.lengthscale\n",
      "reconstraining parameters Mat52.variance\n"
     ]
    },
    {
     "name": "stdout",
     "output_type": "stream",
     "text": [
      "total condition no.: 80\n",
      "total device no.: 80\n",
      "maximum Y (PCE [%]):  15.52\n"
     ]
    },
    {
     "name": "stderr",
     "output_type": "stream",
     "text": [
      "reconstraining parameters Mat52.lengthscale\n",
      "reconstraining parameters Mat52.variance\n"
     ]
    },
    {
     "name": "stdout",
     "output_type": "stream",
     "text": [
      "total condition no.: 100\n",
      "total device no.: 100\n",
      "maximum Y (PCE [%]):  15.64\n"
     ]
    },
    {
     "name": "stderr",
     "output_type": "stream",
     "text": [
      "reconstraining parameters Mat52.lengthscale\n",
      "reconstraining parameters Mat52.variance\n"
     ]
    },
    {
     "name": "stdout",
     "output_type": "stream",
     "text": [
      "total condition no.: 120\n",
      "total device no.: 120\n",
      "maximum Y (PCE [%]):  16.27\n"
     ]
    },
    {
     "name": "stderr",
     "output_type": "stream",
     "text": [
      "reconstraining parameters Mat52.lengthscale\n",
      "reconstraining parameters Mat52.variance\n"
     ]
    },
    {
     "name": "stdout",
     "output_type": "stream",
     "text": [
      "total condition no.: 140\n",
      "total device no.: 140\n",
      "maximum Y (PCE [%]):  16.27\n"
     ]
    },
    {
     "name": "stderr",
     "output_type": "stream",
     "text": [
      "reconstraining parameters Mat52.lengthscale\n",
      "reconstraining parameters Mat52.variance\n"
     ]
    },
    {
     "name": "stdout",
     "output_type": "stream",
     "text": [
      "total condition no.: 160\n",
      "total device no.: 160\n",
      "maximum Y (PCE [%]):  16.64\n"
     ]
    },
    {
     "name": "stderr",
     "output_type": "stream",
     "text": [
      "reconstraining parameters Mat52.lengthscale\n",
      "reconstraining parameters Mat52.variance\n"
     ]
    },
    {
     "name": "stdout",
     "output_type": "stream",
     "text": [
      "total condition no.: 180\n",
      "total device no.: 180\n",
      "maximum Y (PCE [%]):  16.64\n"
     ]
    },
    {
     "name": "stderr",
     "output_type": "stream",
     "text": [
      "reconstraining parameters Mat52.lengthscale\n",
      "reconstraining parameters Mat52.variance\n"
     ]
    },
    {
     "name": "stdout",
     "output_type": "stream",
     "text": [
      "total condition no.: 200\n",
      "total device no.: 200\n",
      "maximum Y (PCE [%]):  16.64\n"
     ]
    },
    {
     "name": "stderr",
     "output_type": "stream",
     "text": [
      "reconstraining parameters Mat52.lengthscale\n",
      "reconstraining parameters Mat52.variance\n"
     ]
    },
    {
     "name": "stdout",
     "output_type": "stream",
     "text": [
      "total condition no.: 220\n",
      "total device no.: 220\n",
      "maximum Y (PCE [%]):  16.64\n"
     ]
    },
    {
     "name": "stderr",
     "output_type": "stream",
     "text": [
      "reconstraining parameters Mat52.lengthscale\n",
      "reconstraining parameters Mat52.variance\n"
     ]
    },
    {
     "name": "stdout",
     "output_type": "stream",
     "text": [
      "total condition no.: 240\n",
      "total device no.: 240\n",
      "maximum Y (PCE [%]):  16.64\n"
     ]
    },
    {
     "name": "stderr",
     "output_type": "stream",
     "text": [
      "reconstraining parameters Mat52.lengthscale\n",
      "reconstraining parameters Mat52.variance\n"
     ]
    },
    {
     "name": "stdout",
     "output_type": "stream",
     "text": [
      "total condition no.: 260\n",
      "total device no.: 260\n",
      "maximum Y (PCE [%]):  16.64\n"
     ]
    },
    {
     "name": "stderr",
     "output_type": "stream",
     "text": [
      "reconstraining parameters Mat52.lengthscale\n",
      "reconstraining parameters Mat52.variance\n"
     ]
    },
    {
     "name": "stdout",
     "output_type": "stream",
     "text": [
      "total condition no.: 280\n",
      "total device no.: 280\n",
      "maximum Y (PCE [%]):  16.64\n"
     ]
    },
    {
     "name": "stderr",
     "output_type": "stream",
     "text": [
      "reconstraining parameters Mat52.lengthscale\n",
      "reconstraining parameters Mat52.variance\n"
     ]
    },
    {
     "name": "stdout",
     "output_type": "stream",
     "text": [
      "total condition no.: 300\n",
      "total device no.: 300\n",
      "maximum Y (PCE [%]):  16.64\n",
      "     Temperature [°C]  Speed [mm/s]  Spray Flow [uL/min]  Plamsa Height [cm]  \\\n",
      "145        143.138487    183.595848          3955.820199            1.098513   \n",
      "\n",
      "     Plasma Gas Flow [L/min]  Plasma DC [%]  Efficiency [%]  \n",
      "145                15.696141      52.478912       16.637417  \n"
     ]
    }
   ],
   "source": [
    "#np.random.seed(10)\n",
    "import emukit\n",
    "import GPy\n",
    "from GPy.models import GPRegression\n",
    "from emukit.model_wrappers import GPyModelWrapper\n",
    "\n",
    "#from sklearn.preprocessing import StandardScaler\n",
    "\n",
    "BO_list_LHS20 = []\n",
    "for n in np.arange(100):\n",
    "    design = LatinDesign(parameter_space)\n",
    "    x_LHS = design.get_samples(20)\n",
    "    x_init = x_denormalizer(x_LHS)\n",
    "    y_hat_list = []\n",
    "    for i in np.arange(len(GBregressor_list)):\n",
    "        y_hat = GBregressor_list[i].predict(scaler.transform(x_init))\n",
    "        y_hat_list.append(y_hat)\n",
    "    y_hat_mean = np.mean(y_hat_list, axis = 0)\n",
    "\n",
    "\n",
    "    y_pred_init = scaler_y.inverse_transform(y_hat_mean)\n",
    "    max(y_pred_init)\n",
    "\n",
    "    X = x_normalizer(x_init)\n",
    "    Y = np.transpose([y_pred_init])\n",
    "\n",
    "    # std_scaler = StandardScaler()\n",
    "    # std_scaler.fit(X)\n",
    "    # X= std_scaler.transform(X)\n",
    "\n",
    "    input_dim = len(X[0])\n",
    "    ker = GPy.kern.Matern52(input_dim = input_dim, ARD =True)#\n",
    "    ker.lengthscale.constrain_bounded(1e-1, 1)\n",
    "    ker.variance.constrain_bounded(1e-1, 1000.0)\n",
    "    # ker += GPy.kern.White(input_dim = input_dim)\n",
    "    # ker += GPy.kern.Bias(input_dim = input_dim)\n",
    "    model_gpy = GPRegression(X , -Y, ker)#Emukit is a minimization tool; need to make Y negative\n",
    "#     model_gpy.Gaussian_noise.variance = 1.5**2\n",
    "#     model_gpy.Gaussian_noise.variance.fix()\n",
    "    model_gpy.randomize()\n",
    "    model_gpy.optimize_restarts(num_restarts=20,verbose =False, messages=False)\n",
    "    objective_model = GPyModelWrapper(model_gpy)\n",
    "\n",
    "    from emukit.bayesian_optimization.loops import BayesianOptimizationLoop\n",
    "    from emukit.bayesian_optimization.acquisitions import ExpectedImprovement, NegativeLowerConfidenceBound, ProbabilityOfImprovement\n",
    "\n",
    "\n",
    "    ## Expeceted Improvement (EI)\n",
    "    ## acquisition = ExpectedImprovement(objective_model, jitter=.1)\n",
    "    ## Lower Confidence Bound (LCB)\n",
    "    acquisition = NegativeLowerConfidenceBound(objective_model, beta = 1)\n",
    "    ## Maximum Value Entropy Search (MES)\n",
    "    # acquisition = MaxValueEntropySearch(objective_model, parameter_space, grid_size = 10000*6)\n",
    "\n",
    "    ## fully integreated acquisition\n",
    "    # #acquisition_generator = lambda m: ExpectedImprovement(m, jitter=.1)\n",
    "    # acquisition_generator = lambda m: NegativeLowerConfidenceBound(m, beta = 1)\n",
    "    # acquisition_integrated = IntegratedHyperParameterAcquisition(objective_model, acquisition_generator)\n",
    "    # acquisition = acquisition_integrated\n",
    "\n",
    "    # Make loop and collect points\n",
    "    bayesopt= BayesianOptimizationLoop(model=objective_model, \n",
    "                                     space=parameter_space, \n",
    "                                     acquisition=acquisition,\n",
    "                                     batch_size = 20)#batchsize>20 to account for duplication\n",
    "\n",
    "    X_new = bayesopt.candidate_point_calculator.compute_next_points(bayesopt.loop_state)\n",
    "\n",
    "    f_acq = bayesopt.candidate_point_calculator.acquisition.acquisition.evaluate\n",
    "\n",
    "    print('total condition no.:', len(X))\n",
    "    print('total device no.:', len(bayesopt.loop_state.Y))\n",
    "    print('maximum Y (PCE [%]): ', -np.min(np.transpose(np.round(bayesopt.loop_state.Y, 2))))\n",
    "\n",
    "    X_all = x_denormalizer(np.append(X,X_new,axis = 0))\n",
    "\n",
    "    y_hat_list = []\n",
    "    for i in np.arange(len(GBregressor_list)):\n",
    "        y_hat = GBregressor_list[i].predict(scaler.transform(X_all))\n",
    "        y_hat_list.append(y_hat)\n",
    "    y_hat_mean = np.mean(y_hat_list, axis = 0)\n",
    "    y_all_pred = scaler_y.inverse_transform(y_hat_mean)\n",
    "\n",
    "\n",
    "    df_Xall = pd.DataFrame(X_all, columns = df_thiswork.columns[2:8])\n",
    "    df_Xall['Efficiency [%]'] = y_all_pred\n",
    "\n",
    "\n",
    "    for i in np.arange(14):\n",
    "\n",
    "        X = x_normalizer(df_Xall.iloc[:,:6].values)\n",
    "        Y = np.transpose([df_Xall.iloc[:,-1].values])\n",
    "\n",
    "        # std_scaler = StandardScaler()\n",
    "        # std_scaler.fit(X)\n",
    "        # X= std_scaler.transform(X)\n",
    "\n",
    "        input_dim = len(X[0])\n",
    "        ker = GPy.kern.Matern52(input_dim = input_dim, ARD =True)#\n",
    "        ker.lengthscale.constrain_bounded(1e-1, 1)\n",
    "        ker.variance.constrain_bounded(1e-1, 1000.0)\n",
    "        # ker += GPy.kern.White(input_dim = input_dim)\n",
    "        # ker += GPy.kern.Bias(input_dim = input_dim)\n",
    "        model_gpy = GPRegression(X , -Y, ker)#Emukit is a minimization tool; need to make Y negative\n",
    "    #     model_gpy.Gaussian_noise.variance = 1.5**2\n",
    "    #     model_gpy.Gaussian_noise.variance.fix()\n",
    "        model_gpy.randomize()\n",
    "        model_gpy.optimize_restarts(num_restarts=20,verbose =False, messages=False)\n",
    "        objective_model = GPyModelWrapper(model_gpy)\n",
    "\n",
    "        from emukit.bayesian_optimization.loops import BayesianOptimizationLoop\n",
    "        from emukit.bayesian_optimization.acquisitions import ExpectedImprovement, NegativeLowerConfidenceBound, ProbabilityOfImprovement\n",
    "\n",
    "\n",
    "        ## Expeceted Improvement (EI)\n",
    "        ## acquisition = ExpectedImprovement(objective_model, jitter=.1)\n",
    "        ## Lower Confidence Bound (LCB)\n",
    "        acquisition = NegativeLowerConfidenceBound(objective_model, beta = 1)\n",
    "        ## Maximum Value Entropy Search (MES)\n",
    "        # acquisition = MaxValueEntropySearch(objective_model, parameter_space, grid_size = 10000*6)\n",
    "\n",
    "        ## fully integreated acquisition\n",
    "        # #acquisition_generator = lambda m: ExpectedImprovement(m, jitter=.1)\n",
    "        # acquisition_generator = lambda m: NegativeLowerConfidenceBound(m, beta = 1)\n",
    "        # acquisition_integrated = IntegratedHyperParameterAcquisition(objective_model, acquisition_generator)\n",
    "        # acquisition = acquisition_integrated\n",
    "\n",
    "        # Make loop and collect points\n",
    "        bayesopt= BayesianOptimizationLoop(model=objective_model, \n",
    "                                         space=parameter_space, \n",
    "                                         acquisition=acquisition,\n",
    "                                         batch_size = 20)#batchsize>20 to account for duplication\n",
    "\n",
    "        print('total condition no.:', len(X))\n",
    "        print('total device no.:', len(bayesopt.loop_state.Y))\n",
    "        print('maximum Y (PCE [%]): ', -np.min(np.transpose(np.round(bayesopt.loop_state.Y, 2))))\n",
    "\n",
    "        \n",
    "        X_new = bayesopt.candidate_point_calculator.compute_next_points(bayesopt.loop_state)\n",
    "\n",
    "        f_acq = bayesopt.candidate_point_calculator.acquisition.acquisition.evaluate\n",
    "\n",
    "   \n",
    "        X_all = x_denormalizer(np.append(X,X_new,axis = 0))\n",
    "\n",
    "        y_hat_list = []\n",
    "        for i in np.arange(len(GBregressor_list)):\n",
    "            y_hat = GBregressor_list[i].predict(scaler.transform(X_all))\n",
    "            y_hat_list.append(y_hat)\n",
    "        y_hat_mean = np.mean(y_hat_list, axis = 0)\n",
    "        y_all_pred = scaler_y.inverse_transform(y_hat_mean)\n",
    "\n",
    "\n",
    "        df_Xall = pd.DataFrame(X_all, columns = df_thiswork.columns[2:8])\n",
    "        df_Xall['Efficiency [%]'] = y_all_pred\n",
    "\n",
    "\n",
    "    print(df_Xall.iloc[np.argmax( df_Xall['Efficiency [%]'].values):np.argmax( df_Xall['Efficiency [%]'].values)+1])\n",
    "\n",
    "    BO_list_LHS20.append(df_Xall['Efficiency [%]'].values)"
   ]
  },
  {
   "cell_type": "code",
   "execution_count": 16,
   "metadata": {},
   "outputs": [
    {
     "data": {
      "image/png": "[encoded data removed]",
      "text/plain": [
       "<Figure size 504x432 with 1 Axes>"
      ]
     },
     "metadata": {
      "needs_background": "light"
     },
     "output_type": "display_data"
    }
   ],
   "source": [
    "fs = 20\n",
    "fig,axes = plt.subplots(1, 1, figsize=(7, 6), sharex = True)\n",
    "ax = axes\n",
    "i = 0\n",
    "for df_i in BO_list_LHS20:\n",
    "    eff_max_acc = np.maximum.accumulate(df_i)\n",
    "    eff_acc = df_i\n",
    "    i = i +1\n",
    "    ax.plot(range(len(eff_max_acc)),eff_max_acc/np.max(BO_list_LHS20), alpha = 0.3*i/len(BO_list_LHS20)+0.1, c = 'blue')\n",
    "#plt.scatter(range(len(eff_max_acc)),eff_acc)\n",
    "i\n",
    "#axes.text(80, 9, 'One Var at at Time', fontsize=fs*0.9)\n",
    "#axes.text(80, 8, 'total conds = '+str(len(convglen_list)), fontsize=15)\n",
    "axes.tick_params(direction='in', length=5, width=1, labelsize = fs*.9, grid_alpha = 0.5)\n",
    "axes.set_ylim(8/np.max(BO_list_LHS20),18/np.max(BO_list_LHS20))\n",
    "axes.set_xlim(0,200)\n",
    "\n",
    "axes.grid(True, linestyle='-.')\n",
    "axes.set_ylabel('Device Efficiency', fontsize = fs)\n",
    "axes.set_xlabel('Process Conditoin No.', fontsize = fs)\n",
    "plt.show()"
   ]
  },
  {
   "cell_type": "code",
   "execution_count": 17,
   "metadata": {},
   "outputs": [
    {
     "data": {
      "image/png": "[encoded data removed]",
      "text/plain": [
       "<Figure size 504x432 with 1 Axes>"
      ]
     },
     "metadata": {
      "needs_background": "light"
     },
     "output_type": "display_data"
    }
   ],
   "source": [
    "fs = 20\n",
    "fig,axes = plt.subplots(1, 1, figsize=(7, 6), sharex = True)\n",
    "ax = axes\n",
    "ax.plot(np.maximum.accumulate(np.percentile(BO_list_LHS20, 99, axis = 0))/np.max(BO_list_LHS20))\n",
    "\n",
    "ax.plot(np.maximum.accumulate(np.median(BO_list_LHS20, axis = 0))/np.max(BO_list_LHS20))\n",
    "\n",
    "ax.plot(np.maximum.accumulate(np.mean(BO_list_LHS20, axis = 0))/np.max(BO_list_LHS20))\n",
    "\n",
    "ax.plot(np.maximum.accumulate(np.percentile(BO_list_LHS20, 1, axis = 0))/np.max(BO_list_LHS20))\n",
    "\n",
    "\n",
    "axes.tick_params(direction='in', length=5, width=1, labelsize = fs*.9, grid_alpha = 0.5)\n",
    "axes.set_ylim(8/np.max(BO_list_LHS20),18/np.max(BO_list_LHS20))\n",
    "axes.set_xlim(0,200)\n",
    "\n",
    "axes.grid(True, linestyle='-.')\n",
    "axes.set_ylabel('Device Efficiency', fontsize = fs)\n",
    "axes.set_xlabel('Process Conditoin No.', fontsize = fs)\n",
    "plt.show()"
   ]
  },
  {
   "cell_type": "code",
   "execution_count": 18,
   "metadata": {},
   "outputs": [
    {
     "data": {
      "image/png": "[encoded data removed]",
      "text/plain": [
       "<Figure size 504x432 with 1 Axes>"
      ]
     },
     "metadata": {
      "needs_background": "light"
     },
     "output_type": "display_data"
    }
   ],
   "source": [
    "fs = 20\n",
    "fig,axes = plt.subplots(1, 1, figsize=(7, 6), sharex = True)\n",
    "ax = axes\n",
    "i = 0\n",
    "eff_max_runlist = []\n",
    "for df_i in BO_list_LHS20:\n",
    "    eff_max_acc = np.maximum.accumulate(df_i)\n",
    "    eff_acc = df_i\n",
    "    i = i +1\n",
    "    #ax.plot(range(len(eff_max_acc)),eff_max_acc/np.max(BO_list_wInitCons), alpha = 0.3*i/len(BO_list_LHS20)+0.1, c = 'blue')\n",
    "    eff_max_runlist.append(eff_max_acc/np.max(BO_list_LHS20))\n",
    "#plt.scatter(range(len(eff_max_acc)),eff_acc)\n",
    "ax.plot(np.percentile(eff_max_runlist, 99, axis = 0))\n",
    "#ax.plot(np.percentile(eff_max_runlist, 99, axis = 0))\n",
    "ax.plot(np.percentile(eff_max_runlist, 50, axis = 0))\n",
    "ax.plot(np.percentile(eff_max_runlist, 1, axis = 0))\n",
    "\n",
    "#axes.text(80, 9, 'One Var at at Time', fontsize=fs*0.9)\n",
    "#axes.text(80, 8, 'total conds = '+str(len(convglen_list)), fontsize=15)\n",
    "axes.tick_params(direction='in', length=5, width=1, labelsize = fs*.9, grid_alpha = 0.5)\n",
    "axes.set_ylim(8/np.max(BO_list_LHS20),18/np.max(BO_list_LHS20))\n",
    "axes.set_xlim(0,200)\n",
    "\n",
    "axes.grid(True, linestyle='-.')\n",
    "axes.set_ylabel('Device Efficiency', fontsize = fs)\n",
    "axes.set_xlabel('Process Conditoin No.', fontsize = fs)\n",
    "plt.show()"
   ]
  },
  {
   "cell_type": "code",
   "execution_count": 22,
   "metadata": {},
   "outputs": [
    {
     "data": {
      "text/html": [
       "<div>\n",
       "<style scoped>\n",
       "    .dataframe tbody tr th:only-of-type {\n",
       "        vertical-align: middle;\n",
       "    }\n",
       "\n",
       "    .dataframe tbody tr th {\n",
       "        vertical-align: top;\n",
       "    }\n",
       "\n",
       "    .dataframe thead th {\n",
       "        text-align: right;\n",
       "    }\n",
       "</style>\n",
       "<table border=\"1\" class=\"dataframe\">\n",
       "  <thead>\n",
       "    <tr style=\"text-align: right;\">\n",
       "      <th></th>\n",
       "      <th>0</th>\n",
       "      <th>1</th>\n",
       "      <th>2</th>\n",
       "      <th>3</th>\n",
       "      <th>4</th>\n",
       "      <th>5</th>\n",
       "      <th>6</th>\n",
       "      <th>7</th>\n",
       "      <th>8</th>\n",
       "      <th>9</th>\n",
       "      <th>...</th>\n",
       "      <th>90</th>\n",
       "      <th>91</th>\n",
       "      <th>92</th>\n",
       "      <th>93</th>\n",
       "      <th>94</th>\n",
       "      <th>95</th>\n",
       "      <th>96</th>\n",
       "      <th>97</th>\n",
       "      <th>98</th>\n",
       "      <th>99</th>\n",
       "    </tr>\n",
       "  </thead>\n",
       "  <tbody>\n",
       "    <tr>\n",
       "      <th>0</th>\n",
       "      <td>8.848130</td>\n",
       "      <td>6.525025</td>\n",
       "      <td>7.799381</td>\n",
       "      <td>4.819411</td>\n",
       "      <td>12.973541</td>\n",
       "      <td>2.654756</td>\n",
       "      <td>13.342042</td>\n",
       "      <td>11.907091</td>\n",
       "      <td>8.744083</td>\n",
       "      <td>9.939074</td>\n",
       "      <td>...</td>\n",
       "      <td>12.007435</td>\n",
       "      <td>14.234549</td>\n",
       "      <td>8.508182</td>\n",
       "      <td>12.841791</td>\n",
       "      <td>10.748608</td>\n",
       "      <td>12.155543</td>\n",
       "      <td>11.104712</td>\n",
       "      <td>11.457757</td>\n",
       "      <td>6.808186</td>\n",
       "      <td>4.113615</td>\n",
       "    </tr>\n",
       "    <tr>\n",
       "      <th>1</th>\n",
       "      <td>10.868601</td>\n",
       "      <td>9.998367</td>\n",
       "      <td>8.929009</td>\n",
       "      <td>6.595080</td>\n",
       "      <td>3.678022</td>\n",
       "      <td>5.080511</td>\n",
       "      <td>6.443271</td>\n",
       "      <td>15.308762</td>\n",
       "      <td>4.179381</td>\n",
       "      <td>11.870304</td>\n",
       "      <td>...</td>\n",
       "      <td>6.662359</td>\n",
       "      <td>7.148079</td>\n",
       "      <td>15.505921</td>\n",
       "      <td>12.671246</td>\n",
       "      <td>13.739421</td>\n",
       "      <td>13.233798</td>\n",
       "      <td>8.459586</td>\n",
       "      <td>6.905395</td>\n",
       "      <td>9.001451</td>\n",
       "      <td>10.200558</td>\n",
       "    </tr>\n",
       "    <tr>\n",
       "      <th>2</th>\n",
       "      <td>8.156831</td>\n",
       "      <td>2.483157</td>\n",
       "      <td>8.539529</td>\n",
       "      <td>8.082802</td>\n",
       "      <td>8.247689</td>\n",
       "      <td>9.068448</td>\n",
       "      <td>6.831286</td>\n",
       "      <td>11.146754</td>\n",
       "      <td>14.624589</td>\n",
       "      <td>5.340498</td>\n",
       "      <td>...</td>\n",
       "      <td>13.283565</td>\n",
       "      <td>6.313608</td>\n",
       "      <td>13.060626</td>\n",
       "      <td>6.253361</td>\n",
       "      <td>10.222905</td>\n",
       "      <td>10.799656</td>\n",
       "      <td>8.374237</td>\n",
       "      <td>9.840336</td>\n",
       "      <td>8.796335</td>\n",
       "      <td>13.225021</td>\n",
       "    </tr>\n",
       "    <tr>\n",
       "      <th>3</th>\n",
       "      <td>8.600509</td>\n",
       "      <td>10.645571</td>\n",
       "      <td>4.553520</td>\n",
       "      <td>6.249792</td>\n",
       "      <td>12.385699</td>\n",
       "      <td>14.362883</td>\n",
       "      <td>8.338098</td>\n",
       "      <td>7.612341</td>\n",
       "      <td>12.043494</td>\n",
       "      <td>14.573578</td>\n",
       "      <td>...</td>\n",
       "      <td>4.841438</td>\n",
       "      <td>14.150776</td>\n",
       "      <td>11.668101</td>\n",
       "      <td>4.300886</td>\n",
       "      <td>10.594810</td>\n",
       "      <td>9.787485</td>\n",
       "      <td>7.493695</td>\n",
       "      <td>9.097635</td>\n",
       "      <td>12.799409</td>\n",
       "      <td>7.989831</td>\n",
       "    </tr>\n",
       "    <tr>\n",
       "      <th>4</th>\n",
       "      <td>11.531658</td>\n",
       "      <td>7.537909</td>\n",
       "      <td>3.465397</td>\n",
       "      <td>14.063751</td>\n",
       "      <td>5.589998</td>\n",
       "      <td>9.863787</td>\n",
       "      <td>11.085158</td>\n",
       "      <td>5.443830</td>\n",
       "      <td>9.405408</td>\n",
       "      <td>13.799671</td>\n",
       "      <td>...</td>\n",
       "      <td>11.352238</td>\n",
       "      <td>7.900701</td>\n",
       "      <td>7.670374</td>\n",
       "      <td>13.311156</td>\n",
       "      <td>8.410649</td>\n",
       "      <td>10.967391</td>\n",
       "      <td>12.088198</td>\n",
       "      <td>6.729435</td>\n",
       "      <td>12.516972</td>\n",
       "      <td>5.977811</td>\n",
       "    </tr>\n",
       "    <tr>\n",
       "      <th>...</th>\n",
       "      <td>...</td>\n",
       "      <td>...</td>\n",
       "      <td>...</td>\n",
       "      <td>...</td>\n",
       "      <td>...</td>\n",
       "      <td>...</td>\n",
       "      <td>...</td>\n",
       "      <td>...</td>\n",
       "      <td>...</td>\n",
       "      <td>...</td>\n",
       "      <td>...</td>\n",
       "      <td>...</td>\n",
       "      <td>...</td>\n",
       "      <td>...</td>\n",
       "      <td>...</td>\n",
       "      <td>...</td>\n",
       "      <td>...</td>\n",
       "      <td>...</td>\n",
       "      <td>...</td>\n",
       "      <td>...</td>\n",
       "      <td>...</td>\n",
       "    </tr>\n",
       "    <tr>\n",
       "      <th>315</th>\n",
       "      <td>17.612124</td>\n",
       "      <td>15.974337</td>\n",
       "      <td>14.718313</td>\n",
       "      <td>16.331418</td>\n",
       "      <td>16.644047</td>\n",
       "      <td>14.403627</td>\n",
       "      <td>14.064095</td>\n",
       "      <td>16.635652</td>\n",
       "      <td>17.197191</td>\n",
       "      <td>16.514464</td>\n",
       "      <td>...</td>\n",
       "      <td>10.938396</td>\n",
       "      <td>14.022257</td>\n",
       "      <td>16.149819</td>\n",
       "      <td>16.018137</td>\n",
       "      <td>16.507817</td>\n",
       "      <td>16.356284</td>\n",
       "      <td>17.383345</td>\n",
       "      <td>17.628210</td>\n",
       "      <td>17.308791</td>\n",
       "      <td>16.587076</td>\n",
       "    </tr>\n",
       "    <tr>\n",
       "      <th>316</th>\n",
       "      <td>17.257745</td>\n",
       "      <td>15.157951</td>\n",
       "      <td>13.463506</td>\n",
       "      <td>16.648103</td>\n",
       "      <td>16.694721</td>\n",
       "      <td>14.450417</td>\n",
       "      <td>13.591557</td>\n",
       "      <td>16.335868</td>\n",
       "      <td>17.182147</td>\n",
       "      <td>17.354872</td>\n",
       "      <td>...</td>\n",
       "      <td>16.106041</td>\n",
       "      <td>15.334390</td>\n",
       "      <td>12.894480</td>\n",
       "      <td>16.997917</td>\n",
       "      <td>16.277274</td>\n",
       "      <td>16.358520</td>\n",
       "      <td>17.378803</td>\n",
       "      <td>14.555372</td>\n",
       "      <td>17.315557</td>\n",
       "      <td>16.495757</td>\n",
       "    </tr>\n",
       "    <tr>\n",
       "      <th>317</th>\n",
       "      <td>17.630717</td>\n",
       "      <td>15.112453</td>\n",
       "      <td>13.985306</td>\n",
       "      <td>16.219671</td>\n",
       "      <td>15.929941</td>\n",
       "      <td>14.301178</td>\n",
       "      <td>14.170623</td>\n",
       "      <td>16.134708</td>\n",
       "      <td>17.183145</td>\n",
       "      <td>17.361638</td>\n",
       "      <td>...</td>\n",
       "      <td>14.971377</td>\n",
       "      <td>14.440594</td>\n",
       "      <td>15.811585</td>\n",
       "      <td>14.964712</td>\n",
       "      <td>14.325264</td>\n",
       "      <td>16.366782</td>\n",
       "      <td>17.339261</td>\n",
       "      <td>17.318345</td>\n",
       "      <td>17.251423</td>\n",
       "      <td>15.784114</td>\n",
       "    </tr>\n",
       "    <tr>\n",
       "      <th>318</th>\n",
       "      <td>17.657805</td>\n",
       "      <td>13.063723</td>\n",
       "      <td>13.916097</td>\n",
       "      <td>16.562304</td>\n",
       "      <td>14.759177</td>\n",
       "      <td>15.365900</td>\n",
       "      <td>13.979067</td>\n",
       "      <td>16.273938</td>\n",
       "      <td>17.255599</td>\n",
       "      <td>15.694275</td>\n",
       "      <td>...</td>\n",
       "      <td>16.105167</td>\n",
       "      <td>16.580807</td>\n",
       "      <td>16.141536</td>\n",
       "      <td>16.650659</td>\n",
       "      <td>16.206674</td>\n",
       "      <td>16.325637</td>\n",
       "      <td>16.635652</td>\n",
       "      <td>17.525329</td>\n",
       "      <td>14.304751</td>\n",
       "      <td>16.500179</td>\n",
       "    </tr>\n",
       "    <tr>\n",
       "      <th>319</th>\n",
       "      <td>17.633737</td>\n",
       "      <td>16.154129</td>\n",
       "      <td>13.036541</td>\n",
       "      <td>16.632366</td>\n",
       "      <td>16.396876</td>\n",
       "      <td>14.451751</td>\n",
       "      <td>14.098988</td>\n",
       "      <td>16.639029</td>\n",
       "      <td>17.126042</td>\n",
       "      <td>17.352436</td>\n",
       "      <td>...</td>\n",
       "      <td>16.102662</td>\n",
       "      <td>15.978436</td>\n",
       "      <td>15.743159</td>\n",
       "      <td>17.125521</td>\n",
       "      <td>16.218448</td>\n",
       "      <td>16.353136</td>\n",
       "      <td>17.359523</td>\n",
       "      <td>16.827199</td>\n",
       "      <td>17.307298</td>\n",
       "      <td>16.594758</td>\n",
       "    </tr>\n",
       "  </tbody>\n",
       "</table>\n",
       "<p>320 rows × 100 columns</p>\n",
       "</div>"
      ],
      "text/plain": [
       "            0          1          2          3          4          5   \\\n",
       "0     8.848130   6.525025   7.799381   4.819411  12.973541   2.654756   \n",
       "1    10.868601   9.998367   8.929009   6.595080   3.678022   5.080511   \n",
       "2     8.156831   2.483157   8.539529   8.082802   8.247689   9.068448   \n",
       "3     8.600509  10.645571   4.553520   6.249792  12.385699  14.362883   \n",
       "4    11.531658   7.537909   3.465397  14.063751   5.589998   9.863787   \n",
       "..         ...        ...        ...        ...        ...        ...   \n",
       "315  17.612124  15.974337  14.718313  16.331418  16.644047  14.403627   \n",
       "316  17.257745  15.157951  13.463506  16.648103  16.694721  14.450417   \n",
       "317  17.630717  15.112453  13.985306  16.219671  15.929941  14.301178   \n",
       "318  17.657805  13.063723  13.916097  16.562304  14.759177  15.365900   \n",
       "319  17.633737  16.154129  13.036541  16.632366  16.396876  14.451751   \n",
       "\n",
       "            6          7          8          9   ...         90         91  \\\n",
       "0    13.342042  11.907091   8.744083   9.939074  ...  12.007435  14.234549   \n",
       "1     6.443271  15.308762   4.179381  11.870304  ...   6.662359   7.148079   \n",
       "2     6.831286  11.146754  14.624589   5.340498  ...  13.283565   6.313608   \n",
       "3     8.338098   7.612341  12.043494  14.573578  ...   4.841438  14.150776   \n",
       "4    11.085158   5.443830   9.405408  13.799671  ...  11.352238   7.900701   \n",
       "..         ...        ...        ...        ...  ...        ...        ...   \n",
       "315  14.064095  16.635652  17.197191  16.514464  ...  10.938396  14.022257   \n",
       "316  13.591557  16.335868  17.182147  17.354872  ...  16.106041  15.334390   \n",
       "317  14.170623  16.134708  17.183145  17.361638  ...  14.971377  14.440594   \n",
       "318  13.979067  16.273938  17.255599  15.694275  ...  16.105167  16.580807   \n",
       "319  14.098988  16.639029  17.126042  17.352436  ...  16.102662  15.978436   \n",
       "\n",
       "            92         93         94         95         96         97  \\\n",
       "0     8.508182  12.841791  10.748608  12.155543  11.104712  11.457757   \n",
       "1    15.505921  12.671246  13.739421  13.233798   8.459586   6.905395   \n",
       "2    13.060626   6.253361  10.222905  10.799656   8.374237   9.840336   \n",
       "3    11.668101   4.300886  10.594810   9.787485   7.493695   9.097635   \n",
       "4     7.670374  13.311156   8.410649  10.967391  12.088198   6.729435   \n",
       "..         ...        ...        ...        ...        ...        ...   \n",
       "315  16.149819  16.018137  16.507817  16.356284  17.383345  17.628210   \n",
       "316  12.894480  16.997917  16.277274  16.358520  17.378803  14.555372   \n",
       "317  15.811585  14.964712  14.325264  16.366782  17.339261  17.318345   \n",
       "318  16.141536  16.650659  16.206674  16.325637  16.635652  17.525329   \n",
       "319  15.743159  17.125521  16.218448  16.353136  17.359523  16.827199   \n",
       "\n",
       "            98         99  \n",
       "0     6.808186   4.113615  \n",
       "1     9.001451  10.200558  \n",
       "2     8.796335  13.225021  \n",
       "3    12.799409   7.989831  \n",
       "4    12.516972   5.977811  \n",
       "..         ...        ...  \n",
       "315  17.308791  16.587076  \n",
       "316  17.315557  16.495757  \n",
       "317  17.251423  15.784114  \n",
       "318  14.304751  16.500179  \n",
       "319  17.307298  16.594758  \n",
       "\n",
       "[320 rows x 100 columns]"
      ]
     },
     "execution_count": 22,
     "metadata": {},
     "output_type": "execute_result"
    }
   ],
   "source": [
    "BO_list_df = pd.DataFrame(np.transpose(BO_list_LHS20))\n",
    "BO_list_df.to_excel(\"BO_benckmark_LHS20_20210701.xls\")\n",
    "BO_list_df"
   ]
  },
  {
   "cell_type": "code",
   "execution_count": null,
   "metadata": {},
   "outputs": [],
   "source": []
  }
 ],
 "metadata": {
  "kernelspec": {
   "display_name": "Python 3",
   "language": "python",
   "name": "python3"
  },
  "language_info": {
   "codemirror_mode": {
    "name": "ipython",
    "version": 3
   },
   "file_extension": ".py",
   "mimetype": "text/x-python",
   "name": "python",
   "nbconvert_exporter": "python",
   "pygments_lexer": "ipython3",
   "version": "3.8.8"
  }
 },
 "nbformat": 4,
 "nbformat_minor": 4
}
